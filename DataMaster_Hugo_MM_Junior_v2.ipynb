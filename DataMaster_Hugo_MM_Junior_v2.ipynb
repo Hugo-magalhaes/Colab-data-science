{
  "cells": [
    {
      "cell_type": "markdown",
      "metadata": {
        "id": "view-in-github",
        "colab_type": "text"
      },
      "source": [
        "<a href=\"https://colab.research.google.com/github/Hugo-magalhaes/Colab-data-science/blob/main/DataMaster_Hugo_MM_Junior_v2.ipynb\" target=\"_parent\"><img src=\"https://colab.research.google.com/assets/colab-badge.svg\" alt=\"Open In Colab\"/></a>"
      ]
    },
    {
      "cell_type": "markdown",
      "metadata": {
        "id": "Alki5hwOVN19"
      },
      "source": [
        "# 0.0 🎛️ Imports"
      ]
    },
    {
      "cell_type": "code",
      "execution_count": 1,
      "metadata": {
        "id": "lhJ3X0OelxXB"
      },
      "outputs": [],
      "source": [
        "!pip install findspark -qq\n",
        "# !pip install pyspark -qq\n",
        "# !pip install xgboost -qq"
      ]
    },
    {
      "cell_type": "code",
      "execution_count": 2,
      "metadata": {
        "colab": {
          "base_uri": "https://localhost:8080/"
        },
        "id": "L3bp4MLTk3gq",
        "outputId": "b11a2ba8-c732-48f0-dc52-83d8ab9c7394"
      },
      "outputs": [
        {
          "output_type": "stream",
          "name": "stdout",
          "text": [
            "Mounted at /content/drive\n"
          ]
        }
      ],
      "source": [
        "from google.colab import drive\n",
        "import kagglehub\n",
        "import os\n",
        "\n",
        "import findspark\n",
        "\n",
        "import plotly.express as px\n",
        "import plotly.graph_objects as go\n",
        "from plotly.subplots import make_subplots\n",
        "\n",
        "import math\n",
        "import pandas as pd\n",
        "import numpy as np\n",
        "from types import NoneType\n",
        "\n",
        "from pyspark.sql import SparkSession\n",
        "import pyspark.sql.functions as F\n",
        "from pyspark.sql.window import Window as W\n",
        "\n",
        "from pyspark.ml.feature import VectorAssembler, Imputer\n",
        "from pyspark.ml.classification import RandomForestClassifier, DecisionTreeClassifier\n",
        "from pyspark.ml import Pipeline\n",
        "from pyspark.ml.evaluation import BinaryClassificationEvaluator\n",
        "from pyspark.ml.functions import vector_to_array\n",
        "\n",
        "from xgboost.spark import SparkXGBClassifier\n",
        "\n",
        "import warnings\n",
        "\n",
        "warnings.filterwarnings('ignore')\n",
        "drive.mount('/content/drive')"
      ]
    },
    {
      "cell_type": "code",
      "execution_count": 3,
      "metadata": {
        "colab": {
          "base_uri": "https://localhost:8080/"
        },
        "id": "80Ld-dm-l5M0",
        "outputId": "cb16a6c5-69c4-4b62-8bb1-97fd0e271d4f"
      },
      "outputs": [
        {
          "output_type": "stream",
          "name": "stdout",
          "text": [
            "Using Colab cache for faster access to the 'case-data-master-2024' dataset.\n",
            "/kaggle/input/case-data-master-2024\n"
          ]
        }
      ],
      "source": [
        "findspark.init()\n",
        "\n",
        "spark = (SparkSession.builder.master(\"local[*]\").appName('Case01')\n",
        "    # .config(\"spark.driver.memory\", \"6g\")\n",
        "    # .config(\"spark.executor.memory\", \"4g\")\n",
        "       # '*' significa: use todos os núcleos/CPUs disponíveis no ambiente\n",
        "    .config(\"spark.executor.memory\", \"6g\")\n",
        "    .config(\"spark.driver.memory\", \"6g\")\n",
        "    \\\n",
        "    # 2. Configura o número de núcleos de CPU para processamento paralelo\n",
        "    # 'local[*]' e 'spark.executor.cores'='4' usam paralelismo máximo.\n",
        "    .config(\"spark.executor.cores\", \"4\")\n",
        "    .config(\"spark.driver.cores\", \"4\")\n",
        "\n",
        "    # 3. Otimizações de desempenho geral\n",
        "    .config(\"spark.sql.shuffle.partitions\", \"200\")\n",
        "    .config(\"spark.default.parallelism\", \"100\")\n",
        "    .getOrCreate())\n",
        "\n",
        "path = kagglehub.dataset_download('gcenachi/case-data-master-2024')\n",
        "\n",
        "print(path)"
      ]
    },
    {
      "cell_type": "code",
      "execution_count": 4,
      "metadata": {
        "id": "-TtweLtrmuHa"
      },
      "outputs": [],
      "source": [
        "# for root, dirs, files in os.walk(path):\n",
        "#     for file in files:\n",
        "#           file_path = os.path.join(root, file)\n",
        "#           print(file_path)"
      ]
    },
    {
      "cell_type": "code",
      "execution_count": 5,
      "metadata": {
        "id": "qnemee10nOhS"
      },
      "outputs": [],
      "source": [
        "transactions = spark.read.parquet(f'{path}/transactions.parquet')\n",
        "\n",
        "members = spark.read.parquet(f'{path}/members.parquet')\n",
        "\n",
        "user_logs = spark.read.parquet(f'{path}/user_logs.parquet')"
      ]
    },
    {
      "cell_type": "markdown",
      "metadata": {
        "id": "GHrGb9nRUEMx"
      },
      "source": [
        "# 1. ⚙️ Funções"
      ]
    },
    {
      "cell_type": "code",
      "execution_count": 6,
      "metadata": {
        "id": "6qD8fLEGytDQ"
      },
      "outputs": [],
      "source": [
        "# Amostragem de cliente\n",
        "def filtra_cliente(df, msno):\n",
        "  filtered_df = df.filter(F.col('msno').like(f'{msno}%'))\n",
        "  count = filtered_df.count()\n",
        "  filtered_df.orderBy('safra').show(count)\n",
        "\n",
        "# Calcula % de nulos\n",
        "def avalia_nulos(df, total:int):\n",
        "  for col in df.columns:\n",
        "    nulos = (df.filter((F.col(col).isNull())).count())\n",
        "    print(f'{col} tem {(nulos/total):.2%} nulos')\n",
        "\n",
        "  print()\n",
        "\n",
        "# Calcula quantidade de distintos\n",
        "def avalia_distintos(df):\n",
        "\n",
        "  cols_avalia = []\n",
        "\n",
        "  for col in df.columns:\n",
        "    distinct_count = df.select(col).distinct().count()\n",
        "    print(f\"{col} : {distinct_count:,} valores distintos\")\n",
        "\n",
        "    if distinct_count > 2 and distinct_count < 100:\n",
        "      cols_avalia.append(col)\n",
        "\n",
        "  print()\n",
        "  return cols_avalia\n",
        "\n",
        "# Trata as datas para que consigam ser transformadas corretamente\n",
        "def date_transform(col:str):\n",
        "  return F.to_date(F.concat(\n",
        "                      F.substring(F.col(col),1,4),F.lit('-'),\n",
        "                      F.substring(F.col(col),5,2),F.lit('-'),\n",
        "                      F.substring(F.col(col),7,2)\n",
        "                      ))"
      ]
    },
    {
      "cell_type": "markdown",
      "metadata": {
        "id": "ioHbdHQBfwBI"
      },
      "source": [
        "# 2. 📘 Avaliando as malhas\n",
        "\n",
        "Base Transactions <br>\n",
        "\n",
        "msno - id  <br>\n",
        "payment_method_id - Forma de pagamento <br>\n",
        "payment_plan_days - Tipo de plano por tempo (mensal, semestral e etc) <br>\n",
        "plan_list_price - Lista de preço dos planos NTD (1 real para 5,53 NTD's) <br>\n",
        "actual_amount_paid - Valor pago atualmente NTD <br>\n",
        "is_auto_renew - Renovação automática <br>\n",
        "transaction_date - Data da transação <br>\n",
        "membership_expire_date - Date de expiração do membro (Prazo do plano se não for renovação automática ?) <br>\n",
        "is_cancel - Cancelou o plano neste pagamento <br>\n",
        "safra - safra <br>\n",
        "<br>\n",
        "Base members <br>\n",
        "\n",
        "msno - id <br>\n",
        "safra - safra <br>\n",
        "registration_init_time <br>\n",
        "city - cidade do cliente <br>\n",
        "bd - age <br>\n",
        "gender - genêro do cliente <br>\n",
        "registered_via - canal de registro <br>\n",
        "is_ativo - cliente ativo <br>\n",
        "<br>\n",
        "Base user logs <br>\n",
        "\n",
        "msno - id <br>\n",
        "safra - safra <br>\n",
        "num_25 - ouviu até 25% da música<br>\n",
        "num_50 - ouviu entre 25% e 50% da música <br>\n",
        "num_75 - ouviu entre 25% e 75% da música <br>\n",
        "num_985 - ouviu entre 75% e 98,5% da música <br>\n",
        "num_100 - ouviu acima de 98,5% da música <br>\n",
        "num_unq - quantidade de músicas escutadas <br>\n",
        "total_secs - total de segundos escutados <br>\n"
      ]
    },
    {
      "cell_type": "code",
      "execution_count": 8,
      "metadata": {
        "colab": {
          "base_uri": "https://localhost:8080/"
        },
        "id": "dqy557B3kAzc",
        "outputId": "918be745-decc-44b9-ad2c-47cd68ace57b"
      },
      "outputs": [
        {
          "output_type": "stream",
          "name": "stdout",
          "text": [
            "root\n",
            " |-- msno: string (nullable = true)\n",
            " |-- payment_method_id: string (nullable = true)\n",
            " |-- payment_plan_days: string (nullable = true)\n",
            " |-- plan_list_price: string (nullable = true)\n",
            " |-- actual_amount_paid: string (nullable = true)\n",
            " |-- is_auto_renew: string (nullable = true)\n",
            " |-- transaction_date: string (nullable = true)\n",
            " |-- membership_expire_date: string (nullable = true)\n",
            " |-- is_cancel: string (nullable = true)\n",
            " |-- safra: integer (nullable = true)\n",
            "\n",
            "root\n",
            " |-- msno: string (nullable = true)\n",
            " |-- safra: string (nullable = true)\n",
            " |-- registration_init_time: string (nullable = true)\n",
            " |-- city: string (nullable = true)\n",
            " |-- bd: string (nullable = true)\n",
            " |-- gender: string (nullable = true)\n",
            " |-- registered_via: string (nullable = true)\n",
            " |-- is_ativo: integer (nullable = true)\n",
            "\n",
            "root\n",
            " |-- msno: string (nullable = true)\n",
            " |-- safra: integer (nullable = true)\n",
            " |-- num_25: double (nullable = true)\n",
            " |-- num_50: double (nullable = true)\n",
            " |-- num_75: double (nullable = true)\n",
            " |-- num_985: double (nullable = true)\n",
            " |-- num_100: double (nullable = true)\n",
            " |-- num_unq: double (nullable = true)\n",
            " |-- total_secs: double (nullable = true)\n",
            "\n"
          ]
        },
        {
          "output_type": "execute_result",
          "data": {
            "text/plain": [
              "(None, None, None)"
            ]
          },
          "metadata": {},
          "execution_count": 8
        }
      ],
      "source": [
        "transactions.printSchema(), members.printSchema(), user_logs.printSchema()\n"
      ]
    },
    {
      "cell_type": "code",
      "execution_count": 13,
      "metadata": {
        "id": "cdf65f8f"
      },
      "outputs": [],
      "source": [
        "# Tratamento nas colunas da transactions\n",
        "transactions_p = (transactions.withColumn(\"payment_plan_days\", F.col(\"payment_plan_days\").cast('int'))\n",
        "                            .withColumn(\"plan_list_price\", F.col(\"plan_list_price\").cast('float'))\n",
        "                            .withColumn(\"actual_amount_paid\", F.col(\"actual_amount_paid\").cast('float'))\n",
        "                            .withColumn(\"is_auto_renew\", F.col(\"is_auto_renew\").cast('int'))\n",
        "                            .withColumn(\"is_cancel\", F.col(\"is_cancel\").cast('int'))\n",
        "                            .withColumn(\"transaction_date\",date_transform('transaction_date'))\n",
        "                            .withColumn(\"membership_expire_date\",date_transform('membership_expire_date'))\n",
        "              )\n",
        "\n",
        "ativo_m3 = F.lead('is_ativo',3).over(W.partitionBy('msno').orderBy('safra'))\n",
        "\n",
        "# Tratamento nas colunas da members\n",
        "members_p = (members.withColumn(\"safra\", F.col(\"safra\").cast('int'))\n",
        "                  .withColumn(\"registration_init_time\", date_transform('registration_init_time'))\n",
        "                  .withColumn(\"bd\", F.col(\"bd\").cast('int'))\n",
        "                  .withColumn(\"gender\", F.col(\"gender\").cast('string'))\n",
        "                  .withColumn('declared_gender', F.when(F.col('gender').isNull(), 0).otherwise(1))\n",
        "                  .withColumn('churn_m3', F.when((ativo_m3.isin(0)) & (F.col('is_ativo').isin(1)), 1)\n",
        "                                            .otherwise(0)\n",
        "                              )\n",
        "                  .withColumn('churn_origem', F.when((F.col('is_ativo').isin(0)) & (ativo_m3.isin(0) | ativo_m3.isNull()), 1)\n",
        "                                            .otherwise(0)\n",
        "                              )\n",
        "                  # .withColumn('pseudo_churn', F.when((F.col('is_ativo').isin(1)) & (ativo_m3.isNull()), 1)\n",
        "                  #                           .otherwise(0))\n",
        "                  )\n",
        "# Tratamento das colunas user_logs\n",
        "user_logs_p = (user_logs\n",
        "               )\n",
        "\n",
        "# Matendo apenas os meses com tempo suficiente para análise\n",
        "members_churn = members_p.filter((F.col('safra')<=201609) & F.col('churn_origem').isin(0))\n",
        "\n",
        "# Juntando todas as bases\n",
        "full_df = members_churn.join(transactions_p, on=['msno', 'safra'], how='left').join(user_logs_p, on=['msno', 'safra'], how='left')\n",
        "\n",
        "\n",
        "#Tratando as bases\n",
        "full_df_p = (full_df.withColumn('info_transaction', F.when(F.col('payment_method_id').isNull(), 0).otherwise(1))\n",
        "                  .withColumn('info_user_logs', F.when(F.col('num_unq').isNull(), 0).otherwise(1))\n",
        "             )\n",
        "\n",
        "# Quebrando a base treino (70%), teste (30%) de 201601-201606 e OOT 201607-201609\n",
        "# Considerando que temos apenas 9 meses para avaliaçãod e churn, os 3 primeiros meses não podem ser inferidos como outliers, e portanto, serão tratados como sazonalidade\n",
        "# Quedas abruptas de ~5% por mês durante os 3 meses, basta um mês com a mesma variação para voltarmos a patamares próximos de churn\n",
        "\n",
        "#Pela lei dos grandes números, uma parcela da amostra de treino deve ser suficiente para avaliar todas as situações de tratamento e feature engineering\n",
        "\n",
        "malha_final_orig = full_df_p.sample(fraction=0.3, seed=42)\n",
        "full_df_train_orig, full_df_test_orig = malha_final_orig.filter(F.col('safra').between(201601, 201606)).randomSplit([0.8, 0.2], seed=42)\n",
        "full_df_oot_orig = malha_final_orig.filter(F.col('safra').between(201607,201609))"
      ]
    },
    {
      "cell_type": "code",
      "execution_count": null,
      "metadata": {
        "id": "jCaK-EWtRsF0"
      },
      "outputs": [],
      "source": [
        "full_df_train_orig.write.mode(\"overwrite\").parquet('/content/drive/MyDrive/df_analysis_orig.parquet')"
      ]
    },
    {
      "cell_type": "code",
      "source": [
        "df_analysis = spark.read.parquet('/content/drive/MyDrive/df_analysis_orig.parquet')"
      ],
      "metadata": {
        "id": "DREfsifuiIOm"
      },
      "execution_count": 93,
      "outputs": []
    },
    {
      "cell_type": "code",
      "execution_count": null,
      "metadata": {
        "colab": {
          "base_uri": "https://localhost:8080/"
        },
        "id": "RF2bjd1D-KRE",
        "outputId": "46e75c3a-7cab-48cc-a6b2-7862db4dfb77"
      },
      "outputs": [
        {
          "name": "stdout",
          "output_type": "stream",
          "text": [
            "total_transactions=20,712,225 | total_members=63,867,246 | total_user_logs=26,758,971\n"
          ]
        }
      ],
      "source": [
        "total_transactions = transactions.count()\n",
        "total_members = members.count()\n",
        "total_user_logs = user_logs.count()\n",
        "\n",
        "print(f'{total_transactions=:,} | {total_members=:,} | {total_user_logs=:,}')"
      ]
    },
    {
      "cell_type": "code",
      "execution_count": null,
      "metadata": {
        "colab": {
          "base_uri": "https://localhost:8080/"
        },
        "id": "N6k7MPq02GwH",
        "outputId": "8164c5e3-356d-48ef-86b3-b4ff1c71fcf6"
      },
      "outputs": [
        {
          "name": "stdout",
          "output_type": "stream",
          "text": [
            "total_churn=1,148,026 | total_ativos=8,144,396\n",
            "churn 14.10%\n"
          ]
        }
      ],
      "source": [
        "total_churn = members_churn.filter(F.col('churn_m3').isin(1)).count()\n",
        "total_ativos = members_churn.filter(F.col('is_ativo').isin(1)).count()\n",
        "\n",
        "# total_novos_clientes = members_p.filter(F.col('cliente_novo').isin(1)).count()\n",
        "# total_novos_clientes=1,109,682\n",
        "\n",
        "print(f'{total_churn=:,} | {total_ativos=:,}')\n",
        "print(f'churn {(total_churn/total_ativos)*100:.2f}%')"
      ]
    },
    {
      "cell_type": "code",
      "source": [
        "total_churn1 = members_churn.filter(F.col('churn_m3').isin(1)&F.col('safra').between(201601,201606)).count()\n",
        "total_ativos1 = members_churn.filter(F.col('is_ativo').isin(1)&F.col('safra').between(201601,201606)).count()\n",
        "\n",
        "print(f'{total_churn1=:,} | {total_ativos1=:,}')\n",
        "print(f'churn {(total_churn1/total_ativos1)*100:.2f}%')"
      ],
      "metadata": {
        "colab": {
          "base_uri": "https://localhost:8080/"
        },
        "id": "QgHFAMcoeVIs",
        "outputId": "17c60d83-2c53-4b84-c15c-9804379a3fe3"
      },
      "execution_count": null,
      "outputs": [
        {
          "output_type": "stream",
          "name": "stdout",
          "text": [
            "total_churn1=790,635 | total_ativos1=5,204,532\n",
            "churn 15.19%\n"
          ]
        }
      ]
    },
    {
      "cell_type": "code",
      "execution_count": null,
      "metadata": {
        "colab": {
          "base_uri": "https://localhost:8080/"
        },
        "id": "WFCJygQvHfkw",
        "outputId": "58c7ffa5-b2eb-4c75-a321-ee4a304a5b56"
      },
      "outputs": [
        {
          "output_type": "stream",
          "name": "stdout",
          "text": [
            "churn_analysis=190,166 | ativos_analysis=1,249,160 | n_churn_analysis=1,224,953\n",
            "churn 15.22%\n"
          ]
        }
      ],
      "source": [
        "n_churn_analysis = df_analysis.filter(F.col('churn_m3').isin(0)).count()\n",
        "churn_analysis = df_analysis.filter(F.col('churn_m3').isin(1)).count()\n",
        "ativos_analysis = df_analysis.filter(F.col('is_ativo').isin(1)).count()\n",
        "\n",
        "print(f'{churn_analysis=:,} | {ativos_analysis=:,} | {n_churn_analysis=:,}')\n",
        "print(f'churn {(churn_analysis/ativos_analysis)*100:.2f}%')"
      ]
    },
    {
      "cell_type": "code",
      "execution_count": null,
      "metadata": {
        "id": "YlHO9UDbj4R0",
        "colab": {
          "base_uri": "https://localhost:8080/"
        },
        "outputId": "8825650f-e9fc-44aa-f5ea-4079b779d90b"
      },
      "outputs": [
        {
          "output_type": "stream",
          "name": "stdout",
          "text": [
            "+--------------------+-----------------+-----------------+---------------+------------------+-------------+----------------+----------------------+---------+------+\n",
            "|                msno|payment_method_id|payment_plan_days|plan_list_price|actual_amount_paid|is_auto_renew|transaction_date|membership_expire_date|is_cancel| safra|\n",
            "+--------------------+-----------------+-----------------+---------------+------------------+-------------+----------------+----------------------+---------+------+\n",
            "|+++IZseRRiQS9aaSk...|               38|              410|           1788|              1788|            0|        20151121|              20170104|        0|201511|\n",
            "|+++snpr7pmobhLKUg...|               41|               30|            149|               149|            1|        20150526|              20150626|        0|201505|\n",
            "|+++snpr7pmobhLKUg...|               41|               30|            149|               149|            1|        20150926|              20151026|        0|201509|\n",
            "|++/9R3sX37CjxbY/A...|               41|               30|            149|               149|            1|        20160615|              20160715|        0|201606|\n",
            "|++/Gw1B9K+XOlB3hL...|               40|               31|            149|               149|            1|        20150113|              20150216|        0|201501|\n",
            "|++0nOC7BmrUTtcSbo...|               16|               30|            149|               149|            1|        20151012|              20151111|        0|201510|\n",
            "|++0t0Uy2D3r1pRVxg...|               35|                7|              0|                 0|            0|        20150614|              20150615|        0|201506|\n",
            "|++1eOqCPRmzyBjMGv...|               35|                7|              0|                 0|            0|        20161101|              20161108|        0|201611|\n",
            "|++2wdWRV3Thy9HZyR...|               41|               30|            149|                 0|            1|        20151008|              20151015|        1|201510|\n",
            "|++3A6JMzYJeron30G...|               41|               30|            149|               119|            1|        20150611|              20150711|        0|201506|\n",
            "+--------------------+-----------------+-----------------+---------------+------------------+-------------+----------------+----------------------+---------+------+\n",
            "only showing top 10 rows\n",
            "\n",
            "+--------------------+------+----------------------+----+---+------+--------------+--------+\n",
            "|                msno| safra|registration_init_time|city| bd|gender|registered_via|is_ativo|\n",
            "+--------------------+------+----------------------+----+---+------+--------------+--------+\n",
            "|+++snpr7pmobhLKUg...|201612|              20140927|   1|  0|  NULL|             7|       1|\n",
            "|++/AwGzubug3gT6J+...|201607|              20150322|   1|  0|  NULL|             9|       0|\n",
            "|++/Gw1B9K+XOlB3hL...|201601|              20121217|  15| 32|  male|             3|       1|\n",
            "|++02XbtviomSxcIBU...|201603|              20131112|  14| 21|  male|             7|       0|\n",
            "|++0O0Bq04sB/9ZcOS...|201610|              20141021|   5| 33|  male|             3|       0|\n",
            "|++2AQgVgYUAqJDw68...|201608|              20150416|  18| 23|  male|             3|       0|\n",
            "|++2gRJ7i2MbO6qUG6...|201608|              20140616|  11| 33|  male|             7|       0|\n",
            "|++3brN43Yd6GURegT...|201604|              20100512|  14| 19|  male|             9|       0|\n",
            "|++4FwgRp7pHuuQWpa...|201605|              20141010|   1|  0|  NULL|             9|       0|\n",
            "|++4KsBMCDgIrwmv5w...|201604|              20141031|   1|  0|  NULL|             9|       0|\n",
            "+--------------------+------+----------------------+----+---+------+--------------+--------+\n",
            "only showing top 10 rows\n",
            "\n",
            "+--------------------+------+------+------+------+-------+-------+-------+------------------+\n",
            "|                msno| safra|num_25|num_50|num_75|num_985|num_100|num_unq|        total_secs|\n",
            "+--------------------+------+------+------+------+-------+-------+-------+------------------+\n",
            "|SwlrSivYHoKF9V5wm...|201701| 121.0|  28.0|  14.0|   29.0|  704.0|  827.0|        184606.903|\n",
            "|rE5wSmHEF1Dhu55zh...|201605|  26.0|   2.0|   5.0|    6.0|  462.0|  256.0|        119439.485|\n",
            "|hx+cyaQ/Jcdr/Z5fo...|201611| 161.0|  71.0|  49.0|   34.0|  668.0|  891.0|        204791.242|\n",
            "|53QW6B70J23X2UCvx...|201502|  37.0|   9.0|   3.0|    9.0|  408.0|  447.0|        101186.041|\n",
            "|/0S1N/oRyxGLZlzxn...|201506| 205.0|  49.0|  23.0|   21.0|  225.0|  489.0|         69957.524|\n",
            "|qB/zteXKaOk3hzFCo...|201509|  52.0|  10.0|  10.0|   20.0|  308.0|  264.0|         81703.877|\n",
            "|7btpXOqzA1ggOggSW...|201610| 159.0|  53.0|  30.0|   43.0| 1075.0|  881.0|305353.79099999997|\n",
            "|kgEhriAqTydVKQ1xn...|201609|  88.0|  13.0|  14.0|   13.0|  588.0|  325.0|        159511.737|\n",
            "|8uQ6M7OzdWsuzo0BR...|201509|  62.0|  27.0|  15.0|    6.0| 1389.0| 1427.0|324691.01099999994|\n",
            "|T2gUhlBhFMoSFA9jF...|201702|  36.0|  23.0|   5.0|    9.0|  216.0|  241.0| 56296.34000000001|\n",
            "+--------------------+------+------+------+------+-------+-------+-------+------------------+\n",
            "only showing top 10 rows\n",
            "\n"
          ]
        }
      ],
      "source": [
        "transactions.show(10)\n",
        "\n",
        "members.show(10)\n",
        "\n",
        "user_logs.show(10)"
      ]
    },
    {
      "cell_type": "code",
      "execution_count": null,
      "metadata": {
        "id": "pZ1ZhCdUByrU"
      },
      "outputs": [],
      "source": [
        "members.select(F.min(F.col('safra')), F.max(F.col('safra')))\n",
        "# +----------+----------+\n",
        "# |min(safra)|max(safra)|\n",
        "# +----------+----------+\n",
        "# |    201601|    201612|\n",
        "# +----------+----------+\n",
        "\n",
        "transactions.select(F.min(F.col('safra')), F.max(F.col('safra')))\n",
        "# +----------+----------+\n",
        "# |min(safra)|max(safra)|\n",
        "# +----------+----------+\n",
        "# |    201501|    201702|\n",
        "# +----------+----------+\n",
        "\n",
        "user_logs.select(F.min(F.col('safra')), F.max(F.col('safra')))\n",
        "# +----------+----------+\n",
        "# |min(safra)|max(safra)|\n",
        "# +----------+----------+\n",
        "# |    201501|    201702|\n",
        "# +----------+----------+"
      ]
    },
    {
      "cell_type": "code",
      "execution_count": null,
      "metadata": {
        "id": "Y9HQP09HC5P8"
      },
      "outputs": [],
      "source": [
        "cols_transactions = avalia_distintos(transactions)\n",
        "# msno : 2,363,626 valores distintos\n",
        "# payment_method_id : 40 valores distintos\n",
        "# payment_plan_days : 37 valores distintos\n",
        "# plan_list_price : 51 valores distintos\n",
        "# actual_amount_paid : 57 valores distintos\n",
        "# is_auto_renew : 2 valores distintos\n",
        "# is_cancel : 2 valores distintos\n",
        "# safra : 26 valores distintos\n",
        "\n",
        "cols_members = avalia_distintos(members)\n",
        "# msno : 6,287,789 valores distintos\n",
        "# safra : 12 valores distintos\n",
        "# city : 21 valores distintos\n",
        "# bd : 385 valores distintos\n",
        "# gender : 3 valores distintos\n",
        "# registered_via : 17 valores distintos\n",
        "# is_ativo : 2 valores distintos\n",
        "# churn : 2 valores distintos\n",
        "\n",
        "cols_user_logs = avalia_distintos(user_logs)\n",
        "# msno : 5,234,111 valores distintos\n",
        "# safra : 26 valores distintos\n",
        "# num_25 : 4,891 valores distintos\n",
        "# num_50 : 1,587 valores distintos\n",
        "# num_75 : 986 valores distintos\n",
        "# num_985 : 2,509 valores distintos\n",
        "# num_100 : 13,047 valores distintos\n",
        "# num_unq : 8,593 valores distintos\n",
        "# total_secs : 24,025,199 valores distintos"
      ]
    },
    {
      "cell_type": "code",
      "execution_count": null,
      "metadata": {
        "id": "sK5h8qLqz5TC"
      },
      "outputs": [],
      "source": [
        "print(f'{transactions_p.dropDuplicates().count():,}')\n",
        "# 20,712,225 Sem duplicidade\n",
        "\n",
        "print(f'{user_logs.dropDuplicates().count():,}')\n",
        "# 26,758,971 Sem duplicidade\n",
        "\n",
        "total_nodup = members.dropDuplicates().count()\n",
        "# total_nodup = 63,867,246 Sem duplicidade"
      ]
    },
    {
      "cell_type": "code",
      "execution_count": null,
      "metadata": {
        "id": "pHo-mfoamiQV"
      },
      "outputs": [],
      "source": [
        "total_transactions = avalia_nulos(transactions_p, total_transactions)\n",
        "# msno tem 0.00% nulos\n",
        "# payment_method_id tem 0.00% nulos\n",
        "# payment_plan_days tem 0.00% nulos\n",
        "# plan_list_price tem 0.00% nulos\n",
        "# actual_amount_paid tem 0.00% nulos\n",
        "# is_auto_renew tem 0.00% nulos\n",
        "# transaction_date tem 0.00% nulos\n",
        "# membership_expire_date tem 0.00% nulos\n",
        "# is_cancel tem 0.00% nulos\n",
        "# safra tem 0.00% nulos\n",
        "\n",
        "total_members = avalia_nulos(members_p, total_members)\n",
        "# msno tem 0.00% nulos\n",
        "# safra tem 0.00% nulos\n",
        "# registration_init_time tem 0.00% nulos\n",
        "# city tem 0.00% nulos\n",
        "# bd tem 0.00% nulos\n",
        "# gender tem 59.83% nulos\n",
        "# registered_via tem 0.00% nulos\n",
        "# is_ativo tem 0.00% nulos\n",
        "# churn tem 0.00% nulos\n",
        "\n",
        "total_user_logs = avalia_nulos(user_logs, total_user_logs)\n",
        "# msno tem 0.00% nulos\n",
        "# safra tem 0.00% nulos\n",
        "# num_25 tem 0.00% nulos\n",
        "# num_50 tem 0.00% nulos\n",
        "# num_75 tem 0.00% nulos\n",
        "# num_985 tem 0.00% nulos\n",
        "# num_100 tem 0.00% nulos\n",
        "# num_unq tem 0.00% nulos\n",
        "# total_secs tem 0.00% nulos"
      ]
    },
    {
      "cell_type": "code",
      "execution_count": null,
      "metadata": {
        "id": "elJfjzMxoiLd"
      },
      "outputs": [],
      "source": [
        "avalia_nulos(full_df.select('gender', 'payment_method_id', 'num_unq'), full_df.count())\n",
        "\n",
        "# gender tem 46.33% nulos\n",
        "# payment_method_id tem 27.47% nulos\n",
        "# num_unq tem 16.44% nulos"
      ]
    },
    {
      "cell_type": "code",
      "execution_count": null,
      "metadata": {
        "id": "ZXsvUygLbLHT"
      },
      "outputs": [],
      "source": [
        "transactions_p.filter(F.col('membership_expire_date')<'2010-01-01').show()\n",
        "\n",
        "# +--------------------+------+----------------------+------------------+---------------+------------------+-----\n",
        "# |                msno| safra|registration_init_time| payment_plan_days|transaction_date|membership_expire_date|\n",
        "# |WJGws9POS4KSuory4...|201604|            2011-09-11|               180|      2016-04-03|            1970-01-01|\n",
        "# |SJ7saWNc+Tuh6lZn5...|201601|            2011-12-18|                30|      2016-01-22|            2005-11-26|\n",
        "# |MWtzIv/G94QDbDcIF...|201603|            2012-12-10|               180|      2016-03-22|            1970-01-01|\n",
        "# |J+duJ7q0kFSkjldna...|201604|            2006-11-20|                30|      2016-04-19|            1970-01-01|\n",
        "\n",
        "transactions_p.filter(F.col('membership_expire_date')<F.col('transaction_date')).count()\n",
        "# 105572"
      ]
    },
    {
      "cell_type": "code",
      "execution_count": null,
      "metadata": {
        "id": "5KhA_obQ1reD"
      },
      "outputs": [],
      "source": [
        "(full_df_p.groupBy('registered_via').count())\n",
        "\n",
        "# +--------------+-------+\n",
        "# |registered_via|  count|\n",
        "# +--------------+-------+\n",
        "# |             7|3923885|\n",
        "# |             3|1507665|\n",
        "# |             9|3185940|\n",
        "# |             4| 562465|\n",
        "# |            13|    911|\n",
        "# |            10|     11|\n",
        "# |            16|      1|\n",
        "# +--------------+-------+"
      ]
    },
    {
      "cell_type": "code",
      "execution_count": null,
      "metadata": {
        "id": "hDA2Q2AQSQno"
      },
      "outputs": [],
      "source": [
        "(members_churn.groupBy('safra').agg(F.sum('churn_m3').alias('churn'),\n",
        "                                    F.sum('is_ativo').alias('ativos'),\n",
        "                                    F.sum('churn_origem').alias('churn_origem'),\n",
        "                                    F.count('*').alias('total'),\n",
        "                                    ))\n",
        "\n",
        "# +------+------+------+------------+-------+\n",
        "# | safra| churn|ativos|churn_origem|  total|\n",
        "# +------+------+------+------------+-------+\n",
        "# |201609|128945|991285|     4723876|5778986|\n",
        "# |201604| 88724|831565|     3882224|4876301|\n",
        "# |201603|136674|871651|     3766018|4697972|\n",
        "# |201607|105263|967936|     4350332|5439337|\n",
        "# |201606| 97050|844884|     4221578|5250064|\n",
        "# |201601|183246|888663|     3345327|4294184|\n",
        "# |201605|100246|849653|     4045688|5060705|\n",
        "# |201608|123183|980643|     4476488|5615921|\n",
        "# |201602|184695|918116|     3523415|4502354|\n",
        "# +------+------+------+------------+-------+"
      ]
    },
    {
      "cell_type": "code",
      "source": [
        "churn  = (members_churn.groupBy('safra').agg(F.count('*').alias('total')\n",
        "                              , F.sum(F.col('churn_m3')).alias('churn_m3')\n",
        "                              # , F.sum(F.col('cliente_novo')).alias('clientes_novos')\n",
        "                              , F.sum(F.col('is_ativo')).alias('ativos')\n",
        "                              )\n",
        ".withColumn('pct_churn_m3', F.round(F.col('churn_m3')/F.col('ativos'),3))\n",
        " .orderBy('safra'))\n",
        "\n",
        "churn_pd = churn.select('safra', 'pct_churn_m3').toPandas()"
      ],
      "metadata": {
        "id": "XpwLjIRVYYjZ"
      },
      "execution_count": null,
      "outputs": []
    },
    {
      "cell_type": "code",
      "execution_count": null,
      "metadata": {
        "colab": {
          "base_uri": "https://localhost:8080/",
          "height": 467
        },
        "id": "2CUbb-DTEMIa",
        "outputId": "bae96a13-7174-4c74-8247-a27c737f1669"
      },
      "outputs": [
        {
          "output_type": "display_data",
          "data": {
            "text/html": [
              "<html>\n",
              "<head><meta charset=\"utf-8\" /></head>\n",
              "<body>\n",
              "    <div>            <script src=\"https://cdnjs.cloudflare.com/ajax/libs/mathjax/2.7.5/MathJax.js?config=TeX-AMS-MML_SVG\"></script><script type=\"text/javascript\">if (window.MathJax && window.MathJax.Hub && window.MathJax.Hub.Config) {window.MathJax.Hub.Config({SVG: {font: \"STIX-Web\"}});}</script>                <script type=\"text/javascript\">window.PlotlyConfig = {MathJaxConfig: 'local'};</script>\n",
              "        <script charset=\"utf-8\" src=\"https://cdn.plot.ly/plotly-2.35.2.min.js\"></script>                <div id=\"d2219f82-df35-45cd-9d3c-b1f4bef68590\" class=\"plotly-graph-div\" style=\"height:450px; width:900px;\"></div>            <script type=\"text/javascript\">                                    window.PLOTLYENV=window.PLOTLYENV || {};                                    if (document.getElementById(\"d2219f82-df35-45cd-9d3c-b1f4bef68590\")) {                    Plotly.newPlot(                        \"d2219f82-df35-45cd-9d3c-b1f4bef68590\",                        [{\"hovertemplate\":\"safra=%{x}\\u003cbr\\u003epct_churn_m3=%{text}\\u003cextra\\u003e\\u003c\\u002fextra\\u003e\",\"legendgroup\":\"\",\"line\":{\"color\":\"#636efa\",\"dash\":\"solid\"},\"marker\":{\"symbol\":\"circle\"},\"mode\":\"lines+markers+text\",\"name\":\"\",\"orientation\":\"v\",\"showlegend\":false,\"text\":[0.206,0.201,0.157,0.107,0.118,0.115,0.109,0.126,0.13],\"x\":[201601,201602,201603,201604,201605,201606,201607,201608,201609],\"xaxis\":\"x\",\"y\":[0.206,0.201,0.157,0.107,0.118,0.115,0.109,0.126,0.13],\"yaxis\":\"y\",\"type\":\"scatter\",\"textposition\":\"top center\",\"texttemplate\":\"%{text:.2%}\"}],                        {\"template\":{\"data\":{\"histogram2dcontour\":[{\"type\":\"histogram2dcontour\",\"colorbar\":{\"outlinewidth\":0,\"ticks\":\"\"},\"colorscale\":[[0.0,\"#0d0887\"],[0.1111111111111111,\"#46039f\"],[0.2222222222222222,\"#7201a8\"],[0.3333333333333333,\"#9c179e\"],[0.4444444444444444,\"#bd3786\"],[0.5555555555555556,\"#d8576b\"],[0.6666666666666666,\"#ed7953\"],[0.7777777777777778,\"#fb9f3a\"],[0.8888888888888888,\"#fdca26\"],[1.0,\"#f0f921\"]]}],\"choropleth\":[{\"type\":\"choropleth\",\"colorbar\":{\"outlinewidth\":0,\"ticks\":\"\"}}],\"histogram2d\":[{\"type\":\"histogram2d\",\"colorbar\":{\"outlinewidth\":0,\"ticks\":\"\"},\"colorscale\":[[0.0,\"#0d0887\"],[0.1111111111111111,\"#46039f\"],[0.2222222222222222,\"#7201a8\"],[0.3333333333333333,\"#9c179e\"],[0.4444444444444444,\"#bd3786\"],[0.5555555555555556,\"#d8576b\"],[0.6666666666666666,\"#ed7953\"],[0.7777777777777778,\"#fb9f3a\"],[0.8888888888888888,\"#fdca26\"],[1.0,\"#f0f921\"]]}],\"heatmap\":[{\"type\":\"heatmap\",\"colorbar\":{\"outlinewidth\":0,\"ticks\":\"\"},\"colorscale\":[[0.0,\"#0d0887\"],[0.1111111111111111,\"#46039f\"],[0.2222222222222222,\"#7201a8\"],[0.3333333333333333,\"#9c179e\"],[0.4444444444444444,\"#bd3786\"],[0.5555555555555556,\"#d8576b\"],[0.6666666666666666,\"#ed7953\"],[0.7777777777777778,\"#fb9f3a\"],[0.8888888888888888,\"#fdca26\"],[1.0,\"#f0f921\"]]}],\"heatmapgl\":[{\"type\":\"heatmapgl\",\"colorbar\":{\"outlinewidth\":0,\"ticks\":\"\"},\"colorscale\":[[0.0,\"#0d0887\"],[0.1111111111111111,\"#46039f\"],[0.2222222222222222,\"#7201a8\"],[0.3333333333333333,\"#9c179e\"],[0.4444444444444444,\"#bd3786\"],[0.5555555555555556,\"#d8576b\"],[0.6666666666666666,\"#ed7953\"],[0.7777777777777778,\"#fb9f3a\"],[0.8888888888888888,\"#fdca26\"],[1.0,\"#f0f921\"]]}],\"contourcarpet\":[{\"type\":\"contourcarpet\",\"colorbar\":{\"outlinewidth\":0,\"ticks\":\"\"}}],\"contour\":[{\"type\":\"contour\",\"colorbar\":{\"outlinewidth\":0,\"ticks\":\"\"},\"colorscale\":[[0.0,\"#0d0887\"],[0.1111111111111111,\"#46039f\"],[0.2222222222222222,\"#7201a8\"],[0.3333333333333333,\"#9c179e\"],[0.4444444444444444,\"#bd3786\"],[0.5555555555555556,\"#d8576b\"],[0.6666666666666666,\"#ed7953\"],[0.7777777777777778,\"#fb9f3a\"],[0.8888888888888888,\"#fdca26\"],[1.0,\"#f0f921\"]]}],\"surface\":[{\"type\":\"surface\",\"colorbar\":{\"outlinewidth\":0,\"ticks\":\"\"},\"colorscale\":[[0.0,\"#0d0887\"],[0.1111111111111111,\"#46039f\"],[0.2222222222222222,\"#7201a8\"],[0.3333333333333333,\"#9c179e\"],[0.4444444444444444,\"#bd3786\"],[0.5555555555555556,\"#d8576b\"],[0.6666666666666666,\"#ed7953\"],[0.7777777777777778,\"#fb9f3a\"],[0.8888888888888888,\"#fdca26\"],[1.0,\"#f0f921\"]]}],\"mesh3d\":[{\"type\":\"mesh3d\",\"colorbar\":{\"outlinewidth\":0,\"ticks\":\"\"}}],\"scatter\":[{\"fillpattern\":{\"fillmode\":\"overlay\",\"size\":10,\"solidity\":0.2},\"type\":\"scatter\"}],\"parcoords\":[{\"type\":\"parcoords\",\"line\":{\"colorbar\":{\"outlinewidth\":0,\"ticks\":\"\"}}}],\"scatterpolargl\":[{\"type\":\"scatterpolargl\",\"marker\":{\"colorbar\":{\"outlinewidth\":0,\"ticks\":\"\"}}}],\"bar\":[{\"error_x\":{\"color\":\"#2a3f5f\"},\"error_y\":{\"color\":\"#2a3f5f\"},\"marker\":{\"line\":{\"color\":\"#E5ECF6\",\"width\":0.5},\"pattern\":{\"fillmode\":\"overlay\",\"size\":10,\"solidity\":0.2}},\"type\":\"bar\"}],\"scattergeo\":[{\"type\":\"scattergeo\",\"marker\":{\"colorbar\":{\"outlinewidth\":0,\"ticks\":\"\"}}}],\"scatterpolar\":[{\"type\":\"scatterpolar\",\"marker\":{\"colorbar\":{\"outlinewidth\":0,\"ticks\":\"\"}}}],\"histogram\":[{\"marker\":{\"pattern\":{\"fillmode\":\"overlay\",\"size\":10,\"solidity\":0.2}},\"type\":\"histogram\"}],\"scattergl\":[{\"type\":\"scattergl\",\"marker\":{\"colorbar\":{\"outlinewidth\":0,\"ticks\":\"\"}}}],\"scatter3d\":[{\"type\":\"scatter3d\",\"line\":{\"colorbar\":{\"outlinewidth\":0,\"ticks\":\"\"}},\"marker\":{\"colorbar\":{\"outlinewidth\":0,\"ticks\":\"\"}}}],\"scattermapbox\":[{\"type\":\"scattermapbox\",\"marker\":{\"colorbar\":{\"outlinewidth\":0,\"ticks\":\"\"}}}],\"scatterternary\":[{\"type\":\"scatterternary\",\"marker\":{\"colorbar\":{\"outlinewidth\":0,\"ticks\":\"\"}}}],\"scattercarpet\":[{\"type\":\"scattercarpet\",\"marker\":{\"colorbar\":{\"outlinewidth\":0,\"ticks\":\"\"}}}],\"carpet\":[{\"aaxis\":{\"endlinecolor\":\"#2a3f5f\",\"gridcolor\":\"white\",\"linecolor\":\"white\",\"minorgridcolor\":\"white\",\"startlinecolor\":\"#2a3f5f\"},\"baxis\":{\"endlinecolor\":\"#2a3f5f\",\"gridcolor\":\"white\",\"linecolor\":\"white\",\"minorgridcolor\":\"white\",\"startlinecolor\":\"#2a3f5f\"},\"type\":\"carpet\"}],\"table\":[{\"cells\":{\"fill\":{\"color\":\"#EBF0F8\"},\"line\":{\"color\":\"white\"}},\"header\":{\"fill\":{\"color\":\"#C8D4E3\"},\"line\":{\"color\":\"white\"}},\"type\":\"table\"}],\"barpolar\":[{\"marker\":{\"line\":{\"color\":\"#E5ECF6\",\"width\":0.5},\"pattern\":{\"fillmode\":\"overlay\",\"size\":10,\"solidity\":0.2}},\"type\":\"barpolar\"}],\"pie\":[{\"automargin\":true,\"type\":\"pie\"}]},\"layout\":{\"autotypenumbers\":\"strict\",\"colorway\":[\"#636efa\",\"#EF553B\",\"#00cc96\",\"#ab63fa\",\"#FFA15A\",\"#19d3f3\",\"#FF6692\",\"#B6E880\",\"#FF97FF\",\"#FECB52\"],\"font\":{\"color\":\"#2a3f5f\"},\"hovermode\":\"closest\",\"hoverlabel\":{\"align\":\"left\"},\"paper_bgcolor\":\"white\",\"plot_bgcolor\":\"#E5ECF6\",\"polar\":{\"bgcolor\":\"#E5ECF6\",\"angularaxis\":{\"gridcolor\":\"white\",\"linecolor\":\"white\",\"ticks\":\"\"},\"radialaxis\":{\"gridcolor\":\"white\",\"linecolor\":\"white\",\"ticks\":\"\"}},\"ternary\":{\"bgcolor\":\"#E5ECF6\",\"aaxis\":{\"gridcolor\":\"white\",\"linecolor\":\"white\",\"ticks\":\"\"},\"baxis\":{\"gridcolor\":\"white\",\"linecolor\":\"white\",\"ticks\":\"\"},\"caxis\":{\"gridcolor\":\"white\",\"linecolor\":\"white\",\"ticks\":\"\"}},\"coloraxis\":{\"colorbar\":{\"outlinewidth\":0,\"ticks\":\"\"}},\"colorscale\":{\"sequential\":[[0.0,\"#0d0887\"],[0.1111111111111111,\"#46039f\"],[0.2222222222222222,\"#7201a8\"],[0.3333333333333333,\"#9c179e\"],[0.4444444444444444,\"#bd3786\"],[0.5555555555555556,\"#d8576b\"],[0.6666666666666666,\"#ed7953\"],[0.7777777777777778,\"#fb9f3a\"],[0.8888888888888888,\"#fdca26\"],[1.0,\"#f0f921\"]],\"sequentialminus\":[[0.0,\"#0d0887\"],[0.1111111111111111,\"#46039f\"],[0.2222222222222222,\"#7201a8\"],[0.3333333333333333,\"#9c179e\"],[0.4444444444444444,\"#bd3786\"],[0.5555555555555556,\"#d8576b\"],[0.6666666666666666,\"#ed7953\"],[0.7777777777777778,\"#fb9f3a\"],[0.8888888888888888,\"#fdca26\"],[1.0,\"#f0f921\"]],\"diverging\":[[0,\"#8e0152\"],[0.1,\"#c51b7d\"],[0.2,\"#de77ae\"],[0.3,\"#f1b6da\"],[0.4,\"#fde0ef\"],[0.5,\"#f7f7f7\"],[0.6,\"#e6f5d0\"],[0.7,\"#b8e186\"],[0.8,\"#7fbc41\"],[0.9,\"#4d9221\"],[1,\"#276419\"]]},\"xaxis\":{\"gridcolor\":\"white\",\"linecolor\":\"white\",\"ticks\":\"\",\"title\":{\"standoff\":15},\"zerolinecolor\":\"white\",\"automargin\":true,\"zerolinewidth\":2},\"yaxis\":{\"gridcolor\":\"white\",\"linecolor\":\"white\",\"ticks\":\"\",\"title\":{\"standoff\":15},\"zerolinecolor\":\"white\",\"automargin\":true,\"zerolinewidth\":2},\"scene\":{\"xaxis\":{\"backgroundcolor\":\"#E5ECF6\",\"gridcolor\":\"white\",\"linecolor\":\"white\",\"showbackground\":true,\"ticks\":\"\",\"zerolinecolor\":\"white\",\"gridwidth\":2},\"yaxis\":{\"backgroundcolor\":\"#E5ECF6\",\"gridcolor\":\"white\",\"linecolor\":\"white\",\"showbackground\":true,\"ticks\":\"\",\"zerolinecolor\":\"white\",\"gridwidth\":2},\"zaxis\":{\"backgroundcolor\":\"#E5ECF6\",\"gridcolor\":\"white\",\"linecolor\":\"white\",\"showbackground\":true,\"ticks\":\"\",\"zerolinecolor\":\"white\",\"gridwidth\":2}},\"shapedefaults\":{\"line\":{\"color\":\"#2a3f5f\"}},\"annotationdefaults\":{\"arrowcolor\":\"#2a3f5f\",\"arrowhead\":0,\"arrowwidth\":1},\"geo\":{\"bgcolor\":\"white\",\"landcolor\":\"#E5ECF6\",\"subunitcolor\":\"white\",\"showland\":true,\"showlakes\":true,\"lakecolor\":\"white\"},\"title\":{\"x\":0.05},\"mapbox\":{\"style\":\"light\"}}},\"xaxis\":{\"anchor\":\"y\",\"domain\":[0.0,1.0],\"title\":{\"text\":\"Safra\"},\"tickformat\":\"str\",\"showgrid\":false,\"zeroline\":false},\"yaxis\":{\"anchor\":\"x\",\"domain\":[0.0,1.0],\"title\":{\"text\":\"Taxa de Churn\"},\"tickformat\":\".2%\",\"showgrid\":false,\"zeroline\":false},\"legend\":{\"tracegroupgap\":0},\"title\":{\"text\":\"Churn Rate por Safra\"},\"showlegend\":true,\"width\":900,\"height\":450},                        {\"responsive\": true}                    ).then(function(){\n",
              "                            \n",
              "var gd = document.getElementById('d2219f82-df35-45cd-9d3c-b1f4bef68590');\n",
              "var x = new MutationObserver(function (mutations, observer) {{\n",
              "        var display = window.getComputedStyle(gd).display;\n",
              "        if (!display || display === 'none') {{\n",
              "            console.log([gd, 'removed!']);\n",
              "            Plotly.purge(gd);\n",
              "            observer.disconnect();\n",
              "        }}\n",
              "}});\n",
              "\n",
              "// Listen for the removal of the full notebook cells\n",
              "var notebookContainer = gd.closest('#notebook-container');\n",
              "if (notebookContainer) {{\n",
              "    x.observe(notebookContainer, {childList: true});\n",
              "}}\n",
              "\n",
              "// Listen for the clearing of the current output cell\n",
              "var outputEl = gd.closest('.output');\n",
              "if (outputEl) {{\n",
              "    x.observe(outputEl, {childList: true});\n",
              "}}\n",
              "\n",
              "                        })                };                            </script>        </div>\n",
              "</body>\n",
              "</html>"
            ]
          },
          "metadata": {}
        }
      ],
      "source": [
        "\n",
        "fig = px.line(churn_pd, x='safra', y='pct_churn_m3', text='pct_churn_m3', title='Churn Rate por Safra')\n",
        "\n",
        "fig.update_traces(texttemplate='%{text:.2%}', textposition='top center')\n",
        "\n",
        "fig.update_layout(\n",
        "    xaxis_title='Safra',\n",
        "    yaxis_title='Taxa de Churn',\n",
        "    # plot_bgcolor='white',\n",
        "    # paper_bgcolor='white',\n",
        "    yaxis = dict(tickformat = '.2%', showgrid=False, zeroline=False),\n",
        "    xaxis = dict(tickformat = 'str', showgrid=False, zeroline=False),\n",
        "    showlegend=True,\n",
        "    width=900,  # Largura ligeiramente menor que 794px para margens\n",
        "    height=450, # Altura ligeiramente menor que 1123px para margens\n",
        ")\n",
        "\n",
        "fig.show()"
      ]
    },
    {
      "cell_type": "code",
      "execution_count": null,
      "metadata": {
        "colab": {
          "base_uri": "https://localhost:8080/",
          "height": 467
        },
        "id": "CRz__1bk8aeP",
        "outputId": "10c0976f-f1ef-4788-ae7f-6e39a16454be"
      },
      "outputs": [
        {
          "output_type": "display_data",
          "data": {
            "text/html": [
              "<html>\n",
              "<head><meta charset=\"utf-8\" /></head>\n",
              "<body>\n",
              "    <div>            <script src=\"https://cdnjs.cloudflare.com/ajax/libs/mathjax/2.7.5/MathJax.js?config=TeX-AMS-MML_SVG\"></script><script type=\"text/javascript\">if (window.MathJax && window.MathJax.Hub && window.MathJax.Hub.Config) {window.MathJax.Hub.Config({SVG: {font: \"STIX-Web\"}});}</script>                <script type=\"text/javascript\">window.PlotlyConfig = {MathJaxConfig: 'local'};</script>\n",
              "        <script charset=\"utf-8\" src=\"https://cdn.plot.ly/plotly-2.35.2.min.js\"></script>                <div id=\"23b519d3-9860-472a-8c3c-e060e70e192d\" class=\"plotly-graph-div\" style=\"height:450px; width:900px;\"></div>            <script type=\"text/javascript\">                                    window.PLOTLYENV=window.PLOTLYENV || {};                                    if (document.getElementById(\"23b519d3-9860-472a-8c3c-e060e70e192d\")) {                    Plotly.newPlot(                        \"23b519d3-9860-472a-8c3c-e060e70e192d\",                        [{\"hovertemplate\":\"safra=%{x}\\u003cbr\\u003epct_churn=%{text}\\u003cextra\\u003e\\u003c\\u002fextra\\u003e\",\"legendgroup\":\"\",\"line\":{\"color\":\"#636efa\",\"dash\":\"solid\"},\"marker\":{\"symbol\":\"circle\"},\"mode\":\"lines+markers+text\",\"name\":\"\",\"orientation\":\"v\",\"showlegend\":false,\"text\":[0.206,0.203,0.156,0.108,0.119,0.114],\"x\":[201601,201602,201603,201604,201605,201606],\"xaxis\":\"x\",\"y\":[0.206,0.203,0.156,0.108,0.119,0.114],\"yaxis\":\"y\",\"type\":\"scatter\",\"textposition\":\"top center\",\"texttemplate\":\"%{text:.2%}\"}],                        {\"template\":{\"data\":{\"histogram2dcontour\":[{\"type\":\"histogram2dcontour\",\"colorbar\":{\"outlinewidth\":0,\"ticks\":\"\"},\"colorscale\":[[0.0,\"#0d0887\"],[0.1111111111111111,\"#46039f\"],[0.2222222222222222,\"#7201a8\"],[0.3333333333333333,\"#9c179e\"],[0.4444444444444444,\"#bd3786\"],[0.5555555555555556,\"#d8576b\"],[0.6666666666666666,\"#ed7953\"],[0.7777777777777778,\"#fb9f3a\"],[0.8888888888888888,\"#fdca26\"],[1.0,\"#f0f921\"]]}],\"choropleth\":[{\"type\":\"choropleth\",\"colorbar\":{\"outlinewidth\":0,\"ticks\":\"\"}}],\"histogram2d\":[{\"type\":\"histogram2d\",\"colorbar\":{\"outlinewidth\":0,\"ticks\":\"\"},\"colorscale\":[[0.0,\"#0d0887\"],[0.1111111111111111,\"#46039f\"],[0.2222222222222222,\"#7201a8\"],[0.3333333333333333,\"#9c179e\"],[0.4444444444444444,\"#bd3786\"],[0.5555555555555556,\"#d8576b\"],[0.6666666666666666,\"#ed7953\"],[0.7777777777777778,\"#fb9f3a\"],[0.8888888888888888,\"#fdca26\"],[1.0,\"#f0f921\"]]}],\"heatmap\":[{\"type\":\"heatmap\",\"colorbar\":{\"outlinewidth\":0,\"ticks\":\"\"},\"colorscale\":[[0.0,\"#0d0887\"],[0.1111111111111111,\"#46039f\"],[0.2222222222222222,\"#7201a8\"],[0.3333333333333333,\"#9c179e\"],[0.4444444444444444,\"#bd3786\"],[0.5555555555555556,\"#d8576b\"],[0.6666666666666666,\"#ed7953\"],[0.7777777777777778,\"#fb9f3a\"],[0.8888888888888888,\"#fdca26\"],[1.0,\"#f0f921\"]]}],\"heatmapgl\":[{\"type\":\"heatmapgl\",\"colorbar\":{\"outlinewidth\":0,\"ticks\":\"\"},\"colorscale\":[[0.0,\"#0d0887\"],[0.1111111111111111,\"#46039f\"],[0.2222222222222222,\"#7201a8\"],[0.3333333333333333,\"#9c179e\"],[0.4444444444444444,\"#bd3786\"],[0.5555555555555556,\"#d8576b\"],[0.6666666666666666,\"#ed7953\"],[0.7777777777777778,\"#fb9f3a\"],[0.8888888888888888,\"#fdca26\"],[1.0,\"#f0f921\"]]}],\"contourcarpet\":[{\"type\":\"contourcarpet\",\"colorbar\":{\"outlinewidth\":0,\"ticks\":\"\"}}],\"contour\":[{\"type\":\"contour\",\"colorbar\":{\"outlinewidth\":0,\"ticks\":\"\"},\"colorscale\":[[0.0,\"#0d0887\"],[0.1111111111111111,\"#46039f\"],[0.2222222222222222,\"#7201a8\"],[0.3333333333333333,\"#9c179e\"],[0.4444444444444444,\"#bd3786\"],[0.5555555555555556,\"#d8576b\"],[0.6666666666666666,\"#ed7953\"],[0.7777777777777778,\"#fb9f3a\"],[0.8888888888888888,\"#fdca26\"],[1.0,\"#f0f921\"]]}],\"surface\":[{\"type\":\"surface\",\"colorbar\":{\"outlinewidth\":0,\"ticks\":\"\"},\"colorscale\":[[0.0,\"#0d0887\"],[0.1111111111111111,\"#46039f\"],[0.2222222222222222,\"#7201a8\"],[0.3333333333333333,\"#9c179e\"],[0.4444444444444444,\"#bd3786\"],[0.5555555555555556,\"#d8576b\"],[0.6666666666666666,\"#ed7953\"],[0.7777777777777778,\"#fb9f3a\"],[0.8888888888888888,\"#fdca26\"],[1.0,\"#f0f921\"]]}],\"mesh3d\":[{\"type\":\"mesh3d\",\"colorbar\":{\"outlinewidth\":0,\"ticks\":\"\"}}],\"scatter\":[{\"fillpattern\":{\"fillmode\":\"overlay\",\"size\":10,\"solidity\":0.2},\"type\":\"scatter\"}],\"parcoords\":[{\"type\":\"parcoords\",\"line\":{\"colorbar\":{\"outlinewidth\":0,\"ticks\":\"\"}}}],\"scatterpolargl\":[{\"type\":\"scatterpolargl\",\"marker\":{\"colorbar\":{\"outlinewidth\":0,\"ticks\":\"\"}}}],\"bar\":[{\"error_x\":{\"color\":\"#2a3f5f\"},\"error_y\":{\"color\":\"#2a3f5f\"},\"marker\":{\"line\":{\"color\":\"#E5ECF6\",\"width\":0.5},\"pattern\":{\"fillmode\":\"overlay\",\"size\":10,\"solidity\":0.2}},\"type\":\"bar\"}],\"scattergeo\":[{\"type\":\"scattergeo\",\"marker\":{\"colorbar\":{\"outlinewidth\":0,\"ticks\":\"\"}}}],\"scatterpolar\":[{\"type\":\"scatterpolar\",\"marker\":{\"colorbar\":{\"outlinewidth\":0,\"ticks\":\"\"}}}],\"histogram\":[{\"marker\":{\"pattern\":{\"fillmode\":\"overlay\",\"size\":10,\"solidity\":0.2}},\"type\":\"histogram\"}],\"scattergl\":[{\"type\":\"scattergl\",\"marker\":{\"colorbar\":{\"outlinewidth\":0,\"ticks\":\"\"}}}],\"scatter3d\":[{\"type\":\"scatter3d\",\"line\":{\"colorbar\":{\"outlinewidth\":0,\"ticks\":\"\"}},\"marker\":{\"colorbar\":{\"outlinewidth\":0,\"ticks\":\"\"}}}],\"scattermapbox\":[{\"type\":\"scattermapbox\",\"marker\":{\"colorbar\":{\"outlinewidth\":0,\"ticks\":\"\"}}}],\"scatterternary\":[{\"type\":\"scatterternary\",\"marker\":{\"colorbar\":{\"outlinewidth\":0,\"ticks\":\"\"}}}],\"scattercarpet\":[{\"type\":\"scattercarpet\",\"marker\":{\"colorbar\":{\"outlinewidth\":0,\"ticks\":\"\"}}}],\"carpet\":[{\"aaxis\":{\"endlinecolor\":\"#2a3f5f\",\"gridcolor\":\"white\",\"linecolor\":\"white\",\"minorgridcolor\":\"white\",\"startlinecolor\":\"#2a3f5f\"},\"baxis\":{\"endlinecolor\":\"#2a3f5f\",\"gridcolor\":\"white\",\"linecolor\":\"white\",\"minorgridcolor\":\"white\",\"startlinecolor\":\"#2a3f5f\"},\"type\":\"carpet\"}],\"table\":[{\"cells\":{\"fill\":{\"color\":\"#EBF0F8\"},\"line\":{\"color\":\"white\"}},\"header\":{\"fill\":{\"color\":\"#C8D4E3\"},\"line\":{\"color\":\"white\"}},\"type\":\"table\"}],\"barpolar\":[{\"marker\":{\"line\":{\"color\":\"#E5ECF6\",\"width\":0.5},\"pattern\":{\"fillmode\":\"overlay\",\"size\":10,\"solidity\":0.2}},\"type\":\"barpolar\"}],\"pie\":[{\"automargin\":true,\"type\":\"pie\"}]},\"layout\":{\"autotypenumbers\":\"strict\",\"colorway\":[\"#636efa\",\"#EF553B\",\"#00cc96\",\"#ab63fa\",\"#FFA15A\",\"#19d3f3\",\"#FF6692\",\"#B6E880\",\"#FF97FF\",\"#FECB52\"],\"font\":{\"color\":\"#2a3f5f\"},\"hovermode\":\"closest\",\"hoverlabel\":{\"align\":\"left\"},\"paper_bgcolor\":\"white\",\"plot_bgcolor\":\"#E5ECF6\",\"polar\":{\"bgcolor\":\"#E5ECF6\",\"angularaxis\":{\"gridcolor\":\"white\",\"linecolor\":\"white\",\"ticks\":\"\"},\"radialaxis\":{\"gridcolor\":\"white\",\"linecolor\":\"white\",\"ticks\":\"\"}},\"ternary\":{\"bgcolor\":\"#E5ECF6\",\"aaxis\":{\"gridcolor\":\"white\",\"linecolor\":\"white\",\"ticks\":\"\"},\"baxis\":{\"gridcolor\":\"white\",\"linecolor\":\"white\",\"ticks\":\"\"},\"caxis\":{\"gridcolor\":\"white\",\"linecolor\":\"white\",\"ticks\":\"\"}},\"coloraxis\":{\"colorbar\":{\"outlinewidth\":0,\"ticks\":\"\"}},\"colorscale\":{\"sequential\":[[0.0,\"#0d0887\"],[0.1111111111111111,\"#46039f\"],[0.2222222222222222,\"#7201a8\"],[0.3333333333333333,\"#9c179e\"],[0.4444444444444444,\"#bd3786\"],[0.5555555555555556,\"#d8576b\"],[0.6666666666666666,\"#ed7953\"],[0.7777777777777778,\"#fb9f3a\"],[0.8888888888888888,\"#fdca26\"],[1.0,\"#f0f921\"]],\"sequentialminus\":[[0.0,\"#0d0887\"],[0.1111111111111111,\"#46039f\"],[0.2222222222222222,\"#7201a8\"],[0.3333333333333333,\"#9c179e\"],[0.4444444444444444,\"#bd3786\"],[0.5555555555555556,\"#d8576b\"],[0.6666666666666666,\"#ed7953\"],[0.7777777777777778,\"#fb9f3a\"],[0.8888888888888888,\"#fdca26\"],[1.0,\"#f0f921\"]],\"diverging\":[[0,\"#8e0152\"],[0.1,\"#c51b7d\"],[0.2,\"#de77ae\"],[0.3,\"#f1b6da\"],[0.4,\"#fde0ef\"],[0.5,\"#f7f7f7\"],[0.6,\"#e6f5d0\"],[0.7,\"#b8e186\"],[0.8,\"#7fbc41\"],[0.9,\"#4d9221\"],[1,\"#276419\"]]},\"xaxis\":{\"gridcolor\":\"white\",\"linecolor\":\"white\",\"ticks\":\"\",\"title\":{\"standoff\":15},\"zerolinecolor\":\"white\",\"automargin\":true,\"zerolinewidth\":2},\"yaxis\":{\"gridcolor\":\"white\",\"linecolor\":\"white\",\"ticks\":\"\",\"title\":{\"standoff\":15},\"zerolinecolor\":\"white\",\"automargin\":true,\"zerolinewidth\":2},\"scene\":{\"xaxis\":{\"backgroundcolor\":\"#E5ECF6\",\"gridcolor\":\"white\",\"linecolor\":\"white\",\"showbackground\":true,\"ticks\":\"\",\"zerolinecolor\":\"white\",\"gridwidth\":2},\"yaxis\":{\"backgroundcolor\":\"#E5ECF6\",\"gridcolor\":\"white\",\"linecolor\":\"white\",\"showbackground\":true,\"ticks\":\"\",\"zerolinecolor\":\"white\",\"gridwidth\":2},\"zaxis\":{\"backgroundcolor\":\"#E5ECF6\",\"gridcolor\":\"white\",\"linecolor\":\"white\",\"showbackground\":true,\"ticks\":\"\",\"zerolinecolor\":\"white\",\"gridwidth\":2}},\"shapedefaults\":{\"line\":{\"color\":\"#2a3f5f\"}},\"annotationdefaults\":{\"arrowcolor\":\"#2a3f5f\",\"arrowhead\":0,\"arrowwidth\":1},\"geo\":{\"bgcolor\":\"white\",\"landcolor\":\"#E5ECF6\",\"subunitcolor\":\"white\",\"showland\":true,\"showlakes\":true,\"lakecolor\":\"white\"},\"title\":{\"x\":0.05},\"mapbox\":{\"style\":\"light\"}}},\"xaxis\":{\"anchor\":\"y\",\"domain\":[0.0,1.0],\"title\":{\"text\":\"Safra\"},\"tickformat\":\"str\",\"showgrid\":false,\"zeroline\":false},\"yaxis\":{\"anchor\":\"x\",\"domain\":[0.0,1.0],\"title\":{\"text\":\"Taxa de Churn\"},\"tickformat\":\".2%\",\"showgrid\":false,\"zeroline\":false},\"legend\":{\"tracegroupgap\":0},\"title\":{\"text\":\"Churn Rate por Safra\"},\"showlegend\":true,\"width\":900,\"height\":450},                        {\"responsive\": true}                    ).then(function(){\n",
              "                            \n",
              "var gd = document.getElementById('23b519d3-9860-472a-8c3c-e060e70e192d');\n",
              "var x = new MutationObserver(function (mutations, observer) {{\n",
              "        var display = window.getComputedStyle(gd).display;\n",
              "        if (!display || display === 'none') {{\n",
              "            console.log([gd, 'removed!']);\n",
              "            Plotly.purge(gd);\n",
              "            observer.disconnect();\n",
              "        }}\n",
              "}});\n",
              "\n",
              "// Listen for the removal of the full notebook cells\n",
              "var notebookContainer = gd.closest('#notebook-container');\n",
              "if (notebookContainer) {{\n",
              "    x.observe(notebookContainer, {childList: true});\n",
              "}}\n",
              "\n",
              "// Listen for the clearing of the current output cell\n",
              "var outputEl = gd.closest('.output');\n",
              "if (outputEl) {{\n",
              "    x.observe(outputEl, {childList: true});\n",
              "}}\n",
              "\n",
              "                        })                };                            </script>        </div>\n",
              "</body>\n",
              "</html>"
            ]
          },
          "metadata": {}
        }
      ],
      "source": [
        "churn_analysis_graph = (df_analysis.groupBy('safra')\n",
        "                  .agg(F.sum('is_ativo').alias('ativos')\n",
        "                      ,F.sum('churn_m3').alias('churn')\n",
        "                      ,F.count('*').alias('total'))\n",
        "                  .withColumn('pct_churn', F.round(F.col('churn')/F.col('ativos'),3))\n",
        "                  .orderBy('safra')\n",
        "                  )\n",
        "\n",
        "churn_analysis_df = churn_analysis_graph.toPandas()\n",
        "\n",
        "fig = px.line(churn_analysis_df, x='safra', y='pct_churn', text='pct_churn', title='Churn Rate por Safra')\n",
        "\n",
        "fig.update_traces(texttemplate='%{text:.2%}', textposition='top center')\n",
        "\n",
        "fig.update_layout(\n",
        "    xaxis_title='Safra',\n",
        "    yaxis_title='Taxa de Churn',\n",
        "    # plot_bgcolor='white',\n",
        "    # paper_bgcolor='white',\n",
        "    yaxis = dict(tickformat = '.2%', showgrid=False, zeroline=False),\n",
        "    xaxis = dict(tickformat = 'str', showgrid=False, zeroline=False),\n",
        "    showlegend=True,\n",
        "    width=900,  # Largura ligeiramente menor que 794px para margens\n",
        "    height=450, # Altura ligeiramente menor que 1123px para margens\n",
        ")\n",
        "\n",
        "fig.show()"
      ]
    },
    {
      "cell_type": "code",
      "source": [
        "# A taxa de cancelamento x churn é muito alta, por isso é leakege\n",
        "(full_df_p.filter(F.col('churn_origem').isin(0))\n",
        "          .groupBy('is_cancel')\n",
        "          .agg(F.sum(F.col('is_ativo')).alias('ativos'),\n",
        "               F.sum('churn_m3').alias('churns'))\n",
        "          .withColumn('pct_churn', F.round(F.col('churns')/F.col('ativos'),2))\n",
        "          ).show()"
      ],
      "metadata": {
        "colab": {
          "base_uri": "https://localhost:8080/"
        },
        "id": "rYQrcr5aBTDE",
        "outputId": "50ba13ff-6ac9-4f0c-973e-452e1fcba81d"
      },
      "execution_count": null,
      "outputs": [
        {
          "output_type": "stream",
          "name": "stdout",
          "text": [
            "+---------+-------+------+---------+\n",
            "|is_cancel| ativos|churns|pct_churn|\n",
            "+---------+-------+------+---------+\n",
            "|     NULL|1485647|461762|     0.31|\n",
            "|        1| 149200|105932|     0.71|\n",
            "|        0|6509549|580332|     0.09|\n",
            "+---------+-------+------+---------+\n",
            "\n"
          ]
        }
      ]
    },
    {
      "cell_type": "code",
      "source": [
        "# A taxa não é tão alta para renovação 0, então não é leakege\n",
        "(full_df_p.filter(F.col('churn_origem').isin(0))\n",
        "          .groupBy('is_auto_renew')\n",
        "          .agg(F.sum(F.col('is_ativo')).alias('ativos'),\n",
        "               F.sum('churn_m3').alias('churns'))\n",
        "          .withColumn('pct_churn', F.round(F.col('churns')/F.col('ativos'),2))\n",
        "          ).show()"
      ],
      "metadata": {
        "colab": {
          "base_uri": "https://localhost:8080/"
        },
        "id": "ujuS_4WDEL8e",
        "outputId": "dcc5c658-fec0-4451-8a9b-1c7b3cd0c50c"
      },
      "execution_count": null,
      "outputs": [
        {
          "output_type": "stream",
          "name": "stdout",
          "text": [
            "+-------------+-------+------+---------+\n",
            "|is_auto_renew| ativos|churns|pct_churn|\n",
            "+-------------+-------+------+---------+\n",
            "|         NULL|1485647|461762|     0.31|\n",
            "|            1|5619350|360280|     0.06|\n",
            "|            0|1039399|325984|     0.31|\n",
            "+-------------+-------+------+---------+\n",
            "\n"
          ]
        }
      ]
    },
    {
      "cell_type": "markdown",
      "metadata": {
        "id": "oOe-aO74Ac6b"
      },
      "source": [
        "# 3. 🏘️ Análise de categóricas"
      ]
    },
    {
      "cell_type": "markdown",
      "metadata": {
        "id": "_hqTGtHdAgkV"
      },
      "source": [
        "## Genêro"
      ]
    },
    {
      "cell_type": "markdown",
      "metadata": {
        "id": "CH80y9xHquwW"
      },
      "source": [
        "% de nulos de genêro vem aumentando ao longo do tempo. Apesar de discriminar melhor o clientes inativos, são os clientes que não declaram"
      ]
    },
    {
      "cell_type": "code",
      "execution_count": null,
      "metadata": {
        "id": "9LW2eaKVq34h"
      },
      "outputs": [],
      "source": [
        "(members.groupBy('safra').agg(\n",
        "    (F.round(F.sum(F.when(F.col('gender').isNull(),1))/F.count('*'),2)).alias('pct_nulos')\n",
        "    ).orderBy('safra'))\n",
        "\n",
        "# +------+---------+\n",
        "# | safra|pct_nulos|\n",
        "# +------+---------+\n",
        "# |201601|     0.53|\n",
        "# |201602|     0.55|\n",
        "# |201603|     0.56|\n",
        "# |201604|     0.57|\n",
        "# |201605|     0.58|\n",
        "# |201606|     0.59|\n",
        "# |201607|      0.6|\n",
        "# |201608|     0.61|\n",
        "# |201609|     0.62|\n",
        "# |201610|     0.63|\n",
        "# |201611|     0.63|\n",
        "# |201612|     0.64|\n",
        "# +------+---------+"
      ]
    },
    {
      "cell_type": "code",
      "execution_count": null,
      "metadata": {
        "id": "12W7kRPZpTG"
      },
      "outputs": [],
      "source": [
        "(members_p.groupBy('gender').agg(\n",
        "    (F.round(F.sum(F.col('churn_m3'))/F.sum('is_ativo'),2)).alias('pct_churn')\n",
        "    ))\n",
        "\n",
        "# +------+---------+\n",
        "# |gender|pct_churn|\n",
        "# +------+---------+\n",
        "# |  NULL|     0.07|\n",
        "# |female|     0.13|\n",
        "# |  male|     0.13|\n",
        "# +------+---------+"
      ]
    },
    {
      "cell_type": "code",
      "execution_count": null,
      "metadata": {
        "id": "k3JXQBbXX4V_"
      },
      "outputs": [],
      "source": [
        "(members_p.groupBy('gender', 'safra').agg(\n",
        "    (F.round(F.sum(F.col('churn_m3'))/F.sum('is_ativo'),2)).alias('pct_churn'))\n",
        "    .groupBy('safra')\n",
        "    .pivot('gender')\n",
        "    .agg(F.first('pct_churn'))\n",
        "    .orderBy('safra'))\n",
        "\n",
        "# +------+----+------+----+\n",
        "# | safra|null|female|male|\n",
        "# +------+----+------+----+\n",
        "# |201601|0.14|  0.26|0.25|\n",
        "# |201602|0.12|  0.26|0.26|\n",
        "# |201603|0.12|  0.19|0.19|\n",
        "# |201604|0.08|  0.14|0.13|\n",
        "# |201605|0.08|  0.15|0.15|\n",
        "# |201606|0.08|  0.15|0.15|\n",
        "# |201607|0.08|  0.13|0.14|\n",
        "# |201608|0.09|  0.15|0.16|\n",
        "# |201609| 0.1|  0.16|0.16|\n",
        "# +------+----+------+----+"
      ]
    },
    {
      "cell_type": "markdown",
      "metadata": {
        "id": "OgoNDBFmAkIr"
      },
      "source": [
        "## Demais categóricas WoE e IV"
      ]
    },
    {
      "cell_type": "markdown",
      "metadata": {
        "id": "yuE4XhOdDBIz"
      },
      "source": [
        "IV < 0.02: não é útil <br>\n",
        "0.02 ≤ IV < 0.1: baixo poder preditivo <br>\n",
        "0.1 ≤ IV < 0.3: moderado poder preditivo <br>\n",
        "0.3 ≤ IV < 0.5: alto poder preditivo <br>\n",
        "IV ≥ 0.5: suspeito"
      ]
    },
    {
      "cell_type": "markdown",
      "metadata": {
        "id": "tZz809cDsiJU"
      },
      "source": [
        "### Imports\n",
        "\n",
        "Agrupa contínuas - Cria faixas entre positivo, negativo e zero <br>\n",
        "Agrupa quartils - Cria faixas de quartil <br>\n",
        "Trata nulos - identifica o tipo da variável e substitui o nulo para verificar se o nulo tem informação relevante <br>\n",
        "analisa WoE - Calcula Weight of Evidence e Information value para coluna especificada <br>\n",
        "gera subsplots iv e Woe - Plota em conjunto todas as variáveis analisadas com WoE e IV <br>"
      ]
    },
    {
      "cell_type": "code",
      "execution_count": 88,
      "metadata": {
        "id": "bTaTEB5jsGxA"
      },
      "outputs": [],
      "source": [
        "# Cria um agrupamento das colunas com valores que não deveriam ser negativos\n",
        "def agrupa_continuas(col:str):\n",
        "  return( F.when(F.col(col) > 0, 'Positivo')\n",
        "          .when(F.col(col) == 0, 'Neutro')\n",
        "          .when(F.col(col) < 0, 'Negativo')\n",
        "          .otherwise(F.lit(None))\n",
        "          )\n",
        "\n",
        "# Cria agrupamento de contínuas por quartis\n",
        "def agrupa_quartils(col:str, quantiles:list[float]):\n",
        "  return( F.when(F.col(col) <= quantiles[0], f'<= q1 {quantiles[0]:.2f}')\n",
        "          .when(F.col(col) <= quantiles[1], f'<= q2 {quantiles[1]:.2f}')\n",
        "          .when(F.col(col) <= quantiles[2], f'<= q3 {quantiles[2]:.2f}')\n",
        "          .when(F.col(col) > quantiles[2], '> q3')\n",
        "          .otherwise(F.lit(None))\n",
        "          )\n",
        "\n",
        "# Para plotar e verificar ganho de informação dos valores nulos\n",
        "def trata_nulos(df, col:str):\n",
        "  df_pd = df.toPandas()\n",
        "\n",
        "  if isinstance(df_pd[col][0], (str, NoneType)):\n",
        "    df_pd[col] = df_pd[col].fillna('nulo')\n",
        "  else:\n",
        "    df_pd[col] = df_pd[col].fillna(-1)\n",
        "\n",
        "  return df_pd\n",
        "\n",
        "# Calcula IV e WoE das variáveis\n",
        "def analisa_Woe(df, col:str):\n",
        "  df = (df.groupBy(col)\n",
        "  .agg(\n",
        "    F.sum(F.col('churn_m3')).alias('churn')\n",
        "    ,F.sum(F.when(F.col('churn_m3').isin(0),1)).alias('n_churn')\n",
        "    ,F.sum(F.col('is_ativo')).alias('ativo')\n",
        "    )\n",
        "    .withColumn('pct_churn', F.round(F.col('churn')/F.col('ativo'),4))\n",
        "    .withColumn('good_dist', (F.col('n_churn')/n_churn_analysis))\n",
        "    .withColumn('bad_dist', (F.col('churn')/churn_analysis))\n",
        "    .withColumn('Woe', F.round(F.log((F.col('good_dist'))/(F.col('bad_dist'))),4))\n",
        "    .withColumn('IV', F.round((F.col('good_dist') - F.col('bad_dist'))*F.col('Woe') ,4))\n",
        "\n",
        "    .select(col, 'pct_churn', 'Woe', 'IV')\n",
        "    .orderBy('Woe'))\n",
        "\n",
        "  df_pd = trata_nulos(df, col)\n",
        "\n",
        "  return df_pd\n",
        "\n",
        "# Gera gráficos de WoE e IV\n",
        "def gera_subplots_woe_iv(list_of_dfs_woe_iv, num_cols=2):\n",
        "    # Extrair os nomes das colunas a partir dos DataFrames na lista\n",
        "    cols_to_plot = [df.columns[0] for df in list_of_dfs_woe_iv]\n",
        "\n",
        "    num_cols = num_cols  # Número desejado de colunas de subplots por linha\n",
        "    num_rows = math.ceil(len(cols_to_plot) / num_cols)\n",
        "\n",
        "    subplot_titles = [\n",
        "    f'{df.columns[0]} com IV {df[\"IV\"].sum():.2f}'\n",
        "    for df in list_of_dfs_woe_iv\n",
        "                    ]\n",
        "\n",
        "    fig = make_subplots(rows=num_rows, cols=num_cols,\n",
        "                        subplot_titles=subplot_titles,\n",
        "                        specs=[[{\"secondary_y\": True}] * num_cols] * num_rows) # Habilitar eixo Y secundário para cada subplot\n",
        "\n",
        "    for i, df_col in enumerate(list_of_dfs_woe_iv):\n",
        "        col = df_col.columns[0] # Nome da coluna da variável no DataFrame atual\n",
        "\n",
        "        row = math.floor(i / num_cols) + 1\n",
        "        col_idx = (i % num_cols) + 1\n",
        "\n",
        "        # Adicionar trace de linha para WoE\n",
        "        # Trace de linha para WoE (eixo primário)\n",
        "        fig.add_trace(\n",
        "            go.Scatter(\n",
        "                x=df_col[col],\n",
        "                y=df_col['Woe'],\n",
        "                # name=f'WoE ({col})',\n",
        "                mode='lines+markers+text',\n",
        "                text=df_col['Woe'],\n",
        "                texttemplate='%{text:.2f}',\n",
        "                marker_color='#2784F5',\n",
        "                textposition=\"top center\",\n",
        "                showlegend=False if i > 0 else True\n",
        "                      ),\n",
        "            row=row,\n",
        "            col=col_idx,\n",
        "            secondary_y=False\n",
        "        )\n",
        "\n",
        "        # Trace de barra para IV (eixo secundário)\n",
        "        fig.add_trace(\n",
        "            go.Bar(\n",
        "                x=df_col[col],\n",
        "                y=df_col['IV'],\n",
        "                # name=f'IV ({col})',\n",
        "                textposition=\"auto\",\n",
        "                text=df_col['IV'],\n",
        "                marker_color='#F54927',\n",
        "                opacity=0.6,\n",
        "                showlegend=False if i > 0 else True\n",
        "                  ),\n",
        "            row=row,\n",
        "            col=col_idx,\n",
        "            secondary_y=True\n",
        "        )\n",
        "\n",
        "\n",
        "        # Atualizar layout dos eixos para cada subplot\n",
        "        fig.update_xaxes(title_text=col, showgrid=False, zeroline=False, row=row, col=col_idx)\n",
        "        fig.update_yaxes(title_text=\"WoE\", showgrid=False, zeroline=False, row=row, col=col_idx, secondary_y=False)\n",
        "        fig.update_yaxes(title_text=\"IV\", showgrid=False, zeroline=False, row=row, col=col_idx, secondary_y=True)\n",
        "\n",
        "    # Atualizar layout geral\n",
        "    fig.update_layout(\n",
        "        title_text=\"Análise de WoE e IV por Variável\",\n",
        "        # showlegend=True,\n",
        "        bargap=0.3,\n",
        "        # autosize=False,\n",
        "        width=900, # Ajustar largura\n",
        "        height=num_rows * 400, # Ajustar altura\n",
        "    )\n",
        "\n",
        "    fig.show()"
      ]
    },
    {
      "cell_type": "code",
      "execution_count": null,
      "metadata": {
        "colab": {
          "base_uri": "https://localhost:8080/",
          "height": 1217
        },
        "id": "T5-2XFX87_5y",
        "outputId": "d56391af-ad54-4e77-c112-39d0138b57db"
      },
      "outputs": [
        {
          "output_type": "display_data",
          "data": {
            "text/html": [
              "<html>\n",
              "<head><meta charset=\"utf-8\" /></head>\n",
              "<body>\n",
              "    <div>            <script src=\"https://cdnjs.cloudflare.com/ajax/libs/mathjax/2.7.5/MathJax.js?config=TeX-AMS-MML_SVG\"></script><script type=\"text/javascript\">if (window.MathJax && window.MathJax.Hub && window.MathJax.Hub.Config) {window.MathJax.Hub.Config({SVG: {font: \"STIX-Web\"}});}</script>                <script type=\"text/javascript\">window.PlotlyConfig = {MathJaxConfig: 'local'};</script>\n",
              "        <script charset=\"utf-8\" src=\"https://cdn.plot.ly/plotly-2.35.2.min.js\"></script>                <div id=\"2132b2e1-dfdc-4b6a-a40e-0874200d37c6\" class=\"plotly-graph-div\" style=\"height:1200px; width:900px;\"></div>            <script type=\"text/javascript\">                                    window.PLOTLYENV=window.PLOTLYENV || {};                                    if (document.getElementById(\"2132b2e1-dfdc-4b6a-a40e-0874200d37c6\")) {                    Plotly.newPlot(                        \"2132b2e1-dfdc-4b6a-a40e-0874200d37c6\",                        [{\"marker\":{\"color\":\"#2784F5\"},\"mode\":\"lines+markers+text\",\"showlegend\":true,\"text\":[-0.4903,-0.4082,-0.3338,-0.324,-0.3115,-0.3045,-0.2884,-0.2771,-0.2771,-0.2582,-0.2581,-0.2158,-0.1993,-0.1872,-0.1707,-0.1597,-0.0876,0.0262,0.0511,0.474,0.496],\"textposition\":\"top center\",\"texttemplate\":\"%{text:.2f}\",\"x\":[\"11\",\"15\",\"17\",\"22\",\"10\",\"18\",\"6\",\"14\",\"21\",\"8\",\"7\",\"13\",\"4\",\"5\",\"12\",\"9\",\"3\",\"16\",\"20\",\"19\",\"1\"],\"y\":[-0.4903,-0.4082,-0.3338,-0.324,-0.3115,-0.3045,-0.2884,-0.2771,-0.2771,-0.2582,-0.2581,-0.2158,-0.1993,-0.1872,-0.1707,-0.1597,-0.0876,0.0262,0.0511,0.474,0.496],\"type\":\"scatter\",\"xaxis\":\"x\",\"yaxis\":\"y\"},{\"marker\":{\"color\":\"#F54927\"},\"opacity\":0.6,\"showlegend\":true,\"text\":[0.0034,0.0116,0.0009,0.0068,0.001,0.0011,0.0032,0.0024,0.0006,0.0008,0.0002,0.0071,0.0029,0.0039,0.0005,0.0004,0.0001,0.0,0.0,0.0,0.0826],\"textposition\":\"auto\",\"x\":[\"11\",\"15\",\"17\",\"22\",\"10\",\"18\",\"6\",\"14\",\"21\",\"8\",\"7\",\"13\",\"4\",\"5\",\"12\",\"9\",\"3\",\"16\",\"20\",\"19\",\"1\"],\"y\":[0.0034,0.0116,0.0009,0.0068,0.001,0.0011,0.0032,0.0024,0.0006,0.0008,0.0002,0.0071,0.0029,0.0039,0.0005,0.0004,0.0001,0.0,0.0,0.0,0.0826],\"type\":\"bar\",\"xaxis\":\"x\",\"yaxis\":\"y2\"},{\"marker\":{\"color\":\"#2784F5\"},\"mode\":\"lines+markers+text\",\"showlegend\":false,\"text\":[-0.2597,0.4063],\"textposition\":\"top center\",\"texttemplate\":\"%{text:.2f}\",\"x\":[1,0],\"y\":[-0.2597,0.4063],\"type\":\"scatter\",\"xaxis\":\"x2\",\"yaxis\":\"y3\"},{\"marker\":{\"color\":\"#F54927\"},\"opacity\":0.6,\"showlegend\":false,\"text\":[0.0408,0.0638],\"textposition\":\"auto\",\"x\":[1,0],\"y\":[0.0408,0.0638],\"type\":\"bar\",\"xaxis\":\"x2\",\"yaxis\":\"y4\"},{\"marker\":{\"color\":\"#2784F5\"},\"mode\":\"lines+markers+text\",\"showlegend\":false,\"text\":[-0.2707,-0.2497,0.4063],\"textposition\":\"top center\",\"texttemplate\":\"%{text:.2f}\",\"x\":[\"female\",\"male\",\"nulo\"],\"y\":[-0.2707,-0.2497,0.4063],\"type\":\"scatter\",\"xaxis\":\"x3\",\"yaxis\":\"y5\"},{\"marker\":{\"color\":\"#F54927\"},\"opacity\":0.6,\"showlegend\":false,\"text\":[0.0212,0.0197,0.0638],\"textposition\":\"auto\",\"x\":[\"female\",\"male\",\"nulo\"],\"y\":[0.0212,0.0197,0.0638],\"type\":\"bar\",\"xaxis\":\"x3\",\"yaxis\":\"y6\"},{\"marker\":{\"color\":\"#2784F5\"},\"mode\":\"lines+markers+text\",\"showlegend\":false,\"text\":[null,null,null,null,null,null,null,null,null,-4.8621,-3.8612,-3.4493,-3.0114,-1.8186,-1.032,-0.7792,-0.6774,-0.6249,-0.4111,-0.3781,-0.1624,0.1265,0.2569,0.5796,0.5877,0.6689,0.7784,1.0235,1.1595,1.1658,1.6147,1.6241,1.6529,1.6761,4.4838],\"textposition\":\"top center\",\"texttemplate\":\"%{text:.2f}\",\"x\":[\"15\",\"3\",\"8\",\"22\",\"6\",\"20\",\"12\",\"13\",\"7\",\"21\",\"39\",\"35\",\"17\",\"29\",\"38\",\"28\",\"36\",\"26\",\"30\",\"nulo\",\"16\",\"27\",\"40\",\"11\",\"18\",\"37\",\"33\",\"23\",\"41\",\"10\",\"31\",\"14\",\"19\",\"34\",\"32\"],\"y\":[null,null,null,null,null,null,null,null,null,-4.8621,-3.8612,-3.4493,-3.0114,-1.8186,-1.032,-0.7792,-0.6774,-0.6249,-0.4111,-0.3781,-0.1624,0.1265,0.2569,0.5796,0.5877,0.6689,0.7784,1.0235,1.1595,1.1658,1.6147,1.6241,1.6529,1.6761,4.4838],\"type\":\"scatter\",\"xaxis\":\"x4\",\"yaxis\":\"y7\"},{\"marker\":{\"color\":\"#F54927\"},\"opacity\":0.6,\"showlegend\":false,\"text\":[null,null,null,null,null,null,null,null,null,0.0071,0.3866,0.0486,0.0019,0.005,0.1073,0.0034,0.0182,0.0,0.0005,0.0491,0.0,0.0,0.0048,0.0,0.0002,0.0129,0.0079,0.0013,0.3321,0.0,0.0158,0.0008,0.0017,0.0461,0.031],\"textposition\":\"auto\",\"x\":[\"15\",\"3\",\"8\",\"22\",\"6\",\"20\",\"12\",\"13\",\"7\",\"21\",\"39\",\"35\",\"17\",\"29\",\"38\",\"28\",\"36\",\"26\",\"30\",\"nulo\",\"16\",\"27\",\"40\",\"11\",\"18\",\"37\",\"33\",\"23\",\"41\",\"10\",\"31\",\"14\",\"19\",\"34\",\"32\"],\"y\":[null,null,null,null,null,null,null,null,null,0.0071,0.3866,0.0486,0.0019,0.005,0.1073,0.0034,0.0182,0.0,0.0005,0.0491,0.0,0.0,0.0048,0.0,0.0002,0.0129,0.0079,0.0013,0.3321,0.0,0.0158,0.0008,0.0017,0.0461,0.031],\"type\":\"bar\",\"xaxis\":\"x4\",\"yaxis\":\"y8\"},{\"marker\":{\"color\":\"#2784F5\"},\"mode\":\"lines+markers+text\",\"showlegend\":false,\"text\":[-2.5559,-0.6011,-0.4835,-0.3393,0.8659],\"textposition\":\"top center\",\"texttemplate\":\"%{text:.2f}\",\"x\":[\"10\",\"4\",\"3\",\"9\",\"7\"],\"y\":[-2.5559,-0.6011,-0.4835,-0.3393,0.8659],\"type\":\"scatter\",\"xaxis\":\"x5\",\"yaxis\":\"y9\"},{\"marker\":{\"color\":\"#F54927\"},\"opacity\":0.6,\"showlegend\":false,\"text\":[0.0,0.0204,0.0463,0.0469,0.232],\"textposition\":\"auto\",\"x\":[\"10\",\"4\",\"3\",\"9\",\"7\"],\"y\":[0.0,0.0204,0.0463,0.0469,0.232],\"type\":\"bar\",\"xaxis\":\"x5\",\"yaxis\":\"y10\"},{\"marker\":{\"color\":\"#2784F5\"},\"mode\":\"lines+markers+text\",\"showlegend\":false,\"text\":[-0.9428,-0.3781,0.5839],\"textposition\":\"top center\",\"texttemplate\":\"%{text:.2f}\",\"x\":[0.0,-1.0,1.0],\"y\":[-0.9428,-0.3781,0.5839],\"type\":\"scatter\",\"xaxis\":\"x6\",\"yaxis\":\"y11\"},{\"marker\":{\"color\":\"#F54927\"},\"opacity\":0.6,\"showlegend\":false,\"text\":[0.1377,0.0491,0.1612],\"textposition\":\"auto\",\"x\":[0.0,-1.0,1.0],\"y\":[0.1377,0.0491,0.1612],\"type\":\"bar\",\"xaxis\":\"x6\",\"yaxis\":\"y12\"},{\"marker\":{\"color\":\"#2784F5\"},\"mode\":\"lines+markers+text\",\"showlegend\":false,\"text\":[-2.8567,-0.3781,0.3675],\"textposition\":\"top center\",\"texttemplate\":\"%{text:.2f}\",\"x\":[1.0,-1.0,0.0],\"y\":[-2.8567,-0.3781,0.3675],\"type\":\"scatter\",\"xaxis\":\"x7\",\"yaxis\":\"y13\"},{\"marker\":{\"color\":\"#F54927\"},\"opacity\":0.6,\"showlegend\":false,\"text\":[0.2541,0.0491,0.0804],\"textposition\":\"auto\",\"x\":[1.0,-1.0,0.0],\"y\":[0.2541,0.0491,0.0804],\"type\":\"bar\",\"xaxis\":\"x7\",\"yaxis\":\"y14\"},{\"marker\":{\"color\":\"#2784F5\"},\"mode\":\"lines+markers+text\",\"showlegend\":false,\"text\":[-0.3781,0.1999],\"textposition\":\"top center\",\"texttemplate\":\"%{text:.2f}\",\"x\":[0,1],\"y\":[-0.3781,0.1999],\"type\":\"scatter\",\"xaxis\":\"x8\",\"yaxis\":\"y15\"},{\"marker\":{\"color\":\"#F54927\"},\"opacity\":0.6,\"showlegend\":false,\"text\":[0.0491,0.026],\"textposition\":\"auto\",\"x\":[0,1],\"y\":[0.0491,0.026],\"type\":\"bar\",\"xaxis\":\"x8\",\"yaxis\":\"y16\"},{\"marker\":{\"color\":\"#2784F5\"},\"mode\":\"lines+markers+text\",\"showlegend\":false,\"text\":[-0.0411,0.2566],\"textposition\":\"top center\",\"texttemplate\":\"%{text:.2f}\",\"x\":[1,0],\"y\":[-0.0411,0.2566],\"type\":\"scatter\",\"xaxis\":\"x9\",\"yaxis\":\"y17\"},{\"marker\":{\"color\":\"#F54927\"},\"opacity\":0.6,\"showlegend\":false,\"text\":[0.0015,0.0091],\"textposition\":\"auto\",\"x\":[1,0],\"y\":[0.0015,0.0091],\"type\":\"bar\",\"xaxis\":\"x9\",\"yaxis\":\"y18\"}],                        {\"template\":{\"data\":{\"histogram2dcontour\":[{\"type\":\"histogram2dcontour\",\"colorbar\":{\"outlinewidth\":0,\"ticks\":\"\"},\"colorscale\":[[0.0,\"#0d0887\"],[0.1111111111111111,\"#46039f\"],[0.2222222222222222,\"#7201a8\"],[0.3333333333333333,\"#9c179e\"],[0.4444444444444444,\"#bd3786\"],[0.5555555555555556,\"#d8576b\"],[0.6666666666666666,\"#ed7953\"],[0.7777777777777778,\"#fb9f3a\"],[0.8888888888888888,\"#fdca26\"],[1.0,\"#f0f921\"]]}],\"choropleth\":[{\"type\":\"choropleth\",\"colorbar\":{\"outlinewidth\":0,\"ticks\":\"\"}}],\"histogram2d\":[{\"type\":\"histogram2d\",\"colorbar\":{\"outlinewidth\":0,\"ticks\":\"\"},\"colorscale\":[[0.0,\"#0d0887\"],[0.1111111111111111,\"#46039f\"],[0.2222222222222222,\"#7201a8\"],[0.3333333333333333,\"#9c179e\"],[0.4444444444444444,\"#bd3786\"],[0.5555555555555556,\"#d8576b\"],[0.6666666666666666,\"#ed7953\"],[0.7777777777777778,\"#fb9f3a\"],[0.8888888888888888,\"#fdca26\"],[1.0,\"#f0f921\"]]}],\"heatmap\":[{\"type\":\"heatmap\",\"colorbar\":{\"outlinewidth\":0,\"ticks\":\"\"},\"colorscale\":[[0.0,\"#0d0887\"],[0.1111111111111111,\"#46039f\"],[0.2222222222222222,\"#7201a8\"],[0.3333333333333333,\"#9c179e\"],[0.4444444444444444,\"#bd3786\"],[0.5555555555555556,\"#d8576b\"],[0.6666666666666666,\"#ed7953\"],[0.7777777777777778,\"#fb9f3a\"],[0.8888888888888888,\"#fdca26\"],[1.0,\"#f0f921\"]]}],\"heatmapgl\":[{\"type\":\"heatmapgl\",\"colorbar\":{\"outlinewidth\":0,\"ticks\":\"\"},\"colorscale\":[[0.0,\"#0d0887\"],[0.1111111111111111,\"#46039f\"],[0.2222222222222222,\"#7201a8\"],[0.3333333333333333,\"#9c179e\"],[0.4444444444444444,\"#bd3786\"],[0.5555555555555556,\"#d8576b\"],[0.6666666666666666,\"#ed7953\"],[0.7777777777777778,\"#fb9f3a\"],[0.8888888888888888,\"#fdca26\"],[1.0,\"#f0f921\"]]}],\"contourcarpet\":[{\"type\":\"contourcarpet\",\"colorbar\":{\"outlinewidth\":0,\"ticks\":\"\"}}],\"contour\":[{\"type\":\"contour\",\"colorbar\":{\"outlinewidth\":0,\"ticks\":\"\"},\"colorscale\":[[0.0,\"#0d0887\"],[0.1111111111111111,\"#46039f\"],[0.2222222222222222,\"#7201a8\"],[0.3333333333333333,\"#9c179e\"],[0.4444444444444444,\"#bd3786\"],[0.5555555555555556,\"#d8576b\"],[0.6666666666666666,\"#ed7953\"],[0.7777777777777778,\"#fb9f3a\"],[0.8888888888888888,\"#fdca26\"],[1.0,\"#f0f921\"]]}],\"surface\":[{\"type\":\"surface\",\"colorbar\":{\"outlinewidth\":0,\"ticks\":\"\"},\"colorscale\":[[0.0,\"#0d0887\"],[0.1111111111111111,\"#46039f\"],[0.2222222222222222,\"#7201a8\"],[0.3333333333333333,\"#9c179e\"],[0.4444444444444444,\"#bd3786\"],[0.5555555555555556,\"#d8576b\"],[0.6666666666666666,\"#ed7953\"],[0.7777777777777778,\"#fb9f3a\"],[0.8888888888888888,\"#fdca26\"],[1.0,\"#f0f921\"]]}],\"mesh3d\":[{\"type\":\"mesh3d\",\"colorbar\":{\"outlinewidth\":0,\"ticks\":\"\"}}],\"scatter\":[{\"fillpattern\":{\"fillmode\":\"overlay\",\"size\":10,\"solidity\":0.2},\"type\":\"scatter\"}],\"parcoords\":[{\"type\":\"parcoords\",\"line\":{\"colorbar\":{\"outlinewidth\":0,\"ticks\":\"\"}}}],\"scatterpolargl\":[{\"type\":\"scatterpolargl\",\"marker\":{\"colorbar\":{\"outlinewidth\":0,\"ticks\":\"\"}}}],\"bar\":[{\"error_x\":{\"color\":\"#2a3f5f\"},\"error_y\":{\"color\":\"#2a3f5f\"},\"marker\":{\"line\":{\"color\":\"#E5ECF6\",\"width\":0.5},\"pattern\":{\"fillmode\":\"overlay\",\"size\":10,\"solidity\":0.2}},\"type\":\"bar\"}],\"scattergeo\":[{\"type\":\"scattergeo\",\"marker\":{\"colorbar\":{\"outlinewidth\":0,\"ticks\":\"\"}}}],\"scatterpolar\":[{\"type\":\"scatterpolar\",\"marker\":{\"colorbar\":{\"outlinewidth\":0,\"ticks\":\"\"}}}],\"histogram\":[{\"marker\":{\"pattern\":{\"fillmode\":\"overlay\",\"size\":10,\"solidity\":0.2}},\"type\":\"histogram\"}],\"scattergl\":[{\"type\":\"scattergl\",\"marker\":{\"colorbar\":{\"outlinewidth\":0,\"ticks\":\"\"}}}],\"scatter3d\":[{\"type\":\"scatter3d\",\"line\":{\"colorbar\":{\"outlinewidth\":0,\"ticks\":\"\"}},\"marker\":{\"colorbar\":{\"outlinewidth\":0,\"ticks\":\"\"}}}],\"scattermapbox\":[{\"type\":\"scattermapbox\",\"marker\":{\"colorbar\":{\"outlinewidth\":0,\"ticks\":\"\"}}}],\"scatterternary\":[{\"type\":\"scatterternary\",\"marker\":{\"colorbar\":{\"outlinewidth\":0,\"ticks\":\"\"}}}],\"scattercarpet\":[{\"type\":\"scattercarpet\",\"marker\":{\"colorbar\":{\"outlinewidth\":0,\"ticks\":\"\"}}}],\"carpet\":[{\"aaxis\":{\"endlinecolor\":\"#2a3f5f\",\"gridcolor\":\"white\",\"linecolor\":\"white\",\"minorgridcolor\":\"white\",\"startlinecolor\":\"#2a3f5f\"},\"baxis\":{\"endlinecolor\":\"#2a3f5f\",\"gridcolor\":\"white\",\"linecolor\":\"white\",\"minorgridcolor\":\"white\",\"startlinecolor\":\"#2a3f5f\"},\"type\":\"carpet\"}],\"table\":[{\"cells\":{\"fill\":{\"color\":\"#EBF0F8\"},\"line\":{\"color\":\"white\"}},\"header\":{\"fill\":{\"color\":\"#C8D4E3\"},\"line\":{\"color\":\"white\"}},\"type\":\"table\"}],\"barpolar\":[{\"marker\":{\"line\":{\"color\":\"#E5ECF6\",\"width\":0.5},\"pattern\":{\"fillmode\":\"overlay\",\"size\":10,\"solidity\":0.2}},\"type\":\"barpolar\"}],\"pie\":[{\"automargin\":true,\"type\":\"pie\"}]},\"layout\":{\"autotypenumbers\":\"strict\",\"colorway\":[\"#636efa\",\"#EF553B\",\"#00cc96\",\"#ab63fa\",\"#FFA15A\",\"#19d3f3\",\"#FF6692\",\"#B6E880\",\"#FF97FF\",\"#FECB52\"],\"font\":{\"color\":\"#2a3f5f\"},\"hovermode\":\"closest\",\"hoverlabel\":{\"align\":\"left\"},\"paper_bgcolor\":\"white\",\"plot_bgcolor\":\"#E5ECF6\",\"polar\":{\"bgcolor\":\"#E5ECF6\",\"angularaxis\":{\"gridcolor\":\"white\",\"linecolor\":\"white\",\"ticks\":\"\"},\"radialaxis\":{\"gridcolor\":\"white\",\"linecolor\":\"white\",\"ticks\":\"\"}},\"ternary\":{\"bgcolor\":\"#E5ECF6\",\"aaxis\":{\"gridcolor\":\"white\",\"linecolor\":\"white\",\"ticks\":\"\"},\"baxis\":{\"gridcolor\":\"white\",\"linecolor\":\"white\",\"ticks\":\"\"},\"caxis\":{\"gridcolor\":\"white\",\"linecolor\":\"white\",\"ticks\":\"\"}},\"coloraxis\":{\"colorbar\":{\"outlinewidth\":0,\"ticks\":\"\"}},\"colorscale\":{\"sequential\":[[0.0,\"#0d0887\"],[0.1111111111111111,\"#46039f\"],[0.2222222222222222,\"#7201a8\"],[0.3333333333333333,\"#9c179e\"],[0.4444444444444444,\"#bd3786\"],[0.5555555555555556,\"#d8576b\"],[0.6666666666666666,\"#ed7953\"],[0.7777777777777778,\"#fb9f3a\"],[0.8888888888888888,\"#fdca26\"],[1.0,\"#f0f921\"]],\"sequentialminus\":[[0.0,\"#0d0887\"],[0.1111111111111111,\"#46039f\"],[0.2222222222222222,\"#7201a8\"],[0.3333333333333333,\"#9c179e\"],[0.4444444444444444,\"#bd3786\"],[0.5555555555555556,\"#d8576b\"],[0.6666666666666666,\"#ed7953\"],[0.7777777777777778,\"#fb9f3a\"],[0.8888888888888888,\"#fdca26\"],[1.0,\"#f0f921\"]],\"diverging\":[[0,\"#8e0152\"],[0.1,\"#c51b7d\"],[0.2,\"#de77ae\"],[0.3,\"#f1b6da\"],[0.4,\"#fde0ef\"],[0.5,\"#f7f7f7\"],[0.6,\"#e6f5d0\"],[0.7,\"#b8e186\"],[0.8,\"#7fbc41\"],[0.9,\"#4d9221\"],[1,\"#276419\"]]},\"xaxis\":{\"gridcolor\":\"white\",\"linecolor\":\"white\",\"ticks\":\"\",\"title\":{\"standoff\":15},\"zerolinecolor\":\"white\",\"automargin\":true,\"zerolinewidth\":2},\"yaxis\":{\"gridcolor\":\"white\",\"linecolor\":\"white\",\"ticks\":\"\",\"title\":{\"standoff\":15},\"zerolinecolor\":\"white\",\"automargin\":true,\"zerolinewidth\":2},\"scene\":{\"xaxis\":{\"backgroundcolor\":\"#E5ECF6\",\"gridcolor\":\"white\",\"linecolor\":\"white\",\"showbackground\":true,\"ticks\":\"\",\"zerolinecolor\":\"white\",\"gridwidth\":2},\"yaxis\":{\"backgroundcolor\":\"#E5ECF6\",\"gridcolor\":\"white\",\"linecolor\":\"white\",\"showbackground\":true,\"ticks\":\"\",\"zerolinecolor\":\"white\",\"gridwidth\":2},\"zaxis\":{\"backgroundcolor\":\"#E5ECF6\",\"gridcolor\":\"white\",\"linecolor\":\"white\",\"showbackground\":true,\"ticks\":\"\",\"zerolinecolor\":\"white\",\"gridwidth\":2}},\"shapedefaults\":{\"line\":{\"color\":\"#2a3f5f\"}},\"annotationdefaults\":{\"arrowcolor\":\"#2a3f5f\",\"arrowhead\":0,\"arrowwidth\":1},\"geo\":{\"bgcolor\":\"white\",\"landcolor\":\"#E5ECF6\",\"subunitcolor\":\"white\",\"showland\":true,\"showlakes\":true,\"lakecolor\":\"white\"},\"title\":{\"x\":0.05},\"mapbox\":{\"style\":\"light\"}}},\"xaxis\":{\"anchor\":\"y\",\"domain\":[0.0,0.22444444444444445],\"title\":{\"text\":\"city\"},\"showgrid\":false,\"zeroline\":false},\"yaxis\":{\"anchor\":\"x\",\"domain\":[0.7777777777777778,1.0],\"title\":{\"text\":\"WoE\"},\"showgrid\":false,\"zeroline\":false},\"yaxis2\":{\"anchor\":\"x\",\"overlaying\":\"y\",\"side\":\"right\",\"title\":{\"text\":\"IV\"},\"showgrid\":false,\"zeroline\":false},\"xaxis2\":{\"anchor\":\"y3\",\"domain\":[0.35777777777777775,0.5822222222222222],\"title\":{\"text\":\"declared_gender\"},\"showgrid\":false,\"zeroline\":false},\"yaxis3\":{\"anchor\":\"x2\",\"domain\":[0.7777777777777778,1.0],\"title\":{\"text\":\"WoE\"},\"showgrid\":false,\"zeroline\":false},\"yaxis4\":{\"anchor\":\"x2\",\"overlaying\":\"y3\",\"side\":\"right\",\"title\":{\"text\":\"IV\"},\"showgrid\":false,\"zeroline\":false},\"xaxis3\":{\"anchor\":\"y5\",\"domain\":[0.7155555555555555,0.94],\"title\":{\"text\":\"gender\"},\"showgrid\":false,\"zeroline\":false},\"yaxis5\":{\"anchor\":\"x3\",\"domain\":[0.7777777777777778,1.0],\"title\":{\"text\":\"WoE\"},\"showgrid\":false,\"zeroline\":false},\"yaxis6\":{\"anchor\":\"x3\",\"overlaying\":\"y5\",\"side\":\"right\",\"title\":{\"text\":\"IV\"},\"showgrid\":false,\"zeroline\":false},\"xaxis4\":{\"anchor\":\"y7\",\"domain\":[0.0,0.22444444444444445],\"title\":{\"text\":\"payment_method_id\"},\"showgrid\":false,\"zeroline\":false},\"yaxis7\":{\"anchor\":\"x4\",\"domain\":[0.3888888888888889,0.6111111111111112],\"title\":{\"text\":\"WoE\"},\"showgrid\":false,\"zeroline\":false},\"yaxis8\":{\"anchor\":\"x4\",\"overlaying\":\"y7\",\"side\":\"right\",\"title\":{\"text\":\"IV\"},\"showgrid\":false,\"zeroline\":false},\"xaxis5\":{\"anchor\":\"y9\",\"domain\":[0.35777777777777775,0.5822222222222222],\"title\":{\"text\":\"registered_via\"},\"showgrid\":false,\"zeroline\":false},\"yaxis9\":{\"anchor\":\"x5\",\"domain\":[0.3888888888888889,0.6111111111111112],\"title\":{\"text\":\"WoE\"},\"showgrid\":false,\"zeroline\":false},\"yaxis10\":{\"anchor\":\"x5\",\"overlaying\":\"y9\",\"side\":\"right\",\"title\":{\"text\":\"IV\"},\"showgrid\":false,\"zeroline\":false},\"xaxis6\":{\"anchor\":\"y11\",\"domain\":[0.7155555555555555,0.94],\"title\":{\"text\":\"is_auto_renew\"},\"showgrid\":false,\"zeroline\":false},\"yaxis11\":{\"anchor\":\"x6\",\"domain\":[0.3888888888888889,0.6111111111111112],\"title\":{\"text\":\"WoE\"},\"showgrid\":false,\"zeroline\":false},\"yaxis12\":{\"anchor\":\"x6\",\"overlaying\":\"y11\",\"side\":\"right\",\"title\":{\"text\":\"IV\"},\"showgrid\":false,\"zeroline\":false},\"xaxis7\":{\"anchor\":\"y13\",\"domain\":[0.0,0.22444444444444445],\"title\":{\"text\":\"is_cancel\"},\"showgrid\":false,\"zeroline\":false},\"yaxis13\":{\"anchor\":\"x7\",\"domain\":[0.0,0.22222222222222224],\"title\":{\"text\":\"WoE\"},\"showgrid\":false,\"zeroline\":false},\"yaxis14\":{\"anchor\":\"x7\",\"overlaying\":\"y13\",\"side\":\"right\",\"title\":{\"text\":\"IV\"},\"showgrid\":false,\"zeroline\":false},\"xaxis8\":{\"anchor\":\"y15\",\"domain\":[0.35777777777777775,0.5822222222222222],\"title\":{\"text\":\"info_transaction\"},\"showgrid\":false,\"zeroline\":false},\"yaxis15\":{\"anchor\":\"x8\",\"domain\":[0.0,0.22222222222222224],\"title\":{\"text\":\"WoE\"},\"showgrid\":false,\"zeroline\":false},\"yaxis16\":{\"anchor\":\"x8\",\"overlaying\":\"y15\",\"side\":\"right\",\"title\":{\"text\":\"IV\"},\"showgrid\":false,\"zeroline\":false},\"xaxis9\":{\"anchor\":\"y17\",\"domain\":[0.7155555555555555,0.94],\"title\":{\"text\":\"info_user_logs\"},\"showgrid\":false,\"zeroline\":false},\"yaxis17\":{\"anchor\":\"x9\",\"domain\":[0.0,0.22222222222222224],\"title\":{\"text\":\"WoE\"},\"showgrid\":false,\"zeroline\":false},\"yaxis18\":{\"anchor\":\"x9\",\"overlaying\":\"y17\",\"side\":\"right\",\"title\":{\"text\":\"IV\"},\"showgrid\":false,\"zeroline\":false},\"annotations\":[{\"font\":{\"size\":16},\"showarrow\":false,\"text\":\"city com IV 0.13\",\"x\":0.11222222222222222,\"xanchor\":\"center\",\"xref\":\"paper\",\"y\":1.0,\"yanchor\":\"bottom\",\"yref\":\"paper\"},{\"font\":{\"size\":16},\"showarrow\":false,\"text\":\"declared_gender com IV 0.10\",\"x\":0.47,\"xanchor\":\"center\",\"xref\":\"paper\",\"y\":1.0,\"yanchor\":\"bottom\",\"yref\":\"paper\"},{\"font\":{\"size\":16},\"showarrow\":false,\"text\":\"gender com IV 0.10\",\"x\":0.8277777777777777,\"xanchor\":\"center\",\"xref\":\"paper\",\"y\":1.0,\"yanchor\":\"bottom\",\"yref\":\"paper\"},{\"font\":{\"size\":16},\"showarrow\":false,\"text\":\"payment_method_id com IV 1.08\",\"x\":0.11222222222222222,\"xanchor\":\"center\",\"xref\":\"paper\",\"y\":0.6111111111111112,\"yanchor\":\"bottom\",\"yref\":\"paper\"},{\"font\":{\"size\":16},\"showarrow\":false,\"text\":\"registered_via com IV 0.35\",\"x\":0.47,\"xanchor\":\"center\",\"xref\":\"paper\",\"y\":0.6111111111111112,\"yanchor\":\"bottom\",\"yref\":\"paper\"},{\"font\":{\"size\":16},\"showarrow\":false,\"text\":\"is_auto_renew com IV 0.35\",\"x\":0.8277777777777777,\"xanchor\":\"center\",\"xref\":\"paper\",\"y\":0.6111111111111112,\"yanchor\":\"bottom\",\"yref\":\"paper\"},{\"font\":{\"size\":16},\"showarrow\":false,\"text\":\"is_cancel com IV 0.38\",\"x\":0.11222222222222222,\"xanchor\":\"center\",\"xref\":\"paper\",\"y\":0.22222222222222224,\"yanchor\":\"bottom\",\"yref\":\"paper\"},{\"font\":{\"size\":16},\"showarrow\":false,\"text\":\"info_transaction com IV 0.08\",\"x\":0.47,\"xanchor\":\"center\",\"xref\":\"paper\",\"y\":0.22222222222222224,\"yanchor\":\"bottom\",\"yref\":\"paper\"},{\"font\":{\"size\":16},\"showarrow\":false,\"text\":\"info_user_logs com IV 0.01\",\"x\":0.8277777777777777,\"xanchor\":\"center\",\"xref\":\"paper\",\"y\":0.22222222222222224,\"yanchor\":\"bottom\",\"yref\":\"paper\"}],\"title\":{\"text\":\"Análise de WoE e IV por Variável\"},\"bargap\":0.3,\"width\":900,\"height\":1200},                        {\"responsive\": true}                    ).then(function(){\n",
              "                            \n",
              "var gd = document.getElementById('2132b2e1-dfdc-4b6a-a40e-0874200d37c6');\n",
              "var x = new MutationObserver(function (mutations, observer) {{\n",
              "        var display = window.getComputedStyle(gd).display;\n",
              "        if (!display || display === 'none') {{\n",
              "            console.log([gd, 'removed!']);\n",
              "            Plotly.purge(gd);\n",
              "            observer.disconnect();\n",
              "        }}\n",
              "}});\n",
              "\n",
              "// Listen for the removal of the full notebook cells\n",
              "var notebookContainer = gd.closest('#notebook-container');\n",
              "if (notebookContainer) {{\n",
              "    x.observe(notebookContainer, {childList: true});\n",
              "}}\n",
              "\n",
              "// Listen for the clearing of the current output cell\n",
              "var outputEl = gd.closest('.output');\n",
              "if (outputEl) {{\n",
              "    x.observe(outputEl, {childList: true});\n",
              "}}\n",
              "\n",
              "                        })                };                            </script>        </div>\n",
              "</body>\n",
              "</html>"
            ]
          },
          "metadata": {}
        }
      ],
      "source": [
        "# Cidade tem poder moderado, apenas irei reunir as categorias para reduzir cardinalidade mantendo apenas as cidades com alto poder discriminativo e novas cidades\n",
        "# Declared_gender e gender tem o mesmo poder preditivo quando se utilizam o nulo, pretendo manter em formato numérico ambas\n",
        "# payment method muita cardinalidade e um poder preditivo estranho, agrupar o máximo que puder\n",
        "# registered_via tem bom poder preditivo, portanto, irei trocar cada por ser valor WOe e Null para novos e o 10\n",
        "# is_auto_renew tem alto poder preditivo por suas próprias classes, irei preencher os nulos com zeros para ver o que temos\n",
        "\n",
        "# Os manterei apenas para estudos posteriores\n",
        "# Não ter informações de transação nos da mais poder preditivo, mas ainda baixo\n",
        "# Com user logs é ao contrário, porém irrelevante\n",
        "cols_cat = ['city', 'declared_gender', 'gender', 'payment_method_id', 'registered_via', 'is_auto_renew', 'is_cancel', 'info_transaction', 'info_user_logs']\n",
        "dfs_cat = []\n",
        "for col in cols_cat:\n",
        "  dfs_cat.append(analisa_Woe(df_analysis, col))\n",
        "\n",
        "gera_subplots_woe_iv(dfs_cat, 3)\n"
      ]
    },
    {
      "cell_type": "code",
      "execution_count": null,
      "metadata": {
        "colab": {
          "base_uri": "https://localhost:8080/"
        },
        "id": "evSrSPitN79i",
        "outputId": "99ad15a0-9ef8-44c9-c78a-d345ca98dad9"
      },
      "outputs": [
        {
          "name": "stdout",
          "output_type": "stream",
          "text": [
            "+-----------------+------+------+\n",
            "|payment_method_id| count|  dist|\n",
            "+-----------------+------+------+\n",
            "|                2|     1|   0.0|\n",
            "|                7|     2|   0.0|\n",
            "|                3|    13|   0.0|\n",
            "|                6|    18|   0.0|\n",
            "|                8|    32|   0.0|\n",
            "|               15|    60|   0.0|\n",
            "|               10|    69|   0.0|\n",
            "|               11|    96|1.0E-4|\n",
            "|               26|   128|1.0E-4|\n",
            "|               17|   150|1.0E-4|\n",
            "|               12|   162|1.0E-4|\n",
            "|               21|   256|2.0E-4|\n",
            "|               13|   475|3.0E-4|\n",
            "|               14|   753|5.0E-4|\n",
            "|               16|   844|6.0E-4|\n",
            "|               18|   870|6.0E-4|\n",
            "|               22|   909|6.0E-4|\n",
            "|               29|  1274|9.0E-4|\n",
            "|               19|  1605|0.0011|\n",
            "|               23|  2495|0.0018|\n",
            "|               20|  2605|0.0018|\n",
            "|               35|  3275|0.0023|\n",
            "|               27|  3504|0.0025|\n",
            "|               30|  3538|0.0025|\n",
            "|               28|  6018|0.0042|\n",
            "|               32|  8346|0.0059|\n",
            "|               31| 15398|0.0109|\n",
            "|               39| 22192|0.0157|\n",
            "|               33| 24944|0.0176|\n",
            "|               34| 43294|0.0305|\n",
            "|               36| 44465|0.0314|\n",
            "|               37| 52783|0.0372|\n",
            "|               38|101070|0.0713|\n",
            "|               40|113372|  0.08|\n",
            "|             NULL|424358|0.2994|\n",
            "|               41|537884|0.3795|\n",
            "+-----------------+------+------+\n",
            "\n"
          ]
        }
      ],
      "source": [
        "total_rows = df_analysis.count()\n",
        "\n",
        "(df_analysis.groupBy('payment_method_id').count()\n",
        ".withColumn('dist', F.round(F.col('count')/total_rows, 4))\n",
        ".orderBy(F.col('count')).show(1000)\n",
        ")"
      ]
    },
    {
      "cell_type": "code",
      "execution_count": 94,
      "metadata": {
        "id": "gVKkHjwAIAyL"
      },
      "outputs": [],
      "source": [
        "# Para cidade irei juntar as cidades com Woe de 10% em 10% para diminuir e substituir pelo valor do Woe do grupo\n",
        "# O método de pagamento tem um IV muito alto e não resolveu tratando, será descartado\n",
        "# a renovação automática e cancelado com tratamento nulo perdeu poder preditivo, então manteremos o nulo\n",
        "\n",
        "df_enconded = (df_analysis.withColumn('city_grouped', F.when(F.col('city').isin(11,15), -0.4226)\n",
        "                                                        .when(F.col('city').isin(22, 18, 6, 17), -0.3279)\n",
        "                                                        .when(F.col('city').isin(10, 14, 8, 7, 21, 13), -0.2271)\n",
        "                                                        .when(F.col('city').isin(5, 4, 9, 12), -0.1808)\n",
        "                                                        .when(F.col('city').isin(20, 3, 16), -0.0719)\n",
        "                                                        .when(F.col('city').isin(19), 0.3652)\n",
        "                                                        .when(F.col('city').isin(1), 0.4923)\n",
        "                                                        .otherwise(0.000)\n",
        "                                      )\n",
        "                          .withColumn('pay_method_grouped', F.when(F.col('payment_method_id').isin(41), 1.1517)\n",
        "                                                        # .when(F.col('payment_method_id').isin(21,39, 35, 17, 29, 38, 28, 36, 26, 30, 16), -1)\n",
        "                                                        # .when(F.col('payment_method_id').isin(23, 41, 31, 34, 19, 14, 32, 40, 27, 11, 18, 10, 37, 33), 1)\n",
        "                                                        # .when(F.col('payment_method_id').isin(21,39, 35, 17, 29, 38), -1)\n",
        "                                                        # .when(F.col('payment_method_id').isin(23, 41, 31, 34, 19, 14, 32), -2)\n",
        "                                                        # .when(F.col('payment_method_id').isin(28, 36), -3)\n",
        "                                                        # .when(F.col('payment_method_id').isin(26, 30, 16), -4)\n",
        "                                                        # .when(F.col('payment_method_id').isin(40, 27), -5)\n",
        "                                                        # .when(F.col('payment_method_id').isin(11, 18, 10, 37, 33), -5)\n",
        "                                                        .otherwise(F.lit(0.1141))\n",
        "                                      )\n",
        "                          .withColumn('registered_via_treated', F.when(F.col('registered_via').isin(4), -0.5939)\n",
        "                                                                  .when(F.col('registered_via').isin(3), -0.4942)\n",
        "                                                                  .when(F.col('registered_via').isin(9), -0.334)\n",
        "                                                                  .when(F.col('registered_via').isin(7), 0.8601)\n",
        "                                                                  .otherwise(0.0000)\n",
        "                                      )\n",
        "                          .withColumn('is_auto_renew_treated', F.when(F.col('is_auto_renew').isNull(), 0)\n",
        "                                                                  .otherwise(F.col('is_auto_renew'))\n",
        "                                      )\n",
        "                          .withColumn('is_cancel_treated', F.when(F.col('is_cancel').isNull(), 0)\n",
        "                                                                  .otherwise(F.col('is_cancel'))\n",
        "                                      )\n",
        "\n",
        "                          .withColumn('gender_treated', F.when(F.col('gender').isin('Male'), 1)\n",
        "                                                                  .when(F.col('gender').isin('Female'), 0)\n",
        "                                                                  .otherwise(F.lit(None))\n",
        "                                      )\n",
        "               )"
      ]
    },
    {
      "cell_type": "code",
      "execution_count": null,
      "metadata": {
        "colab": {
          "base_uri": "https://localhost:8080/",
          "height": 817
        },
        "id": "MZVLAGjZNGmF",
        "outputId": "b5612a31-61a0-4450-d47b-e62165fffd1e"
      },
      "outputs": [
        {
          "output_type": "display_data",
          "data": {
            "text/html": [
              "<html>\n",
              "<head><meta charset=\"utf-8\" /></head>\n",
              "<body>\n",
              "    <div>            <script src=\"https://cdnjs.cloudflare.com/ajax/libs/mathjax/2.7.5/MathJax.js?config=TeX-AMS-MML_SVG\"></script><script type=\"text/javascript\">if (window.MathJax && window.MathJax.Hub && window.MathJax.Hub.Config) {window.MathJax.Hub.Config({SVG: {font: \"STIX-Web\"}});}</script>                <script type=\"text/javascript\">window.PlotlyConfig = {MathJaxConfig: 'local'};</script>\n",
              "        <script charset=\"utf-8\" src=\"https://cdn.plot.ly/plotly-2.35.2.min.js\"></script>                <div id=\"f8eccafe-d888-4318-a6ae-d275a8f76d5c\" class=\"plotly-graph-div\" style=\"height:800px; width:900px;\"></div>            <script type=\"text/javascript\">                                    window.PLOTLYENV=window.PLOTLYENV || {};                                    if (document.getElementById(\"f8eccafe-d888-4318-a6ae-d275a8f76d5c\")) {                    Plotly.newPlot(                        \"f8eccafe-d888-4318-a6ae-d275a8f76d5c\",                        [{\"marker\":{\"color\":\"#2784F5\"},\"mode\":\"lines+markers+text\",\"showlegend\":true,\"text\":[-0.4219,-0.3115,-0.2343,-0.1878,-0.0589,0.474,0.496],\"textposition\":\"top center\",\"texttemplate\":\"%{text:.2f}\",\"x\":[-0.4226,-0.3279,-0.2271,-0.1808,-0.0719,0.3652,0.4923],\"y\":[-0.4219,-0.3115,-0.2343,-0.1878,-0.0589,0.474,0.496],\"type\":\"scatter\",\"xaxis\":\"x\",\"yaxis\":\"y\"},{\"marker\":{\"color\":\"#F54927\"},\"opacity\":0.6,\"showlegend\":true,\"text\":[0.0149,0.012,0.012,0.0077,0.0,0.0,0.0826],\"textposition\":\"auto\",\"x\":[-0.4226,-0.3279,-0.2271,-0.1808,-0.0719,0.3652,0.4923],\"y\":[0.0149,0.012,0.012,0.0077,0.0,0.0,0.0826],\"type\":\"bar\",\"xaxis\":\"x\",\"yaxis\":\"y2\"},{\"marker\":{\"color\":\"#2784F5\"},\"mode\":\"lines+markers+text\",\"showlegend\":false,\"text\":[-0.3999,1.1595],\"textposition\":\"top center\",\"texttemplate\":\"%{text:.2f}\",\"x\":[0.1141,1.1517],\"y\":[-0.3999,1.1595],\"type\":\"scatter\",\"xaxis\":\"x2\",\"yaxis\":\"y3\"},{\"marker\":{\"color\":\"#F54927\"},\"opacity\":0.6,\"showlegend\":false,\"text\":[0.1146,0.3321],\"textposition\":\"auto\",\"x\":[0.1141,1.1517],\"y\":[0.1146,0.3321],\"type\":\"bar\",\"xaxis\":\"x2\",\"yaxis\":\"y4\"},{\"marker\":{\"color\":\"#2784F5\"},\"mode\":\"lines+markers+text\",\"showlegend\":false,\"text\":[-0.5505,0.5839],\"textposition\":\"top center\",\"texttemplate\":\"%{text:.2f}\",\"x\":[0,1],\"y\":[-0.5505,0.5839],\"type\":\"scatter\",\"xaxis\":\"x3\",\"yaxis\":\"y5\"},{\"marker\":{\"color\":\"#F54927\"},\"opacity\":0.6,\"showlegend\":false,\"text\":[0.1519,0.1612],\"textposition\":\"auto\",\"x\":[0,1],\"y\":[0.1519,0.1612],\"type\":\"bar\",\"xaxis\":\"x3\",\"yaxis\":\"y6\"},{\"marker\":{\"color\":\"#2784F5\"},\"mode\":\"lines+markers+text\",\"showlegend\":false,\"text\":[-2.8567,0.0937],\"textposition\":\"top center\",\"texttemplate\":\"%{text:.2f}\",\"x\":[1,0],\"y\":[-2.8567,0.0937],\"type\":\"scatter\",\"xaxis\":\"x4\",\"yaxis\":\"y7\"},{\"marker\":{\"color\":\"#F54927\"},\"opacity\":0.6,\"showlegend\":false,\"text\":[0.2541,0.0083],\"textposition\":\"auto\",\"x\":[1,0],\"y\":[0.2541,0.0083],\"type\":\"bar\",\"xaxis\":\"x4\",\"yaxis\":\"y8\"}],                        {\"template\":{\"data\":{\"histogram2dcontour\":[{\"type\":\"histogram2dcontour\",\"colorbar\":{\"outlinewidth\":0,\"ticks\":\"\"},\"colorscale\":[[0.0,\"#0d0887\"],[0.1111111111111111,\"#46039f\"],[0.2222222222222222,\"#7201a8\"],[0.3333333333333333,\"#9c179e\"],[0.4444444444444444,\"#bd3786\"],[0.5555555555555556,\"#d8576b\"],[0.6666666666666666,\"#ed7953\"],[0.7777777777777778,\"#fb9f3a\"],[0.8888888888888888,\"#fdca26\"],[1.0,\"#f0f921\"]]}],\"choropleth\":[{\"type\":\"choropleth\",\"colorbar\":{\"outlinewidth\":0,\"ticks\":\"\"}}],\"histogram2d\":[{\"type\":\"histogram2d\",\"colorbar\":{\"outlinewidth\":0,\"ticks\":\"\"},\"colorscale\":[[0.0,\"#0d0887\"],[0.1111111111111111,\"#46039f\"],[0.2222222222222222,\"#7201a8\"],[0.3333333333333333,\"#9c179e\"],[0.4444444444444444,\"#bd3786\"],[0.5555555555555556,\"#d8576b\"],[0.6666666666666666,\"#ed7953\"],[0.7777777777777778,\"#fb9f3a\"],[0.8888888888888888,\"#fdca26\"],[1.0,\"#f0f921\"]]}],\"heatmap\":[{\"type\":\"heatmap\",\"colorbar\":{\"outlinewidth\":0,\"ticks\":\"\"},\"colorscale\":[[0.0,\"#0d0887\"],[0.1111111111111111,\"#46039f\"],[0.2222222222222222,\"#7201a8\"],[0.3333333333333333,\"#9c179e\"],[0.4444444444444444,\"#bd3786\"],[0.5555555555555556,\"#d8576b\"],[0.6666666666666666,\"#ed7953\"],[0.7777777777777778,\"#fb9f3a\"],[0.8888888888888888,\"#fdca26\"],[1.0,\"#f0f921\"]]}],\"heatmapgl\":[{\"type\":\"heatmapgl\",\"colorbar\":{\"outlinewidth\":0,\"ticks\":\"\"},\"colorscale\":[[0.0,\"#0d0887\"],[0.1111111111111111,\"#46039f\"],[0.2222222222222222,\"#7201a8\"],[0.3333333333333333,\"#9c179e\"],[0.4444444444444444,\"#bd3786\"],[0.5555555555555556,\"#d8576b\"],[0.6666666666666666,\"#ed7953\"],[0.7777777777777778,\"#fb9f3a\"],[0.8888888888888888,\"#fdca26\"],[1.0,\"#f0f921\"]]}],\"contourcarpet\":[{\"type\":\"contourcarpet\",\"colorbar\":{\"outlinewidth\":0,\"ticks\":\"\"}}],\"contour\":[{\"type\":\"contour\",\"colorbar\":{\"outlinewidth\":0,\"ticks\":\"\"},\"colorscale\":[[0.0,\"#0d0887\"],[0.1111111111111111,\"#46039f\"],[0.2222222222222222,\"#7201a8\"],[0.3333333333333333,\"#9c179e\"],[0.4444444444444444,\"#bd3786\"],[0.5555555555555556,\"#d8576b\"],[0.6666666666666666,\"#ed7953\"],[0.7777777777777778,\"#fb9f3a\"],[0.8888888888888888,\"#fdca26\"],[1.0,\"#f0f921\"]]}],\"surface\":[{\"type\":\"surface\",\"colorbar\":{\"outlinewidth\":0,\"ticks\":\"\"},\"colorscale\":[[0.0,\"#0d0887\"],[0.1111111111111111,\"#46039f\"],[0.2222222222222222,\"#7201a8\"],[0.3333333333333333,\"#9c179e\"],[0.4444444444444444,\"#bd3786\"],[0.5555555555555556,\"#d8576b\"],[0.6666666666666666,\"#ed7953\"],[0.7777777777777778,\"#fb9f3a\"],[0.8888888888888888,\"#fdca26\"],[1.0,\"#f0f921\"]]}],\"mesh3d\":[{\"type\":\"mesh3d\",\"colorbar\":{\"outlinewidth\":0,\"ticks\":\"\"}}],\"scatter\":[{\"fillpattern\":{\"fillmode\":\"overlay\",\"size\":10,\"solidity\":0.2},\"type\":\"scatter\"}],\"parcoords\":[{\"type\":\"parcoords\",\"line\":{\"colorbar\":{\"outlinewidth\":0,\"ticks\":\"\"}}}],\"scatterpolargl\":[{\"type\":\"scatterpolargl\",\"marker\":{\"colorbar\":{\"outlinewidth\":0,\"ticks\":\"\"}}}],\"bar\":[{\"error_x\":{\"color\":\"#2a3f5f\"},\"error_y\":{\"color\":\"#2a3f5f\"},\"marker\":{\"line\":{\"color\":\"#E5ECF6\",\"width\":0.5},\"pattern\":{\"fillmode\":\"overlay\",\"size\":10,\"solidity\":0.2}},\"type\":\"bar\"}],\"scattergeo\":[{\"type\":\"scattergeo\",\"marker\":{\"colorbar\":{\"outlinewidth\":0,\"ticks\":\"\"}}}],\"scatterpolar\":[{\"type\":\"scatterpolar\",\"marker\":{\"colorbar\":{\"outlinewidth\":0,\"ticks\":\"\"}}}],\"histogram\":[{\"marker\":{\"pattern\":{\"fillmode\":\"overlay\",\"size\":10,\"solidity\":0.2}},\"type\":\"histogram\"}],\"scattergl\":[{\"type\":\"scattergl\",\"marker\":{\"colorbar\":{\"outlinewidth\":0,\"ticks\":\"\"}}}],\"scatter3d\":[{\"type\":\"scatter3d\",\"line\":{\"colorbar\":{\"outlinewidth\":0,\"ticks\":\"\"}},\"marker\":{\"colorbar\":{\"outlinewidth\":0,\"ticks\":\"\"}}}],\"scattermapbox\":[{\"type\":\"scattermapbox\",\"marker\":{\"colorbar\":{\"outlinewidth\":0,\"ticks\":\"\"}}}],\"scatterternary\":[{\"type\":\"scatterternary\",\"marker\":{\"colorbar\":{\"outlinewidth\":0,\"ticks\":\"\"}}}],\"scattercarpet\":[{\"type\":\"scattercarpet\",\"marker\":{\"colorbar\":{\"outlinewidth\":0,\"ticks\":\"\"}}}],\"carpet\":[{\"aaxis\":{\"endlinecolor\":\"#2a3f5f\",\"gridcolor\":\"white\",\"linecolor\":\"white\",\"minorgridcolor\":\"white\",\"startlinecolor\":\"#2a3f5f\"},\"baxis\":{\"endlinecolor\":\"#2a3f5f\",\"gridcolor\":\"white\",\"linecolor\":\"white\",\"minorgridcolor\":\"white\",\"startlinecolor\":\"#2a3f5f\"},\"type\":\"carpet\"}],\"table\":[{\"cells\":{\"fill\":{\"color\":\"#EBF0F8\"},\"line\":{\"color\":\"white\"}},\"header\":{\"fill\":{\"color\":\"#C8D4E3\"},\"line\":{\"color\":\"white\"}},\"type\":\"table\"}],\"barpolar\":[{\"marker\":{\"line\":{\"color\":\"#E5ECF6\",\"width\":0.5},\"pattern\":{\"fillmode\":\"overlay\",\"size\":10,\"solidity\":0.2}},\"type\":\"barpolar\"}],\"pie\":[{\"automargin\":true,\"type\":\"pie\"}]},\"layout\":{\"autotypenumbers\":\"strict\",\"colorway\":[\"#636efa\",\"#EF553B\",\"#00cc96\",\"#ab63fa\",\"#FFA15A\",\"#19d3f3\",\"#FF6692\",\"#B6E880\",\"#FF97FF\",\"#FECB52\"],\"font\":{\"color\":\"#2a3f5f\"},\"hovermode\":\"closest\",\"hoverlabel\":{\"align\":\"left\"},\"paper_bgcolor\":\"white\",\"plot_bgcolor\":\"#E5ECF6\",\"polar\":{\"bgcolor\":\"#E5ECF6\",\"angularaxis\":{\"gridcolor\":\"white\",\"linecolor\":\"white\",\"ticks\":\"\"},\"radialaxis\":{\"gridcolor\":\"white\",\"linecolor\":\"white\",\"ticks\":\"\"}},\"ternary\":{\"bgcolor\":\"#E5ECF6\",\"aaxis\":{\"gridcolor\":\"white\",\"linecolor\":\"white\",\"ticks\":\"\"},\"baxis\":{\"gridcolor\":\"white\",\"linecolor\":\"white\",\"ticks\":\"\"},\"caxis\":{\"gridcolor\":\"white\",\"linecolor\":\"white\",\"ticks\":\"\"}},\"coloraxis\":{\"colorbar\":{\"outlinewidth\":0,\"ticks\":\"\"}},\"colorscale\":{\"sequential\":[[0.0,\"#0d0887\"],[0.1111111111111111,\"#46039f\"],[0.2222222222222222,\"#7201a8\"],[0.3333333333333333,\"#9c179e\"],[0.4444444444444444,\"#bd3786\"],[0.5555555555555556,\"#d8576b\"],[0.6666666666666666,\"#ed7953\"],[0.7777777777777778,\"#fb9f3a\"],[0.8888888888888888,\"#fdca26\"],[1.0,\"#f0f921\"]],\"sequentialminus\":[[0.0,\"#0d0887\"],[0.1111111111111111,\"#46039f\"],[0.2222222222222222,\"#7201a8\"],[0.3333333333333333,\"#9c179e\"],[0.4444444444444444,\"#bd3786\"],[0.5555555555555556,\"#d8576b\"],[0.6666666666666666,\"#ed7953\"],[0.7777777777777778,\"#fb9f3a\"],[0.8888888888888888,\"#fdca26\"],[1.0,\"#f0f921\"]],\"diverging\":[[0,\"#8e0152\"],[0.1,\"#c51b7d\"],[0.2,\"#de77ae\"],[0.3,\"#f1b6da\"],[0.4,\"#fde0ef\"],[0.5,\"#f7f7f7\"],[0.6,\"#e6f5d0\"],[0.7,\"#b8e186\"],[0.8,\"#7fbc41\"],[0.9,\"#4d9221\"],[1,\"#276419\"]]},\"xaxis\":{\"gridcolor\":\"white\",\"linecolor\":\"white\",\"ticks\":\"\",\"title\":{\"standoff\":15},\"zerolinecolor\":\"white\",\"automargin\":true,\"zerolinewidth\":2},\"yaxis\":{\"gridcolor\":\"white\",\"linecolor\":\"white\",\"ticks\":\"\",\"title\":{\"standoff\":15},\"zerolinecolor\":\"white\",\"automargin\":true,\"zerolinewidth\":2},\"scene\":{\"xaxis\":{\"backgroundcolor\":\"#E5ECF6\",\"gridcolor\":\"white\",\"linecolor\":\"white\",\"showbackground\":true,\"ticks\":\"\",\"zerolinecolor\":\"white\",\"gridwidth\":2},\"yaxis\":{\"backgroundcolor\":\"#E5ECF6\",\"gridcolor\":\"white\",\"linecolor\":\"white\",\"showbackground\":true,\"ticks\":\"\",\"zerolinecolor\":\"white\",\"gridwidth\":2},\"zaxis\":{\"backgroundcolor\":\"#E5ECF6\",\"gridcolor\":\"white\",\"linecolor\":\"white\",\"showbackground\":true,\"ticks\":\"\",\"zerolinecolor\":\"white\",\"gridwidth\":2}},\"shapedefaults\":{\"line\":{\"color\":\"#2a3f5f\"}},\"annotationdefaults\":{\"arrowcolor\":\"#2a3f5f\",\"arrowhead\":0,\"arrowwidth\":1},\"geo\":{\"bgcolor\":\"white\",\"landcolor\":\"#E5ECF6\",\"subunitcolor\":\"white\",\"showland\":true,\"showlakes\":true,\"lakecolor\":\"white\"},\"title\":{\"x\":0.05},\"mapbox\":{\"style\":\"light\"}}},\"xaxis\":{\"anchor\":\"y\",\"domain\":[0.0,0.37],\"title\":{\"text\":\"city_grouped\"},\"showgrid\":false,\"zeroline\":false},\"yaxis\":{\"anchor\":\"x\",\"domain\":[0.625,1.0],\"title\":{\"text\":\"WoE\"},\"showgrid\":false,\"zeroline\":false},\"yaxis2\":{\"anchor\":\"x\",\"overlaying\":\"y\",\"side\":\"right\",\"title\":{\"text\":\"IV\"},\"showgrid\":false,\"zeroline\":false},\"xaxis2\":{\"anchor\":\"y3\",\"domain\":[0.5700000000000001,0.9400000000000001],\"title\":{\"text\":\"pay_method_grouped\"},\"showgrid\":false,\"zeroline\":false},\"yaxis3\":{\"anchor\":\"x2\",\"domain\":[0.625,1.0],\"title\":{\"text\":\"WoE\"},\"showgrid\":false,\"zeroline\":false},\"yaxis4\":{\"anchor\":\"x2\",\"overlaying\":\"y3\",\"side\":\"right\",\"title\":{\"text\":\"IV\"},\"showgrid\":false,\"zeroline\":false},\"xaxis3\":{\"anchor\":\"y5\",\"domain\":[0.0,0.37],\"title\":{\"text\":\"is_auto_renew_treated\"},\"showgrid\":false,\"zeroline\":false},\"yaxis5\":{\"anchor\":\"x3\",\"domain\":[0.0,0.375],\"title\":{\"text\":\"WoE\"},\"showgrid\":false,\"zeroline\":false},\"yaxis6\":{\"anchor\":\"x3\",\"overlaying\":\"y5\",\"side\":\"right\",\"title\":{\"text\":\"IV\"},\"showgrid\":false,\"zeroline\":false},\"xaxis4\":{\"anchor\":\"y7\",\"domain\":[0.5700000000000001,0.9400000000000001],\"title\":{\"text\":\"is_cancel_treated\"},\"showgrid\":false,\"zeroline\":false},\"yaxis7\":{\"anchor\":\"x4\",\"domain\":[0.0,0.375],\"title\":{\"text\":\"WoE\"},\"showgrid\":false,\"zeroline\":false},\"yaxis8\":{\"anchor\":\"x4\",\"overlaying\":\"y7\",\"side\":\"right\",\"title\":{\"text\":\"IV\"},\"showgrid\":false,\"zeroline\":false},\"annotations\":[{\"font\":{\"size\":16},\"showarrow\":false,\"text\":\"city_grouped com IV 0.13\",\"x\":0.185,\"xanchor\":\"center\",\"xref\":\"paper\",\"y\":1.0,\"yanchor\":\"bottom\",\"yref\":\"paper\"},{\"font\":{\"size\":16},\"showarrow\":false,\"text\":\"pay_method_grouped com IV 0.45\",\"x\":0.7550000000000001,\"xanchor\":\"center\",\"xref\":\"paper\",\"y\":1.0,\"yanchor\":\"bottom\",\"yref\":\"paper\"},{\"font\":{\"size\":16},\"showarrow\":false,\"text\":\"is_auto_renew_treated com IV 0.31\",\"x\":0.185,\"xanchor\":\"center\",\"xref\":\"paper\",\"y\":0.375,\"yanchor\":\"bottom\",\"yref\":\"paper\"},{\"font\":{\"size\":16},\"showarrow\":false,\"text\":\"is_cancel_treated com IV 0.26\",\"x\":0.7550000000000001,\"xanchor\":\"center\",\"xref\":\"paper\",\"y\":0.375,\"yanchor\":\"bottom\",\"yref\":\"paper\"}],\"title\":{\"text\":\"Análise de WoE e IV por Variável\"},\"bargap\":0.3,\"width\":900,\"height\":800},                        {\"responsive\": true}                    ).then(function(){\n",
              "                            \n",
              "var gd = document.getElementById('f8eccafe-d888-4318-a6ae-d275a8f76d5c');\n",
              "var x = new MutationObserver(function (mutations, observer) {{\n",
              "        var display = window.getComputedStyle(gd).display;\n",
              "        if (!display || display === 'none') {{\n",
              "            console.log([gd, 'removed!']);\n",
              "            Plotly.purge(gd);\n",
              "            observer.disconnect();\n",
              "        }}\n",
              "}});\n",
              "\n",
              "// Listen for the removal of the full notebook cells\n",
              "var notebookContainer = gd.closest('#notebook-container');\n",
              "if (notebookContainer) {{\n",
              "    x.observe(notebookContainer, {childList: true});\n",
              "}}\n",
              "\n",
              "// Listen for the clearing of the current output cell\n",
              "var outputEl = gd.closest('.output');\n",
              "if (outputEl) {{\n",
              "    x.observe(outputEl, {childList: true});\n",
              "}}\n",
              "\n",
              "                        })                };                            </script>        </div>\n",
              "</body>\n",
              "</html>"
            ]
          },
          "metadata": {}
        }
      ],
      "source": [
        "cols_cat_treated = ['city_grouped', 'pay_method_grouped', 'is_auto_renew_treated', 'is_cancel_treated']\n",
        "dfs_cat_treated = []\n",
        "\n",
        "for col in cols_cat_treated:\n",
        "  dfs_cat_treated.append(analisa_Woe(df_enconded, col))\n",
        "gera_subplots_woe_iv(dfs_cat_treated, 2)"
      ]
    },
    {
      "cell_type": "markdown",
      "metadata": {
        "id": "l9slXC9e26W7"
      },
      "source": [
        "Vemos também que o plan_days realmente se refere ao tipo do plano pelo tempo de renovação. Apesar de ter alguns valores outliers.\n",
        "\n",
        "E mais abaixo, vemos que o valor atual pago e o valor do plano se conversam, porém existem valores zeros que podem dizer que o aplicativo de músiva tem plano gratuito . E o valor padrão da assinatura é de $149 por mês.\n",
        "\n",
        "Vemos que a maioria das classes não tem representatividade suficiente a 1% do todo, portanto, devem ser tiradas ou agrupadas todas em outros\n"
      ]
    },
    {
      "cell_type": "markdown",
      "metadata": {
        "id": "YGAgRTqDF_JJ"
      },
      "source": [
        "Transactions tem apenas dados a cada pagamento feito. Contudo, a consistência é um pouco suspeita, uma vez que, o primeiro cliente tem renovação automática, e pagou 0 reais um mês"
      ]
    },
    {
      "cell_type": "markdown",
      "metadata": {
        "id": "NoHCEPFfA6kS"
      },
      "source": [
        "# 4. 📈 Análise de Contínuas"
      ]
    },
    {
      "cell_type": "markdown",
      "metadata": {
        "id": "e1Xrou_-BDxm"
      },
      "source": [
        "Para as variáveis de tempo, inicialmente irei tratá-las para serem contínuas e poderem ser avaliadas"
      ]
    },
    {
      "cell_type": "markdown",
      "metadata": {
        "id": "hLNwp99e08iZ"
      },
      "source": [
        "### Imports\n",
        "gera_df_media - calcula em samples percentuais ou fixos da malha distribuições e frequências para cada variável sendo churn e não churn <br>\n",
        "gera_subplot_media - gera o gráfico da média selecionada"
      ]
    },
    {
      "cell_type": "code",
      "execution_count": 95,
      "metadata": {
        "id": "ZyinL4Yg07Q-"
      },
      "outputs": [],
      "source": [
        "# Separar o DataFrame em churn e no_churn\n",
        "def gera_df_media(df, cols_to_avg:list[str], num_splits:int=None, batch:int=None):\n",
        "\n",
        "\n",
        "  churn_pd = df[df['churn_m3'] == 1].copy()\n",
        "  nchurn_pd = df[df['churn_m3'] == 0].copy()\n",
        "\n",
        "  # Gerar splits aleatórios e calcular a média para cada split\n",
        "  churn_random_splits_avg = []\n",
        "  nchurn_random_splits_avg = []\n",
        "\n",
        "  if num_splits:\n",
        "    for i in range(num_splits):\n",
        "        # Amostragem com substituição para obter splits de tamanho similar (ou sem substituição dependendo da necessidade)\n",
        "        churn_sample = churn_pd.sample(frac=1/num_splits, replace=True, random_state=42 + i) # Usar seed diferente para cada amostra\n",
        "        nchurn_sample = nchurn_pd.sample(frac=1/num_splits, replace=True, random_state=42 + i)\n",
        "\n",
        "        # Calcular a média das colunas selecionadas para cada amostra\n",
        "        churn_avg_row = churn_sample[cols_to_avg].mean().to_dict()\n",
        "        nchurn_avg_row = nchurn_sample[cols_to_avg].mean().to_dict()\n",
        "\n",
        "        # Adicionar a coluna 'churn_m3' para identificar o grupo\n",
        "        churn_avg_row['churn_m3'] = 1\n",
        "        nchurn_avg_row['churn_m3'] = 0\n",
        "\n",
        "        churn_random_splits_avg.append(churn_avg_row)\n",
        "        nchurn_random_splits_avg.append(nchurn_avg_row)\n",
        "\n",
        "  elif batch:\n",
        "    for i in range(0, churn_pd.shape[0], batch):\n",
        "        # Amostragem com substituição para obter splits de tamanho similar (ou sem substituição dependendo da necessidade)\n",
        "        churn_sample = churn_pd.iloc[i: i + batch] # Usar seed diferente para cada amostra\n",
        "        nchurn_sample = nchurn_pd.iloc[i: i + batch]\n",
        "\n",
        "        # Calcular a média das colunas selecionadas para cada amostra\n",
        "        churn_avg_row = churn_sample[cols_to_avg].mean().to_dict()\n",
        "        nchurn_avg_row = nchurn_sample[cols_to_avg].mean().to_dict()\n",
        "\n",
        "        # Adicionar a coluna 'churn_m3' para identificar o grupo\n",
        "        churn_avg_row['churn_m3'] = 1\n",
        "        nchurn_avg_row['churn_m3'] = 0\n",
        "\n",
        "        churn_random_splits_avg.append(churn_avg_row)\n",
        "        nchurn_random_splits_avg.append(nchurn_avg_row)\n",
        "\n",
        "\n",
        "  # Unir os resultados em DataFrames Pandas\n",
        "  churn_all_pd = pd.DataFrame(churn_random_splits_avg)\n",
        "  nchurn_all_pd = pd.DataFrame(nchurn_random_splits_avg)\n",
        "\n",
        "  # Concatenar os DataFrames churn e no_churn\n",
        "  return pd.concat([churn_all_pd, nchurn_all_pd])\n",
        "\n",
        "\n",
        "def gera_subplot_media(df, cols_to_plot:list[str], num_cols:int=4):\n",
        "\n",
        "  # Calcular o número de linhas e colunas para os subplots\n",
        "  num_cols = num_cols  # Número desejado de colunas por linha\n",
        "  num_rows = math.ceil(len(cols_to_plot) / num_cols)\n",
        "\n",
        "  # Criar os subplots\n",
        "  fig = make_subplots(rows=num_rows, cols=num_cols, subplot_titles=cols_to_plot)\n",
        "\n",
        "  # Adicionar os histogramas para cada coluna\n",
        "  for i, col in enumerate(cols_to_plot):\n",
        "      row = math.floor(i / num_cols) + 1\n",
        "      col_idx = (i % num_cols) + 1\n",
        "\n",
        "      fig.add_trace(go.Histogram(x=df[df['churn_m3'] == 1][col],\n",
        "                                histfunc='avg',\n",
        "                                name='churn',\n",
        "                                marker_color='#F54927',\n",
        "                                showlegend=False if i > 0 else True) # Mostrar legenda apenas para o primeiro trace de cada grupo\n",
        "                    , row=row, col=col_idx)\n",
        "\n",
        "      fig.add_trace(go.Histogram(x=df[df['churn_m3'] == 0][col],\n",
        "                                histfunc='avg',\n",
        "                                name='no churn',\n",
        "                                marker_color='#2784F5',\n",
        "                                showlegend=False if i > 0 else True) # Mostrar legenda apenas para o primeiro trace de cada grupo\n",
        "                    , row=row, col=col_idx)\n",
        "\n",
        "\n",
        "  # Atualizar layout\n",
        "  fig.update_layout(barmode='overlay',\n",
        "                    title_text=\"Histogramas da Média por Coluna (Churn vs No Churn)\",\n",
        "                    height=900, # Ajustar altura com base no número de linhas\n",
        "                    width=1000\n",
        "                    )\n",
        "  fig.update_traces(opacity=0.6)\n",
        "\n",
        "  fig.show()"
      ]
    },
    {
      "cell_type": "code",
      "source": [
        "\n",
        "def correlation_plot(df, cols_to_plot):\n",
        "    corr = df[cols_to_plot].corr(method='spearman')\n",
        "    fig = px.imshow(\n",
        "        corr,\n",
        "        text_auto=\".2%\",  # Display correlation values in cells as percentages with 2 decimal places\n",
        "        aspect=\"auto\",   # Adjust aspect ratio automatically\n",
        "        color_continuous_scale=\"RdBu\", # Choose a suitable colorscale (e.g., Red-Blue for correlation)\n",
        "        title=\"Correlation Heatmap\",\n",
        "    )\n",
        "    fig.show()\n",
        "\n",
        "    return corr"
      ],
      "metadata": {
        "id": "qUwEP1eHmrGk"
      },
      "execution_count": null,
      "outputs": []
    },
    {
      "cell_type": "code",
      "execution_count": 96,
      "metadata": {
        "id": "NsRVTAJ8BSjC"
      },
      "outputs": [],
      "source": [
        "# defini o tempo de registro em meses porque não temos data_carga das bases para uma definição precisa em dias\n",
        "df_enc_dt = (df_enconded\n",
        "                        .withColumn('months_registered', ((F.substring(F.col('safra').cast('string'),1,4).cast('int') - F.year(F.col('registration_init_time')))*12\n",
        "                                                    + (F.substring(F.col('safra').cast('string'),5,2).cast('int') - F.month(F.col('registration_init_time')))).cast('bigint')\n",
        "                                                    )\n",
        "                        .withColumn('days_until_expire', F.date_diff(F.col('membership_expire_date'), F.col('registration_init_time')).cast('int'))\n",
        "                        .withColumn('months_until_expire', F.months_between(F.col('membership_expire_date'), F.col('registration_init_time')).cast('bigint'))\n",
        "                        .withColumn('payment_day', F.dayofmonth(F.col('transaction_date')))\n",
        "                        .withColumn('total_mins', F.round(F.col('total_secs')/60,2))\n",
        "                        .withColumn('discount', F.col('plan_list_price') - F.col('actual_amount_paid'))\n",
        "                        .withColumn('pct_discount', F.lit(1)-F.round(F.col('actual_amount_paid')/F.col('plan_list_price'),2))\n",
        "                        .withColumn('has_discount', F.when(F.round(F.col('actual_amount_paid')/F.col('plan_list_price'),2)<1.00, F.lit(1))\n",
        "                                                     .otherwise(F.lit(0))\n",
        "                        )\n",
        "                        .drop('pay_method_grouped',\n",
        "                              'payment_method_id', 'registered_via',\n",
        "                               'churn_origem', 'city', 'is_auto_renew_treated',\n",
        "                               'is_cancel_treated', 'gender')\n",
        "             )"
      ]
    },
    {
      "cell_type": "code",
      "execution_count": null,
      "metadata": {
        "id": "7zfYSHuOb4ge"
      },
      "outputs": [],
      "source": [
        "cols_num = ['bd', 'payment_plan_days', 'plan_list_price'\n",
        "        , 'actual_amount_paid', 'num_25', 'num_50'\n",
        "        , 'num_75', 'num_985', 'num_100'\n",
        "        , 'num_unq', 'total_secs', 'months_registered'\n",
        "        , 'days_until_expire', 'months_until_expire'\n",
        "        , 'payment_day', 'total_mins']"
      ]
    },
    {
      "cell_type": "code",
      "execution_count": null,
      "metadata": {
        "colab": {
          "base_uri": "https://localhost:8080/"
        },
        "id": "PZ1tfTjQIzJC",
        "outputId": "b70d9635-bff9-4bf4-aafe-9cd07f41b233"
      },
      "outputs": [
        {
          "name": "stdout",
          "output_type": "stream",
          "text": [
            "+-------+------------------+-----------------+------------------+------------------+------------------+------------------+------------------+------------------+-----------------+-----------------+--------------------+-----------------+------------------+-------------------+------------------+--------------------+------------------+--------------------+\n",
            "|summary|                bd|payment_plan_days|   plan_list_price|actual_amount_paid|            num_25|            num_50|            num_75|           num_985|          num_100|          num_unq|          total_secs|months_registered| days_until_expire|months_until_expire|       payment_day|          total_mins|          discount|        pct_discount|\n",
            "+-------+------------------+-----------------+------------------+------------------+------------------+------------------+------------------+------------------+-----------------+-----------------+--------------------+-----------------+------------------+-------------------+------------------+--------------------+------------------+--------------------+\n",
            "|  count|           1417258|           992900|            992900|            992900|           1202261|           1202261|           1202261|           1202261|          1202261|          1202261|             1202261|          1417258|            992900|             992900|            992900|             1202261|            992900|              986099|\n",
            "|   mean|   16.677001646842|33.38709839863027|148.49700775506093|146.97944103132238|116.83673678178033|28.813268499934708| 17.61878327584443|19.244743030007626| 541.175678159734|534.8032099519156|-8.05527160637088...|38.36507396677246|1146.7740950750326|  37.23020646590795|16.961124987410617|-1.34254526772850...|1.5175667237385437|0.010275560567448093|\n",
            "| stddev|21.163153914495165|28.57639457069575|121.66295696379792|122.57436466654038| 203.7959206825347| 42.02125738099458|23.646182623127867| 34.40967197967964|766.4843501492458|615.9001722207189| 9.55366362289099E13|34.95445229802178|1051.2658413241732|  34.54069503590794| 9.314576463860394|1.592277270481830...|14.946720901663541| 0.10083536066236685|\n",
            "|    min|             -3152|                1|               0.0|               0.0|               0.0|               0.0|               0.0|               0.0|              0.0|              1.0|-2.76701161103003...|                0|            -15708|               -516|                 1|-4.61168601838339...|              -1.0|-0.01000000000000...|\n",
            "|    25%|                 0|               30|              99.0|              99.0|              20.0|               5.0|               3.0|               3.0|            108.0|            131.0|  30876.499000000003|                9|               249|                  8|                 9|              514.61|               0.0|                 0.0|\n",
            "|    50%|                20|               30|             149.0|             149.0|              59.0|              16.0|              10.0|              10.0|            307.0|            346.0|           84621.183|               30|               905|                 29|                17|             1410.35|               0.0|                 0.0|\n",
            "|    75%|                29|               30|             149.0|             149.0|             143.0|              36.0|              23.0|              24.0|            672.0|            714.0|  180924.25299999997|               55|              1651|                 54|                25|              3015.4|               0.0|                 0.0|\n",
            "|    max|              2016|              450|            2000.0|            2000.0|          101827.0|            2470.0|            2470.0|            4752.0|          48755.0|          21426.0|    1.456743858986E9|              147|              4734|                155|                31|       2.427906432E7|             149.0|                 1.0|\n",
            "+-------+------------------+-----------------+------------------+------------------+------------------+------------------+------------------+------------------+-----------------+-----------------+--------------------+-----------------+------------------+-------------------+------------------+--------------------+------------------+--------------------+\n",
            "\n"
          ]
        }
      ],
      "source": [
        "df_enc_dt.select(*cols_num).summary().show()"
      ]
    },
    {
      "cell_type": "code",
      "execution_count": null,
      "metadata": {
        "id": "w8QtDl13sJlB"
      },
      "outputs": [],
      "source": [
        "quartils = {}\n",
        "for col in cols_num:\n",
        "  quartils[col] = df_enc_dt.approxQuantile(col, [0.25, 0.5, 0.75], 0.0)\n"
      ]
    },
    {
      "cell_type": "code",
      "execution_count": null,
      "metadata": {
        "colab": {
          "base_uri": "https://localhost:8080/",
          "height": 817
        },
        "id": "LdFdWK7Drkis",
        "outputId": "2ff245a4-a1fc-4733-8a6f-cdedda618396"
      },
      "outputs": [
        {
          "output_type": "display_data",
          "data": {
            "text/html": [
              "<html>\n",
              "<head><meta charset=\"utf-8\" /></head>\n",
              "<body>\n",
              "    <div>            <script src=\"https://cdnjs.cloudflare.com/ajax/libs/mathjax/2.7.5/MathJax.js?config=TeX-AMS-MML_SVG\"></script><script type=\"text/javascript\">if (window.MathJax && window.MathJax.Hub && window.MathJax.Hub.Config) {window.MathJax.Hub.Config({SVG: {font: \"STIX-Web\"}});}</script>                <script type=\"text/javascript\">window.PlotlyConfig = {MathJaxConfig: 'local'};</script>\n",
              "        <script charset=\"utf-8\" src=\"https://cdn.plot.ly/plotly-2.35.2.min.js\"></script>                <div id=\"22b62e35-32af-4292-8742-a350af299ab5\" class=\"plotly-graph-div\" style=\"height:800px; width:900px;\"></div>            <script type=\"text/javascript\">                                    window.PLOTLYENV=window.PLOTLYENV || {};                                    if (document.getElementById(\"22b62e35-32af-4292-8742-a350af299ab5\")) {                    Plotly.newPlot(                        \"22b62e35-32af-4292-8742-a350af299ab5\",                        [{\"marker\":{\"color\":\"#2784F5\"},\"mode\":\"lines+markers+text\",\"showlegend\":true,\"text\":[-0.2603,-0.0302,0.4096],\"textposition\":\"top center\",\"texttemplate\":\"%{text:.2f}\",\"x\":[\"Positivo\",\"Negativo\",\"Neutro\"],\"y\":[-0.2603,-0.0302,0.4096],\"type\":\"scatter\",\"xaxis\":\"x\",\"yaxis\":\"y\"},{\"marker\":{\"color\":\"#F54927\"},\"opacity\":0.6,\"showlegend\":true,\"text\":[0.0411,0.0,0.0646],\"textposition\":\"auto\",\"x\":[\"Positivo\",\"Negativo\",\"Neutro\"],\"y\":[0.0411,0.0,0.0646],\"type\":\"bar\",\"xaxis\":\"x\",\"yaxis\":\"y2\"},{\"marker\":{\"color\":\"#2784F5\"},\"mode\":\"lines+markers+text\",\"showlegend\":false,\"text\":[-0.0411,0.228,0.2566],\"textposition\":\"top center\",\"texttemplate\":\"%{text:.2f}\",\"x\":[\"Positivo\",\"Negativo\",\"nulo\"],\"y\":[-0.0411,0.228,0.2566],\"type\":\"scatter\",\"xaxis\":\"x2\",\"yaxis\":\"y3\"},{\"marker\":{\"color\":\"#F54927\"},\"opacity\":0.6,\"showlegend\":false,\"text\":[0.0015,0.0,0.0091],\"textposition\":\"auto\",\"x\":[\"Positivo\",\"Negativo\",\"nulo\"],\"y\":[0.0015,0.0,0.0091],\"type\":\"bar\",\"xaxis\":\"x2\",\"yaxis\":\"y4\"},{\"marker\":{\"color\":\"#2784F5\"},\"mode\":\"lines+markers+text\",\"showlegend\":false,\"text\":[-1.8628,-1.1691,-0.3781,0.2354],\"textposition\":\"top center\",\"texttemplate\":\"%{text:.2f}\",\"x\":[\"Negativo\",\"Neutro\",\"nulo\",\"Positivo\"],\"y\":[-1.8628,-1.1691,-0.3781,0.2354],\"type\":\"scatter\",\"xaxis\":\"x3\",\"yaxis\":\"y5\"},{\"marker\":{\"color\":\"#F54927\"},\"opacity\":0.6,\"showlegend\":false,\"text\":[0.0,0.0219,0.0491,0.035],\"textposition\":\"auto\",\"x\":[\"Negativo\",\"Neutro\",\"nulo\",\"Positivo\"],\"y\":[0.0,0.0219,0.0491,0.035],\"type\":\"bar\",\"xaxis\":\"x3\",\"yaxis\":\"y6\"}],                        {\"template\":{\"data\":{\"histogram2dcontour\":[{\"type\":\"histogram2dcontour\",\"colorbar\":{\"outlinewidth\":0,\"ticks\":\"\"},\"colorscale\":[[0.0,\"#0d0887\"],[0.1111111111111111,\"#46039f\"],[0.2222222222222222,\"#7201a8\"],[0.3333333333333333,\"#9c179e\"],[0.4444444444444444,\"#bd3786\"],[0.5555555555555556,\"#d8576b\"],[0.6666666666666666,\"#ed7953\"],[0.7777777777777778,\"#fb9f3a\"],[0.8888888888888888,\"#fdca26\"],[1.0,\"#f0f921\"]]}],\"choropleth\":[{\"type\":\"choropleth\",\"colorbar\":{\"outlinewidth\":0,\"ticks\":\"\"}}],\"histogram2d\":[{\"type\":\"histogram2d\",\"colorbar\":{\"outlinewidth\":0,\"ticks\":\"\"},\"colorscale\":[[0.0,\"#0d0887\"],[0.1111111111111111,\"#46039f\"],[0.2222222222222222,\"#7201a8\"],[0.3333333333333333,\"#9c179e\"],[0.4444444444444444,\"#bd3786\"],[0.5555555555555556,\"#d8576b\"],[0.6666666666666666,\"#ed7953\"],[0.7777777777777778,\"#fb9f3a\"],[0.8888888888888888,\"#fdca26\"],[1.0,\"#f0f921\"]]}],\"heatmap\":[{\"type\":\"heatmap\",\"colorbar\":{\"outlinewidth\":0,\"ticks\":\"\"},\"colorscale\":[[0.0,\"#0d0887\"],[0.1111111111111111,\"#46039f\"],[0.2222222222222222,\"#7201a8\"],[0.3333333333333333,\"#9c179e\"],[0.4444444444444444,\"#bd3786\"],[0.5555555555555556,\"#d8576b\"],[0.6666666666666666,\"#ed7953\"],[0.7777777777777778,\"#fb9f3a\"],[0.8888888888888888,\"#fdca26\"],[1.0,\"#f0f921\"]]}],\"heatmapgl\":[{\"type\":\"heatmapgl\",\"colorbar\":{\"outlinewidth\":0,\"ticks\":\"\"},\"colorscale\":[[0.0,\"#0d0887\"],[0.1111111111111111,\"#46039f\"],[0.2222222222222222,\"#7201a8\"],[0.3333333333333333,\"#9c179e\"],[0.4444444444444444,\"#bd3786\"],[0.5555555555555556,\"#d8576b\"],[0.6666666666666666,\"#ed7953\"],[0.7777777777777778,\"#fb9f3a\"],[0.8888888888888888,\"#fdca26\"],[1.0,\"#f0f921\"]]}],\"contourcarpet\":[{\"type\":\"contourcarpet\",\"colorbar\":{\"outlinewidth\":0,\"ticks\":\"\"}}],\"contour\":[{\"type\":\"contour\",\"colorbar\":{\"outlinewidth\":0,\"ticks\":\"\"},\"colorscale\":[[0.0,\"#0d0887\"],[0.1111111111111111,\"#46039f\"],[0.2222222222222222,\"#7201a8\"],[0.3333333333333333,\"#9c179e\"],[0.4444444444444444,\"#bd3786\"],[0.5555555555555556,\"#d8576b\"],[0.6666666666666666,\"#ed7953\"],[0.7777777777777778,\"#fb9f3a\"],[0.8888888888888888,\"#fdca26\"],[1.0,\"#f0f921\"]]}],\"surface\":[{\"type\":\"surface\",\"colorbar\":{\"outlinewidth\":0,\"ticks\":\"\"},\"colorscale\":[[0.0,\"#0d0887\"],[0.1111111111111111,\"#46039f\"],[0.2222222222222222,\"#7201a8\"],[0.3333333333333333,\"#9c179e\"],[0.4444444444444444,\"#bd3786\"],[0.5555555555555556,\"#d8576b\"],[0.6666666666666666,\"#ed7953\"],[0.7777777777777778,\"#fb9f3a\"],[0.8888888888888888,\"#fdca26\"],[1.0,\"#f0f921\"]]}],\"mesh3d\":[{\"type\":\"mesh3d\",\"colorbar\":{\"outlinewidth\":0,\"ticks\":\"\"}}],\"scatter\":[{\"fillpattern\":{\"fillmode\":\"overlay\",\"size\":10,\"solidity\":0.2},\"type\":\"scatter\"}],\"parcoords\":[{\"type\":\"parcoords\",\"line\":{\"colorbar\":{\"outlinewidth\":0,\"ticks\":\"\"}}}],\"scatterpolargl\":[{\"type\":\"scatterpolargl\",\"marker\":{\"colorbar\":{\"outlinewidth\":0,\"ticks\":\"\"}}}],\"bar\":[{\"error_x\":{\"color\":\"#2a3f5f\"},\"error_y\":{\"color\":\"#2a3f5f\"},\"marker\":{\"line\":{\"color\":\"#E5ECF6\",\"width\":0.5},\"pattern\":{\"fillmode\":\"overlay\",\"size\":10,\"solidity\":0.2}},\"type\":\"bar\"}],\"scattergeo\":[{\"type\":\"scattergeo\",\"marker\":{\"colorbar\":{\"outlinewidth\":0,\"ticks\":\"\"}}}],\"scatterpolar\":[{\"type\":\"scatterpolar\",\"marker\":{\"colorbar\":{\"outlinewidth\":0,\"ticks\":\"\"}}}],\"histogram\":[{\"marker\":{\"pattern\":{\"fillmode\":\"overlay\",\"size\":10,\"solidity\":0.2}},\"type\":\"histogram\"}],\"scattergl\":[{\"type\":\"scattergl\",\"marker\":{\"colorbar\":{\"outlinewidth\":0,\"ticks\":\"\"}}}],\"scatter3d\":[{\"type\":\"scatter3d\",\"line\":{\"colorbar\":{\"outlinewidth\":0,\"ticks\":\"\"}},\"marker\":{\"colorbar\":{\"outlinewidth\":0,\"ticks\":\"\"}}}],\"scattermapbox\":[{\"type\":\"scattermapbox\",\"marker\":{\"colorbar\":{\"outlinewidth\":0,\"ticks\":\"\"}}}],\"scatterternary\":[{\"type\":\"scatterternary\",\"marker\":{\"colorbar\":{\"outlinewidth\":0,\"ticks\":\"\"}}}],\"scattercarpet\":[{\"type\":\"scattercarpet\",\"marker\":{\"colorbar\":{\"outlinewidth\":0,\"ticks\":\"\"}}}],\"carpet\":[{\"aaxis\":{\"endlinecolor\":\"#2a3f5f\",\"gridcolor\":\"white\",\"linecolor\":\"white\",\"minorgridcolor\":\"white\",\"startlinecolor\":\"#2a3f5f\"},\"baxis\":{\"endlinecolor\":\"#2a3f5f\",\"gridcolor\":\"white\",\"linecolor\":\"white\",\"minorgridcolor\":\"white\",\"startlinecolor\":\"#2a3f5f\"},\"type\":\"carpet\"}],\"table\":[{\"cells\":{\"fill\":{\"color\":\"#EBF0F8\"},\"line\":{\"color\":\"white\"}},\"header\":{\"fill\":{\"color\":\"#C8D4E3\"},\"line\":{\"color\":\"white\"}},\"type\":\"table\"}],\"barpolar\":[{\"marker\":{\"line\":{\"color\":\"#E5ECF6\",\"width\":0.5},\"pattern\":{\"fillmode\":\"overlay\",\"size\":10,\"solidity\":0.2}},\"type\":\"barpolar\"}],\"pie\":[{\"automargin\":true,\"type\":\"pie\"}]},\"layout\":{\"autotypenumbers\":\"strict\",\"colorway\":[\"#636efa\",\"#EF553B\",\"#00cc96\",\"#ab63fa\",\"#FFA15A\",\"#19d3f3\",\"#FF6692\",\"#B6E880\",\"#FF97FF\",\"#FECB52\"],\"font\":{\"color\":\"#2a3f5f\"},\"hovermode\":\"closest\",\"hoverlabel\":{\"align\":\"left\"},\"paper_bgcolor\":\"white\",\"plot_bgcolor\":\"#E5ECF6\",\"polar\":{\"bgcolor\":\"#E5ECF6\",\"angularaxis\":{\"gridcolor\":\"white\",\"linecolor\":\"white\",\"ticks\":\"\"},\"radialaxis\":{\"gridcolor\":\"white\",\"linecolor\":\"white\",\"ticks\":\"\"}},\"ternary\":{\"bgcolor\":\"#E5ECF6\",\"aaxis\":{\"gridcolor\":\"white\",\"linecolor\":\"white\",\"ticks\":\"\"},\"baxis\":{\"gridcolor\":\"white\",\"linecolor\":\"white\",\"ticks\":\"\"},\"caxis\":{\"gridcolor\":\"white\",\"linecolor\":\"white\",\"ticks\":\"\"}},\"coloraxis\":{\"colorbar\":{\"outlinewidth\":0,\"ticks\":\"\"}},\"colorscale\":{\"sequential\":[[0.0,\"#0d0887\"],[0.1111111111111111,\"#46039f\"],[0.2222222222222222,\"#7201a8\"],[0.3333333333333333,\"#9c179e\"],[0.4444444444444444,\"#bd3786\"],[0.5555555555555556,\"#d8576b\"],[0.6666666666666666,\"#ed7953\"],[0.7777777777777778,\"#fb9f3a\"],[0.8888888888888888,\"#fdca26\"],[1.0,\"#f0f921\"]],\"sequentialminus\":[[0.0,\"#0d0887\"],[0.1111111111111111,\"#46039f\"],[0.2222222222222222,\"#7201a8\"],[0.3333333333333333,\"#9c179e\"],[0.4444444444444444,\"#bd3786\"],[0.5555555555555556,\"#d8576b\"],[0.6666666666666666,\"#ed7953\"],[0.7777777777777778,\"#fb9f3a\"],[0.8888888888888888,\"#fdca26\"],[1.0,\"#f0f921\"]],\"diverging\":[[0,\"#8e0152\"],[0.1,\"#c51b7d\"],[0.2,\"#de77ae\"],[0.3,\"#f1b6da\"],[0.4,\"#fde0ef\"],[0.5,\"#f7f7f7\"],[0.6,\"#e6f5d0\"],[0.7,\"#b8e186\"],[0.8,\"#7fbc41\"],[0.9,\"#4d9221\"],[1,\"#276419\"]]},\"xaxis\":{\"gridcolor\":\"white\",\"linecolor\":\"white\",\"ticks\":\"\",\"title\":{\"standoff\":15},\"zerolinecolor\":\"white\",\"automargin\":true,\"zerolinewidth\":2},\"yaxis\":{\"gridcolor\":\"white\",\"linecolor\":\"white\",\"ticks\":\"\",\"title\":{\"standoff\":15},\"zerolinecolor\":\"white\",\"automargin\":true,\"zerolinewidth\":2},\"scene\":{\"xaxis\":{\"backgroundcolor\":\"#E5ECF6\",\"gridcolor\":\"white\",\"linecolor\":\"white\",\"showbackground\":true,\"ticks\":\"\",\"zerolinecolor\":\"white\",\"gridwidth\":2},\"yaxis\":{\"backgroundcolor\":\"#E5ECF6\",\"gridcolor\":\"white\",\"linecolor\":\"white\",\"showbackground\":true,\"ticks\":\"\",\"zerolinecolor\":\"white\",\"gridwidth\":2},\"zaxis\":{\"backgroundcolor\":\"#E5ECF6\",\"gridcolor\":\"white\",\"linecolor\":\"white\",\"showbackground\":true,\"ticks\":\"\",\"zerolinecolor\":\"white\",\"gridwidth\":2}},\"shapedefaults\":{\"line\":{\"color\":\"#2a3f5f\"}},\"annotationdefaults\":{\"arrowcolor\":\"#2a3f5f\",\"arrowhead\":0,\"arrowwidth\":1},\"geo\":{\"bgcolor\":\"white\",\"landcolor\":\"#E5ECF6\",\"subunitcolor\":\"white\",\"showland\":true,\"showlakes\":true,\"lakecolor\":\"white\"},\"title\":{\"x\":0.05},\"mapbox\":{\"style\":\"light\"}}},\"xaxis\":{\"anchor\":\"y\",\"domain\":[0.0,0.37],\"title\":{\"text\":\"cat_bd\"},\"showgrid\":false,\"zeroline\":false},\"yaxis\":{\"anchor\":\"x\",\"domain\":[0.625,1.0],\"title\":{\"text\":\"WoE\"},\"showgrid\":false,\"zeroline\":false},\"yaxis2\":{\"anchor\":\"x\",\"overlaying\":\"y\",\"side\":\"right\",\"title\":{\"text\":\"IV\"},\"showgrid\":false,\"zeroline\":false},\"xaxis2\":{\"anchor\":\"y3\",\"domain\":[0.5700000000000001,0.9400000000000001],\"title\":{\"text\":\"cat_total_secs\"},\"showgrid\":false,\"zeroline\":false},\"yaxis3\":{\"anchor\":\"x2\",\"domain\":[0.625,1.0],\"title\":{\"text\":\"WoE\"},\"showgrid\":false,\"zeroline\":false},\"yaxis4\":{\"anchor\":\"x2\",\"overlaying\":\"y3\",\"side\":\"right\",\"title\":{\"text\":\"IV\"},\"showgrid\":false,\"zeroline\":false},\"xaxis3\":{\"anchor\":\"y5\",\"domain\":[0.0,0.37],\"title\":{\"text\":\"cat_months_until_expire\"},\"showgrid\":false,\"zeroline\":false},\"yaxis5\":{\"anchor\":\"x3\",\"domain\":[0.0,0.375],\"title\":{\"text\":\"WoE\"},\"showgrid\":false,\"zeroline\":false},\"yaxis6\":{\"anchor\":\"x3\",\"overlaying\":\"y5\",\"side\":\"right\",\"title\":{\"text\":\"IV\"},\"showgrid\":false,\"zeroline\":false},\"xaxis4\":{\"anchor\":\"y7\",\"domain\":[0.5700000000000001,0.9400000000000001]},\"yaxis7\":{\"anchor\":\"x4\",\"domain\":[0.0,0.375]},\"yaxis8\":{\"anchor\":\"x4\",\"overlaying\":\"y7\",\"side\":\"right\"},\"annotations\":[{\"font\":{\"size\":16},\"showarrow\":false,\"text\":\"cat_bd com IV 0.11\",\"x\":0.185,\"xanchor\":\"center\",\"xref\":\"paper\",\"y\":1.0,\"yanchor\":\"bottom\",\"yref\":\"paper\"},{\"font\":{\"size\":16},\"showarrow\":false,\"text\":\"cat_total_secs com IV 0.01\",\"x\":0.7550000000000001,\"xanchor\":\"center\",\"xref\":\"paper\",\"y\":1.0,\"yanchor\":\"bottom\",\"yref\":\"paper\"},{\"font\":{\"size\":16},\"showarrow\":false,\"text\":\"cat_months_until_expire com IV 0.11\",\"x\":0.185,\"xanchor\":\"center\",\"xref\":\"paper\",\"y\":0.375,\"yanchor\":\"bottom\",\"yref\":\"paper\"}],\"title\":{\"text\":\"Análise de WoE e IV por Variável\"},\"bargap\":0.3,\"width\":900,\"height\":800},                        {\"responsive\": true}                    ).then(function(){\n",
              "                            \n",
              "var gd = document.getElementById('22b62e35-32af-4292-8742-a350af299ab5');\n",
              "var x = new MutationObserver(function (mutations, observer) {{\n",
              "        var display = window.getComputedStyle(gd).display;\n",
              "        if (!display || display === 'none') {{\n",
              "            console.log([gd, 'removed!']);\n",
              "            Plotly.purge(gd);\n",
              "            observer.disconnect();\n",
              "        }}\n",
              "}});\n",
              "\n",
              "// Listen for the removal of the full notebook cells\n",
              "var notebookContainer = gd.closest('#notebook-container');\n",
              "if (notebookContainer) {{\n",
              "    x.observe(notebookContainer, {childList: true});\n",
              "}}\n",
              "\n",
              "// Listen for the clearing of the current output cell\n",
              "var outputEl = gd.closest('.output');\n",
              "if (outputEl) {{\n",
              "    x.observe(outputEl, {childList: true});\n",
              "}}\n",
              "\n",
              "                        })                };                            </script>        </div>\n",
              "</body>\n",
              "</html>"
            ]
          },
          "metadata": {}
        }
      ],
      "source": [
        "# Os valores negativos devem ser problemas sistêmicos, eles não trazem mais informação, portanto, bd será tratada como 0 e total_secs como nulo\n",
        "# Os months_until_expired também não traz informação, mas com transaction_date e plan_days podemos estimar a data correta\n",
        "cols_neg = ['bd', 'total_secs', 'months_until_expire']\n",
        "dfs_neg = []\n",
        "for col in cols_neg:\n",
        "  df_trata = df_enc_dt.withColumn('cat_' + col, agrupa_continuas(col))\n",
        "  dfs_neg.append(analisa_Woe(df_trata, 'cat_' + col))\n",
        "gera_subplots_woe_iv(dfs_neg, 3)"
      ]
    },
    {
      "cell_type": "code",
      "execution_count": null,
      "metadata": {
        "colab": {
          "base_uri": "https://localhost:8080/",
          "height": 3217
        },
        "id": "WFUMx7MisBtx",
        "outputId": "d9e36d5a-b548-4011-f980-5f34ca4680c7"
      },
      "outputs": [
        {
          "output_type": "display_data",
          "data": {
            "text/html": [
              "<html>\n",
              "<head><meta charset=\"utf-8\" /></head>\n",
              "<body>\n",
              "    <div>            <script src=\"https://cdnjs.cloudflare.com/ajax/libs/mathjax/2.7.5/MathJax.js?config=TeX-AMS-MML_SVG\"></script><script type=\"text/javascript\">if (window.MathJax && window.MathJax.Hub && window.MathJax.Hub.Config) {window.MathJax.Hub.Config({SVG: {font: \"STIX-Web\"}});}</script>                <script type=\"text/javascript\">window.PlotlyConfig = {MathJaxConfig: 'local'};</script>\n",
              "        <script charset=\"utf-8\" src=\"https://cdn.plot.ly/plotly-2.35.2.min.js\"></script>                <div id=\"8af4c8d5-4518-4012-a128-9cce37a22d65\" class=\"plotly-graph-div\" style=\"height:3200px; width:900px;\"></div>            <script type=\"text/javascript\">                                    window.PLOTLYENV=window.PLOTLYENV || {};                                    if (document.getElementById(\"8af4c8d5-4518-4012-a128-9cce37a22d65\")) {                    Plotly.newPlot(                        \"8af4c8d5-4518-4012-a128-9cce37a22d65\",                        [{\"marker\":{\"color\":\"#2784F5\"},\"mode\":\"lines+markers+text\",\"showlegend\":true,\"text\":[-0.4491,-0.31,-0.1551,0.4095],\"textposition\":\"top center\",\"texttemplate\":\"%{text:.2f}\",\"x\":[\"\\u003c= q2 20.00\",\"\\u003c= q3 29.00\",\"\\u003e q3\",\"\\u003c= q1 0.00\"],\"y\":[-0.4491,-0.31,-0.1551,0.4095],\"type\":\"scatter\",\"xaxis\":\"x\",\"yaxis\":\"y\"},{\"marker\":{\"color\":\"#F54927\"},\"opacity\":0.6,\"showlegend\":true,\"text\":[0.0138,0.0271,0.0061,0.0646],\"textposition\":\"auto\",\"x\":[\"\\u003c= q2 20.00\",\"\\u003c= q3 29.00\",\"\\u003e q3\",\"\\u003c= q1 0.00\"],\"y\":[0.0138,0.0271,0.0061,0.0646],\"type\":\"bar\",\"xaxis\":\"x\",\"yaxis\":\"y2\"},{\"marker\":{\"color\":\"#2784F5\"},\"mode\":\"lines+markers+text\",\"showlegend\":false,\"text\":[-0.3781,0.1806,2.2333],\"textposition\":\"top center\",\"texttemplate\":\"%{text:.2f}\",\"x\":[\"nulo\",\"\\u003c= q1 30.00\",\"\\u003e q3\"],\"y\":[-0.3781,0.1806,2.2333],\"type\":\"scatter\",\"xaxis\":\"x2\",\"yaxis\":\"y3\"},{\"marker\":{\"color\":\"#F54927\"},\"opacity\":0.6,\"showlegend\":false,\"text\":[0.0491,0.0209,0.0313],\"textposition\":\"auto\",\"x\":[\"nulo\",\"\\u003c= q1 30.00\",\"\\u003e q3\"],\"y\":[0.0491,0.0209,0.0313],\"type\":\"bar\",\"xaxis\":\"x2\",\"yaxis\":\"y4\"},{\"marker\":{\"color\":\"#2784F5\"},\"mode\":\"lines+markers+text\",\"showlegend\":false,\"text\":[-0.3781,-0.3398,-0.0088,1.3568],\"textposition\":\"top center\",\"texttemplate\":\"%{text:.2f}\",\"x\":[\"nulo\",\"\\u003e q3\",\"\\u003c= q2 149.00\",\"\\u003c= q1 99.00\"],\"y\":[-0.3781,-0.3398,-0.0088,1.3568],\"type\":\"scatter\",\"xaxis\":\"x3\",\"yaxis\":\"y5\"},{\"marker\":{\"color\":\"#F54927\"},\"opacity\":0.6,\"showlegend\":false,\"text\":[0.0491,0.0065,0.0,0.2079],\"textposition\":\"auto\",\"x\":[\"nulo\",\"\\u003e q3\",\"\\u003c= q2 149.00\",\"\\u003c= q1 99.00\"],\"y\":[0.0491,0.0065,0.0,0.2079],\"type\":\"bar\",\"xaxis\":\"x3\",\"yaxis\":\"y6\"},{\"marker\":{\"color\":\"#2784F5\"},\"mode\":\"lines+markers+text\",\"showlegend\":false,\"text\":[-0.3781,-0.3398,0.0779,0.798],\"textposition\":\"top center\",\"texttemplate\":\"%{text:.2f}\",\"x\":[\"nulo\",\"\\u003e q3\",\"\\u003c= q2 149.00\",\"\\u003c= q1 99.00\"],\"y\":[-0.3781,-0.3398,0.0779,0.798],\"type\":\"scatter\",\"xaxis\":\"x4\",\"yaxis\":\"y7\"},{\"marker\":{\"color\":\"#F54927\"},\"opacity\":0.6,\"showlegend\":false,\"text\":[0.0491,0.0065,0.0027,0.0914],\"textposition\":\"auto\",\"x\":[\"nulo\",\"\\u003e q3\",\"\\u003c= q2 149.00\",\"\\u003c= q1 99.00\"],\"y\":[0.0491,0.0065,0.0027,0.0914],\"type\":\"bar\",\"xaxis\":\"x4\",\"yaxis\":\"y8\"},{\"marker\":{\"color\":\"#2784F5\"},\"mode\":\"lines+markers+text\",\"showlegend\":false,\"text\":[-0.1501,-0.0519,-0.017,0.0666,0.2566],\"textposition\":\"top center\",\"texttemplate\":\"%{text:.2f}\",\"x\":[\"\\u003c= q1 20.00\",\"\\u003c= q2 59.00\",\"\\u003c= q3 143.00\",\"\\u003e q3\",\"nulo\"],\"y\":[-0.1501,-0.0519,-0.017,0.0666,0.2566],\"type\":\"scatter\",\"xaxis\":\"x5\",\"yaxis\":\"y9\"},{\"marker\":{\"color\":\"#F54927\"},\"opacity\":0.6,\"showlegend\":false,\"text\":[0.0052,0.0006,0.0001,0.0009,0.0091],\"textposition\":\"auto\",\"x\":[\"\\u003c= q1 20.00\",\"\\u003c= q2 59.00\",\"\\u003c= q3 143.00\",\"\\u003e q3\",\"nulo\"],\"y\":[0.0052,0.0006,0.0001,0.0009,0.0091],\"type\":\"bar\",\"xaxis\":\"x5\",\"yaxis\":\"y10\"},{\"marker\":{\"color\":\"#2784F5\"},\"mode\":\"lines+markers+text\",\"showlegend\":false,\"text\":[-0.1509,-0.045,0.0046,0.0393,0.2566],\"textposition\":\"top center\",\"texttemplate\":\"%{text:.2f}\",\"x\":[\"\\u003c= q1 5.00\",\"\\u003c= q2 16.00\",\"\\u003c= q3 36.00\",\"\\u003e q3\",\"nulo\"],\"y\":[-0.1509,-0.045,0.0046,0.0393,0.2566],\"type\":\"scatter\",\"xaxis\":\"x6\",\"yaxis\":\"y11\"},{\"marker\":{\"color\":\"#F54927\"},\"opacity\":0.6,\"showlegend\":false,\"text\":[0.0052,0.0005,0.0,0.0003,0.0091],\"textposition\":\"auto\",\"x\":[\"\\u003c= q1 5.00\",\"\\u003c= q2 16.00\",\"\\u003c= q3 36.00\",\"\\u003e q3\",\"nulo\"],\"y\":[0.0052,0.0005,0.0,0.0003,0.0091],\"type\":\"bar\",\"xaxis\":\"x6\",\"yaxis\":\"y12\"},{\"marker\":{\"color\":\"#2784F5\"},\"mode\":\"lines+markers+text\",\"showlegend\":false,\"text\":[-0.1614,-0.0591,-0.006,0.0762,0.2566],\"textposition\":\"top center\",\"texttemplate\":\"%{text:.2f}\",\"x\":[\"\\u003c= q1 3.00\",\"\\u003c= q2 10.00\",\"\\u003c= q3 23.00\",\"\\u003e q3\",\"nulo\"],\"y\":[-0.1614,-0.0591,-0.006,0.0762,0.2566],\"type\":\"scatter\",\"xaxis\":\"x7\",\"yaxis\":\"y13\"},{\"marker\":{\"color\":\"#F54927\"},\"opacity\":0.6,\"showlegend\":false,\"text\":[0.0059,0.0008,0.0,0.0012,0.0091],\"textposition\":\"auto\",\"x\":[\"\\u003c= q1 3.00\",\"\\u003c= q2 10.00\",\"\\u003c= q3 23.00\",\"\\u003e q3\",\"nulo\"],\"y\":[0.0059,0.0008,0.0,0.0012,0.0091],\"type\":\"bar\",\"xaxis\":\"x7\",\"yaxis\":\"y14\"},{\"marker\":{\"color\":\"#2784F5\"},\"mode\":\"lines+markers+text\",\"showlegend\":false,\"text\":[-0.1725,-0.0657,0.0024,0.0873,0.2566],\"textposition\":\"top center\",\"texttemplate\":\"%{text:.2f}\",\"x\":[\"\\u003c= q1 3.00\",\"\\u003c= q2 10.00\",\"\\u003c= q3 24.00\",\"\\u003e q3\",\"nulo\"],\"y\":[-0.1725,-0.0657,0.0024,0.0873,0.2566],\"type\":\"scatter\",\"xaxis\":\"x8\",\"yaxis\":\"y15\"},{\"marker\":{\"color\":\"#F54927\"},\"opacity\":0.6,\"showlegend\":false,\"text\":[0.0068,0.0009,0.0,0.0015,0.0091],\"textposition\":\"auto\",\"x\":[\"\\u003c= q1 3.00\",\"\\u003c= q2 10.00\",\"\\u003c= q3 24.00\",\"\\u003e q3\",\"nulo\"],\"y\":[0.0068,0.0009,0.0,0.0015,0.0091],\"type\":\"bar\",\"xaxis\":\"x8\",\"yaxis\":\"y16\"},{\"marker\":{\"color\":\"#2784F5\"},\"mode\":\"lines+markers+text\",\"showlegend\":false,\"text\":[-0.206,-0.053,0.0292,0.084,0.2566],\"textposition\":\"top center\",\"texttemplate\":\"%{text:.2f}\",\"x\":[\"\\u003c= q1 109.00\",\"\\u003c= q2 308.00\",\"\\u003c= q3 673.00\",\"\\u003e q3\",\"nulo\"],\"y\":[-0.206,-0.053,0.0292,0.084,0.2566],\"type\":\"scatter\",\"xaxis\":\"x9\",\"yaxis\":\"y17\"},{\"marker\":{\"color\":\"#F54927\"},\"opacity\":0.6,\"showlegend\":false,\"text\":[0.0097,0.0006,0.0002,0.0014,0.0091],\"textposition\":\"auto\",\"x\":[\"\\u003c= q1 109.00\",\"\\u003c= q2 308.00\",\"\\u003c= q3 673.00\",\"\\u003e q3\",\"nulo\"],\"y\":[0.0097,0.0006,0.0002,0.0014,0.0091],\"type\":\"bar\",\"xaxis\":\"x9\",\"yaxis\":\"y18\"},{\"marker\":{\"color\":\"#2784F5\"},\"mode\":\"lines+markers+text\",\"showlegend\":false,\"text\":[-0.2001,-0.0636,0.033,0.0838,0.2566],\"textposition\":\"top center\",\"texttemplate\":\"%{text:.2f}\",\"x\":[\"\\u003c= q1 131.00\",\"\\u003c= q2 346.00\",\"\\u003c= q3 714.00\",\"\\u003e q3\",\"nulo\"],\"y\":[-0.2001,-0.0636,0.033,0.0838,0.2566],\"type\":\"scatter\",\"xaxis\":\"x10\",\"yaxis\":\"y19\"},{\"marker\":{\"color\":\"#F54927\"},\"opacity\":0.6,\"showlegend\":false,\"text\":[0.0092,0.0009,0.0002,0.0014,0.0091],\"textposition\":\"auto\",\"x\":[\"\\u003c= q1 131.00\",\"\\u003c= q2 346.00\",\"\\u003c= q3 714.00\",\"\\u003e q3\",\"nulo\"],\"y\":[0.0092,0.0009,0.0002,0.0014,0.0091],\"type\":\"bar\",\"xaxis\":\"x10\",\"yaxis\":\"y20\"},{\"marker\":{\"color\":\"#2784F5\"},\"mode\":\"lines+markers+text\",\"showlegend\":false,\"text\":[-0.2063,-0.0529,0.0279,0.0845,0.2566],\"textposition\":\"top center\",\"texttemplate\":\"%{text:.2f}\",\"x\":[\"\\u003c= q1 31043.59\",\"\\u003c= q2 84699.15\",\"\\u003c= q3 181008.87\",\"\\u003e q3\",\"nulo\"],\"y\":[-0.2063,-0.0529,0.0279,0.0845,0.2566],\"type\":\"scatter\",\"xaxis\":\"x11\",\"yaxis\":\"y21\"},{\"marker\":{\"color\":\"#F54927\"},\"opacity\":0.6,\"showlegend\":false,\"text\":[0.0097,0.0006,0.0002,0.0015,0.0091],\"textposition\":\"auto\",\"x\":[\"\\u003c= q1 31043.59\",\"\\u003c= q2 84699.15\",\"\\u003c= q3 181008.87\",\"\\u003e q3\",\"nulo\"],\"y\":[0.0097,0.0006,0.0002,0.0015,0.0091],\"type\":\"bar\",\"xaxis\":\"x11\",\"yaxis\":\"y22\"},{\"marker\":{\"color\":\"#2784F5\"},\"mode\":\"lines+markers+text\",\"showlegend\":false,\"text\":[-0.1176,-0.059,0.0176,0.1621],\"textposition\":\"top center\",\"texttemplate\":\"%{text:.2f}\",\"x\":[\"\\u003c= q2 30.00\",\"\\u003e q3\",\"\\u003c= q3 55.00\",\"\\u003c= q1 9.00\"],\"y\":[-0.1176,-0.059,0.0176,0.1621],\"type\":\"scatter\",\"xaxis\":\"x12\",\"yaxis\":\"y23\"},{\"marker\":{\"color\":\"#F54927\"},\"opacity\":0.6,\"showlegend\":false,\"text\":[0.0035,0.0009,0.0001,0.0066],\"textposition\":\"auto\",\"x\":[\"\\u003c= q2 30.00\",\"\\u003e q3\",\"\\u003c= q3 55.00\",\"\\u003c= q1 9.00\"],\"y\":[0.0035,0.0009,0.0001,0.0066],\"type\":\"bar\",\"xaxis\":\"x12\",\"yaxis\":\"y24\"},{\"marker\":{\"color\":\"#2784F5\"},\"mode\":\"lines+markers+text\",\"showlegend\":false,\"text\":[-0.3781,0.1104,0.2006,0.2248,0.2689],\"textposition\":\"top center\",\"texttemplate\":\"%{text:.2f}\",\"x\":[\"nulo\",\"\\u003c= q2 905.00\",\"\\u003c= q1 250.00\",\"\\u003e q3\",\"\\u003c= q3 1647.00\"],\"y\":[-0.3781,0.1104,0.2006,0.2248,0.2689],\"type\":\"scatter\",\"xaxis\":\"x13\",\"yaxis\":\"y25\"},{\"marker\":{\"color\":\"#F54927\"},\"opacity\":0.6,\"showlegend\":false,\"text\":[0.0491,0.002,0.0065,0.0081,0.0114],\"textposition\":\"auto\",\"x\":[\"nulo\",\"\\u003c= q2 905.00\",\"\\u003c= q1 250.00\",\"\\u003e q3\",\"\\u003c= q3 1647.00\"],\"y\":[0.0491,0.002,0.0065,0.0081,0.0114],\"type\":\"bar\",\"xaxis\":\"x13\",\"yaxis\":\"y26\"},{\"marker\":{\"color\":\"#2784F5\"},\"mode\":\"lines+markers+text\",\"showlegend\":false,\"text\":[-0.3781,0.1121,0.2005,0.221,0.2688],\"textposition\":\"top center\",\"texttemplate\":\"%{text:.2f}\",\"x\":[\"nulo\",\"\\u003c= q2 29.00\",\"\\u003c= q1 8.00\",\"\\u003e q3\",\"\\u003c= q3 54.00\"],\"y\":[-0.3781,0.1121,0.2005,0.221,0.2688],\"type\":\"scatter\",\"xaxis\":\"x14\",\"yaxis\":\"y27\"},{\"marker\":{\"color\":\"#F54927\"},\"opacity\":0.6,\"showlegend\":false,\"text\":[0.0491,0.0021,0.0068,0.0077,0.0115],\"textposition\":\"auto\",\"x\":[\"nulo\",\"\\u003c= q2 29.00\",\"\\u003c= q1 8.00\",\"\\u003e q3\",\"\\u003c= q3 54.00\"],\"y\":[0.0491,0.0021,0.0068,0.0077,0.0115],\"type\":\"bar\",\"xaxis\":\"x14\",\"yaxis\":\"y28\"},{\"marker\":{\"color\":\"#2784F5\"},\"mode\":\"lines+markers+text\",\"showlegend\":false,\"text\":[-0.3781,-0.1836,0.3072,0.3193,0.4218],\"textposition\":\"top center\",\"texttemplate\":\"%{text:.2f}\",\"x\":[\"nulo\",\"\\u003e q3\",\"\\u003c= q1 9.00\",\"\\u003c= q3 25.00\",\"\\u003c= q2 17.00\"],\"y\":[-0.3781,-0.1836,0.3072,0.3193,0.4218],\"type\":\"scatter\",\"xaxis\":\"x15\",\"yaxis\":\"y29\"},{\"marker\":{\"color\":\"#F54927\"},\"opacity\":0.6,\"showlegend\":false,\"text\":[0.0491,0.006,0.016,0.0154,0.0263],\"textposition\":\"auto\",\"x\":[\"nulo\",\"\\u003e q3\",\"\\u003c= q1 9.00\",\"\\u003c= q3 25.00\",\"\\u003c= q2 17.00\"],\"y\":[0.0491,0.006,0.016,0.0154,0.0263],\"type\":\"bar\",\"xaxis\":\"x15\",\"yaxis\":\"y30\"},{\"marker\":{\"color\":\"#2784F5\"},\"mode\":\"lines+markers+text\",\"showlegend\":false,\"text\":[-0.2063,-0.0529,0.0279,0.0845,0.2566],\"textposition\":\"top center\",\"texttemplate\":\"%{text:.2f}\",\"x\":[\"\\u003c= q1 517.39\",\"\\u003c= q2 1411.65\",\"\\u003c= q3 3016.81\",\"\\u003e q3\",\"nulo\"],\"y\":[-0.2063,-0.0529,0.0279,0.0845,0.2566],\"type\":\"scatter\",\"xaxis\":\"x16\",\"yaxis\":\"y31\"},{\"marker\":{\"color\":\"#F54927\"},\"opacity\":0.6,\"showlegend\":false,\"text\":[0.0097,0.0006,0.0002,0.0015,0.0091],\"textposition\":\"auto\",\"x\":[\"\\u003c= q1 517.39\",\"\\u003c= q2 1411.65\",\"\\u003c= q3 3016.81\",\"\\u003e q3\",\"nulo\"],\"y\":[0.0097,0.0006,0.0002,0.0015,0.0091],\"type\":\"bar\",\"xaxis\":\"x16\",\"yaxis\":\"y32\"}],                        {\"template\":{\"data\":{\"histogram2dcontour\":[{\"type\":\"histogram2dcontour\",\"colorbar\":{\"outlinewidth\":0,\"ticks\":\"\"},\"colorscale\":[[0.0,\"#0d0887\"],[0.1111111111111111,\"#46039f\"],[0.2222222222222222,\"#7201a8\"],[0.3333333333333333,\"#9c179e\"],[0.4444444444444444,\"#bd3786\"],[0.5555555555555556,\"#d8576b\"],[0.6666666666666666,\"#ed7953\"],[0.7777777777777778,\"#fb9f3a\"],[0.8888888888888888,\"#fdca26\"],[1.0,\"#f0f921\"]]}],\"choropleth\":[{\"type\":\"choropleth\",\"colorbar\":{\"outlinewidth\":0,\"ticks\":\"\"}}],\"histogram2d\":[{\"type\":\"histogram2d\",\"colorbar\":{\"outlinewidth\":0,\"ticks\":\"\"},\"colorscale\":[[0.0,\"#0d0887\"],[0.1111111111111111,\"#46039f\"],[0.2222222222222222,\"#7201a8\"],[0.3333333333333333,\"#9c179e\"],[0.4444444444444444,\"#bd3786\"],[0.5555555555555556,\"#d8576b\"],[0.6666666666666666,\"#ed7953\"],[0.7777777777777778,\"#fb9f3a\"],[0.8888888888888888,\"#fdca26\"],[1.0,\"#f0f921\"]]}],\"heatmap\":[{\"type\":\"heatmap\",\"colorbar\":{\"outlinewidth\":0,\"ticks\":\"\"},\"colorscale\":[[0.0,\"#0d0887\"],[0.1111111111111111,\"#46039f\"],[0.2222222222222222,\"#7201a8\"],[0.3333333333333333,\"#9c179e\"],[0.4444444444444444,\"#bd3786\"],[0.5555555555555556,\"#d8576b\"],[0.6666666666666666,\"#ed7953\"],[0.7777777777777778,\"#fb9f3a\"],[0.8888888888888888,\"#fdca26\"],[1.0,\"#f0f921\"]]}],\"heatmapgl\":[{\"type\":\"heatmapgl\",\"colorbar\":{\"outlinewidth\":0,\"ticks\":\"\"},\"colorscale\":[[0.0,\"#0d0887\"],[0.1111111111111111,\"#46039f\"],[0.2222222222222222,\"#7201a8\"],[0.3333333333333333,\"#9c179e\"],[0.4444444444444444,\"#bd3786\"],[0.5555555555555556,\"#d8576b\"],[0.6666666666666666,\"#ed7953\"],[0.7777777777777778,\"#fb9f3a\"],[0.8888888888888888,\"#fdca26\"],[1.0,\"#f0f921\"]]}],\"contourcarpet\":[{\"type\":\"contourcarpet\",\"colorbar\":{\"outlinewidth\":0,\"ticks\":\"\"}}],\"contour\":[{\"type\":\"contour\",\"colorbar\":{\"outlinewidth\":0,\"ticks\":\"\"},\"colorscale\":[[0.0,\"#0d0887\"],[0.1111111111111111,\"#46039f\"],[0.2222222222222222,\"#7201a8\"],[0.3333333333333333,\"#9c179e\"],[0.4444444444444444,\"#bd3786\"],[0.5555555555555556,\"#d8576b\"],[0.6666666666666666,\"#ed7953\"],[0.7777777777777778,\"#fb9f3a\"],[0.8888888888888888,\"#fdca26\"],[1.0,\"#f0f921\"]]}],\"surface\":[{\"type\":\"surface\",\"colorbar\":{\"outlinewidth\":0,\"ticks\":\"\"},\"colorscale\":[[0.0,\"#0d0887\"],[0.1111111111111111,\"#46039f\"],[0.2222222222222222,\"#7201a8\"],[0.3333333333333333,\"#9c179e\"],[0.4444444444444444,\"#bd3786\"],[0.5555555555555556,\"#d8576b\"],[0.6666666666666666,\"#ed7953\"],[0.7777777777777778,\"#fb9f3a\"],[0.8888888888888888,\"#fdca26\"],[1.0,\"#f0f921\"]]}],\"mesh3d\":[{\"type\":\"mesh3d\",\"colorbar\":{\"outlinewidth\":0,\"ticks\":\"\"}}],\"scatter\":[{\"fillpattern\":{\"fillmode\":\"overlay\",\"size\":10,\"solidity\":0.2},\"type\":\"scatter\"}],\"parcoords\":[{\"type\":\"parcoords\",\"line\":{\"colorbar\":{\"outlinewidth\":0,\"ticks\":\"\"}}}],\"scatterpolargl\":[{\"type\":\"scatterpolargl\",\"marker\":{\"colorbar\":{\"outlinewidth\":0,\"ticks\":\"\"}}}],\"bar\":[{\"error_x\":{\"color\":\"#2a3f5f\"},\"error_y\":{\"color\":\"#2a3f5f\"},\"marker\":{\"line\":{\"color\":\"#E5ECF6\",\"width\":0.5},\"pattern\":{\"fillmode\":\"overlay\",\"size\":10,\"solidity\":0.2}},\"type\":\"bar\"}],\"scattergeo\":[{\"type\":\"scattergeo\",\"marker\":{\"colorbar\":{\"outlinewidth\":0,\"ticks\":\"\"}}}],\"scatterpolar\":[{\"type\":\"scatterpolar\",\"marker\":{\"colorbar\":{\"outlinewidth\":0,\"ticks\":\"\"}}}],\"histogram\":[{\"marker\":{\"pattern\":{\"fillmode\":\"overlay\",\"size\":10,\"solidity\":0.2}},\"type\":\"histogram\"}],\"scattergl\":[{\"type\":\"scattergl\",\"marker\":{\"colorbar\":{\"outlinewidth\":0,\"ticks\":\"\"}}}],\"scatter3d\":[{\"type\":\"scatter3d\",\"line\":{\"colorbar\":{\"outlinewidth\":0,\"ticks\":\"\"}},\"marker\":{\"colorbar\":{\"outlinewidth\":0,\"ticks\":\"\"}}}],\"scattermapbox\":[{\"type\":\"scattermapbox\",\"marker\":{\"colorbar\":{\"outlinewidth\":0,\"ticks\":\"\"}}}],\"scatterternary\":[{\"type\":\"scatterternary\",\"marker\":{\"colorbar\":{\"outlinewidth\":0,\"ticks\":\"\"}}}],\"scattercarpet\":[{\"type\":\"scattercarpet\",\"marker\":{\"colorbar\":{\"outlinewidth\":0,\"ticks\":\"\"}}}],\"carpet\":[{\"aaxis\":{\"endlinecolor\":\"#2a3f5f\",\"gridcolor\":\"white\",\"linecolor\":\"white\",\"minorgridcolor\":\"white\",\"startlinecolor\":\"#2a3f5f\"},\"baxis\":{\"endlinecolor\":\"#2a3f5f\",\"gridcolor\":\"white\",\"linecolor\":\"white\",\"minorgridcolor\":\"white\",\"startlinecolor\":\"#2a3f5f\"},\"type\":\"carpet\"}],\"table\":[{\"cells\":{\"fill\":{\"color\":\"#EBF0F8\"},\"line\":{\"color\":\"white\"}},\"header\":{\"fill\":{\"color\":\"#C8D4E3\"},\"line\":{\"color\":\"white\"}},\"type\":\"table\"}],\"barpolar\":[{\"marker\":{\"line\":{\"color\":\"#E5ECF6\",\"width\":0.5},\"pattern\":{\"fillmode\":\"overlay\",\"size\":10,\"solidity\":0.2}},\"type\":\"barpolar\"}],\"pie\":[{\"automargin\":true,\"type\":\"pie\"}]},\"layout\":{\"autotypenumbers\":\"strict\",\"colorway\":[\"#636efa\",\"#EF553B\",\"#00cc96\",\"#ab63fa\",\"#FFA15A\",\"#19d3f3\",\"#FF6692\",\"#B6E880\",\"#FF97FF\",\"#FECB52\"],\"font\":{\"color\":\"#2a3f5f\"},\"hovermode\":\"closest\",\"hoverlabel\":{\"align\":\"left\"},\"paper_bgcolor\":\"white\",\"plot_bgcolor\":\"#E5ECF6\",\"polar\":{\"bgcolor\":\"#E5ECF6\",\"angularaxis\":{\"gridcolor\":\"white\",\"linecolor\":\"white\",\"ticks\":\"\"},\"radialaxis\":{\"gridcolor\":\"white\",\"linecolor\":\"white\",\"ticks\":\"\"}},\"ternary\":{\"bgcolor\":\"#E5ECF6\",\"aaxis\":{\"gridcolor\":\"white\",\"linecolor\":\"white\",\"ticks\":\"\"},\"baxis\":{\"gridcolor\":\"white\",\"linecolor\":\"white\",\"ticks\":\"\"},\"caxis\":{\"gridcolor\":\"white\",\"linecolor\":\"white\",\"ticks\":\"\"}},\"coloraxis\":{\"colorbar\":{\"outlinewidth\":0,\"ticks\":\"\"}},\"colorscale\":{\"sequential\":[[0.0,\"#0d0887\"],[0.1111111111111111,\"#46039f\"],[0.2222222222222222,\"#7201a8\"],[0.3333333333333333,\"#9c179e\"],[0.4444444444444444,\"#bd3786\"],[0.5555555555555556,\"#d8576b\"],[0.6666666666666666,\"#ed7953\"],[0.7777777777777778,\"#fb9f3a\"],[0.8888888888888888,\"#fdca26\"],[1.0,\"#f0f921\"]],\"sequentialminus\":[[0.0,\"#0d0887\"],[0.1111111111111111,\"#46039f\"],[0.2222222222222222,\"#7201a8\"],[0.3333333333333333,\"#9c179e\"],[0.4444444444444444,\"#bd3786\"],[0.5555555555555556,\"#d8576b\"],[0.6666666666666666,\"#ed7953\"],[0.7777777777777778,\"#fb9f3a\"],[0.8888888888888888,\"#fdca26\"],[1.0,\"#f0f921\"]],\"diverging\":[[0,\"#8e0152\"],[0.1,\"#c51b7d\"],[0.2,\"#de77ae\"],[0.3,\"#f1b6da\"],[0.4,\"#fde0ef\"],[0.5,\"#f7f7f7\"],[0.6,\"#e6f5d0\"],[0.7,\"#b8e186\"],[0.8,\"#7fbc41\"],[0.9,\"#4d9221\"],[1,\"#276419\"]]},\"xaxis\":{\"gridcolor\":\"white\",\"linecolor\":\"white\",\"ticks\":\"\",\"title\":{\"standoff\":15},\"zerolinecolor\":\"white\",\"automargin\":true,\"zerolinewidth\":2},\"yaxis\":{\"gridcolor\":\"white\",\"linecolor\":\"white\",\"ticks\":\"\",\"title\":{\"standoff\":15},\"zerolinecolor\":\"white\",\"automargin\":true,\"zerolinewidth\":2},\"scene\":{\"xaxis\":{\"backgroundcolor\":\"#E5ECF6\",\"gridcolor\":\"white\",\"linecolor\":\"white\",\"showbackground\":true,\"ticks\":\"\",\"zerolinecolor\":\"white\",\"gridwidth\":2},\"yaxis\":{\"backgroundcolor\":\"#E5ECF6\",\"gridcolor\":\"white\",\"linecolor\":\"white\",\"showbackground\":true,\"ticks\":\"\",\"zerolinecolor\":\"white\",\"gridwidth\":2},\"zaxis\":{\"backgroundcolor\":\"#E5ECF6\",\"gridcolor\":\"white\",\"linecolor\":\"white\",\"showbackground\":true,\"ticks\":\"\",\"zerolinecolor\":\"white\",\"gridwidth\":2}},\"shapedefaults\":{\"line\":{\"color\":\"#2a3f5f\"}},\"annotationdefaults\":{\"arrowcolor\":\"#2a3f5f\",\"arrowhead\":0,\"arrowwidth\":1},\"geo\":{\"bgcolor\":\"white\",\"landcolor\":\"#E5ECF6\",\"subunitcolor\":\"white\",\"showland\":true,\"showlakes\":true,\"lakecolor\":\"white\"},\"title\":{\"x\":0.05},\"mapbox\":{\"style\":\"light\"}}},\"xaxis\":{\"anchor\":\"y\",\"domain\":[0.0,0.37],\"title\":{\"text\":\"quartil_bd\"},\"showgrid\":false,\"zeroline\":false},\"yaxis\":{\"anchor\":\"x\",\"domain\":[0.9296875,1.0],\"title\":{\"text\":\"WoE\"},\"showgrid\":false,\"zeroline\":false},\"yaxis2\":{\"anchor\":\"x\",\"overlaying\":\"y\",\"side\":\"right\",\"title\":{\"text\":\"IV\"},\"showgrid\":false,\"zeroline\":false},\"xaxis2\":{\"anchor\":\"y3\",\"domain\":[0.5700000000000001,0.9400000000000001],\"title\":{\"text\":\"quartil_payment_plan_days\"},\"showgrid\":false,\"zeroline\":false},\"yaxis3\":{\"anchor\":\"x2\",\"domain\":[0.9296875,1.0],\"title\":{\"text\":\"WoE\"},\"showgrid\":false,\"zeroline\":false},\"yaxis4\":{\"anchor\":\"x2\",\"overlaying\":\"y3\",\"side\":\"right\",\"title\":{\"text\":\"IV\"},\"showgrid\":false,\"zeroline\":false},\"xaxis3\":{\"anchor\":\"y5\",\"domain\":[0.0,0.37],\"title\":{\"text\":\"quartil_plan_list_price\"},\"showgrid\":false,\"zeroline\":false},\"yaxis5\":{\"anchor\":\"x3\",\"domain\":[0.796875,0.8671875],\"title\":{\"text\":\"WoE\"},\"showgrid\":false,\"zeroline\":false},\"yaxis6\":{\"anchor\":\"x3\",\"overlaying\":\"y5\",\"side\":\"right\",\"title\":{\"text\":\"IV\"},\"showgrid\":false,\"zeroline\":false},\"xaxis4\":{\"anchor\":\"y7\",\"domain\":[0.5700000000000001,0.9400000000000001],\"title\":{\"text\":\"quartil_actual_amount_paid\"},\"showgrid\":false,\"zeroline\":false},\"yaxis7\":{\"anchor\":\"x4\",\"domain\":[0.796875,0.8671875],\"title\":{\"text\":\"WoE\"},\"showgrid\":false,\"zeroline\":false},\"yaxis8\":{\"anchor\":\"x4\",\"overlaying\":\"y7\",\"side\":\"right\",\"title\":{\"text\":\"IV\"},\"showgrid\":false,\"zeroline\":false},\"xaxis5\":{\"anchor\":\"y9\",\"domain\":[0.0,0.37],\"title\":{\"text\":\"quartil_num_25\"},\"showgrid\":false,\"zeroline\":false},\"yaxis9\":{\"anchor\":\"x5\",\"domain\":[0.6640625,0.734375],\"title\":{\"text\":\"WoE\"},\"showgrid\":false,\"zeroline\":false},\"yaxis10\":{\"anchor\":\"x5\",\"overlaying\":\"y9\",\"side\":\"right\",\"title\":{\"text\":\"IV\"},\"showgrid\":false,\"zeroline\":false},\"xaxis6\":{\"anchor\":\"y11\",\"domain\":[0.5700000000000001,0.9400000000000001],\"title\":{\"text\":\"quartil_num_50\"},\"showgrid\":false,\"zeroline\":false},\"yaxis11\":{\"anchor\":\"x6\",\"domain\":[0.6640625,0.734375],\"title\":{\"text\":\"WoE\"},\"showgrid\":false,\"zeroline\":false},\"yaxis12\":{\"anchor\":\"x6\",\"overlaying\":\"y11\",\"side\":\"right\",\"title\":{\"text\":\"IV\"},\"showgrid\":false,\"zeroline\":false},\"xaxis7\":{\"anchor\":\"y13\",\"domain\":[0.0,0.37],\"title\":{\"text\":\"quartil_num_75\"},\"showgrid\":false,\"zeroline\":false},\"yaxis13\":{\"anchor\":\"x7\",\"domain\":[0.53125,0.6015625],\"title\":{\"text\":\"WoE\"},\"showgrid\":false,\"zeroline\":false},\"yaxis14\":{\"anchor\":\"x7\",\"overlaying\":\"y13\",\"side\":\"right\",\"title\":{\"text\":\"IV\"},\"showgrid\":false,\"zeroline\":false},\"xaxis8\":{\"anchor\":\"y15\",\"domain\":[0.5700000000000001,0.9400000000000001],\"title\":{\"text\":\"quartil_num_985\"},\"showgrid\":false,\"zeroline\":false},\"yaxis15\":{\"anchor\":\"x8\",\"domain\":[0.53125,0.6015625],\"title\":{\"text\":\"WoE\"},\"showgrid\":false,\"zeroline\":false},\"yaxis16\":{\"anchor\":\"x8\",\"overlaying\":\"y15\",\"side\":\"right\",\"title\":{\"text\":\"IV\"},\"showgrid\":false,\"zeroline\":false},\"xaxis9\":{\"anchor\":\"y17\",\"domain\":[0.0,0.37],\"title\":{\"text\":\"quartil_num_100\"},\"showgrid\":false,\"zeroline\":false},\"yaxis17\":{\"anchor\":\"x9\",\"domain\":[0.3984375,0.46875],\"title\":{\"text\":\"WoE\"},\"showgrid\":false,\"zeroline\":false},\"yaxis18\":{\"anchor\":\"x9\",\"overlaying\":\"y17\",\"side\":\"right\",\"title\":{\"text\":\"IV\"},\"showgrid\":false,\"zeroline\":false},\"xaxis10\":{\"anchor\":\"y19\",\"domain\":[0.5700000000000001,0.9400000000000001],\"title\":{\"text\":\"quartil_num_unq\"},\"showgrid\":false,\"zeroline\":false},\"yaxis19\":{\"anchor\":\"x10\",\"domain\":[0.3984375,0.46875],\"title\":{\"text\":\"WoE\"},\"showgrid\":false,\"zeroline\":false},\"yaxis20\":{\"anchor\":\"x10\",\"overlaying\":\"y19\",\"side\":\"right\",\"title\":{\"text\":\"IV\"},\"showgrid\":false,\"zeroline\":false},\"xaxis11\":{\"anchor\":\"y21\",\"domain\":[0.0,0.37],\"title\":{\"text\":\"quartil_total_secs\"},\"showgrid\":false,\"zeroline\":false},\"yaxis21\":{\"anchor\":\"x11\",\"domain\":[0.265625,0.3359375],\"title\":{\"text\":\"WoE\"},\"showgrid\":false,\"zeroline\":false},\"yaxis22\":{\"anchor\":\"x11\",\"overlaying\":\"y21\",\"side\":\"right\",\"title\":{\"text\":\"IV\"},\"showgrid\":false,\"zeroline\":false},\"xaxis12\":{\"anchor\":\"y23\",\"domain\":[0.5700000000000001,0.9400000000000001],\"title\":{\"text\":\"quartil_months_registered\"},\"showgrid\":false,\"zeroline\":false},\"yaxis23\":{\"anchor\":\"x12\",\"domain\":[0.265625,0.3359375],\"title\":{\"text\":\"WoE\"},\"showgrid\":false,\"zeroline\":false},\"yaxis24\":{\"anchor\":\"x12\",\"overlaying\":\"y23\",\"side\":\"right\",\"title\":{\"text\":\"IV\"},\"showgrid\":false,\"zeroline\":false},\"xaxis13\":{\"anchor\":\"y25\",\"domain\":[0.0,0.37],\"title\":{\"text\":\"quartil_days_until_expire\"},\"showgrid\":false,\"zeroline\":false},\"yaxis25\":{\"anchor\":\"x13\",\"domain\":[0.1328125,0.203125],\"title\":{\"text\":\"WoE\"},\"showgrid\":false,\"zeroline\":false},\"yaxis26\":{\"anchor\":\"x13\",\"overlaying\":\"y25\",\"side\":\"right\",\"title\":{\"text\":\"IV\"},\"showgrid\":false,\"zeroline\":false},\"xaxis14\":{\"anchor\":\"y27\",\"domain\":[0.5700000000000001,0.9400000000000001],\"title\":{\"text\":\"quartil_months_until_expire\"},\"showgrid\":false,\"zeroline\":false},\"yaxis27\":{\"anchor\":\"x14\",\"domain\":[0.1328125,0.203125],\"title\":{\"text\":\"WoE\"},\"showgrid\":false,\"zeroline\":false},\"yaxis28\":{\"anchor\":\"x14\",\"overlaying\":\"y27\",\"side\":\"right\",\"title\":{\"text\":\"IV\"},\"showgrid\":false,\"zeroline\":false},\"xaxis15\":{\"anchor\":\"y29\",\"domain\":[0.0,0.37],\"title\":{\"text\":\"quartil_payment_day\"},\"showgrid\":false,\"zeroline\":false},\"yaxis29\":{\"anchor\":\"x15\",\"domain\":[0.0,0.0703125],\"title\":{\"text\":\"WoE\"},\"showgrid\":false,\"zeroline\":false},\"yaxis30\":{\"anchor\":\"x15\",\"overlaying\":\"y29\",\"side\":\"right\",\"title\":{\"text\":\"IV\"},\"showgrid\":false,\"zeroline\":false},\"xaxis16\":{\"anchor\":\"y31\",\"domain\":[0.5700000000000001,0.9400000000000001],\"title\":{\"text\":\"quartil_total_mins\"},\"showgrid\":false,\"zeroline\":false},\"yaxis31\":{\"anchor\":\"x16\",\"domain\":[0.0,0.0703125],\"title\":{\"text\":\"WoE\"},\"showgrid\":false,\"zeroline\":false},\"yaxis32\":{\"anchor\":\"x16\",\"overlaying\":\"y31\",\"side\":\"right\",\"title\":{\"text\":\"IV\"},\"showgrid\":false,\"zeroline\":false},\"annotations\":[{\"font\":{\"size\":16},\"showarrow\":false,\"text\":\"quartil_bd com IV 0.11\",\"x\":0.185,\"xanchor\":\"center\",\"xref\":\"paper\",\"y\":1.0,\"yanchor\":\"bottom\",\"yref\":\"paper\"},{\"font\":{\"size\":16},\"showarrow\":false,\"text\":\"quartil_payment_plan_days com IV 0.10\",\"x\":0.7550000000000001,\"xanchor\":\"center\",\"xref\":\"paper\",\"y\":1.0,\"yanchor\":\"bottom\",\"yref\":\"paper\"},{\"font\":{\"size\":16},\"showarrow\":false,\"text\":\"quartil_plan_list_price com IV 0.26\",\"x\":0.185,\"xanchor\":\"center\",\"xref\":\"paper\",\"y\":0.8671875,\"yanchor\":\"bottom\",\"yref\":\"paper\"},{\"font\":{\"size\":16},\"showarrow\":false,\"text\":\"quartil_actual_amount_paid com IV 0.15\",\"x\":0.7550000000000001,\"xanchor\":\"center\",\"xref\":\"paper\",\"y\":0.8671875,\"yanchor\":\"bottom\",\"yref\":\"paper\"},{\"font\":{\"size\":16},\"showarrow\":false,\"text\":\"quartil_num_25 com IV 0.02\",\"x\":0.185,\"xanchor\":\"center\",\"xref\":\"paper\",\"y\":0.734375,\"yanchor\":\"bottom\",\"yref\":\"paper\"},{\"font\":{\"size\":16},\"showarrow\":false,\"text\":\"quartil_num_50 com IV 0.02\",\"x\":0.7550000000000001,\"xanchor\":\"center\",\"xref\":\"paper\",\"y\":0.734375,\"yanchor\":\"bottom\",\"yref\":\"paper\"},{\"font\":{\"size\":16},\"showarrow\":false,\"text\":\"quartil_num_75 com IV 0.02\",\"x\":0.185,\"xanchor\":\"center\",\"xref\":\"paper\",\"y\":0.6015625,\"yanchor\":\"bottom\",\"yref\":\"paper\"},{\"font\":{\"size\":16},\"showarrow\":false,\"text\":\"quartil_num_985 com IV 0.02\",\"x\":0.7550000000000001,\"xanchor\":\"center\",\"xref\":\"paper\",\"y\":0.6015625,\"yanchor\":\"bottom\",\"yref\":\"paper\"},{\"font\":{\"size\":16},\"showarrow\":false,\"text\":\"quartil_num_100 com IV 0.02\",\"x\":0.185,\"xanchor\":\"center\",\"xref\":\"paper\",\"y\":0.46875,\"yanchor\":\"bottom\",\"yref\":\"paper\"},{\"font\":{\"size\":16},\"showarrow\":false,\"text\":\"quartil_num_unq com IV 0.02\",\"x\":0.7550000000000001,\"xanchor\":\"center\",\"xref\":\"paper\",\"y\":0.46875,\"yanchor\":\"bottom\",\"yref\":\"paper\"},{\"font\":{\"size\":16},\"showarrow\":false,\"text\":\"quartil_total_secs com IV 0.02\",\"x\":0.185,\"xanchor\":\"center\",\"xref\":\"paper\",\"y\":0.3359375,\"yanchor\":\"bottom\",\"yref\":\"paper\"},{\"font\":{\"size\":16},\"showarrow\":false,\"text\":\"quartil_months_registered com IV 0.01\",\"x\":0.7550000000000001,\"xanchor\":\"center\",\"xref\":\"paper\",\"y\":0.3359375,\"yanchor\":\"bottom\",\"yref\":\"paper\"},{\"font\":{\"size\":16},\"showarrow\":false,\"text\":\"quartil_days_until_expire com IV 0.08\",\"x\":0.185,\"xanchor\":\"center\",\"xref\":\"paper\",\"y\":0.203125,\"yanchor\":\"bottom\",\"yref\":\"paper\"},{\"font\":{\"size\":16},\"showarrow\":false,\"text\":\"quartil_months_until_expire com IV 0.08\",\"x\":0.7550000000000001,\"xanchor\":\"center\",\"xref\":\"paper\",\"y\":0.203125,\"yanchor\":\"bottom\",\"yref\":\"paper\"},{\"font\":{\"size\":16},\"showarrow\":false,\"text\":\"quartil_payment_day com IV 0.11\",\"x\":0.185,\"xanchor\":\"center\",\"xref\":\"paper\",\"y\":0.0703125,\"yanchor\":\"bottom\",\"yref\":\"paper\"},{\"font\":{\"size\":16},\"showarrow\":false,\"text\":\"quartil_total_mins com IV 0.02\",\"x\":0.7550000000000001,\"xanchor\":\"center\",\"xref\":\"paper\",\"y\":0.0703125,\"yanchor\":\"bottom\",\"yref\":\"paper\"}],\"title\":{\"text\":\"Análise de WoE e IV por Variável\"},\"bargap\":0.3,\"width\":900,\"height\":3200},                        {\"responsive\": true}                    ).then(function(){\n",
              "                            \n",
              "var gd = document.getElementById('8af4c8d5-4518-4012-a128-9cce37a22d65');\n",
              "var x = new MutationObserver(function (mutations, observer) {{\n",
              "        var display = window.getComputedStyle(gd).display;\n",
              "        if (!display || display === 'none') {{\n",
              "            console.log([gd, 'removed!']);\n",
              "            Plotly.purge(gd);\n",
              "            observer.disconnect();\n",
              "        }}\n",
              "}});\n",
              "\n",
              "// Listen for the removal of the full notebook cells\n",
              "var notebookContainer = gd.closest('#notebook-container');\n",
              "if (notebookContainer) {{\n",
              "    x.observe(notebookContainer, {childList: true});\n",
              "}}\n",
              "\n",
              "// Listen for the clearing of the current output cell\n",
              "var outputEl = gd.closest('.output');\n",
              "if (outputEl) {{\n",
              "    x.observe(outputEl, {childList: true});\n",
              "}}\n",
              "\n",
              "                        })                };                            </script>        </div>\n",
              "</body>\n",
              "</html>"
            ]
          },
          "metadata": {}
        }
      ],
      "source": [
        "# Os valores negativos devem ser prblemas sistêmicos, eles não trazem mais informação, portanto, bd será tratada como 0 e total_secs como nulo\n",
        "dfs_num = []\n",
        "\n",
        "for col in cols_num:\n",
        "  df_trata = df_enc_dt.withColumn('quartil_' + col, agrupa_quartils(col, quartils[col]))\n",
        "  dfs_num.append(analisa_Woe(df_trata, 'quartil_' + col))\n",
        "gera_subplots_woe_iv(dfs_num, 3)\n"
      ]
    },
    {
      "cell_type": "code",
      "execution_count": null,
      "metadata": {
        "id": "_ROIEuQYGcov"
      },
      "outputs": [],
      "source": [
        "# Tratamento nas colunas da transactions\n",
        "df_treat_num = (df_enc_dt.withColumn(\"mbship_exp_dt_treated\",F.when(F.col('membership_expire_date')<F.col('transaction_date'),\n",
        "                                                                      F.date_add(F.col('transaction_date'), F.col('payment_plan_days')))\n",
        "                                                                .otherwise(F.col('membership_expire_date'))\n",
        "                                    )\n",
        "\n",
        "                          .withColumn(\"bd_treated\", F.when(F.col(\"bd\")< 12, F.lit(0))\n",
        "                                              .when(F.col(\"bd\")> 54, F.lit(54))\n",
        "                                              .otherwise(F.col('bd'))\n",
        "\n",
        "                                      )\n",
        "\n",
        "                          .withColumn(\"age_declared\", F.when(F.col(\"bd_treated\") == 0, F.lit(0))\n",
        "                                                        .when(F.col('bd_treated') ==54, F.lit(54))\n",
        "                                                        .otherwise(F.lit(1))\n",
        "                                    )\n",
        "\n",
        "                          .withColumn(\"total_secs_treated\", F.when(F.col('total_secs')<0, F.lit(0))\n",
        "                                  # .when(F.col('total_secs').isNull(), F.median(F.col('total_secs')))\n",
        "                                  .when(F.col('total_secs')>929138.921, F.lit(929138.921))\n",
        "                                  .otherwise(F.col('total_secs'))\n",
        "                                  )\n",
        "\n",
        "                        .withColumn('total_mins_treated', F.round(F.col('total_secs_treated')/60,2))\n",
        "\n",
        "                        .withColumn('days_until_expire_treated', F.date_diff(F.col('mbship_exp_dt_treated'),\n",
        "                                                                             F.col('registration_init_time')).cast('int')\n",
        "                                    )\n",
        "\n",
        "                        .withColumn('months_until_expire_treated', F.months_between(F.col('mbship_exp_dt_treated'),\n",
        "                                                                                    F.col('registration_init_time')).cast('bigint')\n",
        "                                   )\n",
        "\n",
        "                          .drop('membership_expire_date', 'transaction_date',\n",
        "                                'registration_init_time', 'bd', 'total_secs'\n",
        "                                'days_until_expire', 'months_until_expire',\n",
        "                                'total_mins', 'mbship_exp_dt_treated')\n",
        "              )"
      ]
    },
    {
      "cell_type": "code",
      "execution_count": null,
      "metadata": {
        "colab": {
          "base_uri": "https://localhost:8080/"
        },
        "id": "xJAfffBux4-R",
        "outputId": "cc0014b4-d837-4cc5-de22-f140ea41e409"
      },
      "outputs": [
        {
          "name": "stdout",
          "output_type": "stream",
          "text": [
            "bd 13251 54.0\n",
            "payment_plan_days 4101 195.0\n",
            "plan_list_price 3941 894.0\n",
            "actual_amount_paid 3941 894.0\n",
            "num_25 12004 828.0\n",
            "num_50 11944 190.0\n",
            "num_75 12014 106.0\n",
            "num_985 11826 127.0\n",
            "num_100 12011 3752.0\n",
            "num_unq 12009 2979.0\n",
            "total_secs 12022 929118.9079999999\n",
            "months_registered 12541 137.0\n",
            "days_until_expire 9916 4175.0\n",
            "months_until_expire 8998 137.0\n",
            "payment_day 0 31.0\n",
            "total_mins 12022 15485.32\n"
          ]
        }
      ],
      "source": [
        "# Os valores acima do 99° percentil para bd e total_secs são factíveis, e portanto, serão utilizados como valores teto\n",
        "\n",
        "quartils_99 = {}\n",
        "\n",
        "for col in cols_num:\n",
        "  quartils_99[col] = df_enc_dt.approxQuantile(col, [0.99], 0.0)\n",
        "  print(col, df_enc_dt.select(col).filter(F.col(col) > quartils_99[col][0]).count(), quartils_99[col][0])"
      ]
    },
    {
      "cell_type": "code",
      "execution_count": null,
      "metadata": {
        "id": "yKFak8anKcm4"
      },
      "outputs": [],
      "source": [
        "df_num_pd = df_treat_num.toPandas()"
      ]
    },
    {
      "cell_type": "code",
      "execution_count": null,
      "metadata": {
        "id": "TXWGkYsEiYvB"
      },
      "outputs": [],
      "source": [
        "# Definir as colunas para calcular a média\n",
        "cols_to_avg = ['bd_treated', 'payment_plan_days', 'plan_list_price',\n",
        "              'actual_amount_paid', 'num_25', 'num_50',\n",
        "              'num_75', 'num_985', 'num_100',\n",
        "              'num_unq', 'total_secs_treated',\n",
        "               'months_registered',\n",
        "              'days_until_expire_treated', 'months_until_expire_treated',\n",
        "              'payment_day', 'total_mins_treated'] # Use as colunas tratadas ou originais conforme necessário"
      ]
    },
    {
      "cell_type": "code",
      "execution_count": null,
      "metadata": {
        "colab": {
          "base_uri": "https://localhost:8080/",
          "height": 917
        },
        "id": "eQG-hhcW40gR",
        "outputId": "4d325b5e-d3f0-4bb3-8028-3746d822f155"
      },
      "outputs": [
        {
          "output_type": "display_data",
          "data": {
            "text/html": [
              "<html>\n",
              "<head><meta charset=\"utf-8\" /></head>\n",
              "<body>\n",
              "    <div>            <script src=\"https://cdnjs.cloudflare.com/ajax/libs/mathjax/2.7.5/MathJax.js?config=TeX-AMS-MML_SVG\"></script><script type=\"text/javascript\">if (window.MathJax && window.MathJax.Hub && window.MathJax.Hub.Config) {window.MathJax.Hub.Config({SVG: {font: \"STIX-Web\"}});}</script>                <script type=\"text/javascript\">window.PlotlyConfig = {MathJaxConfig: 'local'};</script>\n",
              "        <script charset=\"utf-8\" src=\"https://cdn.plot.ly/plotly-2.35.2.min.js\"></script>                <div id=\"4e42f4a6-4cde-4c0d-8540-0597492e14ab\" class=\"plotly-graph-div\" style=\"height:900px; width:1000px;\"></div>            <script type=\"text/javascript\">                                    window.PLOTLYENV=window.PLOTLYENV || {};                                    if (document.getElementById(\"4e42f4a6-4cde-4c0d-8540-0597492e14ab\")) {                    Plotly.newPlot(                        \"4e42f4a6-4cde-4c0d-8540-0597492e14ab\",                        [{\"histfunc\":\"avg\",\"marker\":{\"color\":\"#F54927\"},\"name\":\"churn\",\"showlegend\":true,\"x\":[20.22975814931651,19.336487907465827,20.475814931650895,19.99421661409043,20.12460567823344,19.974237644584647,20.355415352260778,20.471608832807572,19.82702418506835,19.47055730809674,20.24079915878023,20.480546792849633,19.756046267087278,20.225552050473187,20.304942166140904,19.70347003154574,19.929547844374344,19.874342797055732,20.711882229232387,20.508412197686646,19.796004206098843,20.44689800210305,20.515247108307044,20.067297581493165,20.06203995793901,20.499474237644584,19.55678233438486,19.87013669821241,20.434279705573083,20.133543638275498,20.013144058885384,20.233964248159833,20.595688748685593,19.928496319663513,20.35383806519453,19.784963196635122,20.179810725552052,20.27339642481598,20.150368033648792,19.913249211356465,20.035751840168246,20.31019978969506,20.230283911671926,20.379600420609883,19.373817034700316,19.934805467928495,19.851209253417455,19.57097791798107,20.165615141955836,19.85068349106204,19.8937960042061,19.78864353312303,20.232386961093585,19.878548895899055,20.153522607781284,20.400630914826497,19.93796004206099,19.999474237644584,20.01472134595163,19.523133543638277,20.166140904311252,20.320715036803364,20.370662460567825,19.88906414300736,20.412197686645637,20.037854889589905,19.4726603575184,19.777602523659304,20.32124079915878,20.120399579390117,19.777602523659304,19.912723449001053,20.563617245005258,20.0273396424816,20.52365930599369,20.181388012618296,19.853312302839118,20.067297581493165,20.217665615141957,20.36277602523659,19.781282860147215,20.110410094637224,19.638275499474236,20.858044164037857,20.133017875920086,19.802839116719245,18.93322818086225,19.5788643533123,19.957939011566772,20.080967402733965,20.42744479495268,20.236067297581492,19.58832807570978,20.699789695057834,20.008412197686646,19.746056782334385,19.970031545741325,19.96004206098843,20.076761303890642,20.029968454258675],\"type\":\"histogram\",\"xaxis\":\"x\",\"yaxis\":\"y\",\"opacity\":0.6},{\"histfunc\":\"avg\",\"marker\":{\"color\":\"#2784F5\"},\"name\":\"no churn\",\"showlegend\":true,\"x\":[15.940897959183673,15.914530612244898,15.935510204081632,15.977551020408164,16.095510204081634,15.891673469387754,15.833632653061224,15.787918367346938,16.048163265306123,16.014448979591837,16.017632653061224,15.995918367346938,15.887183673469387,16.033142857142856,15.906367346938776,15.978204081632652,15.927428571428571,15.96808163265306,15.485795918367346,15.916244897959183,15.90995918367347,15.948816326530613,16.02604081632653,16.07118367346939,15.951183673469387,15.91542857142857,16.01795918367347,15.990857142857143,15.782938775510203,15.980734693877551,15.783591836734693,15.914775510204082,16.092,15.68195918367347,15.743020408163265,15.969551020408163,15.90538775510204,16.065061224489796,15.837061224489796,15.769142857142857,16.252408163265304,15.882204081632652,15.816979591836734,15.991510204081633,15.890938775510204,15.900489795918368,16.06677551020408,16.019510204081634,15.719265306122448,15.95795918367347,15.726285714285714,15.985714285714286,15.765632653061225,15.853632653061224,16.04212244897959,15.996571428571428,15.812734693877552,16.152326530612246,15.984326530612245,16.069469387755102,15.90865306122449,16.040244897959184,16.017795918367348,16.149551020408165,15.92595918367347,16.074204081632654,15.911102040816326,15.897551020408164,15.894530612244898,15.784244897959184,15.849714285714287,15.867673469387755,16.20334693877551,15.58334693877551,15.68734693877551,16.082857142857144,16.005877551020408,15.505224489795918,15.985142857142858,15.755591836734693,16.05118367346939,15.98008163265306,16.186938775510203,15.805632653061224,15.931102040816327,16.280979591836736,16.000326530612245,16.12473469387755,16.04530612244898,15.948571428571428,15.743836734693877,15.981795918367347,15.584163265306122,16.006122448979593,16.01191836734694,15.745632653061225,15.657387755102041,15.892081632653062,16.0014693877551,15.971755102040817],\"type\":\"histogram\",\"xaxis\":\"x\",\"yaxis\":\"y\",\"opacity\":0.6},{\"histfunc\":\"avg\",\"marker\":{\"color\":\"#F54927\"},\"name\":\"churn\",\"showlegend\":false,\"x\":[29.06878306878307,28.931095406360424,29.281793229643185,29.28,29.174386920980925,29.29136690647482,29.018817204301076,29.561777777777777,29.06760316066725,28.873684210526317,29.023508137432188,29.601254480286737,28.85839160839161,28.69858156028369,28.836363636363636,29.481549815498155,28.759471365638767,29.36617262423714,29.65069124423963,28.7632058287796,29.252688172043012,30.20287253141831,29.522747546833184,29.200351493848856,29.069420035149385,28.777264325323475,29.79366515837104,29.381165919282513,29.801110083256244,30.39511754068716,29.28942652329749,28.829335793357934,29.617173524150267,29.167543859649122,29.25711743772242,29.065706570657067,29.628544423440452,29.529991047448522,29.444843049327353,29.770462633451956,29.384951881014874,29.700444444444443,29.19790758500436,29.06602953953084,29.522727272727273,28.706881143878462,28.922452660054102,29.35486806187443,29.06594399277326,29.11971197119712,29.365333333333332,29.17052826691381,29.393048128342247,29.45592163846839,28.819444444444443,29.343389529724934,28.736196319018404,29.287366548042705,29.38680926916221,29.392473118279568,29.029622980251347,28.72017937219731,28.925688073394497,29.006499535747448,29.453636363636363,29.432943294329434,29.04783393501805,29.567446043165468,29.455908289241624,28.874666666666666,30.131531531531532,29.50725952813067,29.359601449275363,29.078181818181818,29.319444444444443,29.776978417266186,30.718525179856115,29.20572450805009,29.078922934076136,28.973238180196255,28.834355828220858,29.277244986922405,29.393268379096547,30.713221601489757,29.56581352833638,29.301936619718308,28.99468085106383,28.884408602150536,29.656783468104223,29.737173717371736,28.986486486486488,29.41846419327006,29.074912891986063,29.29539295392954,28.846491228070175,29.06317689530686,29.232456140350877,30.733994589720467,29.08523725834798,28.643799472295516],\"type\":\"histogram\",\"xaxis\":\"x2\",\"yaxis\":\"y2\",\"opacity\":0.6},{\"histfunc\":\"avg\",\"marker\":{\"color\":\"#2784F5\"},\"name\":\"no churn\",\"showlegend\":false,\"x\":[34.3009730708305,33.82840909090909,34.2333483856401,33.84957964099068,34.23565573770492,33.519782337603445,33.738391329150026,33.619924511037404,33.779250457038394,34.16051071591427,34.35950413223141,33.92326901248581,33.509609916979414,33.324533454710966,33.83214777420835,33.559682291084016,34.26019883441892,33.70857533310557,33.64678640009036,33.871099977226145,34.046377140265335,33.49101660222879,34.17606195194169,34.24190432905352,33.907500571689916,33.708828911253434,34.459952418715304,33.73190317769875,34.27829396619277,33.914779838434406,33.98381581946661,33.73268003646308,33.665800768014456,34.154593739405584,34.278591709256105,33.93045069778083,34.34978589136804,32.81805776665909,33.586936627773966,33.92023082145282,34.500343013949234,34.45425397915951,33.42181280564085,33.78885328450446,33.76087454212454,33.67428310293614,34.084135432000906,34.255239179954444,33.989932126696836,34.03651717448363,33.8237088936603,33.956914285714284,34.532895481825385,33.66497747747748,34.09333182127467,33.78551974580118,34.06501021102791,33.87258687258687,34.12812926718252,33.50796903460838,33.43746417516909,34.01691621899646,34.21535326086956,34.276020174232,34.028918122023136,33.80038937242327,33.94066455696203,34.27410186448385,34.31850250341375,34.011454753722795,34.37427565049426,33.79792922971897,34.35420921261629,33.775405343685776,33.73402691394323,33.72946207517443,34.374627208075246,34.02081903454587,34.29097668131126,34.34255779523972,34.65298635790439,33.960265658994615,34.178105696636926,33.72590909090909,33.52604405690684,34.44003186162949,34.134302920122714,33.692708923914275,33.81995661605206,34.370261400927916,33.616530241018644,33.825157232704406,33.930454545454545,34.78864748037766,34.69300532819408,34.17763833428408,34.10188765067091,34.21462639109698,33.90767468499427,33.70045871559633],\"type\":\"histogram\",\"xaxis\":\"x2\",\"yaxis\":\"y2\",\"opacity\":0.6},{\"histfunc\":\"avg\",\"marker\":{\"color\":\"#F54927\"},\"name\":\"churn\",\"showlegend\":false,\"x\":[139.5211639404297,138.530029296875,139.3394317626953,141.08340454101562,140.47683715820312,140.82284545898438,141.47669982910156,140.5786590576172,142.1641845703125,139.8114013671875,138.59494018554688,141.15859985351562,140.7141571044922,139.8634796142578,139.38182067871094,142.14390563964844,139.73568725585938,141.78639221191406,142.8359375,139.68032836914062,140.60484313964844,141.469482421875,141.22926330566406,141.1265411376953,141.8523712158203,140.21534729003906,141.1457061767578,140.6986541748047,139.3839111328125,141.0207977294922,141.35842895507812,140.1263885498047,140.5,140.221923828125,142.37277221679688,139.37623596191406,139.3100128173828,141.15936279296875,141.96951293945312,141.08897399902344,141.09185791015625,140.7235565185547,140.30078125,141.84274291992188,139.47727966308594,139.88560485839844,140.7700653076172,140.85531616210938,140.8699188232422,139.22052001953125,140.88711547851562,142.10287475585938,141.813720703125,140.5538787841797,140.0907440185547,140.9023895263672,139.48728942871094,141.19395446777344,138.96702575683594,138.9641571044922,141.12477111816406,139.70582580566406,141.3201904296875,141.12628173828125,141.63272094726562,138.87399291992188,139.13177490234375,141.63218688964844,142.21340942382812,138.18133544921875,141.4801788330078,140.5154266357422,141.35597229003906,139.7345428466797,142.59445190429688,142.213134765625,138.3813018798828,140.0563507080078,141.4930419921875,141.791259765625,140.3724822998047,142.16390991210938,139.02037048339844,142.93948364257812,141.617919921875,141.23944091796875,140.5629425048828,140.72401428222656,138.6325225830078,138.66156005859375,140.79820251464844,140.74891662597656,139.76742553710938,141.14273071289062,139.3789520263672,138.7048797607422,139.5263214111328,140.8818817138672,139.765380859375,139.12225341796875],\"type\":\"histogram\",\"xaxis\":\"x3\",\"yaxis\":\"y3\",\"opacity\":0.6},{\"histfunc\":\"avg\",\"marker\":{\"color\":\"#2784F5\"},\"name\":\"no churn\",\"showlegend\":false,\"x\":[150.98336791992188,149.01760864257812,150.64349365234375,149.90411376953125,150.59039306640625,147.3455352783203,148.6673126220703,148.10842895507812,148.47897338867188,150.7936553955078,151.19317626953125,149.32373046875,147.3982696533203,147.09603881835938,149.79234313964844,148.14878845214844,150.73843383789062,148.638427734375,148.23472595214844,149.0959930419922,149.59768676757812,147.6452178955078,150.88168334960938,150.76434326171875,148.9970245361328,148.86871337890625,151.9810791015625,148.5264434814453,151.48741149902344,149.91046142578125,149.54718017578125,148.6843719482422,148.0640411376953,150.48277282714844,150.7520751953125,149.6956024169922,151.42506408691406,144.54037475585938,147.8193817138672,149.84193420410156,152.53030395507812,151.8538818359375,147.177978515625,148.96749877929688,148.6212158203125,147.89248657226562,149.80783081054688,150.7891845703125,149.92160034179688,149.8739013671875,149.14939880371094,149.92686462402344,152.3155975341797,148.32894897460938,150.1953887939453,148.9161376953125,150.24427795410156,149.7384796142578,150.37039184570312,147.80453491210938,147.6862335205078,150.0653839111328,150.61447143554688,151.0288848876953,150.26490783691406,149.01499938964844,149.32403564453125,150.4795379638672,151.20652770996094,150.2156982421875,151.65333557128906,149.58937072753906,152.035400390625,148.6261749267578,148.52198791503906,148.02847290039062,151.67137145996094,150.2735137939453,150.97589111328125,150.33424377441406,152.3702850341797,149.64112854003906,150.8230438232422,148.44590759277344,147.72303771972656,152.08602905273438,150.5708465576172,148.81642150878906,149.31556701660156,151.70510864257812,147.8271942138672,149.2332763671875,149.45352172851562,153.44363403320312,152.58689880371094,150.45327758789062,150.4259796142578,150.4615020751953,149.27777099609375,148.7322235107422],\"type\":\"histogram\",\"xaxis\":\"x3\",\"yaxis\":\"y3\",\"opacity\":0.6},{\"histfunc\":\"avg\",\"marker\":{\"color\":\"#F54927\"},\"name\":\"churn\",\"showlegend\":false,\"x\":[128.08995056152344,128.39488220214844,128.43275451660156,131.1914825439453,129.9209747314453,131.84532165527344,131.328857421875,130.1155548095703,131.5680389404297,130.92369079589844,127.19620513916016,129.30197143554688,128.8618927001953,129.56028747558594,130.9965362548828,131.4492645263672,129.6273193359375,129.67916870117188,133.22303771972656,128.6885223388672,129.68280029296875,132.37342834472656,129.93130493164062,131.67311096191406,133.3673095703125,130.9038848876953,129.81900024414062,128.40447998046875,129.48658752441406,131.72512817382812,131.77149963378906,131.604248046875,131.72987365722656,132.11842346191406,131.71263122558594,129.63816833496094,127.64839172363281,132.4888153076172,131.94708251953125,130.8007049560547,128.21173095703125,130.6835479736328,127.95989227294922,130.99391174316406,130.0745391845703,130.45755004882812,131.3651885986328,130.1173858642578,131.44805908203125,128.67776489257812,129.41600036621094,132.904541015625,130.55169677734375,130.8682098388672,131.81295776367188,130.85447692871094,131.04995727539062,129.12722778320312,129.9367218017578,128.30914306640625,131.4407501220703,131.1793670654297,129.1807403564453,130.9164276123047,130.28091430664062,131.657958984375,128.64259338378906,132.65467834472656,131.0961151123047,129.6497802734375,130.4729766845703,129.31851196289062,131.63858032226562,130.65908813476562,131.97129821777344,130.33993530273438,128.7338104248047,128.86135864257812,133.91085815429688,130.626220703125,131.36021423339844,132.21185302734375,129.0416259765625,134.31936645507812,128.95155334472656,131.45333862304688,129.99557495117188,127.93279266357422,128.91195678710938,129.9702911376953,130.4351348876953,129.5642852783203,129.82403564453125,132.01626586914062,130.1245574951172,127.9729232788086,129.853515625,130.61497497558594,129.18540954589844,129.18821716308594],\"type\":\"histogram\",\"xaxis\":\"x4\",\"yaxis\":\"y4\",\"opacity\":0.6},{\"histfunc\":\"avg\",\"marker\":{\"color\":\"#2784F5\"},\"name\":\"no churn\",\"showlegend\":false,\"x\":[150.52816772460938,148.47579956054688,150.13885498046875,149.5147705078125,150.16632080078125,146.88946533203125,148.2083282470703,147.6345672607422,148.0703887939453,150.4199676513672,150.74850463867188,148.98876953125,147.16104125976562,146.77389526367188,149.26239013671875,147.81541442871094,150.3979034423828,148.19725036621094,147.8644561767578,148.57333374023438,149.20909118652344,147.25550842285156,150.4914093017578,150.3241729736328,148.62222290039062,148.37454223632812,151.6603546142578,148.1162109375,151.12045288085938,149.38821411132812,149.05470275878906,148.15805053710938,147.67698669433594,150.0145721435547,150.26132202148438,149.26950073242188,151.10931396484375,144.06594848632812,147.4444122314453,149.48789978027344,152.10438537597656,151.37615966796875,146.9068603515625,148.57530212402344,148.43360900878906,147.41917419433594,149.31854248046875,150.4837188720703,149.6687774658203,149.5848388671875,148.81263732910156,149.55223083496094,151.79254150390625,147.85911560058594,149.6208953857422,148.4765167236328,149.77081298828125,149.2139434814453,150.0821533203125,147.38046264648438,147.41293334960938,149.7588348388672,150.17584228515625,150.7281036376953,149.94386291503906,148.451904296875,148.93670654296875,150.0424041748047,150.90133666992188,149.6865997314453,151.41632080078125,149.31813049316406,151.73110961914062,148.23487854003906,148.1322021484375,147.59249877929688,151.3124542236328,150.00079345703125,150.656982421875,149.8251953125,152.02865600585938,149.29989624023438,150.31170654296875,148.09034729003906,147.3982391357422,151.52651977539062,150.2830352783203,148.42782592773438,148.83924865722656,151.23300170898438,147.50534057617188,148.9265899658203,149.08102416992188,153.00296020507812,152.2152862548828,149.96029663085938,150.07015991210938,150.055419921875,148.9534912109375,148.35630798339844],\"type\":\"histogram\",\"xaxis\":\"x4\",\"yaxis\":\"y4\",\"opacity\":0.6},{\"histfunc\":\"avg\",\"marker\":{\"color\":\"#F54927\"},\"name\":\"churn\",\"showlegend\":false,\"x\":[99.68723786698622,109.5813539192399,106.40671865626875,99.09970326409496,114.03562945368171,111.21800947867298,100.84100418410041,112.14638554216867,112.11821471652594,103.68938480096502,108.81477069684335,110.1226586102719,106.26071428571429,113.98862956313585,109.90660321237358,115.584578601315,115.79810538780343,111.64067186562687,103.27777777777777,111.7772397094431,104.94075829383887,106.75983313468414,98.51876116736152,102.9577380952381,104.4949733885275,107.4066066066066,107.20818291215403,106.63431013431014,110.77459749552773,107.01124925991711,108.63424821002387,112.6031175059952,114.55053507728894,110.70990990990991,112.27959547888162,105.17780429594272,103.34701267350634,105.72050816696915,102.14775413711584,103.58552631578948,103.7919904363419,108.20863309352518,101.97290788681516,100.136798088411,101.57954545454545,111.22228773584905,110.78260869565217,108.0885225885226,105.39809863339275,109.05850746268656,108.76011904761904,113.73026315789474,106.47647409172126,102.14526823387583,111.56684815486993,110.2098027495517,99.70521945432978,100.5276950565813,108.94138543516874,112.11284513805522,111.43509187907529,113.30639324487335,109.36996996996997,113.15956808638272,108.21039903264813,113.39928909952607,106.6617033948779,111.19194312796209,105.8865671641791,100.94484412470024,110.63553668890236,108.1032412965186,102.44326866549089,109.05397390272834,107.43731431966727,116.74101157830592,116.16419679905157,112.36358173076923,110.59077291791492,106.08858501783591,103.70740517760386,109.93846153846154,105.88882247459654,105.82098399525785,99.47321428571429,114.11648745519713,108.88942020322773,99.1256038647343,109.11058263971462,102.06438275251034,107.53178847296495,111.61677730838865,110.19894055326662,108.8706022659511,110.05247285886611,98.53588516746412,111.19053325344518,107.19940119760479,105.60959715639811,105.91742013261],\"type\":\"histogram\",\"xaxis\":\"x5\",\"yaxis\":\"y5\",\"opacity\":0.6},{\"histfunc\":\"avg\",\"marker\":{\"color\":\"#2784F5\"},\"name\":\"no churn\",\"showlegend\":false,\"x\":[118.41676436107855,115.28449694974339,117.77785299806577,119.53308787908148,115.68365570599613,117.13724164574077,122.64502122732536,118.53953261927946,120.0878588052754,117.02236791361358,117.76010886469673,117.61338613096387,117.54449090732277,119.11814836335463,120.08901533416916,116.7602243062941,120.83501064447455,115.64112903225806,115.76483665184612,120.42409591955135,118.15552563239396,117.63356494885157,116.5195917974391,116.48220158638034,117.99903595873903,116.51550988755332,117.46964389959136,119.27530481904394,117.8390860007713,117.16937826844858,121.39093894899537,115.91028742862673,118.46244448735277,120.35329341317366,116.0030291186242,116.93696219665475,116.80972556571979,116.77741185586981,117.89228249349648,116.54023099133782,117.99786697692457,117.68483849063925,116.7164888457808,119.05109489051095,117.99504565766466,117.1967372305302,117.38379057187016,120.63576223368032,122.35145103367951,118.63540252182347,114.22636936500243,119.04199652442557,117.04743851463012,117.3005311443747,118.06288032454361,117.75497269890796,118.04442517105136,115.37783789005893,114.98315201694426,120.06225343981527,118.04134165366615,117.86240216446033,114.53740516661865,119.10259639604728,119.86095163958353,121.15642566388836,120.52655378102752,116.31390483604164,116.92680092951201,118.95070970250826,117.82951040863531,117.09133082052769,119.88681424446584,115.26822638578778,118.88952528880691,119.70349569090733,120.33439336995278,119.45884413309983,116.7408331733538,119.43587513288875,119.00329744932596,119.65772137182717,121.65410027205597,118.96544024851956,118.758781292451,124.98647342995169,118.89234935680433,116.1225750410192,119.52081924451744,114.74401241151944,114.86654443693911,119.64583333333333,115.64928266770066,117.34750337381917,117.04374275782155,118.58841197558377,119.11248909989342,122.13036319612591,119.83289766676349,119.23364667118906],\"type\":\"histogram\",\"xaxis\":\"x5\",\"yaxis\":\"y5\",\"opacity\":0.6},{\"histfunc\":\"avg\",\"marker\":{\"color\":\"#F54927\"},\"name\":\"churn\",\"showlegend\":false,\"x\":[25.699221090473337,26.327790973871736,27.205758848230353,25.851632047477747,27.232185273159146,27.799170616113745,25.918708906156606,26.78734939759036,26.998190591073584,25.67792521109771,27.499702203692674,27.026586102719033,26.864285714285714,27.9934171154997,27.698393813206426,28.320980274955172,28.178211959739492,27.518296340731855,27.145909645909647,28.412832929782084,27.009478672985782,26.432657926102504,25.319833234067897,25.99702380952381,26.29036073329391,27.6,27.329121540312876,27.487789987789988,25.875968992248062,25.483126110124335,27.556085918854414,28.237410071942445,27.71759809750297,29.737537537537538,29.389054134443782,27.179594272076372,26.500905250452625,27.14519056261343,26.33628841607565,26.65311004784689,26.681410639569634,26.66127098321343,25.33112582781457,25.507765830346475,24.867822966507177,27.50943396226415,27.64975845410628,27.1984126984127,27.278669043374926,26.700298507462687,27.819642857142856,27.32834928229665,27.283502084574152,26.965039180229052,28.112522686025407,27.298864315600717,25.59015421115065,25.3394877903514,26.7643576080521,27.60924369747899,27.827504445761708,27.88419782870929,27.47027027027027,28.079784043191363,27.530834340991536,27.658767772511847,26.823108993448482,27.05983412322275,27.644776119402984,26.428657074340528,26.5979381443299,26.788715486194477,26.19106407995297,26.346975088967973,28.193701723113488,27.64655697745277,30.1624184943687,28.82872596153846,27.632115038945475,26.173008323424494,26.349789283564117,27.81242603550296,28.897190675433354,25.722584469472437,25.830357142857142,28.066308243727597,26.727435744172144,24.70048309178744,26.878121284185493,26.668635558180743,28.185977421271538,28.338563669281836,26.64920541494997,27.63148479427549,28.926417370325694,24.50299043062201,26.723187537447572,27.48982035928144,26.976303317535546,27.65943339361061],\"type\":\"histogram\",\"xaxis\":\"x6\",\"yaxis\":\"y6\",\"opacity\":0.6},{\"histfunc\":\"avg\",\"marker\":{\"color\":\"#2784F5\"},\"name\":\"no churn\",\"showlegend\":false,\"x\":[28.729386479093396,28.323908201801103,28.995938104448744,29.107160158899333,29.102127659574467,28.962043654626232,29.197896565032806,28.76387536514119,29.048972071373157,28.717412263787118,28.890163297045103,28.547324705427854,29.379461246717884,29.74646523339144,28.99980711736908,29.317799477907762,29.449583897813046,28.13364055299539,28.761260390489078,29.482305163411333,29.175723766471098,28.87376954255935,29.017521902377972,28.48742503385568,29.317073170731707,28.54740209383482,28.88159174936758,28.330849622604994,29.24575780948708,28.584156498159984,29.303226429675426,28.82125229846124,28.560339833944777,28.66496040177709,28.670412350986908,28.36807502658803,28.95474241694752,28.509783029833397,28.39396859042297,28.712415784408083,29.217180531316657,29.06809583858764,28.87167798254122,29.614501216545012,29.057703516611618,28.490483589046416,28.738891035548686,29.812530401790056,29.724546248665437,29.998351115421922,27.901696558410084,29.225526163351997,28.623310975017013,28.545823273780783,29.052255384912584,29.130655226209047,28.971571745205743,28.537822432615208,29.11841725233465,29.53555277590686,29.212265990639626,29.410087931201083,28.290022087774897,29.054349932183687,29.478155103629465,29.74161659236286,29.53646334423706,28.87360124549966,28.6576297443842,29.178689480847755,28.681380107941404,28.5925389001643,29.380076997112607,28.20085428599165,29.13542374526745,28.80701074852329,29.244386624265204,29.501459427904262,28.97869072758687,28.985599690731615,28.89021433420619,29.108796744816896,29.729401476875243,28.914668478788467,29.05365806326412,30.007729468599035,29.394912467356612,29.002123347167263,29.39416481499372,28.48724910307379,28.42921933802953,29.590663580246915,28.33297789841024,29.360709465972622,28.658362302047124,29.209475825985855,29.312082162581145,29.54721549636804,29.779939974828153,28.915301870336272],\"type\":\"histogram\",\"xaxis\":\"x6\",\"yaxis\":\"y6\",\"opacity\":0.6},{\"histfunc\":\"avg\",\"marker\":{\"color\":\"#F54927\"},\"name\":\"churn\",\"showlegend\":false,\"x\":[15.47513481126423,16.001781472684087,15.796040791841632,15.465875370919882,16.536223277909738,16.619668246445496,14.945008965929468,16.220481927710843,16.393244873341374,15.515078407720145,16.174508636092913,16.398187311178248,16.063095238095237,16.53321364452424,16.55145746579417,17.17035265989241,17.557134399052693,16.469706058788244,16.18925518925519,16.574455205811137,16.218601895734597,15.687127532777115,14.916617033948778,15.361309523809524,15.918391484328799,16.61021021021021,16.540312876052948,16.45177045177045,15.542039355992845,15.364712847838957,16.413484486873507,17.429256594724222,16.627229488703925,17.08888888888889,16.72813801308745,16.03579952267303,15.926372963186482,16.22928009679371,15.544917257683215,16.09688995215311,15.949193066347878,16.093525179856115,15.581577363034317,15.5973715651135,15.311602870813397,16.35259433962264,16.318236714975846,15.921245421245422,16.15686274509804,16.082388059701493,17.098809523809525,17.229665071770334,16.514592019058963,16.209162145871005,16.362976406533576,16.306634787806335,15.558718861209965,15.418106015485408,16.30728241563055,16.58223289315726,16.53704801422644,16.942098914354645,16.458858858858857,17.051589682063586,16.249697702539297,16.694905213270143,16.08219178082192,16.299763033175356,16.900298507462686,16.068345323741006,16.298969072164947,16.043217286914764,15.409171075837742,15.797746144721234,16.666072489601902,17.07495429616088,18.21754593953764,17.36658653846154,16.317555422408628,15.487514863258026,15.717037928958458,17.06153846153846,16.68380155409444,16.191464137522228,15.632738095238095,16.601553166069294,16.01972504482965,15.150966183574878,16.11296076099881,16.399291199054932,16.74331550802139,16.743512371756186,15.866391995291348,16.641621943947527,17.14776839565742,15.099880382775119,16.048532055122827,16.282634730538923,16.36670616113744,15.728149487643158],\"type\":\"histogram\",\"xaxis\":\"x7\",\"yaxis\":\"y7\",\"opacity\":0.6},{\"histfunc\":\"avg\",\"marker\":{\"color\":\"#2784F5\"},\"name\":\"no churn\",\"showlegend\":false,\"x\":[17.60277452129738,17.29369613634163,17.553868471953578,17.754287375254336,17.504545454545454,17.485416264245703,17.9827286761868,17.51772151898734,17.749030256012414,17.6395102198226,17.729101866251945,17.66013135020282,18.090635028688126,17.938698431144683,17.81261452406211,17.815140674852557,18.267273079156183,17.450172811059907,17.656388942586506,18.162444401469735,17.753871309031453,17.79511677282378,17.9530181958217,17.53317856451925,18.008387158970404,17.345967429236136,17.621229811247325,17.415231275401588,17.885557269571926,17.611369358899864,18.078921947449768,17.55424368528017,17.57346978181116,17.672686884295924,17.59331639632597,17.30629411195978,17.698507462686567,17.52411855869818,17.562000192696793,17.56708373435996,17.753151056815977,17.741682025414686,17.58874878758487,17.99299270072993,17.69030503205751,17.3680326276947,17.767291344667697,18.117423873917698,18.20295059691352,18.27032007759457,17.282501211827437,17.90422861556285,17.61543695926898,17.412361178174795,17.80392156862745,17.84350624024961,17.948732774404935,17.600521688725728,17.83498604024261,18.178389300490714,17.734789391575664,18.135472026282734,17.418227215980025,18.009397403603952,18.127663715091952,18.261000193836015,17.89821050606119,17.637345528850833,17.615317583268784,18.160412210771923,17.649575944487278,17.69778679810573,17.736477382098172,17.369769925249976,18.07106106203281,17.79345405248378,17.826346728341523,18.03989102938315,17.688999808024573,17.66724654489224,17.654446707399863,17.813505134663824,18.25408083948698,17.827492476458595,18.015913060353192,18.307536231884058,17.834606828513397,17.761026927902712,17.945898946961645,17.421215941045283,17.462896844543085,18.073398919753085,17.488658394726638,17.97609408135724,17.5519505600618,17.84536382133514,18.02180021315764,17.985762711864407,18.083938425791462,17.72536098459153],\"type\":\"histogram\",\"xaxis\":\"x7\",\"yaxis\":\"y7\",\"opacity\":0.6},{\"histfunc\":\"avg\",\"marker\":{\"color\":\"#F54927\"},\"name\":\"churn\",\"showlegend\":false,\"x\":[16.654883163571,16.61520190023753,16.94121175764847,18.56320474777448,17.359857482185273,17.03436018957346,15.720263000597729,18.236746987951808,17.801568154402894,16.509047044632087,17.42227516378797,17.834441087613293,18.995833333333334,17.735487731897067,17.289708506841166,18.200836820083683,18.290704558910598,18.052789442111578,17.163614163614163,17.473970944309926,18.53850710900474,17.33015494636472,16.861226920786184,17.010714285714286,17.4541691306919,17.52132132132132,17.262936221419977,16.333943833943835,16.89087656529517,16.931320307874483,17.63126491646778,19.12230215827338,17.914982164090368,17.5003003003003,17.78227245687091,17.083532219570404,18.247435123717562,17.604355716878402,16.768321513002363,17.70095693779904,18.330543933054393,17.124700239808153,17.618904274533413,16.323775388291516,17.6866028708134,17.684551886792452,17.80072463768116,17.73992673992674,17.06357694592989,17.5044776119403,18.867857142857144,18.20394736842105,17.825491363907087,16.908378541289935,16.840290381125225,17.373580394500898,17.358837485172003,16.453841572364503,17.451746595618708,17.600840336134453,18.380557202133964,17.711097708082026,19.133333333333333,18.490701859628075,17.412333736396615,18.466232227488153,17.51697438951757,17.921208530805686,17.848358208955222,17.190047961630697,17.630078835657976,16.68607442977191,16.44268077601411,18.147686832740213,18.175876411170528,18.798293723339427,19.104327208061648,18.94170673076923,18.874775314559617,16.580856123662308,17.349789283564117,17.997041420118343,18.403466826060967,17.06520450503853,17.01309523809524,16.83094384707288,16.710101613867305,16.989734299516908,16.758026159334126,17.544004725339633,17.89126559714795,18.323476161738082,17.42907592701589,17.03577817531306,18.983715319662245,16.229066985645932,16.695626123427203,16.965269461077845,18.41350710900474,16.830620855937312],\"type\":\"histogram\",\"xaxis\":\"x8\",\"yaxis\":\"y8\",\"opacity\":0.6},{\"histfunc\":\"avg\",\"marker\":{\"color\":\"#2784F5\"},\"name\":\"no churn\",\"showlegend\":false,\"x\":[19.626221180148494,18.96291275297763,18.982301740812378,19.881503730258697,19.055996131528047,19.75217307320842,19.669915090698574,19.58695228821811,18.987296353762606,19.119070574623986,19.410283825816485,19.72880046358895,19.76923076923077,19.68390470656595,19.716173208602566,19.182055496471044,19.856686665376426,19.312980030721967,19.777305238739608,19.6330497002514,19.292680580936807,19.695039567651033,19.865986329065176,19.045850261172372,19.78974260098332,19.122237301279565,19.342089900758904,19.08689761950842,19.809679907443115,19.331783846600814,20.06742658423493,19.36388270589374,19.167117204093454,19.766756808962718,20.013973031072894,18.97302523445809,19.859605199807415,19.372723750484308,19.258599094325078,19.136669874879694,19.500775644754704,19.12086526336211,18.78506304558681,19.67698296836983,19.412473285408975,19.047193629831035,19.655815301391037,19.311411615915944,19.991652916626226,19.999515033947624,18.749878817256423,19.73141533114501,19.47360746573345,18.86653790439401,19.49483241572491,19.519403276131044,19.65481352992194,19.335523137861077,19.336574564359296,19.658520157798517,19.44383775351014,19.558894579186394,19.37770095073466,19.7704902150746,19.883915539554344,20.278930025198683,19.38041177602463,19.425318672764426,19.110766847405113,20.248104219327242,19.742771781033152,19.554170290905578,19.675264677574592,19.32676439180662,19.44160761091156,19.689745327781544,19.629950852847642,20.116656937147305,19.494432712612785,19.031700009664636,19.222771797109882,19.485274171672156,20.00913330742324,19.857489564119987,19.271783427129826,20.20705314009662,19.612728503723766,19.084933886690475,19.984542556274757,19.039464753224085,19.22657531602818,20.00347222222222,18.773846452113222,19.972334682861,19.538528389339515,19.615928689080516,19.7481833155702,20.03680387409201,19.977732597540903,19.289369124915204],\"type\":\"histogram\",\"xaxis\":\"x8\",\"yaxis\":\"y8\",\"opacity\":0.6},{\"histfunc\":\"avg\",\"marker\":{\"color\":\"#F54927\"},\"name\":\"churn\",\"showlegend\":false,\"x\":[486.654883163571,475.4228028503563,511.97180563887224,487.9163204747774,512.9774346793349,497.96090047393363,471.7471607890018,496.889156626506,475.6387213510253,483.2551266586249,508.94758784991063,497.92567975830815,522.2119047619047,526.0383004189108,495.17846519928617,504.57561267184695,515.9798697454115,486.7348530293941,509.8076923076923,480.3299031476998,517.074644549763,489.8301549463647,518.8850506253723,509.71666666666664,493.27498521584863,514.6786786786787,502.02466907340556,474.12759462759465,510.7728085867621,501.35820011841327,492.63782816229116,499.2925659472422,503.67776456599285,500.27027027027026,519.7221891731112,495.18138424821,501.17622208811105,504.1693889897157,484.68321513002365,515.1321770334928,512.3520621637776,505.89328537170263,505.45153521974714,495.9635603345281,492.0574162679426,508.70990566037733,488.93961352657004,499.9340659340659,510.9738562091503,468.87880597014924,494.8452380952381,523.005980861244,485.3114949374628,511.03194695599757,497.84815486993347,498.5917513448894,488.70818505338076,507.3531864204884,476.898756660746,464.046218487395,517.5317131001779,494.04885404101327,526.8612612612612,493.3383323335333,547.4987908101572,484.0118483412322,476.62954139368674,514.9591232227489,521.2937313432835,486.5161870503597,506.25712553062465,485.1860744297719,499.9370958259847,513.7591933570582,536.9506833036245,504.8878732480195,527.901007705987,508.2421875,503.4721390053925,514.8269916765755,492.58940397350995,539.7443786982249,514.3502689778841,508.23236514522824,505.74107142857144,485.48028673835125,485.5050806933652,493.088768115942,494.9988109393579,495.59243945658596,511.35531788472963,536.7229933614967,506.4849911712772,499.9344066785927,520.4523522316043,469.0705741626794,486.7471539844218,494.0526946107784,495.93957345971563,477.42736588306207],\"type\":\"histogram\",\"xaxis\":\"x9\",\"yaxis\":\"y9\",\"opacity\":0.6},{\"histfunc\":\"avg\",\"marker\":{\"color\":\"#2784F5\"},\"name\":\"no churn\",\"showlegend\":false,\"x\":[538.4200859710825,551.1972499273749,543.6674081237911,537.0290669508769,531.2625725338492,534.1386903612131,546.2690081049788,557.4149951314508,556.5958107059736,543.5890860007713,544.0864113530326,552.2528491404288,555.1706700379267,552.0760216928143,553.5609026907127,549.5579619066035,563.4822914650667,545.485119047619,553.1938913589793,550.0964030168246,545.8929498893912,542.0414977803513,554.0465967074227,548.618011220739,562.7243806034899,547.1930011632415,550.4108776026465,548.2703696535707,544.4989394523718,543.7944024791788,560.2988794435857,535.4796283751089,541.6130527128789,554.7532354645548,546.1903459058042,541.364304360437,556.011458834858,544.5429097249129,544.3506118123133,537.6700673724736,552.9631568741517,546.7443010961296,557.3308438409312,546.2636496350365,536.1672819117932,545.2033404544571,558.0386398763524,544.6452962350423,549.9000291177327,558.3579049466538,533.4466311197285,548.343888781618,537.9159132886167,527.6277160791888,530.439003187482,555.1046216848674,539.6122193312133,532.173896241909,557.2104553769135,557.5976137785048,542.9951248049922,549.5280703449608,548.9360414866032,544.2302848285216,543.8980247153838,560.3365962395814,542.4554550702328,541.3970030164445,543.3122579395817,548.0633871281353,531.5910755589823,552.6710157533585,545.5222329162657,545.3096786719736,546.7372099796137,551.5586327103708,541.6278307796088,550.4041642342868,549.5002879631407,537.1766695660577,548.024633886141,544.3670800232513,553.3037310532452,549.6100378604019,547.5830584125752,557.4288888888889,561.2902601799013,549.8283949425731,542.1535117379964,541.4644623290992,546.4043230724693,548.0359760802469,551.2522295463358,552.4562367457104,553.9204325994592,550.4125569227788,541.8921616122469,548.325230024213,563.4702294510602,535.3616629518364],\"type\":\"histogram\",\"xaxis\":\"x9\",\"yaxis\":\"y9\",\"opacity\":0.6},{\"histfunc\":\"avg\",\"marker\":{\"color\":\"#F54927\"},\"name\":\"churn\",\"showlegend\":false,\"x\":[471.51288196524865,482.36163895486936,496.18896220755846,469.65875370919883,504.1270783847981,497.30035545023696,473.05499103407055,506.33373493975904,491.33775633293124,467.586851628468,492.79630732578914,499.0833836858006,496.1232142857143,509.7247157390784,496.9970255800119,510.15182307232516,505.30787448194195,502.75464907018596,484.1031746031746,487.61985472154964,512.0041469194313,487.23837902264603,495.44312090530076,499.86488095238093,484.6280307510349,516.1357357357357,499.94945848375454,480.25702075702077,494.42814549791296,478.02368265245707,490.7529832935561,500.63009592326136,504.06420927467303,516.3951951951952,506.51873884592504,485.5029832935561,493.6517803258902,493.84815486993347,482.95390070921985,499.47846889952154,509.4656306037059,504.6792565947242,489.96568332329923,480.331541218638,481.10705741626793,498.62735849056605,495.8762077294686,497.1996336996337,499.27450980392155,476.31880597014924,500.84166666666664,502.4605263157895,483.6575342465753,482.19710669077756,497.93042952208106,495.09802749551704,478.61921708185054,491.84216795711734,472.06453522794556,476.81992797118846,508.85832839359813,501.2418576598311,510.73033033033033,504.0455908818236,525.2902055622733,484.18838862559244,481.3061346039309,494.6149289099526,499.9450746268657,481.11990407673864,500.61976955730745,486.9813925570228,497.58788947677834,501.37722419928826,517.5573380867498,510.39792809262644,514.8968583283936,509.62560096153845,508.6932294787298,507.3287752675386,486.8061408789886,533.1106508875739,499.78302450687386,499.1049199762893,478.39166666666665,480.0376344086022,481.4196054991034,475.7892512077295,497.28002378121283,489.4902539870053,514.065953654189,528.2238986119493,503.4220129487934,497.9624329159213,508.7104945717732,461.9892344497608,487.5799880167765,486.79700598802395,496.2701421800948,475.3990355635925],\"type\":\"histogram\",\"xaxis\":\"x10\",\"yaxis\":\"y10\",\"opacity\":0.6},{\"histfunc\":\"avg\",\"marker\":{\"color\":\"#2784F5\"},\"name\":\"no churn\",\"showlegend\":false,\"x\":[536.1074638530677,541.6912946644718,537.9342359767892,538.4126538126151,526.2105415860735,532.5192196252656,544.8373214974913,553.1759493670886,540.5850465477114,536.4586386424991,538.3895800933126,540.5505118794669,545.4033842263931,544.4843114468332,546.1529559263188,543.2432563086145,550.32339849042,538.4400921658986,544.6264256717571,545.6375942757687,536.9107434836973,537.3904651611658,542.9648599210551,539.996130779648,543.6035862334908,539.771907716169,538.9504767464488,539.5620282562415,544.661588893174,537.484408289754,553.2956916537867,533.363689151263,536.2945549333848,542.47334363531,538.3661324995114,537.0850816977666,547.2746268656716,541.1232080588919,533.9020136814722,532.7895091434071,541.6437851464029,539.7922203899506,544.6778855480117,544.2487591240875,535.0195259374393,538.4694115362206,549.1660548686244,540.9457145636735,537.9151703387363,551.4936954413191,526.5583131362094,541.320621741649,535.1821716729853,528.9426364075326,534.4150487781319,544.5263260530421,533.5757926182905,526.3690464689402,539.030615192067,551.4112383334937,542.313767550702,541.0691854285438,539.0895035052339,536.0141445456306,537.7162596088352,548.0441946113588,541.3226861650952,534.3122506568064,536.0115220759102,545.3160606649815,532.5027949113338,539.8155987242679,542.6773820981713,535.6584797592467,539.7822541500825,544.4888157257674,540.3630143586779,546.6763961860285,541.9113073526588,535.1591765729197,540.6952768887596,536.239391590777,547.6461329187719,546.2395883894767,542.4143217543178,552.464154589372,548.0984621336686,533.505260110028,540.4058545068109,530.6033162028508,535.7056836823314,542.4027777777778,541.0331523846452,546.2152496626181,544.6814407106991,543.2081193682783,541.9826567193102,545.819176755448,551.6780908122761,540.0615369706367],\"type\":\"histogram\",\"xaxis\":\"x10\",\"yaxis\":\"y10\",\"opacity\":0.6},{\"histfunc\":\"avg\",\"marker\":{\"color\":\"#F54927\"},\"name\":\"churn\",\"showlegend\":false,\"x\":[124554.79845056921,124788.69388123514,132538.9039376125,126902.52960534125,131511.35133432306,130198.8665657583,121934.42193544531,130406.94209216867,125105.80991073584,124067.25086670688,132100.24519892794,129189.1783734139,132920.04876071427,132565.30227648118,129770.66868471149,131671.51076090854,134068.78417939608,127708.76847870427,127919.17558363859,126506.63193099275,133927.04952606637,125559.30717640047,133074.6302424062,131054.8379642857,128159.91648551152,133124.53392192195,130275.61919013238,124910.15101587301,131729.70884794276,127185.73160746004,127839.32699164677,129775.47887889687,130515.56011236623,130512.59623123123,133842.1217840571,128187.9803120525,130757.04282136392,130763.62338535996,127236.48791843971,133112.92007894735,132509.9393592349,130437.99551798562,131095.65644792293,127628.29593608125,128251.62180143541,132720.00059964624,128690.20177958938,127696.26258424907,131071.19547653,124049.31930089551,130000.15197619048,134429.83418480863,127225.01306551519,129093.42642314646,128582.11235934665,129962.0892086073,127520.90729359431,130184.27562715902,122384.65165304915,123044.8227965186,134126.58025133374,127673.3966079614,135956.3842078078,130281.62920035994,138260.57735006046,125282.14195082938,125246.83933710541,130385.63474881517,133756.71093014925,126862.09989628296,131696.3845469982,127503.5285510204,128905.162994709,133359.2415118624,137819.39440582294,132919.61880012188,134180.65863959692,131700.3002686298,132070.45536488917,131683.65359809747,128368.25131727874,140139.5032301775,133906.24639270772,130856.40842205098,131172.58110416666,125473.83894205495,125824.75612253437,126945.86009782608,128868.61513436385,128826.86893030122,133825.87479619728,137742.68817079058,131141.97401000588,129567.29172927848,133515.37607237636,120636.88332775122,127751.25704973037,129000.74328383234,128839.52249585307,125183.14490476191],\"type\":\"histogram\",\"xaxis\":\"x11\",\"yaxis\":\"y11\",\"opacity\":0.6},{\"histfunc\":\"avg\",\"marker\":{\"color\":\"#2784F5\"},\"name\":\"no churn\",\"showlegend\":false,\"x\":[139932.43637485345,142319.41173603176,140581.10081605415,139418.62517982753,137163.63080783366,138457.45865028008,141643.87798842147,143705.2142359299,142681.42060017455,140401.77575848438,140256.8458894829,141991.49217452193,143770.88996781094,143024.56047646716,143465.1221414794,142197.79593232137,146025.25098954904,140997.46689112904,142894.68082485985,142889.8129847225,140837.71678503414,140277.4470851187,143191.40261885046,141707.0365526214,143890.5083339439,141494.8613103916,141904.58641428294,141462.8775317399,141467.73981729656,140752.3616394538,145161.26197102008,138749.9166164715,140476.29841909636,142680.1115102376,141037.1933082861,139246.65686773663,142461.79039393357,140328.5669307439,139684.19197947776,139230.1296242541,142284.4494316463,140526.38960898246,142198.44615063048,142107.66072184916,138940.57926296873,140193.12073140417,143287.42462374418,141551.42735635763,141233.1358279142,143115.41464781767,138046.12479505577,141196.36477930102,139587.12760882667,136902.50242269435,138741.55953327537,143120.06384399376,140119.84526578008,138046.88573867257,143051.95145239242,144340.59597007598,140377.53578042123,142445.22568827905,141134.95965667916,140077.9172299942,140750.36362313904,143843.1325197713,140715.15738406774,140542.99983711203,140791.27534672734,141804.944531888,138666.29163617964,142118.19086865758,141468.5906626564,140575.71946209104,141393.7708406951,143115.16735721892,140773.46501088946,142613.49323010314,142299.24031416778,139612.78386324536,141568.54590980505,141042.5810197636,143705.8300115624,142720.97470973694,141406.09632728508,144867.08025140097,144316.87472724635,141181.796183573,140992.5191433678,139393.1200838747,140768.7197418701,142125.13114429012,141824.6260139589,142809.66363890495,143084.78588615297,141948.33610929173,140873.30426179635,141939.69981772397,144305.85715887308,139760.60299835255],\"type\":\"histogram\",\"xaxis\":\"x11\",\"yaxis\":\"y11\",\"opacity\":0.6},{\"histfunc\":\"avg\",\"marker\":{\"color\":\"#F54927\"},\"name\":\"churn\",\"showlegend\":false,\"x\":[41.32229232386961,38.791798107255524,40.404311251314404,40.87592008412198,36.965825446898,40.33070452155626,39.55520504731861,39.80546792849632,40.57939011566772,39.49474237644585,39.94637223974763,40.22975814931651,39.004206098843326,39.00946372239748,40.33596214511041,39.234490010515245,38.67245005257624,39.63669821240799,40.19663512092534,40.99421661409043,39.52523659305994,40.59411146161935,40.38801261829653,38.94216614090431,38.70452155625657,39.960042060988435,39.512092534174556,40.5888538380652,39.56940063091483,40.290220820189276,41.15036803364879,38.76866456361724,39.572555205047315,39.243427970557306,39.16982124079916,39.7155625657203,39.91377497371188,42.17981072555205,39.646687697160885,38.93953732912723,38.817560462670876,40.17507886435331,39.02260778128286,40.69032597266036,38.448475289169295,41.24763406940063,40.37960042060988,39.00157728706625,39.58832807570978,38.89852786540484,38.85120925341746,40.10410094637224,39.74921135646688,37.81966351209253,40.072555205047315,39.30704521556257,40.289169295478445,39.48738170347003,39.37066246056782,38.170347003154575,39.16982124079916,41.444269190325976,38.78969505783386,40.03890641430073,40.5310199789695,40.294426919032595,39.674553101997894,38.91955835962145,40.39800210304942,39.965825446898,38.70399579390116,39.837539432176655,40.49631966351209,40.150893796004205,41.670347003154575,39.31072555205047,38.996845425867505,38.57991587802314,40.389589905362776,40.186119873817034,40.46214511041009,39.13038906414301,39.396424815983174,40.18296529968454,40.16351209253418,39.22029442691903,38.03364879074658,38.99789695057834,39.51735015772871,40.02208201892744,40.564668769716086,39.67350157728707,38.73659305993691,39.89695057833859,39.60830704521556,38.32124079915878,40.265509989484755,39.95478443743428,39.202944269190326,38.89695057833859],\"type\":\"histogram\",\"xaxis\":\"x12\",\"yaxis\":\"y12\",\"opacity\":0.6},{\"histfunc\":\"avg\",\"marker\":{\"color\":\"#2784F5\"},\"name\":\"no churn\",\"showlegend\":false,\"x\":[38.05885714285714,38.49069387755102,37.73142857142857,38.39673469387755,38.48669387755102,37.95991836734694,38.30008163265306,37.63534693877551,38.059673469387754,37.97151020408163,38.18604081632653,38.200326530612244,38.295102040816325,37.883755102040816,37.83412244897959,37.810857142857145,37.826367346938774,38.44138775510204,37.2585306122449,38.46277551020408,38.01387755102041,38.65934693877551,38.169061224489795,37.79436734693878,37.79632653061225,38.10448979591837,38.470938775510206,38.14930612244898,37.745551020408165,37.98767346938776,37.759020408163266,38.036,37.562938775510204,37.48767346938776,37.95248979591837,38.21967346938776,38.32310204081632,38.096,38.073469387755104,37.62440816326531,38.34726530612245,38.003673469387756,38.26440816326531,38.04930612244898,37.624979591836734,37.493632653061226,38.19942857142857,38.25175510204082,37.996979591836734,38.03069387755102,38.07918367346939,38.414693877551024,37.62138775510204,38.074122448979594,38.321714285714286,38.67673469387755,37.89657142857143,38.27608163265306,37.66416326530612,38.00457142857143,38.0145306122449,38.68571428571428,38.987591836734694,38.390367346938774,38.13738775510204,37.95044897959184,37.88628571428571,38.08155102040816,38.00955102040816,38.2130612244898,37.89591836734694,37.91534693877551,38.86489795918367,37.761714285714284,37.52155102040816,38.75208163265306,37.78710204081633,37.61077551020408,38.37297959183673,37.84024489795918,37.66963265306122,38.371591836734694,38.18448979591837,38.05069387755102,38.30685714285714,38.743265306122446,38.35616326530612,37.94857142857143,38.444489795918365,37.95738775510204,37.85224489795918,38.22530612244898,38.40465306122449,38.13951020408163,38.51681632653061,37.546285714285716,37.958775510204084,37.892163265306124,38.31755102040816,38.42302040816327],\"type\":\"histogram\",\"xaxis\":\"x12\",\"yaxis\":\"y12\",\"opacity\":0.6},{\"histfunc\":\"avg\",\"marker\":{\"color\":\"#F54927\"},\"name\":\"churn\",\"showlegend\":false,\"x\":[1183.5070546737213,1105.5821554770318,1142.4071363220494,1169.5812765957446,1081.640326975477,1160.1888489208634,1141.0143369175628,1107.095111111111,1142.1782265144864,1129.8780701754386,1123.4412296564196,1140.366487455197,1125.1328671328672,1106.401595744681,1155.0545454545454,1123.1346863468634,1080.6581497797356,1142.4995640802092,1160.0958525345623,1176.985428051002,1102.8548387096773,1160.4883303411132,1159.7662801070474,1100.420913884007,1114.6757469244287,1101.271719038817,1136.0787330316741,1165.669058295964,1136.9528214616096,1175.6952983725137,1163.7724014336918,1055.1863468634685,1125.5706618962433,1122.682456140351,1146.5569395017794,1105.029702970297,1135.163516068053,1233.9552372426142,1108.2690582959642,1121.3905693950178,1112.1994750656168,1145.4826666666668,1096.1952920662598,1202.7193744569938,1085.8145454545454,1137.5996425379803,1141.8088367899009,1076.2229299363057,1133.4290876242096,1103.2475247524753,1100.184,1129.4235403151065,1106.103386809269,1094.7346393588602,1150.2203703703703,1121.33007985803,1162.1270815074497,1131.6601423487546,1106.397504456328,1110.9516129032259,1120.689407540395,1194.2430493273544,1094.4504587155964,1141.8291550603528,1150.5363636363636,1159.2106210621062,1078.2202166064983,1110.30845323741,1166.046737213404,1114.4737777777777,1101.7126126126127,1151.1424682395643,1114.5244565217392,1118.2163636363637,1159.9851851851852,1081.0242805755395,1073.650179856115,1132.587656529517,1136.5366759517178,1172.4228367528992,1138.2795793163891,1112.463818657367,1136.406554472985,1189.2737430167597,1136.3528336380257,1154.8609154929577,1089.8563829787233,1120.4363799283153,1139.969451931716,1138.3231323132313,1159.0207207207206,1139.6307161345987,1161.345818815331,1146.880758807588,1170.85350877193,1114.6913357400722,1157.7859649122806,1142.8872858431018,1105.1845342706504,1098.7176781002638],\"type\":\"histogram\",\"xaxis\":\"x13\",\"yaxis\":\"y13\",\"opacity\":0.6},{\"histfunc\":\"avg\",\"marker\":{\"color\":\"#2784F5\"},\"name\":\"no churn\",\"showlegend\":false,\"x\":[1146.9534962661235,1160.2843181818182,1139.7685707834726,1156.6198591229265,1164.5696721311476,1141.9867361977101,1144.649857387336,1139.7731899805558,1147.3680301645338,1138.2623119015047,1146.685950413223,1148.9510783200908,1141.5411122483795,1142.6866181156122,1132.7364616796697,1144.6193086474998,1145.4461204433778,1155.5788634551873,1122.206144809669,1148.822705534047,1149.772536568772,1156.2912212872413,1148.3599817788406,1139.4922167935463,1130.5399039560941,1153.7033394327539,1159.6834711680071,1143.1408741539522,1148.7537221538116,1137.3591989987485,1152.806359699111,1144.3922060164084,1142.3056245764626,1128.9107243756357,1141.8467915956842,1158.9305650880806,1155.3034708136129,1150.6254264271095,1131.566918325326,1126.315229689975,1147.7466270294992,1136.9675941829842,1144.1409075400886,1145.9470130464638,1123.507097069597,1129.1346966754256,1149.414902049598,1151.0740318906605,1146.658484162896,1138.702613260299,1147.0353712283875,1160.9801142857143,1144.4666515683389,1147.745945945946,1171.3229757314584,1166.2107353608715,1150.8917631041525,1153.3331819214172,1138.7378243058718,1148.3597449908925,1141.8618594520233,1162.6078408961025,1172.6330389492753,1155.550320953691,1148.1909730097527,1132.8528401282638,1151.1871609403254,1142.5795816280126,1137.45721438325,1154.5224513172966,1143.3373480286332,1128.4446467174878,1171.761629226231,1137.2120347111213,1133.861359267217,1161.5250956560883,1144.4545767377838,1135.3898421413865,1157.1002590965415,1133.6734996014122,1136.7793190416141,1146.0312607351425,1161.293067947838,1152.0056818181818,1143.3190683799908,1165.9794037323622,1152.0039768208158,1155.035945118494,1161.5736956273547,1150.366413941383,1142.5910641200546,1139.037964551172,1153.6819318181817,1155.7820498236833,1159.0062351207346,1129.1082715345124,1147.7876961564702,1153.9875085169203,1150.5927835051546,1158.9909403669724],\"type\":\"histogram\",\"xaxis\":\"x13\",\"yaxis\":\"y13\",\"opacity\":0.6},{\"histfunc\":\"avg\",\"marker\":{\"color\":\"#F54927\"},\"name\":\"churn\",\"showlegend\":false,\"x\":[38.432980599647266,35.870141342756185,37.08874656907594,37.96425531914893,35.08991825613079,37.67895683453237,37.04480286738351,35.93688888888889,37.085162423178225,36.66929824561404,36.46925858951175,37.005376344086024,36.49213286713287,35.89982269503546,37.48571428571429,36.460332103321036,35.04581497797357,37.096774193548384,37.678341013824884,38.216757741347905,35.80286738351254,37.656193895870736,37.66012488849242,35.715289982425304,36.17750439367311,35.73290203327172,36.88235294117647,37.850224215246634,36.90009250693802,38.166365280289334,37.7921146953405,34.21863468634686,36.528622540250446,36.43333333333333,37.2161921708185,35.85418541854185,36.843100189035916,40.096687555953444,35.973094170403584,36.39056939501779,36.0997375328084,37.175111111111114,35.57279860505667,39.06429192006951,35.22727272727273,36.93744414655943,37.065825067628495,34.90991810737034,36.78952122854562,35.80828082808281,35.69155555555555,36.65523632993513,35.88859180035651,35.52715939447907,37.337037037037035,36.40283939662822,37.72655565293602,36.7161921708185,35.88591800356506,36.06362007168459,36.36265709156194,38.78744394618834,35.52018348623853,37.064995357474466,37.35454545454545,37.63726372637264,34.96660649819495,36.04226618705036,37.86243386243386,36.15822222222222,35.752252252252255,37.38203266787659,36.18115942028985,36.29545454545455,37.669444444444444,35.04586330935252,34.82104316546763,36.78264758497317,36.88486536675952,38.07493309545049,36.937773882559156,36.11333914559721,36.892825509300266,38.62849162011173,36.88391224862888,37.48503521126761,35.37234042553192,36.36021505376344,37.00359389038634,36.94959495949595,37.63873873873874,36.99137187230371,37.72212543554007,37.23215898825655,38.00438596491228,36.168772563176894,37.60087719298246,37.11091073038774,35.86115992970123,35.66314863676341],\"type\":\"histogram\",\"xaxis\":\"x14\",\"yaxis\":\"y14\",\"opacity\":0.6},{\"histfunc\":\"avg\",\"marker\":{\"color\":\"#2784F5\"},\"name\":\"no churn\",\"showlegend\":false,\"x\":[37.2275401674587,37.67784090909091,37.00237073831565,37.55294251306521,37.8122723132969,37.07470808298379,37.165088419851685,36.99908498227153,37.25239945155393,36.953716370269035,37.23393021120294,37.308967082860384,37.06584783350392,37.098315885298135,36.76789811840294,37.15863071931984,37.188207062050054,37.52818585582508,36.42302044504687,37.297312685037575,37.32883546887402,37.53945872185581,37.28333902744562,36.99034200659016,36.698833752572604,37.46111619396157,37.656508440013596,37.10829413789148,37.299451472069855,36.91569006712937,37.429906542056074,37.1482452142206,37.087982832618025,36.64221945982597,37.0701873935264,37.63292152825441,37.50845165652468,37.36274732772345,36.73415694349119,36.55928943199819,37.2658358106563,36.91228672850109,37.150460593654046,37.19913023575189,36.463026556776555,36.65131954758368,37.3226135205526,37.372209567198176,37.22692307692308,36.96690631062422,37.240366143067014,37.70057142857143,37.155814743517155,37.26081081081081,38.04490814243593,37.873014071720384,37.36033582936238,37.45185101067454,36.970527992717344,37.28449453551912,37.06591768886851,37.746485312607156,38.07982336956522,37.52338376891334,37.27840780222272,36.77805771873569,37.37703435804702,37.09583901773534,36.92364588074647,37.48316151202749,37.11941824792637,36.62430310615542,38.0500340367597,36.91287965288879,36.804704285875836,37.72439792932703,37.15760495526497,36.85792724776939,37.572828658330515,36.799795011957634,36.89579273185831,37.20645826176572,37.70452985586822,37.40897727272727,37.115305185865076,37.864019116977694,37.39347801386206,37.50243791813131,37.71674848727024,37.34378182641168,37.08981355161437,36.978959405374496,37.46272727272727,37.52394494369241,37.636322412424896,36.661836851112376,37.26586308846941,37.46922552804906,37.3545246277205,37.63302752293578],\"type\":\"histogram\",\"xaxis\":\"x14\",\"yaxis\":\"y14\",\"opacity\":0.6},{\"histfunc\":\"avg\",\"marker\":{\"color\":\"#F54927\"},\"name\":\"churn\",\"showlegend\":false,\"x\":[18.94885361552028,18.507950530035334,18.60384263494968,18.52255319148936,18.59673024523161,18.408273381294965,18.432795698924732,18.452444444444446,17.574187884108866,18.532456140350877,18.566907775768534,18.657706093189965,18.597902097902097,18.78014184397163,18.973160173160174,18.737084870848708,18.81762114537445,18.580645161290324,18.874654377880184,18.415300546448087,18.956093189964157,18.93895870736086,18.305976806422837,18.794376098418276,18.454305799648505,18.49075785582255,18.48597285067873,18.569506726457398,18.306197964847364,18.46112115732369,19.084229390681003,18.325645756457565,17.802325581395348,18.100877192982455,18.139679715302492,18.097209720972096,18.36389413988658,18.29632945389436,18.397309417040358,18.81138790035587,18.335958005249346,18.72088888888889,17.981691368788145,18.519548218940052,18.49818181818182,18.525469168900806,18.839495040577095,18.64786169244768,18.720867208672086,18.45004500450045,18.656,18.92863762743281,18.61319073083779,18.669634906500445,18.946296296296296,18.574090505767526,19.050832602979842,18.719750889679716,18.792335115864528,18.440860215053764,18.99281867145422,18.63139013452915,18.189908256880734,19.125348189415043,18.67,18.612961296129612,18.906137184115522,18.62589928057554,18.502645502645503,18.434666666666665,18.33783783783784,18.496370235934663,18.818840579710145,18.521818181818183,18.31111111111111,18.717625899280577,18.47751798561151,18.720035778175312,18.55710306406685,18.58965209634255,18.847502191060475,18.777680906713165,18.845881310894598,19.06610800744879,18.8363802559415,18.93573943661972,18.31737588652482,19.0752688172043,18.893980233602875,18.185418541854187,18.43873873873874,18.817946505608283,18.328397212543553,18.310749774164407,18.78421052631579,18.247292418772563,19.24298245614035,18.303877366997295,18.557117750439367,18.42656112576957],\"type\":\"histogram\",\"xaxis\":\"x15\",\"yaxis\":\"y15\",\"opacity\":0.6},{\"histfunc\":\"avg\",\"marker\":{\"color\":\"#2784F5\"},\"name\":\"no churn\",\"showlegend\":false,\"x\":[16.793618465716225,16.80443181818182,16.797358320162566,16.770847534651217,16.79075591985428,16.71318444620791,16.78870507701084,16.72400777765069,16.8418647166362,16.58766529867761,16.75906795224977,16.871963677639048,16.818719435914932,16.571688666363222,16.853717301514457,16.77391207070142,16.69169237801394,16.78658467144972,16.66553710606574,16.863584604873605,16.75291983218052,16.728337502842848,16.75207835098508,16.69139870469265,16.88520466498971,16.837602927721868,16.68777614138439,16.74211311230928,16.75282659800739,16.713164182500854,16.736836106678822,16.862693710118506,16.686243505760107,16.563340490450898,16.593867120954002,16.842255776710136,16.77879197656074,16.709802137821242,16.621825669183252,16.595157275401675,16.728447290189802,16.72827207145311,16.78687592403048,16.812199588006408,16.69059065934066,16.687192962412887,16.842939644434377,16.52596810933941,16.654864253393665,16.9914412872304,16.714544016273024,16.79337142857143,16.733552259087308,16.759234234234235,16.805057836244046,16.904788924194282,16.721919673247108,16.7358619123325,16.625512061902594,16.67748178506375,16.698268944170582,16.59583952451709,16.777513586956523,16.659215955983495,16.811295078249035,16.79340357306459,16.94834990958409,16.672805820827648,16.73975876194811,16.543986254295532,16.602545165322123,16.426783479349186,16.917063762196506,16.503996346197763,16.717290512269592,16.86248030609948,16.651984400091763,16.643102264927933,16.784048665089557,16.611319895228334,16.61962627536398,16.70834764685675,16.68977350720659,16.888863636363638,16.724414869206058,16.905666818388713,16.866833314396093,16.912575121895905,16.70727251969403,16.770849835917165,16.77205547976353,16.63624928530589,16.765113636363637,16.74496644295302,16.847069493254732,16.70781517398745,16.623607004775984,16.879286849875086,16.613172966781214,16.8802752293578],\"type\":\"histogram\",\"xaxis\":\"x15\",\"yaxis\":\"y15\",\"opacity\":0.6},{\"histfunc\":\"avg\",\"marker\":{\"color\":\"#F54927\"},\"name\":\"churn\",\"showlegend\":false,\"x\":[2075.9133253445175,2079.8115558194777,2208.981703659268,2115.042225519288,2191.855653206651,2169.9811611374407,2032.2404662283323,2173.4490542168674,2085.0968697225576,2067.7875271411335,2201.670678975581,2153.1529486404834,2215.3341785714283,2209.421879114303,2162.844425936942,2194.525248057382,2234.4798164594436,2128.4795080983804,2131.9861477411478,2108.4438498789345,2232.1174644549765,2092.6551430274135,2217.9105122096485,2184.247375,2135.998598462448,2218.7422342342343,2171.2602286401925,2081.835866910867,2195.4950566487773,2119.7621551213733,2130.65553699284,2162.924682254197,2175.2592865636148,2175.2099279279278,2230.7020523497918,2136.466378281623,2179.2840374170187,2179.3936297640653,2120.6082505910167,2218.5486363636364,2208.499115361626,2173.966510791367,2184.927579771222,2127.138285543608,2137.5270454545453,2211.9998820754718,2144.8366787439613,2128.2711416361417,2184.519898989899,2067.4886447761196,2166.669214285714,2240.4971710526315,2120.4168850506253,2151.5571308016874,2143.0351724137927,2166.0347937836223,2125.3484104389086,2169.737951161406,2039.7442391947898,2050.747058823529,2235.4429579134558,2127.889957780458,2265.9396936936937,2171.36050389922,2304.3430048367595,2088.0358293838863,2087.447278141751,2173.0940402843603,2229.2785970149257,2114.368225419664,2194.9397210430566,2125.0587274909963,2148.4193709582596,2222.6540510083037,2296.989863339275,2215.3270262035344,2236.3443094250147,2195.004921875,2201.17415817855,2194.7275326991676,2139.4707645996386,2335.658396449704,2231.770711297071,2180.9401185536453,2186.209607142857,2091.2306869772997,2097.0793723849374,2115.7643417874397,2147.8102615933412,2147.114554046072,2230.431235888295,2295.7115509957757,2185.6995409064157,2159.4548181276086,2225.256224366707,2010.6147607655503,2129.1876992210905,2150.0122814371257,2147.3254087677724,2086.3857444243517],\"type\":\"histogram\",\"xaxis\":\"x16\",\"yaxis\":\"y16\",\"opacity\":0.6},{\"histfunc\":\"avg\",\"marker\":{\"color\":\"#2784F5\"},\"name\":\"no churn\",\"showlegend\":false,\"x\":[2332.2072919109028,2371.9901878570736,2343.018400386847,2323.643758356748,2286.060517408124,2307.624339385745,2360.7313324971055,2395.086894839338,2378.0237199379367,2340.0295998843035,2337.6141193623644,2366.524884102762,2396.18152873675,2383.7427086964944,2391.0853688880316,2369.9632601759645,2433.7542132765625,2349.9577889784946,2381.5779943939688,2381.4968990524076,2347.2953409637394,2337.957476355916,2386.523359006451,2361.783951441285,2398.175155692664,2358.247711322218,2365.076504183693,2357.714656473776,2357.795674893945,2345.872725159791,2419.3543585780526,2312.4986480209036,2341.2716006951146,2378.0019161676646,2350.619929646277,2320.7776747558737,2374.363228695234,2338.809422704378,2328.0698554774062,2320.5021847930702,2371.4074772154354,2342.106528276264,2369.974100872939,2368.4610501216544,2315.6763085292405,2336.552037288794,2388.123748068006,2359.1904465414923,2353.8855731340386,2385.2569078564497,2300.7687435773146,2353.272749565553,2326.452154175173,2281.7084529212943,2312.3593625036224,2385.334376950078,2335.330762262696,2300.7814259491834,2384.199209588909,2405.6766429327436,2339.625617199688,2374.087116629626,2352.2493949870354,2334.631962797907,2345.8394025493826,2397.3855727854234,2345.2526678853187,2342.383298628004,2346.521262587142,2363.4157826171495,2311.104869892059,2368.636509133082,2357.809842155919,2342.9286913891856,2356.56284535482,2385.252860462864,2346.2243885516045,2376.891537264059,2371.6540506815127,2326.8798086401857,2359.47581029968,2350.709666731254,2395.0971531286436,2378.6828997184734,2356.7683097224917,2414.451370048309,2405.2813096044106,2353.030009651578,2349.875407207033,2323.2186861243094,2346.145398050757,2368.7521643518517,2363.7438096161304,2380.1611239637555,2384.7464339513326,2365.8056351128766,2347.8884168200757,2365.661712348668,2405.097642559783,2329.343372419808],\"type\":\"histogram\",\"xaxis\":\"x16\",\"yaxis\":\"y16\",\"opacity\":0.6}],                        {\"template\":{\"data\":{\"histogram2dcontour\":[{\"type\":\"histogram2dcontour\",\"colorbar\":{\"outlinewidth\":0,\"ticks\":\"\"},\"colorscale\":[[0.0,\"#0d0887\"],[0.1111111111111111,\"#46039f\"],[0.2222222222222222,\"#7201a8\"],[0.3333333333333333,\"#9c179e\"],[0.4444444444444444,\"#bd3786\"],[0.5555555555555556,\"#d8576b\"],[0.6666666666666666,\"#ed7953\"],[0.7777777777777778,\"#fb9f3a\"],[0.8888888888888888,\"#fdca26\"],[1.0,\"#f0f921\"]]}],\"choropleth\":[{\"type\":\"choropleth\",\"colorbar\":{\"outlinewidth\":0,\"ticks\":\"\"}}],\"histogram2d\":[{\"type\":\"histogram2d\",\"colorbar\":{\"outlinewidth\":0,\"ticks\":\"\"},\"colorscale\":[[0.0,\"#0d0887\"],[0.1111111111111111,\"#46039f\"],[0.2222222222222222,\"#7201a8\"],[0.3333333333333333,\"#9c179e\"],[0.4444444444444444,\"#bd3786\"],[0.5555555555555556,\"#d8576b\"],[0.6666666666666666,\"#ed7953\"],[0.7777777777777778,\"#fb9f3a\"],[0.8888888888888888,\"#fdca26\"],[1.0,\"#f0f921\"]]}],\"heatmap\":[{\"type\":\"heatmap\",\"colorbar\":{\"outlinewidth\":0,\"ticks\":\"\"},\"colorscale\":[[0.0,\"#0d0887\"],[0.1111111111111111,\"#46039f\"],[0.2222222222222222,\"#7201a8\"],[0.3333333333333333,\"#9c179e\"],[0.4444444444444444,\"#bd3786\"],[0.5555555555555556,\"#d8576b\"],[0.6666666666666666,\"#ed7953\"],[0.7777777777777778,\"#fb9f3a\"],[0.8888888888888888,\"#fdca26\"],[1.0,\"#f0f921\"]]}],\"heatmapgl\":[{\"type\":\"heatmapgl\",\"colorbar\":{\"outlinewidth\":0,\"ticks\":\"\"},\"colorscale\":[[0.0,\"#0d0887\"],[0.1111111111111111,\"#46039f\"],[0.2222222222222222,\"#7201a8\"],[0.3333333333333333,\"#9c179e\"],[0.4444444444444444,\"#bd3786\"],[0.5555555555555556,\"#d8576b\"],[0.6666666666666666,\"#ed7953\"],[0.7777777777777778,\"#fb9f3a\"],[0.8888888888888888,\"#fdca26\"],[1.0,\"#f0f921\"]]}],\"contourcarpet\":[{\"type\":\"contourcarpet\",\"colorbar\":{\"outlinewidth\":0,\"ticks\":\"\"}}],\"contour\":[{\"type\":\"contour\",\"colorbar\":{\"outlinewidth\":0,\"ticks\":\"\"},\"colorscale\":[[0.0,\"#0d0887\"],[0.1111111111111111,\"#46039f\"],[0.2222222222222222,\"#7201a8\"],[0.3333333333333333,\"#9c179e\"],[0.4444444444444444,\"#bd3786\"],[0.5555555555555556,\"#d8576b\"],[0.6666666666666666,\"#ed7953\"],[0.7777777777777778,\"#fb9f3a\"],[0.8888888888888888,\"#fdca26\"],[1.0,\"#f0f921\"]]}],\"surface\":[{\"type\":\"surface\",\"colorbar\":{\"outlinewidth\":0,\"ticks\":\"\"},\"colorscale\":[[0.0,\"#0d0887\"],[0.1111111111111111,\"#46039f\"],[0.2222222222222222,\"#7201a8\"],[0.3333333333333333,\"#9c179e\"],[0.4444444444444444,\"#bd3786\"],[0.5555555555555556,\"#d8576b\"],[0.6666666666666666,\"#ed7953\"],[0.7777777777777778,\"#fb9f3a\"],[0.8888888888888888,\"#fdca26\"],[1.0,\"#f0f921\"]]}],\"mesh3d\":[{\"type\":\"mesh3d\",\"colorbar\":{\"outlinewidth\":0,\"ticks\":\"\"}}],\"scatter\":[{\"fillpattern\":{\"fillmode\":\"overlay\",\"size\":10,\"solidity\":0.2},\"type\":\"scatter\"}],\"parcoords\":[{\"type\":\"parcoords\",\"line\":{\"colorbar\":{\"outlinewidth\":0,\"ticks\":\"\"}}}],\"scatterpolargl\":[{\"type\":\"scatterpolargl\",\"marker\":{\"colorbar\":{\"outlinewidth\":0,\"ticks\":\"\"}}}],\"bar\":[{\"error_x\":{\"color\":\"#2a3f5f\"},\"error_y\":{\"color\":\"#2a3f5f\"},\"marker\":{\"line\":{\"color\":\"#E5ECF6\",\"width\":0.5},\"pattern\":{\"fillmode\":\"overlay\",\"size\":10,\"solidity\":0.2}},\"type\":\"bar\"}],\"scattergeo\":[{\"type\":\"scattergeo\",\"marker\":{\"colorbar\":{\"outlinewidth\":0,\"ticks\":\"\"}}}],\"scatterpolar\":[{\"type\":\"scatterpolar\",\"marker\":{\"colorbar\":{\"outlinewidth\":0,\"ticks\":\"\"}}}],\"histogram\":[{\"marker\":{\"pattern\":{\"fillmode\":\"overlay\",\"size\":10,\"solidity\":0.2}},\"type\":\"histogram\"}],\"scattergl\":[{\"type\":\"scattergl\",\"marker\":{\"colorbar\":{\"outlinewidth\":0,\"ticks\":\"\"}}}],\"scatter3d\":[{\"type\":\"scatter3d\",\"line\":{\"colorbar\":{\"outlinewidth\":0,\"ticks\":\"\"}},\"marker\":{\"colorbar\":{\"outlinewidth\":0,\"ticks\":\"\"}}}],\"scattermapbox\":[{\"type\":\"scattermapbox\",\"marker\":{\"colorbar\":{\"outlinewidth\":0,\"ticks\":\"\"}}}],\"scatterternary\":[{\"type\":\"scatterternary\",\"marker\":{\"colorbar\":{\"outlinewidth\":0,\"ticks\":\"\"}}}],\"scattercarpet\":[{\"type\":\"scattercarpet\",\"marker\":{\"colorbar\":{\"outlinewidth\":0,\"ticks\":\"\"}}}],\"carpet\":[{\"aaxis\":{\"endlinecolor\":\"#2a3f5f\",\"gridcolor\":\"white\",\"linecolor\":\"white\",\"minorgridcolor\":\"white\",\"startlinecolor\":\"#2a3f5f\"},\"baxis\":{\"endlinecolor\":\"#2a3f5f\",\"gridcolor\":\"white\",\"linecolor\":\"white\",\"minorgridcolor\":\"white\",\"startlinecolor\":\"#2a3f5f\"},\"type\":\"carpet\"}],\"table\":[{\"cells\":{\"fill\":{\"color\":\"#EBF0F8\"},\"line\":{\"color\":\"white\"}},\"header\":{\"fill\":{\"color\":\"#C8D4E3\"},\"line\":{\"color\":\"white\"}},\"type\":\"table\"}],\"barpolar\":[{\"marker\":{\"line\":{\"color\":\"#E5ECF6\",\"width\":0.5},\"pattern\":{\"fillmode\":\"overlay\",\"size\":10,\"solidity\":0.2}},\"type\":\"barpolar\"}],\"pie\":[{\"automargin\":true,\"type\":\"pie\"}]},\"layout\":{\"autotypenumbers\":\"strict\",\"colorway\":[\"#636efa\",\"#EF553B\",\"#00cc96\",\"#ab63fa\",\"#FFA15A\",\"#19d3f3\",\"#FF6692\",\"#B6E880\",\"#FF97FF\",\"#FECB52\"],\"font\":{\"color\":\"#2a3f5f\"},\"hovermode\":\"closest\",\"hoverlabel\":{\"align\":\"left\"},\"paper_bgcolor\":\"white\",\"plot_bgcolor\":\"#E5ECF6\",\"polar\":{\"bgcolor\":\"#E5ECF6\",\"angularaxis\":{\"gridcolor\":\"white\",\"linecolor\":\"white\",\"ticks\":\"\"},\"radialaxis\":{\"gridcolor\":\"white\",\"linecolor\":\"white\",\"ticks\":\"\"}},\"ternary\":{\"bgcolor\":\"#E5ECF6\",\"aaxis\":{\"gridcolor\":\"white\",\"linecolor\":\"white\",\"ticks\":\"\"},\"baxis\":{\"gridcolor\":\"white\",\"linecolor\":\"white\",\"ticks\":\"\"},\"caxis\":{\"gridcolor\":\"white\",\"linecolor\":\"white\",\"ticks\":\"\"}},\"coloraxis\":{\"colorbar\":{\"outlinewidth\":0,\"ticks\":\"\"}},\"colorscale\":{\"sequential\":[[0.0,\"#0d0887\"],[0.1111111111111111,\"#46039f\"],[0.2222222222222222,\"#7201a8\"],[0.3333333333333333,\"#9c179e\"],[0.4444444444444444,\"#bd3786\"],[0.5555555555555556,\"#d8576b\"],[0.6666666666666666,\"#ed7953\"],[0.7777777777777778,\"#fb9f3a\"],[0.8888888888888888,\"#fdca26\"],[1.0,\"#f0f921\"]],\"sequentialminus\":[[0.0,\"#0d0887\"],[0.1111111111111111,\"#46039f\"],[0.2222222222222222,\"#7201a8\"],[0.3333333333333333,\"#9c179e\"],[0.4444444444444444,\"#bd3786\"],[0.5555555555555556,\"#d8576b\"],[0.6666666666666666,\"#ed7953\"],[0.7777777777777778,\"#fb9f3a\"],[0.8888888888888888,\"#fdca26\"],[1.0,\"#f0f921\"]],\"diverging\":[[0,\"#8e0152\"],[0.1,\"#c51b7d\"],[0.2,\"#de77ae\"],[0.3,\"#f1b6da\"],[0.4,\"#fde0ef\"],[0.5,\"#f7f7f7\"],[0.6,\"#e6f5d0\"],[0.7,\"#b8e186\"],[0.8,\"#7fbc41\"],[0.9,\"#4d9221\"],[1,\"#276419\"]]},\"xaxis\":{\"gridcolor\":\"white\",\"linecolor\":\"white\",\"ticks\":\"\",\"title\":{\"standoff\":15},\"zerolinecolor\":\"white\",\"automargin\":true,\"zerolinewidth\":2},\"yaxis\":{\"gridcolor\":\"white\",\"linecolor\":\"white\",\"ticks\":\"\",\"title\":{\"standoff\":15},\"zerolinecolor\":\"white\",\"automargin\":true,\"zerolinewidth\":2},\"scene\":{\"xaxis\":{\"backgroundcolor\":\"#E5ECF6\",\"gridcolor\":\"white\",\"linecolor\":\"white\",\"showbackground\":true,\"ticks\":\"\",\"zerolinecolor\":\"white\",\"gridwidth\":2},\"yaxis\":{\"backgroundcolor\":\"#E5ECF6\",\"gridcolor\":\"white\",\"linecolor\":\"white\",\"showbackground\":true,\"ticks\":\"\",\"zerolinecolor\":\"white\",\"gridwidth\":2},\"zaxis\":{\"backgroundcolor\":\"#E5ECF6\",\"gridcolor\":\"white\",\"linecolor\":\"white\",\"showbackground\":true,\"ticks\":\"\",\"zerolinecolor\":\"white\",\"gridwidth\":2}},\"shapedefaults\":{\"line\":{\"color\":\"#2a3f5f\"}},\"annotationdefaults\":{\"arrowcolor\":\"#2a3f5f\",\"arrowhead\":0,\"arrowwidth\":1},\"geo\":{\"bgcolor\":\"white\",\"landcolor\":\"#E5ECF6\",\"subunitcolor\":\"white\",\"showland\":true,\"showlakes\":true,\"lakecolor\":\"white\"},\"title\":{\"x\":0.05},\"mapbox\":{\"style\":\"light\"}}},\"xaxis\":{\"anchor\":\"y\",\"domain\":[0.0,0.2888888888888889]},\"yaxis\":{\"anchor\":\"x\",\"domain\":[0.9027777777777777,0.9999999999999999]},\"xaxis2\":{\"anchor\":\"y2\",\"domain\":[0.35555555555555557,0.6444444444444445]},\"yaxis2\":{\"anchor\":\"x2\",\"domain\":[0.9027777777777777,0.9999999999999999]},\"xaxis3\":{\"anchor\":\"y3\",\"domain\":[0.7111111111111111,1.0]},\"yaxis3\":{\"anchor\":\"x3\",\"domain\":[0.9027777777777777,0.9999999999999999]},\"xaxis4\":{\"anchor\":\"y4\",\"domain\":[0.0,0.2888888888888889]},\"yaxis4\":{\"anchor\":\"x4\",\"domain\":[0.7222222222222222,0.8194444444444444]},\"xaxis5\":{\"anchor\":\"y5\",\"domain\":[0.35555555555555557,0.6444444444444445]},\"yaxis5\":{\"anchor\":\"x5\",\"domain\":[0.7222222222222222,0.8194444444444444]},\"xaxis6\":{\"anchor\":\"y6\",\"domain\":[0.7111111111111111,1.0]},\"yaxis6\":{\"anchor\":\"x6\",\"domain\":[0.7222222222222222,0.8194444444444444]},\"xaxis7\":{\"anchor\":\"y7\",\"domain\":[0.0,0.2888888888888889]},\"yaxis7\":{\"anchor\":\"x7\",\"domain\":[0.5416666666666667,0.638888888888889]},\"xaxis8\":{\"anchor\":\"y8\",\"domain\":[0.35555555555555557,0.6444444444444445]},\"yaxis8\":{\"anchor\":\"x8\",\"domain\":[0.5416666666666667,0.638888888888889]},\"xaxis9\":{\"anchor\":\"y9\",\"domain\":[0.7111111111111111,1.0]},\"yaxis9\":{\"anchor\":\"x9\",\"domain\":[0.5416666666666667,0.638888888888889]},\"xaxis10\":{\"anchor\":\"y10\",\"domain\":[0.0,0.2888888888888889]},\"yaxis10\":{\"anchor\":\"x10\",\"domain\":[0.3611111111111111,0.4583333333333333]},\"xaxis11\":{\"anchor\":\"y11\",\"domain\":[0.35555555555555557,0.6444444444444445]},\"yaxis11\":{\"anchor\":\"x11\",\"domain\":[0.3611111111111111,0.4583333333333333]},\"xaxis12\":{\"anchor\":\"y12\",\"domain\":[0.7111111111111111,1.0]},\"yaxis12\":{\"anchor\":\"x12\",\"domain\":[0.3611111111111111,0.4583333333333333]},\"xaxis13\":{\"anchor\":\"y13\",\"domain\":[0.0,0.2888888888888889]},\"yaxis13\":{\"anchor\":\"x13\",\"domain\":[0.18055555555555555,0.2777777777777778]},\"xaxis14\":{\"anchor\":\"y14\",\"domain\":[0.35555555555555557,0.6444444444444445]},\"yaxis14\":{\"anchor\":\"x14\",\"domain\":[0.18055555555555555,0.2777777777777778]},\"xaxis15\":{\"anchor\":\"y15\",\"domain\":[0.7111111111111111,1.0]},\"yaxis15\":{\"anchor\":\"x15\",\"domain\":[0.18055555555555555,0.2777777777777778]},\"xaxis16\":{\"anchor\":\"y16\",\"domain\":[0.0,0.2888888888888889]},\"yaxis16\":{\"anchor\":\"x16\",\"domain\":[0.0,0.09722222222222222]},\"xaxis17\":{\"anchor\":\"y17\",\"domain\":[0.35555555555555557,0.6444444444444445]},\"yaxis17\":{\"anchor\":\"x17\",\"domain\":[0.0,0.09722222222222222]},\"xaxis18\":{\"anchor\":\"y18\",\"domain\":[0.7111111111111111,1.0]},\"yaxis18\":{\"anchor\":\"x18\",\"domain\":[0.0,0.09722222222222222]},\"annotations\":[{\"font\":{\"size\":16},\"showarrow\":false,\"text\":\"bd_treated\",\"x\":0.14444444444444446,\"xanchor\":\"center\",\"xref\":\"paper\",\"y\":0.9999999999999999,\"yanchor\":\"bottom\",\"yref\":\"paper\"},{\"font\":{\"size\":16},\"showarrow\":false,\"text\":\"payment_plan_days\",\"x\":0.5,\"xanchor\":\"center\",\"xref\":\"paper\",\"y\":0.9999999999999999,\"yanchor\":\"bottom\",\"yref\":\"paper\"},{\"font\":{\"size\":16},\"showarrow\":false,\"text\":\"plan_list_price\",\"x\":0.8555555555555556,\"xanchor\":\"center\",\"xref\":\"paper\",\"y\":0.9999999999999999,\"yanchor\":\"bottom\",\"yref\":\"paper\"},{\"font\":{\"size\":16},\"showarrow\":false,\"text\":\"actual_amount_paid\",\"x\":0.14444444444444446,\"xanchor\":\"center\",\"xref\":\"paper\",\"y\":0.8194444444444444,\"yanchor\":\"bottom\",\"yref\":\"paper\"},{\"font\":{\"size\":16},\"showarrow\":false,\"text\":\"num_25\",\"x\":0.5,\"xanchor\":\"center\",\"xref\":\"paper\",\"y\":0.8194444444444444,\"yanchor\":\"bottom\",\"yref\":\"paper\"},{\"font\":{\"size\":16},\"showarrow\":false,\"text\":\"num_50\",\"x\":0.8555555555555556,\"xanchor\":\"center\",\"xref\":\"paper\",\"y\":0.8194444444444444,\"yanchor\":\"bottom\",\"yref\":\"paper\"},{\"font\":{\"size\":16},\"showarrow\":false,\"text\":\"num_75\",\"x\":0.14444444444444446,\"xanchor\":\"center\",\"xref\":\"paper\",\"y\":0.638888888888889,\"yanchor\":\"bottom\",\"yref\":\"paper\"},{\"font\":{\"size\":16},\"showarrow\":false,\"text\":\"num_985\",\"x\":0.5,\"xanchor\":\"center\",\"xref\":\"paper\",\"y\":0.638888888888889,\"yanchor\":\"bottom\",\"yref\":\"paper\"},{\"font\":{\"size\":16},\"showarrow\":false,\"text\":\"num_100\",\"x\":0.8555555555555556,\"xanchor\":\"center\",\"xref\":\"paper\",\"y\":0.638888888888889,\"yanchor\":\"bottom\",\"yref\":\"paper\"},{\"font\":{\"size\":16},\"showarrow\":false,\"text\":\"num_unq\",\"x\":0.14444444444444446,\"xanchor\":\"center\",\"xref\":\"paper\",\"y\":0.4583333333333333,\"yanchor\":\"bottom\",\"yref\":\"paper\"},{\"font\":{\"size\":16},\"showarrow\":false,\"text\":\"total_secs_treated\",\"x\":0.5,\"xanchor\":\"center\",\"xref\":\"paper\",\"y\":0.4583333333333333,\"yanchor\":\"bottom\",\"yref\":\"paper\"},{\"font\":{\"size\":16},\"showarrow\":false,\"text\":\"months_registered\",\"x\":0.8555555555555556,\"xanchor\":\"center\",\"xref\":\"paper\",\"y\":0.4583333333333333,\"yanchor\":\"bottom\",\"yref\":\"paper\"},{\"font\":{\"size\":16},\"showarrow\":false,\"text\":\"days_until_expire_treated\",\"x\":0.14444444444444446,\"xanchor\":\"center\",\"xref\":\"paper\",\"y\":0.2777777777777778,\"yanchor\":\"bottom\",\"yref\":\"paper\"},{\"font\":{\"size\":16},\"showarrow\":false,\"text\":\"months_until_expire_treated\",\"x\":0.5,\"xanchor\":\"center\",\"xref\":\"paper\",\"y\":0.2777777777777778,\"yanchor\":\"bottom\",\"yref\":\"paper\"},{\"font\":{\"size\":16},\"showarrow\":false,\"text\":\"payment_day\",\"x\":0.8555555555555556,\"xanchor\":\"center\",\"xref\":\"paper\",\"y\":0.2777777777777778,\"yanchor\":\"bottom\",\"yref\":\"paper\"},{\"font\":{\"size\":16},\"showarrow\":false,\"text\":\"total_mins_treated\",\"x\":0.14444444444444446,\"xanchor\":\"center\",\"xref\":\"paper\",\"y\":0.09722222222222222,\"yanchor\":\"bottom\",\"yref\":\"paper\"}],\"title\":{\"text\":\"Histogramas da Média por Coluna (Churn vs No Churn)\"},\"barmode\":\"overlay\",\"height\":900,\"width\":1000},                        {\"responsive\": true}                    ).then(function(){\n",
              "                            \n",
              "var gd = document.getElementById('4e42f4a6-4cde-4c0d-8540-0597492e14ab');\n",
              "var x = new MutationObserver(function (mutations, observer) {{\n",
              "        var display = window.getComputedStyle(gd).display;\n",
              "        if (!display || display === 'none') {{\n",
              "            console.log([gd, 'removed!']);\n",
              "            Plotly.purge(gd);\n",
              "            observer.disconnect();\n",
              "        }}\n",
              "}});\n",
              "\n",
              "// Listen for the removal of the full notebook cells\n",
              "var notebookContainer = gd.closest('#notebook-container');\n",
              "if (notebookContainer) {{\n",
              "    x.observe(notebookContainer, {childList: true});\n",
              "}}\n",
              "\n",
              "// Listen for the clearing of the current output cell\n",
              "var outputEl = gd.closest('.output');\n",
              "if (outputEl) {{\n",
              "    x.observe(outputEl, {childList: true});\n",
              "}}\n",
              "\n",
              "                        })                };                            </script>        </div>\n",
              "</body>\n",
              "</html>"
            ]
          },
          "metadata": {}
        }
      ],
      "source": [
        "df_media = gera_df_media(df_num_pd,cols_to_avg, num_splits=100)\n",
        "gera_subplot_media(df_media, cols_to_avg, 3)"
      ]
    },
    {
      "cell_type": "code",
      "execution_count": null,
      "metadata": {
        "colab": {
          "base_uri": "https://localhost:8080/",
          "height": 917
        },
        "id": "PJWdCabqCQSH",
        "outputId": "5b013ece-3056-4f80-97ca-7e306914cc12"
      },
      "outputs": [
        {
          "output_type": "display_data",
          "data": {
            "text/html": [
              "<html>\n",
              "<head><meta charset=\"utf-8\" /></head>\n",
              "<body>\n",
              "    <div>            <script src=\"https://cdnjs.cloudflare.com/ajax/libs/mathjax/2.7.5/MathJax.js?config=TeX-AMS-MML_SVG\"></script><script type=\"text/javascript\">if (window.MathJax && window.MathJax.Hub && window.MathJax.Hub.Config) {window.MathJax.Hub.Config({SVG: {font: \"STIX-Web\"}});}</script>                <script type=\"text/javascript\">window.PlotlyConfig = {MathJaxConfig: 'local'};</script>\n",
              "        <script charset=\"utf-8\" src=\"https://cdn.plot.ly/plotly-2.35.2.min.js\"></script>                <div id=\"67453595-06e7-4180-ac8d-060419566456\" class=\"plotly-graph-div\" style=\"height:900px; width:1000px;\"></div>            <script type=\"text/javascript\">                                    window.PLOTLYENV=window.PLOTLYENV || {};                                    if (document.getElementById(\"67453595-06e7-4180-ac8d-060419566456\")) {                    Plotly.newPlot(                        \"67453595-06e7-4180-ac8d-060419566456\",                        [{\"histfunc\":\"avg\",\"marker\":{\"color\":\"#F54927\"},\"name\":\"churn\",\"showlegend\":true,\"x\":[20.22,19.835789473684212,19.048947368421054,19.608421052631577,20.12,20.049473684210525,19.663684210526316,20.887894736842107,19.77315789473684,19.78684210526316,20.091052631578947,20.24421052631579,20.033684210526317,19.774736842105263,20.01105263157895,19.763684210526314,19.813157894736843,19.90157894736842,19.52315789473684,19.812105263157896,19.44157894736842,20.104736842105265,20.46842105263158,20.26684210526316,19.846842105263157,20.042105263157893,19.840526315789475,20.227894736842106,19.844736842105263,20.04,19.265263157894736,19.71,20.539473684210527,20.27578947368421,19.425789473684212,19.94736842105263,19.943684210526317,20.07315789473684,19.90736842105263,20.09578947368421,19.76736842105263,20.71,19.978947368421053,19.821578947368423,20.040526315789474,20.11421052631579,19.971052631578946,19.514736842105265,19.843684210526316,20.277368421052632,19.867894736842103,20.52842105263158,20.067894736842106,19.210526315789473,19.97157894736842,20.108421052631577,19.86,20.76421052631579,20.51578947368421,20.769473684210528,19.609473684210528,20.271578947368422,19.782631578947367,20.024736842105263,19.771052631578947,19.78578947368421,20.425789473684212,20.233684210526317,20.012105263157896,19.546842105263156,19.490526315789474,19.912105263157894,19.05157894736842,19.893684210526317,19.78421052631579,20.12,20.05578947368421,20.161578947368422,20.014736842105265,20.266315789473683,20.13421052631579,20.040526315789474,20.107894736842105,19.32894736842105,19.929473684210528,19.565263157894737,20.096315789473685,21.007894736842104,20.055263157894736,19.79842105263158,20.685263157894738,20.13,19.73421052631579,20.15684210526316,19.818947368421053,20.23842105263158,20.28736842105263,19.431578947368422,20.133157894736843,19.77,20.295180722891565],\"type\":\"histogram\",\"xaxis\":\"x\",\"yaxis\":\"y\",\"opacity\":0.6},{\"histfunc\":\"avg\",\"marker\":{\"color\":\"#2784F5\"},\"name\":\"no churn\",\"showlegend\":true,\"x\":[15.57842105263158,16.186315789473685,15.747894736842106,15.475263157894737,15.733684210526317,15.725263157894737,16.37842105263158,16.127894736842105,16.131052631578946,16.028947368421054,15.29,15.972631578947368,15.425263157894737,16.007368421052632,15.823157894736843,16.080526315789474,15.663684210526316,16.056315789473683,15.568947368421053,15.779473684210526,15.790526315789474,15.312631578947368,16.235263157894735,16.341578947368422,15.364736842105263,15.887368421052631,16.20421052631579,16.45263157894737,15.83578947368421,16.177894736842106,15.24736842105263,15.58842105263158,16.366315789473685,15.723157894736842,16.107894736842105,16.344736842105263,15.84578947368421,16.347894736842104,15.758947368421053,16.209473684210526,16.033684210526317,16.389473684210525,16.026315789473685,15.651052631578947,15.956842105263158,16.185263157894738,15.566315789473684,15.933684210526316,15.523157894736842,16.414736842105263,16.537894736842105,14.954736842105262,16.24421052631579,15.845263157894736,15.45,15.647368421052631,15.987894736842104,15.56578947368421,16.533684210526317,16.472631578947368,15.46,15.51,15.878947368421052,15.97,16.02421052631579,16.117368421052632,16.24105263157895,16.352105263157895,16.39315789473684,15.864210526315789,15.413684210526316,15.683157894736842,16.088947368421053,15.205789473684211,16.367894736842103,16.29421052631579,16.122105263157895,16.173684210526314,16.11315789473684,15.804210526315789,16.354736842105265,16.15157894736842,16.456315789473685,15.58157894736842,15.49421052631579,16.80157894736842,15.848947368421053,16.311052631578946,15.864210526315789,15.934736842105263,15.301578947368421,16.28,15.97,15.719473684210527,15.778421052631579,16.04578947368421,16.279473684210526,16.41894736842105,16.39421052631579,16.68578947368421,15.973157894736842],\"type\":\"histogram\",\"xaxis\":\"x\",\"yaxis\":\"y\",\"opacity\":0.6},{\"histfunc\":\"avg\",\"marker\":{\"color\":\"#F54927\"},\"name\":\"churn\",\"showlegend\":false,\"x\":[29.705300988319856,29.008108108108107,29.87226277372263,29.202348690153567,28.81306715063521,28.83662940670679,28.9375,28.850773430391264,29.5326278659612,28.94611307420495,29.70409051348999,29.19099099099099,28.77807486631016,29.155080213903744,29.39150090415913,29.775,29.40088888888889,30.096539162112933,28.907356948228884,30.672382671480143,29.423318385650223,28.91563055062167,29.297909407665504,29.484361036639857,28.973142345568487,29.351326623970724,29.525838621940164,28.96386630532972,30.00175438596491,29.84014532243415,29.020590868397495,29.176574977817214,29.30637915543576,29.30119375573921,29.207615593834994,30.363074204946997,29.392531876138435,28.944099378881987,29.636199095022626,28.849424269264837,28.796444444444443,29.3972850678733,28.555454545454545,28.917516218721037,30.236866359447003,28.956999085086917,29.070535714285715,28.965004374453194,29.049122807017543,29.508340649692713,30.06323396567299,29.490825688073393,29.257750221434897,29.55374032674119,28.999108734402853,29.48064806480648,29.501413760603203,29.157613535173642,29.382749326145554,29.321461187214613,30.83968113374668,29.188328912466844,29.027336860670193,29.03174603174603,28.62956204379562,28.837187789084183,28.784601283226397,29.76875,29.000919117647058,29.52309058614565,29.235668789808916,30.13197026022305,29.695255474452555,28.985441310282074,29.68859649122807,29.01412429378531,29.300541516245488,29.180918091809183,29.669894366197184,28.864347826086956,29.32216014897579,29.034574468085108,29.388086642599276,28.84380776340111,29.145998240985048,29.40376007162041,29.13826940231936,29.970765262252794,29.29385964912281,29.0,29.771428571428572,28.893820713664056,29.596988485385296,29.528776978417266,29.293913043478263,28.876353790613717,29.63172288058341,29.08782608695652,29.529095792300804,28.847533632286996,28.85],\"type\":\"histogram\",\"xaxis\":\"x2\",\"yaxis\":\"y2\",\"opacity\":0.6},{\"histfunc\":\"avg\",\"marker\":{\"color\":\"#2784F5\"},\"name\":\"no churn\",\"showlegend\":false,\"x\":[34.15726109857035,33.46043707611153,33.26992103374013,34.18041237113402,33.386480529022776,35.096069868995635,33.69202898550725,32.87750556792873,34.83370288248337,33.88114453411592,34.45352323838081,34.82142857142857,34.84689349112426,34.8848660391021,34.512052593133674,33.93030080704329,32.889605734767024,33.91942446043166,34.81778425655977,33.412471825694965,32.795979151154135,34.63784183296379,33.932442464736454,34.78267254038179,34.30200860832138,32.61601186063751,34.84138972809668,33.902919708029195,34.307063197026025,34.033499643620814,35.25850832729906,33.616458486407055,33.482962962962965,34.52227903579255,34.61103047895501,33.23956043956044,33.97959183673469,34.17180616740088,34.92509090909091,33.74279379157428,33.037410071942446,33.2457689477557,34.2795076031861,33.34222222222222,34.32166301969365,32.706577974870655,34.06191504679626,34.635901162790695,34.28717201166181,34.69859985261606,34.56066314996232,32.53945480631277,34.55597014925373,33.76598837209303,34.34829833454019,32.6800878477306,34.67870302137067,33.76306107431935,34.24122807017544,32.50072568940494,34.43413173652694,33.536710719530106,34.41241685144124,34.406451612903226,33.49045521292217,33.14548126377664,34.78187177597642,34.4440353460972,34.305779078273595,35.30482456140351,33.924308588064044,32.7353595255745,34.11538461538461,33.82545454545455,33.9311377245509,33.57658321060383,33.80583269378358,34.08339376359681,33.60014727540501,33.769568397951716,33.528657616892914,33.613839285714285,35.21656976744186,34.278712509144114,33.96209912536443,34.37975646879757,33.69241877256318,34.883668903803134,33.224444444444444,34.332848837209305,33.74210139603233,33.89948263118995,34.16212232866618,33.274436090225564,33.96620132255694,33.15555555555556,34.530111524163566,34.84455958549223,33.95096582466567,33.636767976278726,33.10112359550562],\"type\":\"histogram\",\"xaxis\":\"x2\",\"yaxis\":\"y2\",\"opacity\":0.6},{\"histfunc\":\"avg\",\"marker\":{\"color\":\"#F54927\"},\"name\":\"churn\",\"showlegend\":false,\"x\":[140.67385864257812,140.54774475097656,139.60858154296875,141.05419921875,139.87840270996094,139.00257873535156,141.03697204589844,140.63511657714844,139.9188690185547,140.62367248535156,139.74325561523438,140.10720825195312,140.26025390625,139.68716430664062,141.64918518066406,141.6080322265625,141.91111755371094,141.19398498535156,140.0372314453125,141.12725830078125,141.03945922851562,140.7753143310547,140.5984344482422,139.65057373046875,141.20858764648438,138.66514587402344,139.68630981445312,138.52212524414062,141.66403198242188,139.59127807617188,138.91943359375,140.6619415283203,140.86073303222656,140.4710693359375,138.1604766845703,140.26943969726562,141.71128845214844,141.79058837890625,140.2298583984375,140.63330078125,140.1377716064453,140.5981903076172,138.74545288085938,141.17515563964844,140.2082977294922,140.58279418945312,140.7937469482422,140.80052185058594,141.4324493408203,140.2949981689453,140.9132843017578,142.4633026123047,141.00885009765625,140.5365447998047,138.66221618652344,140.20521545410156,139.67955017089844,140.09706115722656,141.17071533203125,141.03196716308594,142.93179321289062,139.36427307128906,141.14109802246094,141.29629516601562,138.47445678710938,140.26548767089844,139.82676696777344,139.4330291748047,140.6534881591797,142.1980438232422,140.26113891601562,141.46096801757812,141.28375244140625,141.31846618652344,139.34385681152344,141.09039306640625,140.6353759765625,140.0207061767578,138.8723602294922,140.6756591796875,140.6685333251953,141.4175567626953,139.10108947753906,140.02587890625,141.47406005859375,141.35093688964844,141.7350616455078,141.14102172851562,140.80087280273438,141.34718322753906,139.08839416503906,141.11923217773438,140.2099151611328,140.87229919433594,141.43043518066406,140.27798461914062,140.8167724609375,140.4600067138672,140.4100341796875,141.0206298828125,140.17999267578125],\"type\":\"histogram\",\"xaxis\":\"x3\",\"yaxis\":\"y3\",\"opacity\":0.6},{\"histfunc\":\"avg\",\"marker\":{\"color\":\"#2784F5\"},\"name\":\"no churn\",\"showlegend\":false,\"x\":[151.5018768310547,148.39337158203125,145.3151397705078,150.46023559570312,147.2681884765625,153.5189208984375,148.30072021484375,145.763916015625,152.58018493652344,148.4035186767578,151.62818908691406,154.2157440185547,152.59393310546875,154.00941467285156,152.4689483642578,149.83786010742188,145.82437133789062,148.7474822998047,154.00656127929688,146.9060821533203,145.2166748046875,151.3185577392578,150.3852996826172,152.02349853515625,151.15280151367188,144.07041931152344,154.55361938476562,148.640869140625,152.19033813476562,150.8096923828125,153.4366455078125,147.95591735839844,147.83999633789062,151.54638671875,152.41871643066406,146.84982299804688,149.78382873535156,151.0697479248047,151.75054931640625,148.5890655517578,146.85324096679688,148.48785400390625,151.3511962890625,147.16221618652344,151.48431396484375,145.64523315429688,150.2930145263672,153.0363311767578,149.1144256591797,153.5394287109375,151.54257202148438,143.07244873046875,153.70970153808594,148.62644958496094,150.7943572998047,144.62957763671875,152.4679412841797,148.33775329589844,150.25950622558594,144.46226501464844,149.5321807861328,147.29441833496094,151.97708129882812,150.83871459960938,148.49412536621094,146.98089599609375,153.2476043701172,152.3409423828125,151.62911987304688,154.76242065429688,150.26783752441406,144.83839416503906,149.0921630859375,149.5679931640625,148.89071655273438,148.32327270507812,149.4520263671875,150.9100799560547,148.0316619873047,148.000732421875,146.91854858398438,148.58482360839844,155.42369079589844,150.24432373046875,149.4344024658203,152.3150634765625,148.73934936523438,151.93885803222656,145.14889526367188,151.36264038085938,149.71051025390625,150.32298278808594,151.7332305908203,146.41429138183594,148.99044799804688,144.57852172851562,153.21189880371094,154.3094024658203,149.91604614257812,149.44625854492188,146.4089813232422],\"type\":\"histogram\",\"xaxis\":\"x3\",\"yaxis\":\"y3\",\"opacity\":0.6},{\"histfunc\":\"avg\",\"marker\":{\"color\":\"#F54927\"},\"name\":\"churn\",\"showlegend\":false,\"x\":[131.19496154785156,129.70089721679688,128.97718811035156,131.38934326171875,128.79037475585938,127.60017395019531,130.4639129638672,129.89718627929688,128.984130859375,131.0150146484375,128.46127319335938,129.7711639404297,130.56594848632812,128.00088500976562,131.8408660888672,130.8285675048828,132.26844787597656,130.2814178466797,127.7484130859375,129.88357543945312,129.01345825195312,131.11544799804688,130.24041748046875,129.58265686035156,131.0170135498047,129.6678924560547,128.1477813720703,129.2610626220703,131.31228637695312,129.03541564941406,126.67323303222656,130.2431182861328,131.4896697998047,129.388427734375,129.135986328125,129.4761505126953,131.61293029785156,130.44631958007812,129.98190307617188,130.04605102539062,131.26400756835938,130.94207763671875,128.8563690185547,129.07691955566406,129.52349853515625,129.94967651367188,128.55445861816406,130.91864013671875,132.17807006835938,131.7919158935547,130.65672302246094,131.117431640625,131.51461791992188,130.46517944335938,129.8975067138672,129.31503295898438,127.20829772949219,131.5788116455078,132.3081817626953,130.172607421875,132.47918701171875,126.58531951904297,131.73191833496094,128.29629516601562,126.2381362915039,131.03053283691406,128.9541778564453,130.01339721679688,130.38235473632812,133.5968017578125,131.04185485839844,133.9832763671875,132.1742706298828,131.0409393310547,129.95877075195312,131.2683563232422,130.03790283203125,129.6939697265625,127.53784942626953,132.7721710205078,132.48324584960938,130.87588500976562,130.520751953125,129.86228942871094,131.25242614746094,132.5469970703125,131.92506408691406,131.53224182128906,131.92105102539062,127.8017349243164,129.77589416503906,130.35595703125,128.7280731201172,130.6888427734375,130.31304931640625,129.57220458984375,131.33546447753906,129.55043029785156,131.9794158935547,128.85829162597656,125.27999877929688],\"type\":\"histogram\",\"xaxis\":\"x4\",\"yaxis\":\"y4\",\"opacity\":0.6},{\"histfunc\":\"avg\",\"marker\":{\"color\":\"#2784F5\"},\"name\":\"no churn\",\"showlegend\":false,\"x\":[150.94131469726562,148.16880798339844,145.10122680664062,150.0213623046875,146.9397430419922,153.19358825683594,147.976806640625,144.87899780273438,152.3599395751953,148.0755615234375,151.29310607910156,154.10714721679688,151.49111938476562,153.90151977539062,151.3805694580078,149.74981689453125,145.0767059326172,148.53309631347656,153.7893524169922,146.68218994140625,144.99478149414062,151.3185577392578,149.83221435546875,151.58590698242188,150.83213806152344,143.7390594482422,154.2160186767578,148.42335510253906,151.96878051757812,150.3848876953125,152.681396484375,147.6274871826172,147.50889587402344,151.002197265625,151.9862060546875,146.41319274902344,149.3333282470703,150.6321563720703,151.64218139648438,148.36880493164062,146.3172607421875,148.26858520507812,151.13540649414062,146.9414825439453,151.26695251464844,145.5351104736328,149.97120666503906,152.81976318359375,148.57142639160156,153.31982421875,151.31800842285156,142.75180053710938,153.48731994628906,147.97674560546875,150.5785675048828,144.19326782226562,152.13853454589844,147.67991638183594,150.0416717529297,143.921630859375,149.08607482910156,146.9662322998047,151.7568359375,150.62509155273438,147.83773803710938,146.43350219726562,152.47900390625,151.7039794921875,150.97512817382812,153.89108276367188,149.72561645507812,144.39659118652344,148.7677764892578,148.91781616210938,148.55613708496094,147.88438415527344,148.88027954101562,150.1537322998047,147.81222534179688,147.5647430419922,145.90724182128906,148.25222778320312,155.20712280273438,150.02633666992188,149.21719360351562,151.97488403320312,148.30902099609375,151.7166290283203,144.70741271972656,150.92950439453125,149.49154663085938,150.1027374267578,151.5136260986328,145.85414123535156,148.44305419921875,144.02667236328125,152.87954711914062,153.8682403564453,149.8053436279297,148.8939971923828,145.96253967285156],\"type\":\"histogram\",\"xaxis\":\"x4\",\"yaxis\":\"y4\",\"opacity\":0.6},{\"histfunc\":\"avg\",\"marker\":{\"color\":\"#F54927\"},\"name\":\"churn\",\"showlegend\":false,\"x\":[110.01090248334343,111.79430942501482,111.86662679425838,106.55900243309003,107.29811097992916,107.71454219030521,106.5344009489917,104.375,105.85991510006065,100.40611877624475,107.5511432009627,106.1466030989273,104.448419797257,109.8374325134973,106.4788312462731,114.34741225461035,108.5808561236623,106.03756708407872,108.96388395500296,110.30023923444976,113.9744058500914,107.45066185318893,106.25420673076923,106.21458710066305,114.9674894641782,106.02736466389054,107.78717026378897,115.75940298507463,107.1039039039039,107.01247771836007,102.64649490713002,105.66666666666667,109.43347381095725,109.50948991696323,106.78703152885187,106.65808383233534,118.45074626865672,109.56358208955224,109.57948410317937,111.12141549725442,108.89862027594481,115.8334335538184,105.546477205447,99.27790973871734,111.30979228486648,106.70226730310263,106.44052600119545,105.63819691577699,106.84394124847002,104.60609683203826,103.0439229843562,106.94394213381555,108.93954050785973,116.0478158205431,101.17593712212818,110.08059701492537,104.58211678832117,105.3470238095238,110.99578567128236,107.43638525564803,107.12063867534003,106.33535108958837,102.75513905683192,110.33535476046089,111.06246172688304,109.74663402692778,110.02427184466019,103.66985074626865,101.01443174984966,104.47203848466627,102.53897685749087,113.73712574850299,105.86404833836858,110.25883762732175,106.98027495517036,104.97504456327985,99.07687723480333,111.0325960419092,109.33673469387755,118.89274832419257,105.9958283671037,112.39223880597015,106.18798798798798,107.42268656716418,109.5106888361045,102.76139088729016,104.5204991087344,101.64516129032258,106.002990430622,105.67678571428571,103.80477611940299,110.63114268798105,105.36270983213429,108.28191167574107,104.44300059066745,108.04804270462634,109.37738095238095,98.8526627218935,111.79112426035503,104.13979773944081,115.75172413793103],\"type\":\"histogram\",\"xaxis\":\"x5\",\"yaxis\":\"y5\",\"opacity\":0.6},{\"histfunc\":\"avg\",\"marker\":{\"color\":\"#2784F5\"},\"name\":\"no churn\",\"showlegend\":false,\"x\":[127.04968553459119,117.06724782067248,120.61543287327478,125.412208936438,117.92370231394622,117.16017316017316,131.85785536159602,111.87256748273697,114.7537688442211,117.84867201976529,117.10586734693878,116.67254408060454,118.78360049321824,117.85882352941177,113.97432686286788,110.31323803604724,118.07001239157373,118.00692695214106,116.04770992366412,116.22784019975032,120.67511082963901,109.48262792166771,122.02373516552154,115.14096916299559,123.09675405742821,113.094375,120.97860289490245,117.56067205973865,120.53768844221105,122.94498777506112,118.63585259212992,109.41854636591479,124.03932584269663,117.66038920276209,112.33023543990086,117.87957790192426,116.07551919446193,118.11669770328989,119.63484190948543,124.19740099009901,123.73788819875776,115.85089340727049,114.63505025125629,116.93639798488665,122.47967479674797,117.58497536945812,111.05456774984673,121.42,114.76390605686032,115.63264020163831,114.53282828282828,110.873125,118.63270440251573,112.8706404565631,117.20989974937343,118.54978083907326,116.7825,118.98819142324425,121.18893722809199,118.37935247403787,117.6480201131364,116.68843283582089,116.56261799874135,130.51162790697674,114.21928166351607,116.23500611995104,115.85669781931465,119.28303068252974,124.32660550458715,119.9388783868935,131.4465838509317,111.54688483322845,108.15408805031447,113.05420560747663,128.25701809107923,116.61863354037267,115.92078580481622,121.9706982543641,121.96388542963885,113.66438356164383,116.34384662956091,120.59962756052141,117.8968058968059,126.49810126582278,117.11330049261083,117.3964241676942,120.32898820608318,122.52203600248293,117.13830465264499,109.81009463722397,125.58165829145729,111.03148614609572,117.07151979565772,118.23057485786481,111.90654205607477,114.04015056461732,117.525625,120.88936430317848,119.65549348230913,114.61356565028002,119.09938650306748],\"type\":\"histogram\",\"xaxis\":\"x5\",\"yaxis\":\"y5\",\"opacity\":0.6},{\"histfunc\":\"avg\",\"marker\":{\"color\":\"#F54927\"},\"name\":\"churn\",\"showlegend\":false,\"x\":[26.964264082374317,27.978660343805572,29.017344497607656,28.226277372262775,27.11038961038961,27.844404548174747,25.579478054567023,25.45654761904762,26.61976955730746,25.516496700659868,28.074007220216608,27.329558998808103,26.485390578413835,27.469106178764246,27.224209898628505,27.75371802498513,27.964922711058264,26.729874776386403,27.975725281231497,27.879186602870814,28.859841560024375,27.20276774969916,25.83533653846154,26.47799879445449,27.775436484045755,28.13979773944081,27.544964028776977,28.31820895522388,25.48048048048048,28.26678550207962,26.243259436788495,26.353680430879713,28.42805538832029,27.498813760379598,27.555026769779893,27.151497005988023,27.943283582089553,27.921194029850746,27.445710857828434,26.581452104942038,27.62867426514697,28.86049308478653,26.308466548253403,25.85332541567696,28.052818991097922,27.9618138424821,27.264793783622235,25.919335705812575,28.606487148102815,26.62940824865511,25.350180505415164,27.018083182640144,28.226118500604596,29.383116883116884,25.71584038694075,27.657910447761193,26.001216545012166,27.333928571428572,28.028296207104155,26.32461355529132,26.98876404494382,26.39225181598063,25.563482466747278,26.42995755003032,27.10777709736681,27.473072215422278,26.893203883495147,25.242985074626866,26.33132892363199,26.463018641010223,25.860535931790498,27.57065868263473,25.817522658610272,27.05272618334332,27.140466228332336,26.005347593582886,25.82181168057211,27.363795110593713,27.906362545018006,28.921389396709323,25.62097735399285,28.906865671641793,25.74174174174174,28.471044776119403,27.223871733966746,26.756594724220623,26.8116458704694,26.512544802867385,25.960526315789473,27.06607142857143,27.225074626865673,28.227945529899348,27.337529976019184,25.2692075015124,27.12640283520378,28.225385527876632,28.21904761904762,25.36508875739645,27.357988165680474,27.779298036882807,30.579310344827586],\"type\":\"histogram\",\"xaxis\":\"x6\",\"yaxis\":\"y6\",\"opacity\":0.6},{\"histfunc\":\"avg\",\"marker\":{\"color\":\"#2784F5\"},\"name\":\"no churn\",\"showlegend\":false,\"x\":[30.5125786163522,29.570983810709837,28.97427854454203,30.962869729389553,28.128830519074423,28.882498453927024,28.142768079800497,27.56497175141243,30.459798994974875,27.620753551575046,28.449617346938776,29.21410579345088,28.85881627620222,29.257585139318884,28.008140262993113,26.532007458048476,29.4454770755886,28.670025188916878,28.143765903307887,28.976903870162296,28.57378087397087,28.013265950726467,27.673329169269206,27.53996224040277,30.34769038701623,29.093125,28.804908747640024,28.495955196017423,29.047738693467338,29.163202933985332,27.442848219862586,27.212406015037594,29.925093632958802,28.276208411801633,29.220570012391573,28.28429546865301,27.26746381371932,28.728119180633147,29.811531308121513,29.5625,29.604347826086958,27.903265557609366,27.92462311557789,28.033375314861463,28.41525953721076,29.038793103448278,26.971183323114655,29.525,27.79975278121137,27.528670447385004,29.220328282828284,27.814375,28.825157232704402,27.29296131896005,29.63847117794486,29.597370068879147,28.97,29.666252330640148,30.142324425108765,29.254123396456933,29.720301697045883,28.93407960199005,29.580868470736313,29.72847265870522,28.086326402016383,28.320685434516523,28.913395638629282,29.981214777708203,30.087461773700305,30.139256458727157,30.84968944099379,28.490245437382,27.52704402515723,28.01059190031153,29.87523393636931,28.782608695652176,28.930291508238277,29.132793017456358,29.914694894146947,27.426525529265255,28.60482374768089,30.623215394165115,29.44226044226044,29.108227848101265,30.060344827586206,29.03205918618989,28.133457479826195,29.75915580384854,28.036966220522626,27.61261829652997,29.150753768844222,27.356423173803528,29.007024265644954,29.867340492735313,27.717757009345796,27.735884567126725,28.581875,30.62530562347188,30.479205462445687,30.320472930927192,27.82883435582822],\"type\":\"histogram\",\"xaxis\":\"x6\",\"yaxis\":\"y6\",\"opacity\":0.6},{\"histfunc\":\"avg\",\"marker\":{\"color\":\"#F54927\"},\"name\":\"churn\",\"showlegend\":false,\"x\":[16.39733494851605,16.797866034380558,16.933014354066987,16.78771289537713,16.14876033057851,16.48892878515859,15.141755634638196,15.258928571428571,16.432383262583382,15.026994601079783,16.92478941034898,16.401668653158524,16.351818723911748,16.437312537492502,16.130590339892667,16.427126710291493,16.31688466111772,16.242695289206917,16.91474245115453,16.625598086124402,17.339427178549666,15.901925391095066,15.728966346153847,15.881856540084389,16.392534617700182,16.49851279000595,16.959232613908874,16.88776119402985,16.442642642642642,17.105763517528224,15.753744757339724,15.991621783363255,16.85189644792294,16.515421115065244,16.021415823914335,15.884431137724551,16.28955223880597,16.416716417910447,16.40851829634073,16.06772422208664,16.370725854829033,17.20204449789537,15.581409117821195,15.511282660332542,16.443916913946587,16.22613365155131,16.227734608487747,15.395017793594306,16.68482252141983,15.87089061566049,15.43020457280385,16.269439421338156,16.914752116082227,17.285714285714285,15.35006045949214,16.86865671641791,15.76338199513382,16.3625,17.137266706803132,15.338882282996433,16.065641632170312,15.823849878934626,15.814993954050786,16.161309884778653,16.493570116350277,16.394124847001223,16.51031553398058,15.15402985074627,15.899579073962718,15.961515333734216,15.690012180267965,16.693413173652694,16.024773413897282,16.579388855602158,15.956963538553497,15.688057040998217,15.48331346841478,16.477881257275904,17.18487394957983,17.357099329677027,15.649582836710369,16.930149253731344,15.536336336336337,16.45910447761194,16.131828978622327,16.014988009592326,16.21865715983363,16.33273596176822,15.79066985645933,15.670833333333333,15.683582089552239,16.462403789224393,16.396882494004796,15.137326073805202,16.345540460720613,16.340450771055753,16.455952380952382,15.190532544378698,16.483431952662723,17.150505651397978,16.63448275862069],\"type\":\"histogram\",\"xaxis\":\"x7\",\"yaxis\":\"y7\",\"opacity\":0.6},{\"histfunc\":\"avg\",\"marker\":{\"color\":\"#2784F5\"},\"name\":\"no churn\",\"showlegend\":false,\"x\":[19.00817610062893,17.407845579078455,18.25219573400251,18.93958464443046,17.632270168855534,17.542980828695114,17.383416458852867,16.923414940364093,17.853643216080403,16.982087708462014,17.646683673469386,17.857052896725442,17.823057953144268,18.07987616099071,16.869129618033814,16.520820385332506,17.78004956629492,17.591939546599495,17.65712468193384,17.589887640449437,17.930968967701077,17.116866708780798,17.345409119300438,16.830081812460666,18.27215980024969,18.074375,17.991189427312776,18.26757934038581,18.150753768844222,18.349022004889974,17.315427857589007,16.924185463659146,18.606117353308363,17.197112366603893,17.59913258983891,17.520794537554313,17.086847073631215,18.02048417132216,18.07935523868568,18.326732673267326,18.44782608695652,17.683302526186075,17.232412060301506,17.119017632241814,17.82614133833646,17.7807881773399,16.866339668914776,17.743125,16.65203955500618,17.191556395715185,17.35669191919192,17.315,16.936477987421384,16.920735573874445,17.955513784461154,17.864120225422667,18.12125,18.4213797389683,18.062771908017403,17.805131337813073,17.45945945945946,17.37002487562189,17.550660792951543,18.672532998114395,16.993698802772528,17.001835985312116,17.285358255451712,18.0738885410144,18.937003058103976,18.604914933837428,18.43913043478261,17.75959723096287,16.57044025157233,17.310903426791278,18.33998752339364,17.877018633540374,17.506337135614704,18.213840399002493,17.85554171855542,18.11892901618929,17.481756338899196,18.53072625698324,18.033783783783782,18.446835443037976,18.300492610837438,17.80024660912454,17.068901303538176,18.307262569832403,17.40152963671128,16.96340694006309,17.90452261306533,16.96725440806045,17.971264367816094,18.345546430827543,17.15202492211838,17.1405269761606,17.680625,18.6039119804401,18.66852886405959,18.464841319228377,17.80674846625767],\"type\":\"histogram\",\"xaxis\":\"x7\",\"yaxis\":\"y7\",\"opacity\":0.6},{\"histfunc\":\"avg\",\"marker\":{\"color\":\"#F54927\"},\"name\":\"churn\",\"showlegend\":false,\"x\":[17.03937007874016,18.03378778897451,17.926435406698566,17.636861313868614,17.9025974025974,18.265709156193896,17.183274021352315,16.99404761904762,17.385081867798664,16.356928614277145,20.865824308062574,18.10011918951132,17.528920691711388,17.184163167366528,18.77221228384019,17.929803688280785,16.82758620689655,16.56529516994633,17.651865008880996,16.8122009569378,18.62644728823888,16.449458483754512,17.08653846153846,17.227245328511152,17.28898254063817,20.049375371802498,18.137290167865707,19.46089552238806,18.294294294294293,17.56625074272133,16.97843019772319,16.624177139437464,18.54003612281758,17.62040332147094,16.88637715645449,17.709580838323355,16.774925373134327,16.958805970149253,17.690461907618477,17.272727272727273,17.285542891421716,18.120865904990982,17.23149792776791,16.81650831353919,17.966765578635016,16.985680190930786,17.67961745367603,16.99288256227758,18.160342717258263,17.139270771069935,16.379663056558364,17.595539481615432,17.70677146311971,18.027744982290436,16.527811366384523,18.434626865671643,17.523722627737225,16.87142857142857,17.90487658037327,16.54280618311534,19.22767593140154,17.14588377723971,17.995163240628777,19.106731352334748,18.246172688303737,17.525091799265606,17.671116504854368,15.775522388059702,17.51713770294648,18.02465423932652,17.130937880633375,17.68562874251497,17.1202416918429,18.167165967645296,17.24626419605499,16.809863339275104,16.401668653158524,17.80908032596042,18.135054021608642,18.494210847044485,16.45828367103695,18.871641791044777,18.95075075075075,17.65671641791045,17.227434679334916,16.664868105515588,18.37433155080214,17.750298685782557,17.10645933014354,16.366666666666667,16.542089552238807,17.946121965660154,16.98381294964029,15.87719298245614,17.897223862965152,16.88256227758007,17.670238095238094,16.514201183431954,17.86449704142012,17.66924449732302,17.0],\"type\":\"histogram\",\"xaxis\":\"x8\",\"yaxis\":\"y8\",\"opacity\":0.6},{\"histfunc\":\"avg\",\"marker\":{\"color\":\"#2784F5\"},\"name\":\"no churn\",\"showlegend\":false,\"x\":[19.744654088050314,18.10024906600249,20.389585947302383,19.39647577092511,19.586616635397124,19.205936920222634,18.977556109725686,18.159447583176398,19.162060301507537,19.15194564546016,18.351403061224488,18.643576826196472,19.66707768187423,20.4984520123839,18.608641202254226,18.266003729024238,19.552044609665426,20.964735516372794,19.466284987277355,18.710986267166042,19.322355921469285,18.736576121288692,18.925046845721425,18.333543108873506,20.587390761548065,19.558125,19.809314033983636,20.265090230242688,19.457286432160803,19.875916870415647,19.19425359150531,17.99561403508772,19.649188514357053,19.134337727558066,19.500619578686493,19.16697703289882,18.488357457520454,18.99937926753569,19.651580905145693,20.482054455445546,20.532298136645963,19.19593345656192,18.4214824120603,19.01889168765743,18.255159474671668,20.473522167487683,18.70815450643777,19.628125,18.119283065512978,19.403906742281034,18.52777777777778,18.556875,18.28427672955975,18.651870640456565,20.015664160401002,20.20100187852223,20.443125,19.509633312616533,19.424487259167183,18.535125229077583,19.712759270898808,18.30223880597015,19.37130270610447,22.057196731615335,18.434782608695652,18.14626682986536,18.95202492211838,19.78960551033187,21.022018348623853,20.434782608695652,19.473291925465837,18.600377595972308,17.681132075471698,19.094704049844236,20.373674360573926,19.272049689440994,18.654626108998734,19.021820448877804,18.779576587795766,20.11892901618929,18.76808905380334,19.899441340782122,21.115479115479115,19.901898734177216,20.516625615763548,18.92170160295931,19.481067659838608,19.648665425201738,18.960484384958573,19.10788643533123,19.079145728643216,19.554156171284635,19.94955300127714,19.39229311433986,18.282242990654204,19.39335006273526,19.455625,20.746332518337407,20.708255741775297,20.230242688238956,19.924539877300614],\"type\":\"histogram\",\"xaxis\":\"x8\",\"yaxis\":\"y8\",\"opacity\":0.6},{\"histfunc\":\"avg\",\"marker\":{\"color\":\"#F54927\"},\"name\":\"churn\",\"showlegend\":false,\"x\":[522.4094488188977,514.0557202133965,489.9688995215311,525.8394160583941,497.1027154663518,486.71334530221424,468.9756820877817,464.87142857142857,493.1673741661613,476.6916616676665,509.84175691937423,553.9249106078665,484.2140727489565,464.9340131973605,498.0632081097197,500.9946460440214,478.4458977407848,472.0316040548599,528.7602131438721,471.7882775119617,493.5496648385131,448.19675090252707,477.25240384615387,515.8101265822785,480.1505117399157,537.7935752528257,520.6199040767386,488.2638805970149,491.55795795795797,508.6726084373143,497.3565008987418,472.1059245960503,503.74593618302225,498.90984578884934,484.24866151100537,507.59820359281434,481.02746268656716,499.66746268656715,503.47990401919617,473.61744966442956,509.6124775044991,507.7949488875526,485.5902901124926,484.51128266033254,480.1887240356083,496.0214797136038,489.39868499701134,483.4655990510083,533.4669522643819,501.60251046025104,502.64079422382673,497.92043399638334,510.17533252720676,506.23553719008265,518.9770253929867,541.1414925373134,471.2639902676399,483.2964285714286,516.7495484647802,487.4060642092747,511.22649319929036,493.84261501210653,519.6203143893591,489.0733778047301,505.80649112063685,486.2111383108935,501.09344660194176,479.3044776119403,487.95550210463017,477.8965724594107,484.34104750304505,515.3017964071856,487.96253776435043,493.415817855003,489.60968320382545,496.53178847296493,494.44636471990464,519.790454016298,498.71488595438177,497.0981109079829,515.9594755661502,503.39104477611943,498.91711711711713,522.7020895522388,500.77612826603325,520.4616306954437,506.76114081996434,491.31123058542414,520.1369617224881,495.5785714285714,478.9134328358209,504.5902901124926,494.5893285371703,500.0701754385965,513.0454813939751,497.3238434163701,529.3708333333333,463.26863905325445,504.6562130177515,536.0089232599643,426.1655172413793],\"type\":\"histogram\",\"xaxis\":\"x9\",\"yaxis\":\"y9\",\"opacity\":0.6},{\"histfunc\":\"avg\",\"marker\":{\"color\":\"#2784F5\"},\"name\":\"no churn\",\"showlegend\":false,\"x\":[538.8698113207547,531.2104607721046,553.3425345043914,570.3064820641913,563.9731081926204,561.1632653061224,551.9214463840399,514.3703703703703,529.0929648241206,526.2050648548487,524.6798469387755,555.8318639798489,550.326140567201,549.6030959752322,519.1765810895429,526.1037911746427,553.2286245353159,527.2361460957179,559.5407124681934,529.9300873907615,522.8233058898037,544.0126342387871,548.5315427857589,532.9458779106357,554.0711610486892,553.25625,524.0547514159849,526.3192283758557,545.5778894472362,562.7909535452322,575.0949406620862,550.8828320802005,532.059925093633,567.0583804143126,525.2143742255266,532.8758535071385,551.3517935808685,531.6933581626319,587.9342839429635,542.5705445544554,540.6267080745341,582.8743068391867,531.4748743718593,555.1372795969774,557.0762976860537,555.9470443349753,560.8166768853464,562.675,527.1514215080346,538.6345305608065,525.4059343434343,508.985625,492.7012578616352,515.433734939759,563.1484962406015,543.44270507201,541.68375,560.5239279055314,585.8309509011808,557.3237629810629,536.5763670647392,541.7686567164179,552.7186910006293,572.9742300439975,540.882797731569,548.7111383108935,546.9295950155763,544.4063869755793,568.9229357798165,542.1285444234404,534.5341614906832,533.2529893014474,549.7654088050315,528.2978193146417,566.0430442919526,557.4236024844721,548.5874524714828,534.5018703241896,561.5622665006226,529.7440846824409,536.2554112554112,530.7821229050279,559.5497542997543,561.246835443038,556.5246305418719,515.3908754623922,571.9937926753569,561.7846058348852,506.34671765455704,523.998738170347,555.6947236180905,552.7871536523929,525.2037037037037,545.1648768161718,516.6205607476636,559.4767879548306,564.87875,552.1069682151589,572.300434512725,575.2706907280647,537.1895705521472],\"type\":\"histogram\",\"xaxis\":\"x9\",\"yaxis\":\"y9\",\"opacity\":0.6},{\"histfunc\":\"avg\",\"marker\":{\"color\":\"#F54927\"},\"name\":\"churn\",\"showlegend\":false,\"x\":[518.152634766808,514.5494961470065,486.5645933014354,500.6441605839416,496.97815820543093,497.97007779772593,470.5409252669039,469.4077380952381,487.06973923590056,473.0803839232154,503.8008423586041,540.2640047675804,485.12820512820514,473.9052189562088,495.5366726296959,498.46460440214156,480.66230677764565,476.96720333929636,516.5050325636471,487.8612440191388,502.1681901279708,466.90854392298434,476.41646634615387,493.5473176612417,490.9717037928958,515.4675788221297,516.3351318944844,499.4465671641791,483.7201201201201,496.49613784907905,485.71240263630915,481.7007779772591,503.099939795304,489.150059311981,487.91731112433075,504.6562874251497,486.97731343283584,500.39104477611943,501.99100179964006,476.84868822452717,493.4271145770846,505.71737823211066,490.3664890467732,474.542755344418,487.70089020771513,506.31742243436753,488.27555289898385,484.21945432977463,520.3200734394125,494.332337118948,491.1708784596871,487.9620253164557,501.8379685610641,508.6948051948052,492.5858524788392,518.9605970149254,470.90875912408757,483.0732142857143,500.4954846478025,483.5802615933413,499.91188645771734,480.9273607748184,494.37787182587664,492.2255912674348,498.30312308634416,493.6658506731946,506.93143203883494,471.85910447761194,478.8947684906795,476.0282621767889,481.49573690621196,503.4610778443114,477.81148036253774,488.35350509286997,488.38732815301853,494.41532976827096,481.6626936829559,499.7601862630966,486.296518607443,507.1115173674589,499.44576877234806,512.5982089552239,485.7873873873874,499.64358208955224,504.0095011876485,497.4406474820144,487.4004753416518,475.8285543608124,511.2523923444976,477.4642857142857,473.7910447761194,499.5831853167555,484.5851318944844,490.508166969147,499.57649143532194,498.29418742586,512.8952380952381,453.0301775147929,498.9674556213018,517.6305770374777,425.80689655172415],\"type\":\"histogram\",\"xaxis\":\"x10\",\"yaxis\":\"y10\",\"opacity\":0.6},{\"histfunc\":\"avg\",\"marker\":{\"color\":\"#2784F5\"},\"name\":\"no churn\",\"showlegend\":false,\"x\":[544.322641509434,533.9539227895392,549.1957340025094,567.1346758967904,559.620387742339,551.0525664811379,541.0960099750623,519.2994350282486,530.4585427135678,520.3415688696726,523.9496173469388,547.0856423173803,543.7792848335389,548.9238390092879,519.8234189104571,511.40646364201365,548.8110285006196,531.7197732997481,536.0941475826972,522.6367041198502,534.5788473717543,534.8275426405559,542.7607745159276,535.9307740717433,554.2571785268415,541.2175,537.7702957835116,525.5196017423771,549.3913316582915,552.8624694376529,561.9937539038101,521.9310776942356,529.1460674157304,546.7526679221595,522.6883519206939,527.7200496585972,539.1359345500315,524.5959031657355,563.0886546807192,543.8731435643564,544.0260869565218,562.4966112138017,529.2443467336683,559.4609571788413,552.3402126328956,555.0375615763547,547.2838749233599,546.840625,521.7972805933251,524.8248267170762,517.7051767676768,514.98125,505.15345911949686,520.9480025364617,554.8890977443609,537.1026925485285,538.79125,547.688626476072,568.16656308266,550.4202810018327,531.4311753614079,530.2674129353234,540.4575204531152,572.1018227529855,519.4580970384374,537.9761321909425,536.7514018691588,537.0313087038197,558.6507645259938,525.3402646502835,524.1267080745341,528.9798615481435,533.8987421383648,529.0361370716511,573.65876481597,546.8521739130434,542.2281368821293,534.5673316708229,553.134495641345,534.1002490660024,524.8441558441558,541.5741775294848,543.7807125307125,562.9253164556962,557.5942118226601,524.9044389642416,559.9851024208566,556.9366852886405,510.94136392606754,507.6403785488959,551.9064070351759,525.1064231738035,523.3141762452108,530.7776373973468,514.7682242990654,544.8193224592221,542.88375,542.2695599022005,566.8417132216015,556.099564405725,534.0374233128834],\"type\":\"histogram\",\"xaxis\":\"x10\",\"yaxis\":\"y10\",\"opacity\":0.6},{\"histfunc\":\"avg\",\"marker\":{\"color\":\"#F54927\"},\"name\":\"churn\",\"showlegend\":false,\"x\":[134612.37497516657,133077.95546591582,127799.39580622008,136209.87952128955,128080.09159976388,127970.28645362059,122858.55298635825,122919.21293035714,127566.47945603395,123844.46090821835,133177.29335499398,142068.88037365914,125547.63911627907,122017.8140545891,128631.19852593918,130593.77577751338,125998.21868549346,123397.50752713178,136990.64012551805,124762.80232476076,129448.2901017672,119049.49129903731,124338.67551502402,132511.936251959,125916.95981878387,138290.97543604998,135188.01411450838,129274.16946746268,128060.57972252251,132394.17402911469,126936.4907855003,121479.90577498505,132522.0512847682,129456.58676037959,126755.59188756693,131853.6717736527,125194.21079044776,131195.23662925372,129993.91873605279,124216.68080964002,131055.29634193162,132035.59300120265,127355.1830420367,125269.5157375297,124405.62566706233,128825.07838961812,126857.15730603706,125919.02405160142,136101.26235618116,130070.95810340706,130069.77993501803,128771.02334478604,131025.1065713422,131261.5644120425,130510.20256287788,138330.101000597,123622.76244099757,124833.29128988094,133261.6923359422,125152.46934661116,132423.79392548787,128641.50563377723,133171.33372249093,127584.62240751971,131261.82199081444,126802.88876315788,130569.46932584951,124452.61114686567,126922.32013529765,124773.64741431149,127067.53473995127,134303.03345628743,126705.38092084594,127988.57872798084,127033.42067483565,129209.87930659537,125759.73979141835,130257.15125785797,129346.74728451381,129377.37790371724,131598.9480727056,131845.67931641793,128097.01343183185,131829.90369850746,129533.01128325415,133105.35795203838,132068.14902792632,128575.30901911587,133360.69707535885,128849.97639285715,124201.30868835821,130527.23467613973,126897.16998741006,128050.78813672112,131927.757023036,129536.894613879,136004.82132261904,121470.8824301775,131627.38293846155,136860.2674794765,114959.50911724138],\"type\":\"histogram\",\"xaxis\":\"x11\",\"yaxis\":\"y11\",\"opacity\":0.6},{\"histfunc\":\"avg\",\"marker\":{\"color\":\"#2784F5\"},\"name\":\"no churn\",\"showlegend\":false,\"x\":[140596.74677861636,137012.27942839352,144642.5009115433,145665.85545500313,144616.1316873046,144670.72088311688,141015.65754738153,134255.89349905838,137334.34113190955,135960.83979061147,134455.04644387754,142074.02025125944,144142.0939519112,143863.41933003097,134805.72886537257,135384.1896308266,143598.7632732342,137168.53924244334,142138.34029389312,136247.84655430712,135361.86709056364,141610.3163177511,139643.71358588382,137495.2451585903,143597.6437153558,143659.23358562498,138346.64389741977,136819.9754741755,142657.1565232412,146109.6613685819,148239.12943972516,141362.19053696742,139572.04435393258,144561.45216133082,137845.0124188352,138608.37479577903,141958.93631780994,138605.17893420235,151772.48430936143,140705.7861714109,140612.947447205,146942.42018607518,138636.04308165828,142968.68183816122,143494.21924640398,143787.06290332513,142047.96059717966,143918.039715,135370.2467262052,139437.28529300567,137456.31819886365,134101.826279375,128921.09568930817,134418.1594032974,146010.65218984964,139908.89186286787,140626.136299375,145073.51840832818,148822.17066563084,142952.61399144778,140385.9985147706,139587.1099353234,141925.31099370672,148322.53036895033,140465.75724700693,141796.68823990208,141864.95299003116,141527.1820118973,149065.99465137615,138949.3758462508,137465.46563788818,139813.92753744492,140031.30755220127,136738.8312436137,147090.76977417344,143865.93187826086,142539.86204626109,140636.01305361596,145447.5295728518,138894.08895641347,139709.5175275201,137947.9419844817,144440.75855651105,145963.07332151898,144420.1313565271,135939.09048582,147848.69833147115,146505.0311036623,132664.33864372212,135953.15231735015,143301.8656978643,140765.83605604534,138037.67009067687,137214.12385217941,134457.92976635514,145149.04006963613,144858.219451875,143157.15894559902,149589.99856424582,149396.12962663348,137285.23791165644],\"type\":\"histogram\",\"xaxis\":\"x11\",\"yaxis\":\"y11\",\"opacity\":0.6},{\"histfunc\":\"avg\",\"marker\":{\"color\":\"#F54927\"},\"name\":\"churn\",\"showlegend\":false,\"x\":[39.98736842105263,38.55315789473684,37.79736842105263,39.46263157894737,39.415263157894735,38.701052631578946,40.96421052631579,41.294736842105266,39.26315789473684,39.48894736842105,39.595263157894735,40.177894736842106,39.57684210526316,38.55947368421052,40.30157894736842,39.20315789473684,38.306315789473686,39.65684210526316,39.58210526315789,39.874736842105264,39.119473684210526,38.502631578947366,38.82105263157895,39.34157894736842,38.75526315789474,39.15631578947369,38.30315789473684,41.0,41.35315789473684,39.43684210526316,39.21,39.65157894736842,40.45315789473684,39.54105263157895,39.682631578947365,40.770526315789475,38.938421052631575,39.444736842105264,38.172105263157896,38.36421052631579,39.3021052631579,40.81578947368421,39.99526315789473,40.10052631578947,38.34105263157895,40.4,40.130526315789474,40.24263157894737,40.0221052631579,40.868947368421054,39.15421052631579,39.91157894736842,39.83894736842105,38.91473684210526,40.44052631578948,40.23105263157895,40.74473684210526,39.705263157894734,41.17526315789474,40.86,38.89578947368421,40.206842105263156,40.25421052631579,40.29,40.13,39.22578947368421,41.26157894736842,40.85,39.47526315789474,40.45578947368421,40.20421052631579,39.317368421052635,40.01842105263158,39.062105263157896,39.58842105263158,40.10526315789474,38.81263157894737,39.944736842105264,38.34105263157895,39.67263157894737,39.8,40.415263157894735,40.69578947368421,39.38368421052632,40.71473684210526,40.555263157894736,38.95315789473684,40.91157894736842,39.937894736842104,38.386315789473684,40.4778947368421,39.53052631578947,39.746315789473684,39.18631578947368,38.986315789473686,38.39578947368421,39.27736842105263,37.4821052631579,38.81315789473684,39.648947368421055,39.8433734939759],\"type\":\"histogram\",\"xaxis\":\"x12\",\"yaxis\":\"y12\",\"opacity\":0.6},{\"histfunc\":\"avg\",\"marker\":{\"color\":\"#2784F5\"},\"name\":\"no churn\",\"showlegend\":false,\"x\":[37.62,37.47052631578947,37.59578947368421,37.090526315789475,38.62263157894737,38.32052631578947,38.08105263157895,37.79105263157895,37.40421052631579,37.33,37.39368421052632,38.113157894736844,37.53263157894737,37.86052631578947,37.606842105263155,37.76578947368421,37.71,36.73105263157895,37.49315789473684,38.04105263157895,37.654736842105265,37.36157894736842,39.445263157894736,39.71947368421053,38.515263157894736,36.41473684210526,38.392105263157895,39.14421052631579,38.44105263157895,39.491578947368424,39.036842105263155,37.95894736842105,39.561578947368425,38.065263157894734,37.7278947368421,39.62157894736842,37.53368421052632,38.35473684210526,39.118947368421054,38.77315789473684,39.1178947368421,39.02473684210526,38.52157894736842,38.02842105263158,38.36157894736842,39.410526315789475,38.39473684210526,38.25736842105263,37.887368421052635,37.36842105263158,38.31368421052632,36.12789473684211,38.64631578947368,37.82947368421053,36.75157894736842,37.362631578947365,39.07473684210526,37.75631578947368,36.77473684210526,37.910526315789475,36.880526315789474,37.16105263157895,38.757894736842104,38.299473684210525,38.61210526315789,38.056315789473686,39.589473684210525,38.60368421052632,38.93631578947368,37.25684210526316,37.58263157894737,37.66157894736842,38.992105263157896,38.62315789473684,38.59263157894737,38.60315789473684,38.019473684210524,37.50157894736842,38.51157894736842,37.05105263157895,37.07105263157895,37.3821052631579,37.933684210526316,37.386842105263156,37.68631578947368,38.73684210526316,36.89736842105263,38.43736842105263,39.137368421052635,38.10052631578947,37.91894736842105,39.32157894736842,39.340526315789475,37.82,39.47736842105263,37.44157894736842,37.939473684210526,38.438421052631575,37.49421052631579,40.264736842105265,37.945263157894736],\"type\":\"histogram\",\"xaxis\":\"x12\",\"yaxis\":\"y12\",\"opacity\":0.6},{\"histfunc\":\"avg\",\"marker\":{\"color\":\"#F54927\"},\"name\":\"churn\",\"showlegend\":false,\"x\":[1143.2174303683737,1092.6792792792792,1057.8686131386862,1078.6621499548328,1103.5698729582577,1098.073946689596,1181.1540492957747,1142.3057324840765,1114.4294532627866,1116.9390459363958,1140.9503916449087,1117.8666666666666,1178.0926916221033,1051.524064171123,1128.4448462929477,1112.75625,1129.6551111111112,1131.950819672131,1127.574931880109,1164.2680505415162,1097.9551569506727,1089.01243339254,1097.8850174216027,1126.3574620196605,1092.5228290062669,1104.6166514181152,1065.377153218495,1171.052393857272,1182.6526315789474,1125.2597638510445,1140.5962399283796,1119.9378881987577,1177.6190476190477,1125.0725436179982,1174.1414324569357,1204.23851590106,1107.9799635701274,1134.055900621118,1067.8579185520362,1131.3126660761736,1101.5057777777777,1182.4886877828055,1138.050909090909,1137.923076923077,1061.8783410138249,1132.4327538883806,1167.6151785714285,1154.2257217847769,1157.1236842105263,1155.5750658472343,1099.1364046973804,1119.8825688073393,1130.468556244464,1132.2932072227,1156.4590017825312,1141.1890189018902,1146.6060320452402,1163.0747996438113,1185.4573225516622,1157.6127853881278,1117.9255978742249,1122.42175066313,1144.9779541446208,1161.594356261023,1137.8649635036497,1096.1063829787233,1154.967919340055,1175.5776785714286,1155.7904411764705,1189.5346358792185,1151.3767060964512,1151.139405204461,1132.6560218978102,1121.0818926296633,1138.9789473684211,1125.9642184557438,1120.4981949458484,1077.3825382538255,1059.1707746478874,1118.3469565217392,1162.9199255121043,1170.3333333333333,1184.4106498194947,1121.890942698706,1141.5488126649077,1178.667860340197,1098.1347011596788,1181.5227858985384,1146.461403508772,1071.8251082251081,1180.205357142857,1150.2262837249782,1117.120460584588,1139.8776978417266,1096.9,1096.8384476534295,1114.7894257064722,1080.1504347826087,1136.8495971351836,1089.540807174888,1073.36],\"type\":\"histogram\",\"xaxis\":\"x13\",\"yaxis\":\"y13\",\"opacity\":0.6},{\"histfunc\":\"avg\",\"marker\":{\"color\":\"#2784F5\"},\"name\":\"no churn\",\"showlegend\":false,\"x\":[1131.3566591422123,1106.7015825169556,1141.029432878679,1124.941826215022,1175.513592946363,1150.2234352256187,1165.4036231884058,1138.6881959910913,1119.1197339246119,1145.266324284666,1106.9107946026986,1144.357142857143,1110.0510355029585,1150.7139753801594,1136.3542731921111,1146.0498899486427,1142.2802867383512,1115.9258992805755,1132.3870262390672,1179.763335837716,1128.8942665673865,1128.1042128603103,1210.2650334075724,1181.8039647577093,1166.6312769010044,1093.1423276501112,1164.8904833836857,1171.0759124087592,1154.6944237918215,1171.1211689237348,1161.0492396813902,1131.1675238795003,1189.3777777777777,1135.7494521548576,1138.3193033381713,1179.9289377289376,1137.4293272864702,1153.0190895741557,1194.0312727272728,1164.2239467849224,1170.8546762589929,1151.4827078734363,1170.718320057929,1144.3377777777778,1194.0685630926332,1156.5114560236511,1137.7638588912887,1122.7696220930231,1155.0160349854227,1129.6028002947678,1110.9442351168047,1082.0573888091822,1160.5432835820895,1140.7238372093022,1116.314265025344,1128.3418740849195,1179.2372881355932,1123.7880794701987,1117.6637426900584,1125.1959361393324,1133.8383233532934,1129.372980910426,1161.7849223946785,1149.6688172043011,1171.8986784140968,1170.0360029390154,1198.7030213706705,1173.298969072165,1161.3913679590344,1137.2448830409357,1156.7983988355168,1142.9191994069681,1154.5297532656023,1157.056,1155.1669161676646,1165.9948453608247,1148.1404451266308,1125.7853517041335,1170.8843888070692,1108.1521580102415,1108.8190045248869,1137.1346726190477,1169.0537790697674,1110.58888076079,1149.9956268221574,1160.7952815829528,1168.0527075812274,1164.392990305742,1170.702962962963,1127.3640988372092,1165.712711241734,1181.1751662971176,1222.2873986735447,1138.9120300751879,1170.1866274797942,1097.3755555555556,1141.150185873606,1136.6854182087343,1117.0676077265973,1211.6382505559675,1158.4029962546817],\"type\":\"histogram\",\"xaxis\":\"x13\",\"yaxis\":\"y13\",\"opacity\":0.6},{\"histfunc\":\"avg\",\"marker\":{\"color\":\"#F54927\"},\"name\":\"churn\",\"showlegend\":false,\"x\":[37.088050314465406,35.45225225225225,34.301094890510946,34.99186991869919,35.80671506352087,35.62854686156492,38.37147887323944,37.094631483166516,36.15608465608466,36.234982332155475,37.04264577893821,36.26846846846847,38.266488413547236,34.08912655971479,36.63652802893309,36.09196428571428,36.67644444444444,36.73770491803279,36.59763851044505,37.80595667870036,35.625112107623316,35.324156305506214,35.62020905923345,36.54781054512958,35.42614145031334,35.850869167429096,34.56391659111514,38.02981029810298,38.41754385964912,36.52225249772934,37.007162041181736,36.327417923691215,38.25426774483378,36.52433425160698,38.13689936536718,39.121024734982335,35.96539162112933,36.80212954747116,34.64162895927602,36.71922054915855,35.72622222222222,38.4,36.94090909090909,36.93419833178869,34.43963133640553,36.7548032936871,37.909821428571426,37.48118985126859,37.56754385964912,37.54433713784021,35.65401987353207,36.35137614678899,36.70150575730735,36.751504729148756,37.55704099821747,37.04860486048605,37.22431668237512,37.76313446126447,38.510332434860736,37.583561643835615,36.283436669619135,36.41732979664014,37.17460317460318,37.716931216931215,36.933394160583944,35.5513413506013,37.49587534372136,38.17767857142857,37.534007352941174,38.62877442273535,37.38580527752502,37.363382899628256,36.76642335766423,36.38307552320291,36.98421052631579,36.56120527306968,36.358303249097474,34.97209720972097,34.352112676056336,36.30608695652174,37.76536312849162,38.01063829787234,38.457581227436826,36.40203327171904,37.06684256816183,38.27842435094002,35.632471008028546,38.36199484092863,37.21842105263158,34.75151515151515,38.34375,37.33768494342907,36.2488928255093,36.99910071942446,35.587826086956525,35.585740072202164,36.18322698268004,35.04521739130435,36.914950760966875,35.346188340807174,34.83],\"type\":\"histogram\",\"xaxis\":\"x14\",\"yaxis\":\"y14\",\"opacity\":0.6},{\"histfunc\":\"avg\",\"marker\":{\"color\":\"#2784F5\"},\"name\":\"no churn\",\"showlegend\":false,\"x\":[36.72009029345372,35.90429540316504,37.030150753768844,36.52945508100147,38.163850110213076,37.337700145560405,37.84782608695652,36.962138084632514,36.34663710273466,37.18635363169479,35.91379310344828,37.14067055393586,36.03476331360947,37.37146994931209,36.8809349890431,37.206896551724135,37.07096774193548,36.23021582733813,36.74052478134111,38.307287753568744,36.643335815338794,36.61788617886179,39.324424647364516,38.3928046989721,37.88020086083214,35.48109710896961,37.818731117824775,38.034306569343066,37.48847583643123,38.03136136849608,37.69007965242578,36.73254959588538,38.64296296296296,36.87582176771366,36.97677793904209,38.33626373626374,36.916855631141345,37.437591776798826,38.77818181818182,37.806356245380634,38.016546762589925,37.37674760853569,38.023895727733525,37.14740740740741,38.7855579868709,37.54471544715447,36.932325413966886,36.457848837209305,37.50947521865889,36.665438467207075,36.04898266767144,35.10688665710187,37.667164179104475,37.05813953488372,36.23171614771904,36.62298682284041,38.29108327192336,36.46504782928624,36.263888888888886,36.515965166908565,36.8061377245509,36.6769456681351,37.739837398373986,37.334767025089604,38.063876651982376,38.0,38.94473102431835,38.103092783505154,37.712509144111195,36.91593567251462,37.54730713245997,37.10748702742772,37.497822931785194,37.551272727272725,37.50449101796407,37.87334315169367,37.2831926323868,36.52356780275562,38.013254786450666,35.95537673738113,35.98868778280543,36.901785714285715,37.95276162790697,36.06071689831748,37.339650145772595,37.70015220700152,37.931407942238266,37.815063385533186,38.014074074074074,36.57921511627907,37.842027920646586,38.36585365853659,39.71112748710391,36.9812030075188,37.99265246142542,35.60962962962963,37.037174721189594,36.917098445595855,36.26968796433878,39.364714603409936,37.60973782771536],\"type\":\"histogram\",\"xaxis\":\"x14\",\"yaxis\":\"y14\",\"opacity\":0.6},{\"histfunc\":\"avg\",\"marker\":{\"color\":\"#F54927\"},\"name\":\"churn\",\"showlegend\":false,\"x\":[18.21024258760108,18.426126126126125,18.25729927007299,18.616982836495033,18.382032667876587,18.57523645743766,18.573943661971832,19.05004549590537,17.558201058201057,19.052120141342755,18.416884247171453,18.577477477477476,18.729055258467024,18.259358288770052,18.50271247739602,18.663392857142856,18.913777777777778,18.540072859744992,18.084468664850135,18.595667870036102,18.87982062780269,18.040852575488454,18.229965156794425,18.50312779267203,18.2461951656222,18.416285452881976,18.956482320942882,18.484191508581752,18.680701754385964,18.527702089009992,18.785138764547895,18.857142857142858,18.61814914645103,18.375573921028465,18.73708068902992,19.04416961130742,18.64936247723133,18.165927240461404,18.928506787330317,18.91762621789194,18.523555555555557,18.134841628959276,19.003636363636364,18.76088971269694,18.633179723502305,19.2451967063129,18.37410714285714,18.900262467191602,18.68421052631579,18.609306409130816,18.21318879855465,18.640366972477064,18.403897254207262,18.51590713671539,18.959893048128343,18.66786678667867,18.42789820923657,18.922528940338378,18.678346810422283,18.91050228310502,18.5837023914969,18.450928381962864,18.902116402116402,18.470017636684304,18.204379562043794,18.55781683626272,18.638863428047664,18.26517857142857,18.848345588235293,18.152753108348136,18.67515923566879,18.605018587360593,18.687956204379564,18.18744313011829,19.18859649122807,18.137476459510356,18.509025270758123,18.603960396039604,18.204225352112676,18.457391304347826,18.368715083798882,18.664893617021278,18.869133574007222,18.399260628465804,18.525065963060687,18.6598030438675,18.47992863514719,19.018916595012897,18.45877192982456,18.57922077922078,18.40535714285714,18.47432550043516,18.388839681133746,18.878597122302157,18.689565217391305,18.771660649819495,18.806745670009114,18.362608695652174,18.884512085944493,18.619730941704034,18.49],\"type\":\"histogram\",\"xaxis\":\"x15\",\"yaxis\":\"y15\",\"opacity\":0.6},{\"histfunc\":\"avg\",\"marker\":{\"color\":\"#2784F5\"},\"name\":\"no churn\",\"showlegend\":false,\"x\":[17.178329571106094,17.053504144687263,16.600143575017945,16.582474226804123,16.012490815576783,16.22197962154294,16.92753623188406,17.01781737193764,17.103473762010346,16.42406456346295,16.496251874062967,16.979591836734695,16.818047337278106,16.759594496741492,16.384952520087655,16.877476155539252,17.141935483870967,16.92661870503597,16.78061224489796,16.572501878287003,16.37825763216679,16.37028824833703,17.09576837416481,17.14684287812041,16.56599713055954,16.7939214232765,16.96525679758308,16.76934306569343,16.827509293680297,17.523164647184604,16.701665459811732,16.49008082292432,16.642222222222223,16.49890430971512,16.825834542815674,16.805128205128206,16.89040060468632,16.950807635829662,16.784727272727274,16.864745011086473,16.392805755395685,17.036055923473143,17.07820419985518,16.98962962962963,16.896425966447847,16.840354767184035,16.63138948884089,16.670058139534884,16.75874635568513,17.175386882829773,16.72569706103994,16.92467718794835,16.546268656716418,17.212209302325583,16.757422157856627,16.54099560761347,16.882092851879147,16.39072847682119,16.274122807017545,16.760522496371554,16.47380239520958,16.697503671071953,17.150036954915002,16.75627240143369,16.544787077826726,16.66421748714181,16.62196020633751,17.285714285714285,17.20775420629115,16.95906432748538,16.662299854439592,16.701260192735358,16.746734397677795,17.37381818181818,16.476047904191617,17.038291605301914,17.06062931696086,16.690355329949238,16.94182621502209,16.89319678127286,16.957013574660632,16.489583333333332,17.1046511627907,16.76883686905633,16.652332361516034,16.941400304414003,17.15667870036101,16.750186428038777,17.18,16.34156976744186,16.151359294636297,17.206947524020695,16.593220338983052,16.93533834586466,16.46142542248347,16.450370370370372,16.495167286245355,17.132494448556624,16.953194650817235,16.904373610081542,17.122097378277154],\"type\":\"histogram\",\"xaxis\":\"x15\",\"yaxis\":\"y15\",\"opacity\":0.6},{\"histfunc\":\"avg\",\"marker\":{\"color\":\"#F54927\"},\"name\":\"churn\",\"showlegend\":false,\"x\":[2243.5395820714716,2217.9658743331356,2129.9900358851673,2270.1645498783455,2134.6681582054307,2132.838114901257,2047.6425504151837,2048.653636904762,2126.1081018799273,2064.0743191361726,2219.621504211793,2367.814707985697,2092.46068574836,2033.6303119376125,2143.8533094812165,2176.5629863176678,2099.970309155767,2056.625074537865,2283.1774126702194,2079.38,2157.471468616697,1984.1582430806257,2072.311213942308,2208.5323086196504,2098.6160686333533,2304.849518143962,2253.1336031175056,2154.5695104477613,2134.342972972973,2206.569494949495,2115.608202516477,2024.6651526032315,2208.7009512341965,2157.609822064057,2112.5930993456277,2197.561281437126,2086.5701731343283,2186.5873253731343,2166.5651829634076,2070.2780536912755,2184.254853029394,2200.593150932051,2122.586477205447,2087.825403800475,2073.427091988131,2147.084576372315,2114.2859952181707,2098.6504982206407,2268.3544430844554,2167.8492229527797,2167.8298014440434,2146.183791440627,2183.7518440145104,2187.6928276269186,2175.1699999999996,2305.5015701492534,2060.3794282238446,2080.5548035714287,2221.028326309452,2085.874607609988,2207.0631756357184,2144.025072639225,2219.522237001209,2126.4103881140086,2187.696987140233,2113.381597307222,2176.1579065533983,2074.2102029850744,2115.372092603728,2079.5608298256166,2117.792265529842,2238.3839221556887,2111.756332326284,2133.1429418813664,2117.2236640765095,2153.4981699346404,2095.9955125148986,2170.9525261932476,2155.779099639856,2156.289609993906,2193.3158581644816,2197.428005970149,2134.950294294294,2197.1650447761194,2158.883420427553,2218.422613908873,2201.1359417706476,2142.9218219832737,2222.6782775119614,2147.4995654761906,2070.0217313432836,2175.4539786856126,2114.9527398081536,2134.1797943133697,2198.7959066745425,2158.94815539739,2266.747011904762,2024.5147041420116,2193.7897100591717,2281.0044913741817,1915.9919999999997],\"type\":\"histogram\",\"xaxis\":\"x16\",\"yaxis\":\"y16\",\"opacity\":0.6},{\"histfunc\":\"avg\",\"marker\":{\"color\":\"#2784F5\"},\"name\":\"no churn\",\"showlegend\":false,\"x\":[2343.2790943396226,2283.53795143213,2410.7082747804266,2427.76422907489,2410.2690306441527,2411.178769325912,2350.260885286783,2237.5982234777152,2288.9056972361805,2266.013996294009,2240.917557397959,2367.900251889169,2402.368304562269,2397.7236099071206,2246.7620851596744,2256.4031448104415,2393.3128252788106,2286.1424307304783,2368.9723218829517,2270.7973720349564,2256.0310766307794,2360.1720593809223,2327.3953154278574,2291.587577092511,2393.2940886392007,2394.32050625,2305.777300188798,2280.3330180460484,2377.61932160804,2435.1609779951104,2470.6521236727044,2356.0364661654135,2326.200823970037,2409.3574011299434,2297.4168029739776,2310.1395779019244,2365.98232221523,2310.086306641837,2529.541388716677,2345.096441831683,2343.5490248447204,2449.04044978435,2310.6006846733667,2382.811353904282,2391.5704815509694,2396.451065270936,2367.4660392397304,2398.6340375,2256.1708714462297,2323.954870825457,2290.938718434343,2235.030425,2148.6848553459117,2240.3026379201015,2433.5109586466165,2331.8148904195364,2343.7689124999997,2417.8920571783715,2480.369577377253,2382.54353695785,2339.7666939032056,2326.451747512438,2365.4218502202643,2472.042212445003,2341.0959798361687,2363.27805997552,2364.415937694704,2358.786443331246,2484.433211009174,2315.82288594833,2291.0910745341616,2330.2321963499057,2333.8551572327046,2278.9806355140186,2451.5129008109793,2397.7654534161493,2375.6644296577947,2343.9332605985037,2424.1254669987547,2314.9015006226646,2328.4919789734076,2299.132396027312,2407.3460012285013,2432.718094936709,2407.002222906404,2265.6514858199753,2464.1449658597144,2441.7505462445683,2211.0724601657107,2265.8858233438486,2388.3644597989946,2346.097267002519,2300.6277713920817,2286.9020909665196,2240.9653894081,2419.1505959849437,2414.3036374999997,2385.952585574572,2493.166648044693,2489.9355756067207,2288.087294478528],\"type\":\"histogram\",\"xaxis\":\"x16\",\"yaxis\":\"y16\",\"opacity\":0.6}],                        {\"template\":{\"data\":{\"histogram2dcontour\":[{\"type\":\"histogram2dcontour\",\"colorbar\":{\"outlinewidth\":0,\"ticks\":\"\"},\"colorscale\":[[0.0,\"#0d0887\"],[0.1111111111111111,\"#46039f\"],[0.2222222222222222,\"#7201a8\"],[0.3333333333333333,\"#9c179e\"],[0.4444444444444444,\"#bd3786\"],[0.5555555555555556,\"#d8576b\"],[0.6666666666666666,\"#ed7953\"],[0.7777777777777778,\"#fb9f3a\"],[0.8888888888888888,\"#fdca26\"],[1.0,\"#f0f921\"]]}],\"choropleth\":[{\"type\":\"choropleth\",\"colorbar\":{\"outlinewidth\":0,\"ticks\":\"\"}}],\"histogram2d\":[{\"type\":\"histogram2d\",\"colorbar\":{\"outlinewidth\":0,\"ticks\":\"\"},\"colorscale\":[[0.0,\"#0d0887\"],[0.1111111111111111,\"#46039f\"],[0.2222222222222222,\"#7201a8\"],[0.3333333333333333,\"#9c179e\"],[0.4444444444444444,\"#bd3786\"],[0.5555555555555556,\"#d8576b\"],[0.6666666666666666,\"#ed7953\"],[0.7777777777777778,\"#fb9f3a\"],[0.8888888888888888,\"#fdca26\"],[1.0,\"#f0f921\"]]}],\"heatmap\":[{\"type\":\"heatmap\",\"colorbar\":{\"outlinewidth\":0,\"ticks\":\"\"},\"colorscale\":[[0.0,\"#0d0887\"],[0.1111111111111111,\"#46039f\"],[0.2222222222222222,\"#7201a8\"],[0.3333333333333333,\"#9c179e\"],[0.4444444444444444,\"#bd3786\"],[0.5555555555555556,\"#d8576b\"],[0.6666666666666666,\"#ed7953\"],[0.7777777777777778,\"#fb9f3a\"],[0.8888888888888888,\"#fdca26\"],[1.0,\"#f0f921\"]]}],\"heatmapgl\":[{\"type\":\"heatmapgl\",\"colorbar\":{\"outlinewidth\":0,\"ticks\":\"\"},\"colorscale\":[[0.0,\"#0d0887\"],[0.1111111111111111,\"#46039f\"],[0.2222222222222222,\"#7201a8\"],[0.3333333333333333,\"#9c179e\"],[0.4444444444444444,\"#bd3786\"],[0.5555555555555556,\"#d8576b\"],[0.6666666666666666,\"#ed7953\"],[0.7777777777777778,\"#fb9f3a\"],[0.8888888888888888,\"#fdca26\"],[1.0,\"#f0f921\"]]}],\"contourcarpet\":[{\"type\":\"contourcarpet\",\"colorbar\":{\"outlinewidth\":0,\"ticks\":\"\"}}],\"contour\":[{\"type\":\"contour\",\"colorbar\":{\"outlinewidth\":0,\"ticks\":\"\"},\"colorscale\":[[0.0,\"#0d0887\"],[0.1111111111111111,\"#46039f\"],[0.2222222222222222,\"#7201a8\"],[0.3333333333333333,\"#9c179e\"],[0.4444444444444444,\"#bd3786\"],[0.5555555555555556,\"#d8576b\"],[0.6666666666666666,\"#ed7953\"],[0.7777777777777778,\"#fb9f3a\"],[0.8888888888888888,\"#fdca26\"],[1.0,\"#f0f921\"]]}],\"surface\":[{\"type\":\"surface\",\"colorbar\":{\"outlinewidth\":0,\"ticks\":\"\"},\"colorscale\":[[0.0,\"#0d0887\"],[0.1111111111111111,\"#46039f\"],[0.2222222222222222,\"#7201a8\"],[0.3333333333333333,\"#9c179e\"],[0.4444444444444444,\"#bd3786\"],[0.5555555555555556,\"#d8576b\"],[0.6666666666666666,\"#ed7953\"],[0.7777777777777778,\"#fb9f3a\"],[0.8888888888888888,\"#fdca26\"],[1.0,\"#f0f921\"]]}],\"mesh3d\":[{\"type\":\"mesh3d\",\"colorbar\":{\"outlinewidth\":0,\"ticks\":\"\"}}],\"scatter\":[{\"fillpattern\":{\"fillmode\":\"overlay\",\"size\":10,\"solidity\":0.2},\"type\":\"scatter\"}],\"parcoords\":[{\"type\":\"parcoords\",\"line\":{\"colorbar\":{\"outlinewidth\":0,\"ticks\":\"\"}}}],\"scatterpolargl\":[{\"type\":\"scatterpolargl\",\"marker\":{\"colorbar\":{\"outlinewidth\":0,\"ticks\":\"\"}}}],\"bar\":[{\"error_x\":{\"color\":\"#2a3f5f\"},\"error_y\":{\"color\":\"#2a3f5f\"},\"marker\":{\"line\":{\"color\":\"#E5ECF6\",\"width\":0.5},\"pattern\":{\"fillmode\":\"overlay\",\"size\":10,\"solidity\":0.2}},\"type\":\"bar\"}],\"scattergeo\":[{\"type\":\"scattergeo\",\"marker\":{\"colorbar\":{\"outlinewidth\":0,\"ticks\":\"\"}}}],\"scatterpolar\":[{\"type\":\"scatterpolar\",\"marker\":{\"colorbar\":{\"outlinewidth\":0,\"ticks\":\"\"}}}],\"histogram\":[{\"marker\":{\"pattern\":{\"fillmode\":\"overlay\",\"size\":10,\"solidity\":0.2}},\"type\":\"histogram\"}],\"scattergl\":[{\"type\":\"scattergl\",\"marker\":{\"colorbar\":{\"outlinewidth\":0,\"ticks\":\"\"}}}],\"scatter3d\":[{\"type\":\"scatter3d\",\"line\":{\"colorbar\":{\"outlinewidth\":0,\"ticks\":\"\"}},\"marker\":{\"colorbar\":{\"outlinewidth\":0,\"ticks\":\"\"}}}],\"scattermapbox\":[{\"type\":\"scattermapbox\",\"marker\":{\"colorbar\":{\"outlinewidth\":0,\"ticks\":\"\"}}}],\"scatterternary\":[{\"type\":\"scatterternary\",\"marker\":{\"colorbar\":{\"outlinewidth\":0,\"ticks\":\"\"}}}],\"scattercarpet\":[{\"type\":\"scattercarpet\",\"marker\":{\"colorbar\":{\"outlinewidth\":0,\"ticks\":\"\"}}}],\"carpet\":[{\"aaxis\":{\"endlinecolor\":\"#2a3f5f\",\"gridcolor\":\"white\",\"linecolor\":\"white\",\"minorgridcolor\":\"white\",\"startlinecolor\":\"#2a3f5f\"},\"baxis\":{\"endlinecolor\":\"#2a3f5f\",\"gridcolor\":\"white\",\"linecolor\":\"white\",\"minorgridcolor\":\"white\",\"startlinecolor\":\"#2a3f5f\"},\"type\":\"carpet\"}],\"table\":[{\"cells\":{\"fill\":{\"color\":\"#EBF0F8\"},\"line\":{\"color\":\"white\"}},\"header\":{\"fill\":{\"color\":\"#C8D4E3\"},\"line\":{\"color\":\"white\"}},\"type\":\"table\"}],\"barpolar\":[{\"marker\":{\"line\":{\"color\":\"#E5ECF6\",\"width\":0.5},\"pattern\":{\"fillmode\":\"overlay\",\"size\":10,\"solidity\":0.2}},\"type\":\"barpolar\"}],\"pie\":[{\"automargin\":true,\"type\":\"pie\"}]},\"layout\":{\"autotypenumbers\":\"strict\",\"colorway\":[\"#636efa\",\"#EF553B\",\"#00cc96\",\"#ab63fa\",\"#FFA15A\",\"#19d3f3\",\"#FF6692\",\"#B6E880\",\"#FF97FF\",\"#FECB52\"],\"font\":{\"color\":\"#2a3f5f\"},\"hovermode\":\"closest\",\"hoverlabel\":{\"align\":\"left\"},\"paper_bgcolor\":\"white\",\"plot_bgcolor\":\"#E5ECF6\",\"polar\":{\"bgcolor\":\"#E5ECF6\",\"angularaxis\":{\"gridcolor\":\"white\",\"linecolor\":\"white\",\"ticks\":\"\"},\"radialaxis\":{\"gridcolor\":\"white\",\"linecolor\":\"white\",\"ticks\":\"\"}},\"ternary\":{\"bgcolor\":\"#E5ECF6\",\"aaxis\":{\"gridcolor\":\"white\",\"linecolor\":\"white\",\"ticks\":\"\"},\"baxis\":{\"gridcolor\":\"white\",\"linecolor\":\"white\",\"ticks\":\"\"},\"caxis\":{\"gridcolor\":\"white\",\"linecolor\":\"white\",\"ticks\":\"\"}},\"coloraxis\":{\"colorbar\":{\"outlinewidth\":0,\"ticks\":\"\"}},\"colorscale\":{\"sequential\":[[0.0,\"#0d0887\"],[0.1111111111111111,\"#46039f\"],[0.2222222222222222,\"#7201a8\"],[0.3333333333333333,\"#9c179e\"],[0.4444444444444444,\"#bd3786\"],[0.5555555555555556,\"#d8576b\"],[0.6666666666666666,\"#ed7953\"],[0.7777777777777778,\"#fb9f3a\"],[0.8888888888888888,\"#fdca26\"],[1.0,\"#f0f921\"]],\"sequentialminus\":[[0.0,\"#0d0887\"],[0.1111111111111111,\"#46039f\"],[0.2222222222222222,\"#7201a8\"],[0.3333333333333333,\"#9c179e\"],[0.4444444444444444,\"#bd3786\"],[0.5555555555555556,\"#d8576b\"],[0.6666666666666666,\"#ed7953\"],[0.7777777777777778,\"#fb9f3a\"],[0.8888888888888888,\"#fdca26\"],[1.0,\"#f0f921\"]],\"diverging\":[[0,\"#8e0152\"],[0.1,\"#c51b7d\"],[0.2,\"#de77ae\"],[0.3,\"#f1b6da\"],[0.4,\"#fde0ef\"],[0.5,\"#f7f7f7\"],[0.6,\"#e6f5d0\"],[0.7,\"#b8e186\"],[0.8,\"#7fbc41\"],[0.9,\"#4d9221\"],[1,\"#276419\"]]},\"xaxis\":{\"gridcolor\":\"white\",\"linecolor\":\"white\",\"ticks\":\"\",\"title\":{\"standoff\":15},\"zerolinecolor\":\"white\",\"automargin\":true,\"zerolinewidth\":2},\"yaxis\":{\"gridcolor\":\"white\",\"linecolor\":\"white\",\"ticks\":\"\",\"title\":{\"standoff\":15},\"zerolinecolor\":\"white\",\"automargin\":true,\"zerolinewidth\":2},\"scene\":{\"xaxis\":{\"backgroundcolor\":\"#E5ECF6\",\"gridcolor\":\"white\",\"linecolor\":\"white\",\"showbackground\":true,\"ticks\":\"\",\"zerolinecolor\":\"white\",\"gridwidth\":2},\"yaxis\":{\"backgroundcolor\":\"#E5ECF6\",\"gridcolor\":\"white\",\"linecolor\":\"white\",\"showbackground\":true,\"ticks\":\"\",\"zerolinecolor\":\"white\",\"gridwidth\":2},\"zaxis\":{\"backgroundcolor\":\"#E5ECF6\",\"gridcolor\":\"white\",\"linecolor\":\"white\",\"showbackground\":true,\"ticks\":\"\",\"zerolinecolor\":\"white\",\"gridwidth\":2}},\"shapedefaults\":{\"line\":{\"color\":\"#2a3f5f\"}},\"annotationdefaults\":{\"arrowcolor\":\"#2a3f5f\",\"arrowhead\":0,\"arrowwidth\":1},\"geo\":{\"bgcolor\":\"white\",\"landcolor\":\"#E5ECF6\",\"subunitcolor\":\"white\",\"showland\":true,\"showlakes\":true,\"lakecolor\":\"white\"},\"title\":{\"x\":0.05},\"mapbox\":{\"style\":\"light\"}}},\"xaxis\":{\"anchor\":\"y\",\"domain\":[0.0,0.2888888888888889]},\"yaxis\":{\"anchor\":\"x\",\"domain\":[0.9027777777777777,0.9999999999999999]},\"xaxis2\":{\"anchor\":\"y2\",\"domain\":[0.35555555555555557,0.6444444444444445]},\"yaxis2\":{\"anchor\":\"x2\",\"domain\":[0.9027777777777777,0.9999999999999999]},\"xaxis3\":{\"anchor\":\"y3\",\"domain\":[0.7111111111111111,1.0]},\"yaxis3\":{\"anchor\":\"x3\",\"domain\":[0.9027777777777777,0.9999999999999999]},\"xaxis4\":{\"anchor\":\"y4\",\"domain\":[0.0,0.2888888888888889]},\"yaxis4\":{\"anchor\":\"x4\",\"domain\":[0.7222222222222222,0.8194444444444444]},\"xaxis5\":{\"anchor\":\"y5\",\"domain\":[0.35555555555555557,0.6444444444444445]},\"yaxis5\":{\"anchor\":\"x5\",\"domain\":[0.7222222222222222,0.8194444444444444]},\"xaxis6\":{\"anchor\":\"y6\",\"domain\":[0.7111111111111111,1.0]},\"yaxis6\":{\"anchor\":\"x6\",\"domain\":[0.7222222222222222,0.8194444444444444]},\"xaxis7\":{\"anchor\":\"y7\",\"domain\":[0.0,0.2888888888888889]},\"yaxis7\":{\"anchor\":\"x7\",\"domain\":[0.5416666666666667,0.638888888888889]},\"xaxis8\":{\"anchor\":\"y8\",\"domain\":[0.35555555555555557,0.6444444444444445]},\"yaxis8\":{\"anchor\":\"x8\",\"domain\":[0.5416666666666667,0.638888888888889]},\"xaxis9\":{\"anchor\":\"y9\",\"domain\":[0.7111111111111111,1.0]},\"yaxis9\":{\"anchor\":\"x9\",\"domain\":[0.5416666666666667,0.638888888888889]},\"xaxis10\":{\"anchor\":\"y10\",\"domain\":[0.0,0.2888888888888889]},\"yaxis10\":{\"anchor\":\"x10\",\"domain\":[0.3611111111111111,0.4583333333333333]},\"xaxis11\":{\"anchor\":\"y11\",\"domain\":[0.35555555555555557,0.6444444444444445]},\"yaxis11\":{\"anchor\":\"x11\",\"domain\":[0.3611111111111111,0.4583333333333333]},\"xaxis12\":{\"anchor\":\"y12\",\"domain\":[0.7111111111111111,1.0]},\"yaxis12\":{\"anchor\":\"x12\",\"domain\":[0.3611111111111111,0.4583333333333333]},\"xaxis13\":{\"anchor\":\"y13\",\"domain\":[0.0,0.2888888888888889]},\"yaxis13\":{\"anchor\":\"x13\",\"domain\":[0.18055555555555555,0.2777777777777778]},\"xaxis14\":{\"anchor\":\"y14\",\"domain\":[0.35555555555555557,0.6444444444444445]},\"yaxis14\":{\"anchor\":\"x14\",\"domain\":[0.18055555555555555,0.2777777777777778]},\"xaxis15\":{\"anchor\":\"y15\",\"domain\":[0.7111111111111111,1.0]},\"yaxis15\":{\"anchor\":\"x15\",\"domain\":[0.18055555555555555,0.2777777777777778]},\"xaxis16\":{\"anchor\":\"y16\",\"domain\":[0.0,0.2888888888888889]},\"yaxis16\":{\"anchor\":\"x16\",\"domain\":[0.0,0.09722222222222222]},\"xaxis17\":{\"anchor\":\"y17\",\"domain\":[0.35555555555555557,0.6444444444444445]},\"yaxis17\":{\"anchor\":\"x17\",\"domain\":[0.0,0.09722222222222222]},\"xaxis18\":{\"anchor\":\"y18\",\"domain\":[0.7111111111111111,1.0]},\"yaxis18\":{\"anchor\":\"x18\",\"domain\":[0.0,0.09722222222222222]},\"annotations\":[{\"font\":{\"size\":16},\"showarrow\":false,\"text\":\"bd_treated\",\"x\":0.14444444444444446,\"xanchor\":\"center\",\"xref\":\"paper\",\"y\":0.9999999999999999,\"yanchor\":\"bottom\",\"yref\":\"paper\"},{\"font\":{\"size\":16},\"showarrow\":false,\"text\":\"payment_plan_days\",\"x\":0.5,\"xanchor\":\"center\",\"xref\":\"paper\",\"y\":0.9999999999999999,\"yanchor\":\"bottom\",\"yref\":\"paper\"},{\"font\":{\"size\":16},\"showarrow\":false,\"text\":\"plan_list_price\",\"x\":0.8555555555555556,\"xanchor\":\"center\",\"xref\":\"paper\",\"y\":0.9999999999999999,\"yanchor\":\"bottom\",\"yref\":\"paper\"},{\"font\":{\"size\":16},\"showarrow\":false,\"text\":\"actual_amount_paid\",\"x\":0.14444444444444446,\"xanchor\":\"center\",\"xref\":\"paper\",\"y\":0.8194444444444444,\"yanchor\":\"bottom\",\"yref\":\"paper\"},{\"font\":{\"size\":16},\"showarrow\":false,\"text\":\"num_25\",\"x\":0.5,\"xanchor\":\"center\",\"xref\":\"paper\",\"y\":0.8194444444444444,\"yanchor\":\"bottom\",\"yref\":\"paper\"},{\"font\":{\"size\":16},\"showarrow\":false,\"text\":\"num_50\",\"x\":0.8555555555555556,\"xanchor\":\"center\",\"xref\":\"paper\",\"y\":0.8194444444444444,\"yanchor\":\"bottom\",\"yref\":\"paper\"},{\"font\":{\"size\":16},\"showarrow\":false,\"text\":\"num_75\",\"x\":0.14444444444444446,\"xanchor\":\"center\",\"xref\":\"paper\",\"y\":0.638888888888889,\"yanchor\":\"bottom\",\"yref\":\"paper\"},{\"font\":{\"size\":16},\"showarrow\":false,\"text\":\"num_985\",\"x\":0.5,\"xanchor\":\"center\",\"xref\":\"paper\",\"y\":0.638888888888889,\"yanchor\":\"bottom\",\"yref\":\"paper\"},{\"font\":{\"size\":16},\"showarrow\":false,\"text\":\"num_100\",\"x\":0.8555555555555556,\"xanchor\":\"center\",\"xref\":\"paper\",\"y\":0.638888888888889,\"yanchor\":\"bottom\",\"yref\":\"paper\"},{\"font\":{\"size\":16},\"showarrow\":false,\"text\":\"num_unq\",\"x\":0.14444444444444446,\"xanchor\":\"center\",\"xref\":\"paper\",\"y\":0.4583333333333333,\"yanchor\":\"bottom\",\"yref\":\"paper\"},{\"font\":{\"size\":16},\"showarrow\":false,\"text\":\"total_secs_treated\",\"x\":0.5,\"xanchor\":\"center\",\"xref\":\"paper\",\"y\":0.4583333333333333,\"yanchor\":\"bottom\",\"yref\":\"paper\"},{\"font\":{\"size\":16},\"showarrow\":false,\"text\":\"months_registered\",\"x\":0.8555555555555556,\"xanchor\":\"center\",\"xref\":\"paper\",\"y\":0.4583333333333333,\"yanchor\":\"bottom\",\"yref\":\"paper\"},{\"font\":{\"size\":16},\"showarrow\":false,\"text\":\"days_until_expire_treated\",\"x\":0.14444444444444446,\"xanchor\":\"center\",\"xref\":\"paper\",\"y\":0.2777777777777778,\"yanchor\":\"bottom\",\"yref\":\"paper\"},{\"font\":{\"size\":16},\"showarrow\":false,\"text\":\"months_until_expire_treated\",\"x\":0.5,\"xanchor\":\"center\",\"xref\":\"paper\",\"y\":0.2777777777777778,\"yanchor\":\"bottom\",\"yref\":\"paper\"},{\"font\":{\"size\":16},\"showarrow\":false,\"text\":\"payment_day\",\"x\":0.8555555555555556,\"xanchor\":\"center\",\"xref\":\"paper\",\"y\":0.2777777777777778,\"yanchor\":\"bottom\",\"yref\":\"paper\"},{\"font\":{\"size\":16},\"showarrow\":false,\"text\":\"total_mins_treated\",\"x\":0.14444444444444446,\"xanchor\":\"center\",\"xref\":\"paper\",\"y\":0.09722222222222222,\"yanchor\":\"bottom\",\"yref\":\"paper\"}],\"title\":{\"text\":\"Histogramas da Média por Coluna (Churn vs No Churn)\"},\"barmode\":\"overlay\",\"height\":900,\"width\":1000},                        {\"responsive\": true}                    ).then(function(){\n",
              "                            \n",
              "var gd = document.getElementById('67453595-06e7-4180-ac8d-060419566456');\n",
              "var x = new MutationObserver(function (mutations, observer) {{\n",
              "        var display = window.getComputedStyle(gd).display;\n",
              "        if (!display || display === 'none') {{\n",
              "            console.log([gd, 'removed!']);\n",
              "            Plotly.purge(gd);\n",
              "            observer.disconnect();\n",
              "        }}\n",
              "}});\n",
              "\n",
              "// Listen for the removal of the full notebook cells\n",
              "var notebookContainer = gd.closest('#notebook-container');\n",
              "if (notebookContainer) {{\n",
              "    x.observe(notebookContainer, {childList: true});\n",
              "}}\n",
              "\n",
              "// Listen for the clearing of the current output cell\n",
              "var outputEl = gd.closest('.output');\n",
              "if (outputEl) {{\n",
              "    x.observe(outputEl, {childList: true});\n",
              "}}\n",
              "\n",
              "                        })                };                            </script>        </div>\n",
              "</body>\n",
              "</html>"
            ]
          },
          "metadata": {}
        }
      ],
      "source": [
        "df_media = gera_df_media(df_num_pd,cols_to_avg, batch=1900)\n",
        "gera_subplot_media(df_media, cols_to_avg, 3)"
      ]
    },
    {
      "cell_type": "code",
      "execution_count": null,
      "metadata": {
        "id": "rdZE6fV6Cn8a"
      },
      "outputs": [],
      "source": [
        "# Definir as colunas para calcular a média\n",
        "cols_to_corr_orig = [col for col in df_num_pd.columns if col not in ['churn_origem', 'is_ativo', 'msno', 'safra', 'gender_treated']]\n"
      ]
    },
    {
      "cell_type": "code",
      "execution_count": null,
      "metadata": {
        "colab": {
          "base_uri": "https://localhost:8080/",
          "height": 542
        },
        "id": "GS317qNXMf_g",
        "outputId": "f05a4bf2-f8e3-4cba-ae64-5f71e7fc1a21"
      },
      "outputs": [
        {
          "output_type": "display_data",
          "data": {
            "text/html": [
              "<html>\n",
              "<head><meta charset=\"utf-8\" /></head>\n",
              "<body>\n",
              "    <div>            <script src=\"https://cdnjs.cloudflare.com/ajax/libs/mathjax/2.7.5/MathJax.js?config=TeX-AMS-MML_SVG\"></script><script type=\"text/javascript\">if (window.MathJax && window.MathJax.Hub && window.MathJax.Hub.Config) {window.MathJax.Hub.Config({SVG: {font: \"STIX-Web\"}});}</script>                <script type=\"text/javascript\">window.PlotlyConfig = {MathJaxConfig: 'local'};</script>\n",
              "        <script charset=\"utf-8\" src=\"https://cdn.plot.ly/plotly-2.35.2.min.js\"></script>                <div id=\"5f70334a-5e6c-485d-a429-2da8f3c63852\" class=\"plotly-graph-div\" style=\"height:525px; width:100%;\"></div>            <script type=\"text/javascript\">                                    window.PLOTLYENV=window.PLOTLYENV || {};                                    if (document.getElementById(\"5f70334a-5e6c-485d-a429-2da8f3c63852\")) {                    Plotly.newPlot(                        \"5f70334a-5e6c-485d-a429-2da8f3c63852\",                        [{\"coloraxis\":\"coloraxis\",\"name\":\"0\",\"texttemplate\":\"%{z:.2%}\",\"x\":[\"declared_gender\",\"churn_m3\",\"payment_plan_days\",\"plan_list_price\",\"actual_amount_paid\",\"is_auto_renew\",\"is_cancel\",\"num_25\",\"num_50\",\"num_75\",\"num_985\",\"num_100\",\"num_unq\",\"total_secs\",\"info_transaction\",\"info_user_logs\",\"city_grouped\",\"registered_via_treated\",\"months_registered\",\"days_until_expire\",\"payment_day\",\"discount\",\"pct_discount\",\"has_discount\",\"bd_treated\",\"age_declared\",\"total_secs_treated\",\"total_mins_treated\",\"days_until_expire_treated\",\"months_until_expire_treated\"],\"y\":[\"declared_gender\",\"churn_m3\",\"payment_plan_days\",\"plan_list_price\",\"actual_amount_paid\",\"is_auto_renew\",\"is_cancel\",\"num_25\",\"num_50\",\"num_75\",\"num_985\",\"num_100\",\"num_unq\",\"total_secs\",\"info_transaction\",\"info_user_logs\",\"city_grouped\",\"registered_via_treated\",\"months_registered\",\"days_until_expire\",\"payment_day\",\"discount\",\"pct_discount\",\"has_discount\",\"bd_treated\",\"age_declared\",\"total_secs_treated\",\"total_mins_treated\",\"days_until_expire_treated\",\"months_until_expire_treated\"],\"z\":[[1.0,0.10768770848281792,0.07241430965865796,0.450796014644838,0.4581895238951195,-0.2193963907071062,-0.006170820001013518,0.11874833144308616,0.12961262731281947,0.13481571632327732,0.14409878643853805,0.19156994100609198,0.1831414466953975,0.19178312525685595,-0.24843743264405502,0.14532324298245844,-0.7502628481660332,-0.5448143629491643,0.40496323775979476,0.416076035475096,0.15939565605923342,-0.06282177921907048,-0.06290734940156634,-0.06642557432068914,0.8494663936854948,0.935744905921908,0.1917816555302361,0.19178165343603254,0.41614728994096833,0.4157235781637578],[0.10768770848281792,1.0,-0.1339456591859009,0.15529825475086514,0.10051286854373612,-0.23866103820123488,0.31131174580549764,-0.028523314867036815,-0.025560196929542877,-0.03080923449726171,-0.03380001040689534,-0.03860093323093434,-0.038228192511607424,-0.038477497109722404,-0.09669289022992637,0.0336451849216564,-0.11365033791196157,-0.18147164664237078,0.01087332493986785,-0.017001733971696072,0.06534389739910212,0.21016334917821708,0.21669129574417242,0.1574723967674841,0.08223750367126177,0.10613681769891274,-0.0384774262523777,-0.03847742872043036,-0.016809103217860916,-0.016942587529541926],[0.07241430965865796,-0.1339456591859009,1.0,0.3122843794318512,0.30934487950285006,-0.17801791095016947,-0.012454964169136945,0.05696346689309417,0.061401978420913425,0.0605694650163748,0.05823615161756248,0.06342935299670853,0.06756890845331034,0.06494951141483933,null,0.05279041431502828,-0.08209835666046295,-0.08917528096484752,0.0038889288585865966,0.03458898014151536,-0.032658097837715075,-0.007915151984011567,-0.013923837543240808,-0.007916330312029346,0.06726971005504806,0.07672725416880866,0.06494683390191103,0.06494683804541201,0.03460961832110742,0.034346531108990816],[0.450796014644838,0.15529825475086514,0.3122843794318512,1.0,0.9694054884046204,-0.3965165208485799,0.061054320438734634,0.16160555900556073,0.1619385776619311,0.1605961262619434,0.16826951562162956,0.19626137489835302,0.1905808314247921,0.198885255725276,null,0.17379305324543246,-0.4668771322067582,-0.5952252935482438,0.3513382425923128,0.362680020850323,0.09233573999832238,0.051939134607117486,0.05123018330751192,0.05191942188010483,0.4180999097887598,0.45264020172312075,0.19888357483933694,0.1988835697527742,0.3627637980579587,0.3602830649493105],[0.4581895238951195,0.10051286854373612,0.30934487950285006,0.9694054884046204,1.0,-0.3992759455392454,-0.008446347030067202,0.17020232362125157,0.1701993427659837,0.16954067406299705,0.17816224111393808,0.20874397498965389,0.20235608466807145,0.21124979052785112,null,0.1827911523205101,-0.4730967224467831,-0.5974539044750666,0.3672714338492179,0.3796406689035156,0.09650163788073583,-0.19433099767815823,-0.19694730327834975,-0.19434640803453782,0.4251436791817747,0.45955518061496853,0.21124834677724905,0.21124834152534375,0.3797216450048542,0.37716963356640565],[-0.2193963907071062,-0.23866103820123488,-0.17801791095016947,-0.3965165208485799,-0.3992759455392454,1.0,0.06996466873811392,-0.1727921524201158,-0.17496452511117544,-0.1584295456421958,-0.15390449576030177,-0.11266505222401565,-0.13046734880105115,-0.12116681560940726,null,-0.139046706666649,0.192593537193953,0.5051006514819789,0.08700553899234337,0.07488134717288299,0.05193426010184747,0.04446267199591376,0.043647853907462994,0.04444193933314715,-0.10000510977964423,-0.21357266389320023,-0.12116646007866916,-0.12116645883605234,0.0749179573455485,0.07579944298797238],[-0.006170820001013518,0.31131174580549764,-0.012454964169136945,0.061054320438734634,-0.008446347030067202,0.06996466873811392,1.0,-0.06086512199888509,-0.05993945953229609,-0.059565540026213365,-0.060126858251332446,-0.06230388672713648,-0.06495585736316926,-0.06384394668335361,null,-0.06079224354054566,-0.0027820145674423914,0.014341231980297459,-0.0014881674789412234,-0.009230516120349981,-0.014020130600458909,0.2810256728948264,0.2809737482409437,0.2810717161899385,0.0007131144629589555,-0.0037049081382592073,-0.06384415982263865,-0.0638441652662096,-0.008599564292583222,-0.008641366074240337],[0.11874833144308616,-0.028523314867036815,0.05696346689309417,0.16160555900556073,0.17020232362125157,-0.1727921524201158,-0.06086512199888509,1.0,0.8694778682662366,0.8512049620636053,0.8175398556735327,0.6239033884514606,0.7638957372617381,0.6588504596285535,-0.057400307337221776,null,-0.11399514353275027,-0.14945839159681945,0.0012110764645894012,0.010693537237222805,-0.020844837405069826,-0.04985733733978372,-0.05033385724526781,-0.04523210374745773,0.012671553930650607,0.11542190171798945,0.6588576869988378,0.6588576906915105,0.010654495282643782,0.0098222873838522],[0.12961262731281947,-0.025560196929542877,0.061401978420913425,0.1619385776619311,0.1701993427659837,-0.17496452511117544,-0.05993945953229609,0.8694778682662366,1.0,0.9169711693564553,0.8462339859605388,0.6263452438676765,0.7472410949686662,0.6689399670888975,-0.06448396812734397,null,-0.12799648908604577,-0.1579063931685946,0.004779659483375089,0.011829251080659247,-0.01619675809835534,-0.048330830885265,-0.04878851371706386,-0.04419854028715174,0.02452013225161741,0.1258862187262388,0.6689449590356171,0.6689449629445445,0.011793996246104528,0.01100040085611748],[0.13481571632327732,-0.03080923449726171,0.0605694650163748,0.1605961262619434,0.16954067406299705,-0.1584295456421958,-0.059565540026213365,0.8512049620636053,0.9169711693564553,1.0,0.88451108838142,0.6730429779621769,0.7738396042188123,0.7136658442355595,-0.06830937129903976,null,-0.13149896436934377,-0.15261045138651988,0.018135470571859987,0.02577124890962143,-0.015375173268008824,-0.051236133135312924,-0.051719358142265554,-0.046849781362217034,0.035883102139164715,0.13089862447778966,0.7136703034462863,0.7136703081202087,0.025733563856615998,0.0249176312323814],[0.14409878643853805,-0.03380001040689534,0.05823615161756248,0.16826951562162956,0.17816224111393808,-0.15390449576030177,-0.060126858251332446,0.8175398556735327,0.8462339859605388,0.88451108838142,1.0,0.6828827140906333,0.7654866531839807,0.7233261912037132,-0.07151910844626964,null,-0.13796208418334696,-0.15265152746158756,0.03393924401597426,0.042320144949693335,-0.011147911508403262,-0.05604392762122432,-0.05655869493049329,-0.05101516095951517,0.0454730421918242,0.14042325161584396,0.7233271247224783,0.7233271291268223,0.04228340798531463,0.04145397545764677],[0.19156994100609198,-0.03860093323093434,0.06342935299670853,0.19626137489835302,0.20874397498965389,-0.11266505222401565,-0.06230388672713648,0.6239033884514606,0.6263452438676765,0.6730429779621769,0.6828827140906333,1.0,0.9293188963558732,0.9945805164055049,-0.09796159561736281,null,-0.18235965523795875,-0.1648172983324785,0.09532204617558387,0.10567642235815382,0.00019724719917498074,-0.06945238182072783,-0.0700830052771766,-0.06305210788666862,0.12614351331128001,0.189483873858501,0.9945800759283295,0.9945800795060814,0.10564478139825637,0.10467293978901555],[0.1831414466953975,-0.038228192511607424,0.06756890845331034,0.1905808314247921,0.20235608466807145,-0.13046734880105115,-0.06495585736316926,0.7638957372617381,0.7472410949686662,0.7738396042188123,0.7654866531839807,0.9293188963558732,1.0,0.9430566875816268,-0.09772408433553735,null,-0.1780506547787967,-0.17235191838876493,0.07020985014790396,0.08006052028483454,-0.008239229658957414,-0.06588401830625165,-0.0664981919494582,-0.06015656310999168,0.10119406097578465,0.18115100022754116,0.9430585068607285,0.9430585124602537,0.08002542121596647,0.07905412918889437],[0.19178312525685595,-0.038477497109722404,0.06494951141483933,0.198885255725276,0.21124979052785112,-0.12116681560940726,-0.06384394668335361,0.6588504596285535,0.6689399670888975,0.7136658442355595,0.7233261912037132,0.9945805164055049,0.9430566875816268,1.0,-0.0973977076709684,null,-0.18283968889271832,-0.16902510846945565,0.08981871267469999,0.10004852170257411,-0.0006471471199248123,-0.06913195305053352,-0.06976117694093348,-0.06277074513344126,0.1220218987689842,0.18953164459169827,0.9999995172620072,0.999999517247136,0.10001527356722732,0.0990393628975982],[-0.24843743264405502,-0.09669289022992637,null,null,null,null,null,-0.057400307337221776,-0.06448396812734397,-0.06830937129903976,-0.07151910844626964,-0.09796159561736281,-0.09772408433553735,-0.0973977076709684,1.0,0.16724080796317356,0.2650044509298709,0.3823606044053548,-0.09208657881833214,null,null,null,null,0.05548954259104165,-0.2173269074441323,-0.2524868143498422,-0.09739540958570761,-0.09739540526495201,null,null],[0.14532324298245844,0.0336451849216564,0.05279041431502828,0.17379305324543246,0.1827911523205101,-0.139046706666649,-0.06079224354054566,null,null,null,null,null,null,null,0.16724080796317356,1.0,-0.1503621973428912,-0.07149342965375996,0.07400233855504232,0.08520333636197774,-0.005481076707508095,-0.049127139995344585,-0.049643951309272856,-0.026848807717386843,0.12719597286937862,0.14794939298957205,null,null,0.08518813203649099,0.08439310825507067],[-0.7502628481660332,-0.11365033791196157,-0.08209835666046295,-0.4668771322067582,-0.4730967224467831,0.192593537193953,-0.0027820145674423914,-0.11399514353275027,-0.12799648908604577,-0.13149896436934377,-0.13796208418334696,-0.18235965523795875,-0.1780506547787967,-0.18283968889271832,0.2650044509298709,-0.1503621973428912,1.0,0.5436075302570467,-0.3542164286267962,-0.3846627062810205,-0.1508375292652953,0.05913218587505834,0.05931783566819752,0.062320874205925615,-0.6891702121431285,-0.7576496479397915,-0.18283812010922876,-0.18283811827361154,-0.38476533936398577,-0.3844628901166638],[-0.5448143629491643,-0.18147164664237078,-0.08917528096484752,-0.5952252935482438,-0.5974539044750666,0.5051006514819789,0.014341231980297459,-0.14945839159681945,-0.1579063931685946,-0.15261045138651988,-0.15265152746158756,-0.1648172983324785,-0.17235191838876493,-0.16902510846945565,0.3823606044053548,-0.07149342965375996,0.5436075302570467,1.0,-0.09584687724174243,-0.216264678701737,-0.1433438424143161,0.054146155566516495,0.05386441320821759,0.064081488206333,-0.45051015134127737,-0.5408161488766972,-0.16902493585551606,-0.1690249324682557,-0.21639006851317397,-0.2159345498772937],[0.40496323775979476,0.01087332493986785,0.0038889288585865966,0.3513382425923128,0.3672714338492179,0.08700553899234337,-0.0014881674789412234,0.0012110764645894012,0.004779659483375089,0.018135470571859987,0.03393924401597426,0.09532204617558387,0.07020985014790396,0.08981871267469999,-0.09208657881833214,0.07400233855504232,-0.3542164286267962,-0.09584687724174243,1.0,0.9985340947871069,0.1817598927217955,-0.08816343878468276,-0.08861125683745993,-0.0770320417430722,0.45442807251468775,0.3939375134204847,0.08981702400473975,0.08981701737666946,0.9985512832408959,0.9983027964939676],[0.416076035475096,-0.017001733971696072,0.03458898014151536,0.362680020850323,0.3796406689035156,0.07488134717288299,-0.009230516120349981,0.010693537237222805,0.011829251080659247,0.02577124890962143,0.042320144949693335,0.10567642235815382,0.08006052028483454,0.10004852170257411,null,0.08520333636197774,-0.3846627062810205,-0.216264678701737,0.9985340947871069,1.0,0.1890581991513511,-0.09314951860330607,-0.09365753940661677,-0.09313210146564231,0.4563546011101531,0.40552602020930956,0.10004561400353833,0.10004560849459254,0.9999823349135789,0.999761530519516],[0.15939565605923342,0.06534389739910212,-0.032658097837715075,0.09233573999832238,0.09650163788073583,0.05193426010184747,-0.014020130600458909,-0.020844837405069826,-0.01619675809835534,-0.015375173268008824,-0.011147911508403262,0.00019724719917498074,-0.008239229658957414,-0.0006471471199248123,null,-0.005481076707508095,-0.1508375292652953,-0.1433438424143161,0.1817598927217955,0.1890581991513511,1.0,-0.02348648126956182,-0.023365259477321054,-0.023501064131903126,0.1758860508570743,0.15853941596527046,-0.0006486483271653801,-0.0006486503797310758,0.1890529031428939,0.18947533529049204],[-0.06282177921907048,0.21016334917821708,-0.007915151984011567,0.051939134607117486,-0.19433099767815823,0.04446267199591376,0.2810256728948264,-0.04985733733978372,-0.048330830885265,-0.051236133135312924,-0.05604392762122432,-0.06945238182072783,-0.06588401830625165,-0.06913195305053352,null,-0.049127139995344585,0.05913218587505834,0.054146155566516495,-0.08816343878468276,-0.09314951860330607,-0.02348648126956182,1.0,0.9999995171789304,0.9999503143122204,-0.05880345746146336,-0.06100783450241604,-0.06913290015913724,-0.06913289939426198,-0.09314139850115107,-0.09269010108272227],[-0.06290734940156634,0.21669129574417242,-0.013923837543240808,0.05123018330751192,-0.19694730327834975,0.043647853907462994,0.2809737482409437,-0.05033385724526781,-0.04878851371706386,-0.051719358142265554,-0.05655869493049329,-0.0700830052771766,-0.0664981919494582,-0.06976117694093348,null,-0.049643951309272856,0.05931783566819752,0.05386441320821759,-0.08861125683745993,-0.09365753940661677,-0.023365259477321054,0.9999995171789304,1.0,0.9999507920224057,-0.05893843626481001,-0.061115089875915,-0.0697621316199821,-0.06976213060590011,-0.09364943802915625,-0.09316269777315422],[-0.06642557432068914,0.1574723967674841,-0.007916330312029346,0.05191942188010483,-0.19434640803453782,0.04444193933314715,0.2810717161899385,-0.04523210374745773,-0.04419854028715174,-0.046849781362217034,-0.05101516095951517,-0.06305210788666862,-0.06015656310999168,-0.06277074513344126,0.05548954259104165,-0.026848807717386843,0.062320874205925615,0.064081488206333,-0.0770320417430722,-0.09313210146564231,-0.023501064131903126,0.9999503143122204,0.9999507920224057,1.0,-0.060222758545001434,-0.06514215722078996,-0.06277167886972174,-0.06277167798077467,-0.09312391520582824,-0.09267279841814227],[0.8494663936854948,0.08223750367126177,0.06726971005504806,0.4180999097887598,0.4251436791817747,-0.10000510977964423,0.0007131144629589555,0.012671553930650607,0.02452013225161741,0.035883102139164715,0.0454730421918242,0.12614351331128001,0.10119406097578465,0.1220218987689842,-0.2173269074441323,0.12719597286937862,-0.6891702121431285,-0.45051015134127737,0.45442807251468775,0.4563546011101531,0.1758860508570743,-0.05880345746146336,-0.05893843626481001,-0.060222758545001434,1.0,0.9092625200967019,0.12201754671083637,0.12201754597510998,0.4564314898204263,0.4561999159077697],[0.935744905921908,0.10613681769891274,0.07672725416880866,0.45264020172312075,0.45955518061496853,-0.21357266389320023,-0.0037049081382592073,0.11542190171798945,0.1258862187262388,0.13089862447778966,0.14042325161584396,0.189483873858501,0.18115100022754116,0.18953164459169827,-0.2524868143498422,0.14794939298957205,-0.7576496479397915,-0.5408161488766972,0.3939375134204847,0.40552602020930956,0.15853941596527046,-0.06100783450241604,-0.061115089875915,-0.06514215722078996,0.9092625200967019,1.0,0.18952980601590408,0.18952980491655896,0.4056036816364149,0.4051975480089034],[0.1917816555302361,-0.0384774262523777,0.06494683390191103,0.19888357483933694,0.21124834677724905,-0.12116646007866916,-0.06384415982263865,0.6588576869988378,0.6689449590356171,0.7136703034462863,0.7233271247224783,0.9945800759283295,0.9430585068607285,0.9999995172620072,-0.09739540958570761,null,-0.18283812010922876,-0.16902493585551606,0.08981702400473975,0.10004561400353833,-0.0006486483271653801,-0.06913290015913724,-0.0697621316199821,-0.06277167886972174,0.12201754671083637,0.18952980601590408,1.0,0.9999999999851292,0.10001236559173471,0.09903642925847117],[0.19178165343603254,-0.03847742872043036,0.06494683804541201,0.1988835697527742,0.21124834152534375,-0.12116645883605234,-0.0638441652662096,0.6588576906915105,0.6689449629445445,0.7136703081202087,0.7233271291268223,0.9945800795060814,0.9430585124602537,0.999999517247136,-0.09739540526495201,null,-0.18283811827361154,-0.1690249324682557,0.08981701737666946,0.10004560849459254,-0.0006486503797310758,-0.06913289939426198,-0.06976213060590011,-0.06277167798077467,0.12201754597510998,0.18952980491655896,0.9999999999851292,1.0,0.10001236010880582,0.09903642376900618],[0.41614728994096833,-0.016809103217860916,0.03460961832110742,0.3627637980579587,0.3797216450048542,0.0749179573455485,-0.008599564292583222,0.010654495282643782,0.011793996246104528,0.025733563856615998,0.04228340798531463,0.10564478139825637,0.08002542121596647,0.10001527356722732,null,0.08518813203649099,-0.38476533936398577,-0.21639006851317397,0.9985512832408959,0.9999823349135789,0.1890529031428939,-0.09314139850115107,-0.09364943802915625,-0.09312391520582824,0.4564314898204263,0.4056036816364149,0.10001236559173471,0.10001236010880582,1.0,0.999779192074578],[0.4157235781637578,-0.016942587529541926,0.034346531108990816,0.3602830649493105,0.37716963356640565,0.07579944298797238,-0.008641366074240337,0.0098222873838522,0.01100040085611748,0.0249176312323814,0.04145397545764677,0.10467293978901555,0.07905412918889437,0.0990393628975982,null,0.08439310825507067,-0.3844628901166638,-0.2159345498772937,0.9983027964939676,0.999761530519516,0.18947533529049204,-0.09269010108272227,-0.09316269777315422,-0.09267279841814227,0.4561999159077697,0.4051975480089034,0.09903642925847117,0.09903642376900618,0.999779192074578,1.0]],\"type\":\"heatmap\",\"xaxis\":\"x\",\"yaxis\":\"y\",\"hovertemplate\":\"x: %{x}\\u003cbr\\u003ey: %{y}\\u003cbr\\u003ecolor: %{z}\\u003cextra\\u003e\\u003c\\u002fextra\\u003e\"}],                        {\"template\":{\"data\":{\"histogram2dcontour\":[{\"type\":\"histogram2dcontour\",\"colorbar\":{\"outlinewidth\":0,\"ticks\":\"\"},\"colorscale\":[[0.0,\"#0d0887\"],[0.1111111111111111,\"#46039f\"],[0.2222222222222222,\"#7201a8\"],[0.3333333333333333,\"#9c179e\"],[0.4444444444444444,\"#bd3786\"],[0.5555555555555556,\"#d8576b\"],[0.6666666666666666,\"#ed7953\"],[0.7777777777777778,\"#fb9f3a\"],[0.8888888888888888,\"#fdca26\"],[1.0,\"#f0f921\"]]}],\"choropleth\":[{\"type\":\"choropleth\",\"colorbar\":{\"outlinewidth\":0,\"ticks\":\"\"}}],\"histogram2d\":[{\"type\":\"histogram2d\",\"colorbar\":{\"outlinewidth\":0,\"ticks\":\"\"},\"colorscale\":[[0.0,\"#0d0887\"],[0.1111111111111111,\"#46039f\"],[0.2222222222222222,\"#7201a8\"],[0.3333333333333333,\"#9c179e\"],[0.4444444444444444,\"#bd3786\"],[0.5555555555555556,\"#d8576b\"],[0.6666666666666666,\"#ed7953\"],[0.7777777777777778,\"#fb9f3a\"],[0.8888888888888888,\"#fdca26\"],[1.0,\"#f0f921\"]]}],\"heatmap\":[{\"type\":\"heatmap\",\"colorbar\":{\"outlinewidth\":0,\"ticks\":\"\"},\"colorscale\":[[0.0,\"#0d0887\"],[0.1111111111111111,\"#46039f\"],[0.2222222222222222,\"#7201a8\"],[0.3333333333333333,\"#9c179e\"],[0.4444444444444444,\"#bd3786\"],[0.5555555555555556,\"#d8576b\"],[0.6666666666666666,\"#ed7953\"],[0.7777777777777778,\"#fb9f3a\"],[0.8888888888888888,\"#fdca26\"],[1.0,\"#f0f921\"]]}],\"heatmapgl\":[{\"type\":\"heatmapgl\",\"colorbar\":{\"outlinewidth\":0,\"ticks\":\"\"},\"colorscale\":[[0.0,\"#0d0887\"],[0.1111111111111111,\"#46039f\"],[0.2222222222222222,\"#7201a8\"],[0.3333333333333333,\"#9c179e\"],[0.4444444444444444,\"#bd3786\"],[0.5555555555555556,\"#d8576b\"],[0.6666666666666666,\"#ed7953\"],[0.7777777777777778,\"#fb9f3a\"],[0.8888888888888888,\"#fdca26\"],[1.0,\"#f0f921\"]]}],\"contourcarpet\":[{\"type\":\"contourcarpet\",\"colorbar\":{\"outlinewidth\":0,\"ticks\":\"\"}}],\"contour\":[{\"type\":\"contour\",\"colorbar\":{\"outlinewidth\":0,\"ticks\":\"\"},\"colorscale\":[[0.0,\"#0d0887\"],[0.1111111111111111,\"#46039f\"],[0.2222222222222222,\"#7201a8\"],[0.3333333333333333,\"#9c179e\"],[0.4444444444444444,\"#bd3786\"],[0.5555555555555556,\"#d8576b\"],[0.6666666666666666,\"#ed7953\"],[0.7777777777777778,\"#fb9f3a\"],[0.8888888888888888,\"#fdca26\"],[1.0,\"#f0f921\"]]}],\"surface\":[{\"type\":\"surface\",\"colorbar\":{\"outlinewidth\":0,\"ticks\":\"\"},\"colorscale\":[[0.0,\"#0d0887\"],[0.1111111111111111,\"#46039f\"],[0.2222222222222222,\"#7201a8\"],[0.3333333333333333,\"#9c179e\"],[0.4444444444444444,\"#bd3786\"],[0.5555555555555556,\"#d8576b\"],[0.6666666666666666,\"#ed7953\"],[0.7777777777777778,\"#fb9f3a\"],[0.8888888888888888,\"#fdca26\"],[1.0,\"#f0f921\"]]}],\"mesh3d\":[{\"type\":\"mesh3d\",\"colorbar\":{\"outlinewidth\":0,\"ticks\":\"\"}}],\"scatter\":[{\"fillpattern\":{\"fillmode\":\"overlay\",\"size\":10,\"solidity\":0.2},\"type\":\"scatter\"}],\"parcoords\":[{\"type\":\"parcoords\",\"line\":{\"colorbar\":{\"outlinewidth\":0,\"ticks\":\"\"}}}],\"scatterpolargl\":[{\"type\":\"scatterpolargl\",\"marker\":{\"colorbar\":{\"outlinewidth\":0,\"ticks\":\"\"}}}],\"bar\":[{\"error_x\":{\"color\":\"#2a3f5f\"},\"error_y\":{\"color\":\"#2a3f5f\"},\"marker\":{\"line\":{\"color\":\"#E5ECF6\",\"width\":0.5},\"pattern\":{\"fillmode\":\"overlay\",\"size\":10,\"solidity\":0.2}},\"type\":\"bar\"}],\"scattergeo\":[{\"type\":\"scattergeo\",\"marker\":{\"colorbar\":{\"outlinewidth\":0,\"ticks\":\"\"}}}],\"scatterpolar\":[{\"type\":\"scatterpolar\",\"marker\":{\"colorbar\":{\"outlinewidth\":0,\"ticks\":\"\"}}}],\"histogram\":[{\"marker\":{\"pattern\":{\"fillmode\":\"overlay\",\"size\":10,\"solidity\":0.2}},\"type\":\"histogram\"}],\"scattergl\":[{\"type\":\"scattergl\",\"marker\":{\"colorbar\":{\"outlinewidth\":0,\"ticks\":\"\"}}}],\"scatter3d\":[{\"type\":\"scatter3d\",\"line\":{\"colorbar\":{\"outlinewidth\":0,\"ticks\":\"\"}},\"marker\":{\"colorbar\":{\"outlinewidth\":0,\"ticks\":\"\"}}}],\"scattermapbox\":[{\"type\":\"scattermapbox\",\"marker\":{\"colorbar\":{\"outlinewidth\":0,\"ticks\":\"\"}}}],\"scatterternary\":[{\"type\":\"scatterternary\",\"marker\":{\"colorbar\":{\"outlinewidth\":0,\"ticks\":\"\"}}}],\"scattercarpet\":[{\"type\":\"scattercarpet\",\"marker\":{\"colorbar\":{\"outlinewidth\":0,\"ticks\":\"\"}}}],\"carpet\":[{\"aaxis\":{\"endlinecolor\":\"#2a3f5f\",\"gridcolor\":\"white\",\"linecolor\":\"white\",\"minorgridcolor\":\"white\",\"startlinecolor\":\"#2a3f5f\"},\"baxis\":{\"endlinecolor\":\"#2a3f5f\",\"gridcolor\":\"white\",\"linecolor\":\"white\",\"minorgridcolor\":\"white\",\"startlinecolor\":\"#2a3f5f\"},\"type\":\"carpet\"}],\"table\":[{\"cells\":{\"fill\":{\"color\":\"#EBF0F8\"},\"line\":{\"color\":\"white\"}},\"header\":{\"fill\":{\"color\":\"#C8D4E3\"},\"line\":{\"color\":\"white\"}},\"type\":\"table\"}],\"barpolar\":[{\"marker\":{\"line\":{\"color\":\"#E5ECF6\",\"width\":0.5},\"pattern\":{\"fillmode\":\"overlay\",\"size\":10,\"solidity\":0.2}},\"type\":\"barpolar\"}],\"pie\":[{\"automargin\":true,\"type\":\"pie\"}]},\"layout\":{\"autotypenumbers\":\"strict\",\"colorway\":[\"#636efa\",\"#EF553B\",\"#00cc96\",\"#ab63fa\",\"#FFA15A\",\"#19d3f3\",\"#FF6692\",\"#B6E880\",\"#FF97FF\",\"#FECB52\"],\"font\":{\"color\":\"#2a3f5f\"},\"hovermode\":\"closest\",\"hoverlabel\":{\"align\":\"left\"},\"paper_bgcolor\":\"white\",\"plot_bgcolor\":\"#E5ECF6\",\"polar\":{\"bgcolor\":\"#E5ECF6\",\"angularaxis\":{\"gridcolor\":\"white\",\"linecolor\":\"white\",\"ticks\":\"\"},\"radialaxis\":{\"gridcolor\":\"white\",\"linecolor\":\"white\",\"ticks\":\"\"}},\"ternary\":{\"bgcolor\":\"#E5ECF6\",\"aaxis\":{\"gridcolor\":\"white\",\"linecolor\":\"white\",\"ticks\":\"\"},\"baxis\":{\"gridcolor\":\"white\",\"linecolor\":\"white\",\"ticks\":\"\"},\"caxis\":{\"gridcolor\":\"white\",\"linecolor\":\"white\",\"ticks\":\"\"}},\"coloraxis\":{\"colorbar\":{\"outlinewidth\":0,\"ticks\":\"\"}},\"colorscale\":{\"sequential\":[[0.0,\"#0d0887\"],[0.1111111111111111,\"#46039f\"],[0.2222222222222222,\"#7201a8\"],[0.3333333333333333,\"#9c179e\"],[0.4444444444444444,\"#bd3786\"],[0.5555555555555556,\"#d8576b\"],[0.6666666666666666,\"#ed7953\"],[0.7777777777777778,\"#fb9f3a\"],[0.8888888888888888,\"#fdca26\"],[1.0,\"#f0f921\"]],\"sequentialminus\":[[0.0,\"#0d0887\"],[0.1111111111111111,\"#46039f\"],[0.2222222222222222,\"#7201a8\"],[0.3333333333333333,\"#9c179e\"],[0.4444444444444444,\"#bd3786\"],[0.5555555555555556,\"#d8576b\"],[0.6666666666666666,\"#ed7953\"],[0.7777777777777778,\"#fb9f3a\"],[0.8888888888888888,\"#fdca26\"],[1.0,\"#f0f921\"]],\"diverging\":[[0,\"#8e0152\"],[0.1,\"#c51b7d\"],[0.2,\"#de77ae\"],[0.3,\"#f1b6da\"],[0.4,\"#fde0ef\"],[0.5,\"#f7f7f7\"],[0.6,\"#e6f5d0\"],[0.7,\"#b8e186\"],[0.8,\"#7fbc41\"],[0.9,\"#4d9221\"],[1,\"#276419\"]]},\"xaxis\":{\"gridcolor\":\"white\",\"linecolor\":\"white\",\"ticks\":\"\",\"title\":{\"standoff\":15},\"zerolinecolor\":\"white\",\"automargin\":true,\"zerolinewidth\":2},\"yaxis\":{\"gridcolor\":\"white\",\"linecolor\":\"white\",\"ticks\":\"\",\"title\":{\"standoff\":15},\"zerolinecolor\":\"white\",\"automargin\":true,\"zerolinewidth\":2},\"scene\":{\"xaxis\":{\"backgroundcolor\":\"#E5ECF6\",\"gridcolor\":\"white\",\"linecolor\":\"white\",\"showbackground\":true,\"ticks\":\"\",\"zerolinecolor\":\"white\",\"gridwidth\":2},\"yaxis\":{\"backgroundcolor\":\"#E5ECF6\",\"gridcolor\":\"white\",\"linecolor\":\"white\",\"showbackground\":true,\"ticks\":\"\",\"zerolinecolor\":\"white\",\"gridwidth\":2},\"zaxis\":{\"backgroundcolor\":\"#E5ECF6\",\"gridcolor\":\"white\",\"linecolor\":\"white\",\"showbackground\":true,\"ticks\":\"\",\"zerolinecolor\":\"white\",\"gridwidth\":2}},\"shapedefaults\":{\"line\":{\"color\":\"#2a3f5f\"}},\"annotationdefaults\":{\"arrowcolor\":\"#2a3f5f\",\"arrowhead\":0,\"arrowwidth\":1},\"geo\":{\"bgcolor\":\"white\",\"landcolor\":\"#E5ECF6\",\"subunitcolor\":\"white\",\"showland\":true,\"showlakes\":true,\"lakecolor\":\"white\"},\"title\":{\"x\":0.05},\"mapbox\":{\"style\":\"light\"}}},\"xaxis\":{\"anchor\":\"y\",\"domain\":[0.0,1.0]},\"yaxis\":{\"anchor\":\"x\",\"domain\":[0.0,1.0],\"autorange\":\"reversed\"},\"coloraxis\":{\"colorscale\":[[0.0,\"rgb(103,0,31)\"],[0.1,\"rgb(178,24,43)\"],[0.2,\"rgb(214,96,77)\"],[0.3,\"rgb(244,165,130)\"],[0.4,\"rgb(253,219,199)\"],[0.5,\"rgb(247,247,247)\"],[0.6,\"rgb(209,229,240)\"],[0.7,\"rgb(146,197,222)\"],[0.8,\"rgb(67,147,195)\"],[0.9,\"rgb(33,102,172)\"],[1.0,\"rgb(5,48,97)\"]]},\"title\":{\"text\":\"Correlation Heatmap\"}},                        {\"responsive\": true}                    ).then(function(){\n",
              "                            \n",
              "var gd = document.getElementById('5f70334a-5e6c-485d-a429-2da8f3c63852');\n",
              "var x = new MutationObserver(function (mutations, observer) {{\n",
              "        var display = window.getComputedStyle(gd).display;\n",
              "        if (!display || display === 'none') {{\n",
              "            console.log([gd, 'removed!']);\n",
              "            Plotly.purge(gd);\n",
              "            observer.disconnect();\n",
              "        }}\n",
              "}});\n",
              "\n",
              "// Listen for the removal of the full notebook cells\n",
              "var notebookContainer = gd.closest('#notebook-container');\n",
              "if (notebookContainer) {{\n",
              "    x.observe(notebookContainer, {childList: true});\n",
              "}}\n",
              "\n",
              "// Listen for the clearing of the current output cell\n",
              "var outputEl = gd.closest('.output');\n",
              "if (outputEl) {{\n",
              "    x.observe(outputEl, {childList: true});\n",
              "}}\n",
              "\n",
              "                        })                };                            </script>        </div>\n",
              "</body>\n",
              "</html>"
            ]
          },
          "metadata": {}
        }
      ],
      "source": [
        "# num 50 e num 75 91,74%  - dropar num 50\n",
        "# num unq e num 100 92,96% - dropar num 100\n",
        "# total min e total secs 100% - dropar total secs\n",
        "# total min e num 100 - dropar num 100\n",
        "# total min e num unq 100% - dropar num unq\n",
        "# days until expire e months until expire - dropar days\n",
        "# months registered e months until expire - dropar months until\n",
        "# plan_list_price e actualamount_paid - dropar plan_list_price\n",
        "# has_discount, pct_discount e discount - mantenho apenas a maior correlação com a target (pct_discount)\n",
        "# age_declared e gender_declared - mantenho apenas a maior correlação com a target (gender_declared)\n",
        "cors = correlation_plot(df_num_pd, cols_to_corr_orig)"
      ]
    },
    {
      "cell_type": "markdown",
      "metadata": {
        "id": "a1SYQfJvT47t"
      },
      "source": [
        "# 5. 💡 Feature Engineering"
      ]
    },
    {
      "cell_type": "markdown",
      "metadata": {
        "id": "McIJsFYFtQcc"
      },
      "source": [
        "### Imports\n",
        "\n",
        "trata malhas origem - Faz o pré processamento base de cada coluna com formato incorreto, além de tratamento das variáveis base para os modelos\n",
        "prod malha - Gera as colunas que necessitam de variáveis de malhas diferentes\n",
        "analisa malha - Gera as separações definidas para treino e teste, além de out-of-time filtrando as safras corretas."
      ]
    },
    {
      "cell_type": "code",
      "execution_count": 113,
      "metadata": {
        "id": "Yoc7moomsQ8X"
      },
      "outputs": [],
      "source": [
        "def trata_transactions(df):\n",
        "# Tratamento nas colunas da transactions\n",
        "\n",
        "  wnd = W.partitionBy('msno').orderBy('safra')\n",
        "\n",
        "  return (df.withColumn(\"payment_plan_days\", F.col(\"payment_plan_days\").cast('int'))\n",
        "            .withColumn(\"plan_list_price\", F.col(\"plan_list_price\").cast('float'))\n",
        "            .withColumn(\"actual_amount_paid\", F.col(\"actual_amount_paid\").cast('float'))\n",
        "            .withColumn(\"is_auto_renew\", F.col(\"is_auto_renew\").cast('int'))\n",
        "            .withColumn('is_auto_renew_m1', F.lag(F.col('is_auto_renew')).over(wnd))\n",
        "            .withColumn('total_cancel_m3', F.sum(F.when(F.col('is_auto_renew').isin(0),1)).over(wnd.rowsBetween(-3,0)))\n",
        "            .withColumn('total_cancel_m6', F.sum(F.when(F.col('is_auto_renew').isin(0),1)).over(wnd.rowsBetween(-6,0)))\n",
        "            .withColumn(\"is_cancel\", F.col(\"is_cancel\").cast('int'))\n",
        "            .withColumn('is_cancel_m1', F.lag(F.col('is_cancel')).over(wnd))\n",
        "            .withColumn('total_cancel_m3', F.sum(F.col('is_cancel_m1')).over(wnd.rowsBetween(-2,0)))\n",
        "            .withColumn('total_cancel_m6', F.sum(F.col('is_cancel_m1')).over(wnd.rowsBetween(-5,0)))\n",
        "            .withColumn(\"safra\", F.col(\"safra\").cast('int'))\n",
        "            .withColumn('pct_discount', F.when(F.col('plan_list_price')>F.col('actual_amount_paid'),\n",
        "                                               F.lit(1) - F.round(F.col('actual_amount_paid')/F.col('plan_list_price'),4))\n",
        "                                          .otherwise(F.lit(0))\n",
        "                        )\n",
        "            .withColumn(\"transaction_date_\",date_transform('transaction_date'))\n",
        "            .withColumn('payment_day', F.dayofmonth(F.col('transaction_date_')))\n",
        "            .withColumn(\"membership_expire_date\",date_transform('membership_expire_date'))\n",
        "            .withColumn('pay_method_grouped', F.when(F.col('payment_method_id').isin(41), 1.1517)\n",
        "                                                  .otherwise(F.lit(0.1141))\n",
        "                                                  )\n",
        "            # .withColumn(\"mbship_exp_dt_treated\",F.when(F.col('membership_expire_date')<F.col('transaction_date'),\n",
        "            #                                           F.date_add(F.col('transaction_date'), F.col('payment_plan_days')))\n",
        "            #                                         .otherwise(F.col('membership_expire_date'))\n",
        "            #               )\n",
        "\n",
        "              )\n",
        "\n",
        "\n",
        "def trata_members(df):\n",
        "  ativo_m3 = F.lead('is_ativo',3).over(W.partitionBy('msno').orderBy('safra'))\n",
        "\n",
        "  # Tratamento nas colunas da members\n",
        "\n",
        "  return (df.withColumn(\"safra\", F.col(\"safra\").cast('int'))\n",
        "                    .withColumn(\"registration_init_time_\", date_transform('registration_init_time'))\n",
        "                    .withColumn('months_registered', ((F.substring(F.col('safra').cast('string'),1,4).cast('int')\n",
        "                                                        - F.year(F.col('registration_init_time_')))*12\n",
        "                                                      + (F.substring(F.col('safra').cast('string'),5,2).cast('int')\n",
        "                                                      - F.month(F.col('registration_init_time_')))).cast('bigint')\n",
        "                                )\n",
        "\n",
        "                    .withColumn(\"bd\", F.col(\"bd\").cast('int'))\n",
        "                    .withColumn(\"bd_treated\", F.when(F.col(\"bd\")< 12, F.lit(0))\n",
        "                                        .when(F.col(\"bd\")> 54, F.lit(54))\n",
        "                                        .otherwise(F.col('bd'))\n",
        "                              )\n",
        "\n",
        "                    # .withColumn(\"gender_\", F.col(\"gender\").cast('string'))\n",
        "                    .withColumn('declared_gender', F.when(F.col('gender').isNull(), 0).otherwise(1))\n",
        "                    .withColumn('gender_treated', F.when(F.col('gender').isin('male'), F.lit(1))\n",
        "                                                            .when(F.col('gender').isin('female'), F.lit(-1))\n",
        "                                                            .otherwise(F.lit(0))\n",
        "                                )\n",
        "\n",
        "                    .withColumn('city_grouped', F.when(F.col('city').isin(11,15), -0.4226)\n",
        "                                                                  .when(F.col('city').isin(22, 18, 6, 17), -0.3279)\n",
        "                                                                  .when(F.col('city').isin(10, 14, 8, 7, 21, 13), -0.2271)\n",
        "                                                                  .when(F.col('city').isin(5, 4, 9, 12), -0.1808)\n",
        "                                                                  .when(F.col('city').isin(20, 3, 16), -0.0719)\n",
        "                                                                  .when(F.col('city').isin(19), 0.3652)\n",
        "                                                                  .when(F.col('city').isin(1), 0.4923)\n",
        "                                                                  .otherwise(0.000)\n",
        "                                )\n",
        "\n",
        "                    .withColumn('registered_via_treated', F.when(F.col('registered_via').isin(4), -0.5939)\n",
        "                                                      .when(F.col('registered_via').isin(3), -0.4942)\n",
        "                                                      .when(F.col('registered_via').isin(9), -0.334)\n",
        "                                                      .when(F.col('registered_via').isin(7), 0.8601)\n",
        "                                                      .otherwise(0.0000)\n",
        "                                )\n",
        "\n",
        "                    .withColumn('churn_m3', F.when((ativo_m3.isin(0)) & (F.col('is_ativo').isin(1)), 1)\n",
        "                                              .otherwise(0)\n",
        "                                )\n",
        "\n",
        "                    .withColumn('churn_origem', F.when((F.col('is_ativo').isin(0)) & (ativo_m3.isin(0) | ativo_m3.isNull()), 1)\n",
        "                                              .otherwise(0)\n",
        "                                )\n",
        "                    )\n",
        "\n",
        "def trata_user_logs(df):\n",
        "  # Tratamento nas colunas da user logs\n",
        "\n",
        "  return (df.withColumn(\"total_secs_treated\", F.when(F.col('total_secs')<0, F.lit(None))\n",
        "                      .when(F.col('total_secs')>929138.921, F.lit(929138.921))\n",
        "                      .otherwise(F.col('total_secs'))\n",
        "                      )\n",
        "              .withColumn('total_mins_treated', F.round(F.col('total_secs_treated')/60,2))\n",
        "          )\n",
        "\n",
        "def prod_malha(df):\n",
        "  return (df\n",
        "            .withColumn(\"safra\", F.col(\"safra\").cast('int'))\n",
        "\n",
        "              # .withColumn('months_until_expire_treated', F.months_between(F.col('mbship_exp_dt_treated'),\n",
        "              #                                               F.col('registration_init_time')).cast('bigint')\n",
        "              #           )\n",
        "\n",
        "              .withColumn('info_transaction', F.when(F.col('payment_plan_days').isNull(), 0).otherwise(1))\n",
        "\n",
        "              .withColumn('info_user_logs', F.when(F.col('num_unq').isNull(), 0).otherwise(1))\n",
        "            .withColumn(\"classWeight\",F.lit(1))\n",
        "\n",
        "              .drop('membership_expire_date',\n",
        "                    'total_secs', 'total_secs_treated','payment_method_id',\n",
        "                    'city', 'registered_via', 'bd',\n",
        "                    'transaction_date', 'gender', 'registration_init_time',\n",
        "                    'transaction_date_', 'registration_init_time_'\n",
        "                    'plan_list_price', 'is_cancel')\n",
        "    )\n",
        "\n",
        "\n",
        "def analise_malha(transactions, members, user_logs, nm_parquet:str):\n",
        "  transactions_p = trata_transactions(transactions)\n",
        "  members_p = trata_members(members)\n",
        "  user_logs_p = trata_user_logs(user_logs)\n",
        "\n",
        "# Matendo apenas os meses com tempo suficiente para análise\n",
        "  members_churn = members_p.filter((F.col('safra')<=201609) & F.col('churn_origem').isin(0))\n",
        "\n",
        "  # Juntando todas as bases\n",
        "  full_df = members_churn.join(transactions_p, on=['msno', 'safra'], how='left').join(user_logs_p, on=['msno', 'safra'], how='left')\n",
        "\n",
        "  malha_final = prod_malha(full_df)\n",
        "\n",
        "  # Quebrando a base treino (70%), teste (30%) de 201601-201606 e OOT 201607-201609\n",
        "  # Considerando que temos apenas 9 meses para avaliação de churn, os 3 primeiros meses não podem ser inferidos como outliers, e portanto, serão tratados como sazonalidade\n",
        "  # Quedas abruptas de ~5% por mês durante os 3 meses, basta um mês com a mesma variação para voltarmos a patamares próximos de churn\n",
        "  full_df_train, full_df_test = malha_final.filter(F.col('safra').between(201601, 201606)).randomSplit([0.8, 0.2], seed=42)\n",
        "  full_df_oot = malha_final.filter(F.col('safra').between(201607,201609))\n",
        "\n",
        "  # # Load the data from the parquet file\n",
        "  full_df_train = (full_df_train.withColumn(\"classWeight\",\n",
        "                              F.when(F.col(\"churn_m3\") == 1, F.lit(3.7314))\n",
        "                              .otherwise(F.lit(0.5773)))\n",
        "                    )\n",
        "\n",
        "  #Pela lei dos grandes números, uma parcela da amostra de treino deve ser suficiente para avaliar todas as situações de tratamento e feature engineering\n",
        "  df_analysis = full_df_train.sample(fraction=0.3, seed=42)\n",
        "  # df_analysis.write.mode(\"overwrite\").parquet(nm_parquet + '.parquet')\n",
        "\n",
        "  return full_df_train, full_df_test, full_df_oot, df_analysis\n",
        "\n",
        "\n",
        "\n",
        "def analise_malha_sample(transactions, members, user_logs):\n",
        "  transactions_p = trata_transactions(transactions)\n",
        "  members_p = trata_members(members)\n",
        "  user_logs_p = trata_user_logs(user_logs)\n",
        "\n",
        "  members_churn = members_p.filter((F.col('safra')<=201609) & F.col('churn_origem').isin(0))\n",
        "\n",
        "  full_df = members_churn.join(transactions_p, on=['msno', 'safra'], how='left').join(user_logs_p, on=['msno', 'safra'], how='left')\n",
        "\n",
        "  malha_final = prod_malha(full_df).sample(fraction=0.3, seed=42)\n",
        "  full_df_train, full_df_test = malha_final.filter(F.col('safra').between(201601, 201606)).randomSplit([0.8, 0.2], seed=42)\n",
        "  full_df_oot = malha_final.filter(F.col('safra').between(201607,201609))\n",
        "\n",
        "  full_df_train = (full_df_train.withColumn(\"classWeight\",\n",
        "                              F.when(F.col(\"churn_m3\") == 1, F.lit(3.7314))\n",
        "                              .otherwise(F.lit(0.5773)))\n",
        "                    )\n",
        "\n",
        "  return full_df_train, full_df_test, full_df_oot"
      ]
    },
    {
      "cell_type": "code",
      "execution_count": 16,
      "metadata": {
        "id": "eJNv6U2TYBW0"
      },
      "outputs": [],
      "source": [
        "# Dropei dos cálculos num_100, num_75, num_unq, num_total, num_under_50 porque eles têm alta correlação e baixa importância\n",
        "cols_user_logs = ['num_25', 'num_75', 'num_985', 'total_mins_treated', 'num_under_75',]\n",
        "\n",
        "# Dropei dos cálculos is_cancel porque ele atual é mais forte e plan_list_price porque ele tem alta correlação e baixa importância\n",
        "cols_transactions_sum = ['payment_plan_days', 'payment_day', 'pct_discount', 'actual_amount_paid']\n",
        "# Tratamento nas colunas da transactions\n",
        "wnd = W.partitionBy('msno').orderBy('safra')\n",
        "\n",
        "\n",
        "wnd_3m = wnd.rowsBetween(-2, 0)\n",
        "wnd_6m = wnd.rowsBetween(-5, 0)\n",
        "\n",
        "transactions_fe = (trata_transactions(transactions)\n",
        "\n",
        "                    .withColumn(\"tenure_months_m3\", (F.datediff(F.max(\"transaction_date_\").over(wnd_3m), F.min(\"transaction_date_\").over(wnd_3m))/30))\n",
        "                    .withColumn(\"payment_method_changes_m3\", F.approx_count_distinct(\"payment_method_id\").over(wnd_3m))\n",
        "                    .withColumn(\"plan_changes_m3\", F.approx_count_distinct(\"payment_plan_days\").over(wnd_3m))\n",
        "                    .withColumn(\"tenure_months_m6\", (F.datediff(F.max(\"transaction_date_\").over(wnd_6m), F.min(\"transaction_date_\").over(wnd_6m))/30))\n",
        "                    .withColumn(\"payment_method_changes_m6\", F.approx_count_distinct(\"payment_method_id\").over(wnd_6m))\n",
        "                    .withColumn(\"plan_changes_m6\", F.approx_count_distinct(\"payment_plan_days\").over(wnd_6m))\n",
        "\n",
        "                    .select('*',\n",
        "                            F.count(F.col('actual_amount_paid')).over(wnd_3m).alias('total_transaction_m3'),\n",
        "                            F.count(F.col('actual_amount_paid')).over(wnd_6m).alias('total_transaction_m6'),\n",
        "                            F.sum(F.col('actual_amount_paid')).over(wnd_3m).alias('total_paid_m3'),\n",
        "                            F.sum(F.col('actual_amount_paid')).over(wnd_6m).alias('total_paid_m6'),\n",
        "                          *[F.max(F.col(col)).over(wnd_3m).alias(col + '_max_m3') for col in cols_transactions_sum],\n",
        "                          *[F.max(F.col(col)).over(wnd_6m).alias(col + '_max_m6') for col in cols_transactions_sum],\n",
        "                          *[F.min(F.col(col)).over(wnd_3m).alias(col + '_min_m3') for col in cols_transactions_sum],\n",
        "                          *[F.min(F.col(col)).over(wnd_6m).alias(col + '_min_m6') for col in cols_transactions_sum],\n",
        "                          *[F.round(F.avg(F.col(col)).over(wnd_3m),2).alias(col + '_avg_m3') for col in cols_transactions_sum],\n",
        "                          *[F.round(F.avg(F.col(col)).over(wnd_6m),2).alias(col + '_avg_m6') for col in cols_transactions_sum],\n",
        "                          *[F.round((F.col(col) - F.lag(F.col(col), 3).over(wnd))/F.lag(F.col(col), 3).over(wnd), 2).alias(col + '_tend_m3') for col in cols_transactions_sum[3:]],\n",
        "                          *[F.round((F.col(col) - F.lag(F.col(col), 6).over(wnd))/F.lag(F.col(col), 6).over(wnd), 2).alias(col + '_tend_m6') for col in cols_transactions_sum[3:]],\n",
        "                            )\n",
        "                   )\n",
        "\n",
        "members_fe = (trata_members(members)\n",
        "              )\n",
        "\n",
        "user_logs_fe = (trata_user_logs(user_logs)\n",
        "                      .withColumn('songs_played', F.col('num_25') + F.col('num_50') + F.col('num_75') + F.col('num_985') + F.col('num_100'))\n",
        "                      .withColumn('num_under_75', F.col('num_25') + F.col('num_50') + F.col('num_75'))\n",
        "                      .withColumn('num_under_50', F.col('num_25') + F.col('num_50'))\n",
        "                      .withColumn('pct_under_75', F.round(F.col('num_under_75')/F.col('songs_played'),2))\n",
        "                      .withColumn('pct_under_50', F.round(F.col('num_under_50')/F.col('songs_played'),2))\n",
        "\n",
        "                      .withColumn(\"early_drop_rate\", F.col(\"num_25\") / F.when(F.col(\"songs_played\")>0, F.col(\"songs_played\")).otherwise(1))\n",
        "                      .withColumn(\"avg_secs_per_song\", F.col(\"total_secs_treated\") / F.when(F.col(\"songs_played\")>0, F.col(\"songs_played\")).otherwise(1))\n",
        "                      .withColumn('avg_songs_m3', F.avg(F.col('songs_played')).over(wnd_3m))\n",
        "                      .withColumn(\"trend_play_count\",\n",
        "                                  (F.col(\"songs_played\") - F.col(\"avg_songs_m3\") / F.when(F.col(\"avg_songs_m3\")>0, F.col(\"avg_songs_m3\")).otherwise(1)))\n",
        "\n",
        "                      .select('*',\n",
        "                          *[F.sum(F.col(col)).over(wnd_3m).alias(col + '_sum_m3') for col in cols_user_logs],\n",
        "                          *[F.sum(F.col(col)).over(wnd_6m).alias(col + '_sum_m6') for col in cols_user_logs],\n",
        "                          *[F.max(F.col(col)).over(wnd_3m).alias(col + '_max_m3') for col in cols_user_logs],\n",
        "                          *[F.max(F.col(col)).over(wnd_6m).alias(col + '_max_m6') for col in cols_user_logs],\n",
        "                          *[F.min(F.col(col)).over(wnd_3m).alias(col + '_min_m3') for col in cols_user_logs],\n",
        "                          *[F.min(F.col(col)).over(wnd_6m).alias(col + '_min_m6') for col in cols_user_logs],\n",
        "                          *[F.round(F.avg(F.col(col)).over(wnd_3m),2).alias(col + '_avg_m3') for col in cols_user_logs],\n",
        "                          *[F.round(F.avg(F.col(col)).over(wnd_6m),2).alias(col + '_avg_m6') for col in cols_user_logs],\n",
        "                          *[F.round((F.col(col) - F.lag(F.col(col), 3).over(wnd))/F.lag(F.col(col), 3).over(wnd), 2).alias(col + '_tend_m3') for col in cols_user_logs],\n",
        "                          *[F.round((F.col(col) - F.lag(F.col(col), 6).over(wnd))/F.lag(F.col(col), 6).over(wnd), 2).alias(col + '_tend_m6') for col in cols_user_logs],\n",
        "                            )\n",
        "\n",
        "                )\n",
        "\n",
        "# full_df_train, full_df_test, full_df_oot, df_analysis_sp = analise_malha(transactions_fe, members_fe, user_logs_fe, 'df_analysis_fe')\n",
        "full_df_train, full_df_test, full_df_oot = analise_malha_sample(transactions_fe, members_fe, user_logs_fe)"
      ]
    },
    {
      "cell_type": "markdown",
      "metadata": {
        "id": "nVbn17z050nw"
      },
      "source": [
        "#6. Feature importance"
      ]
    },
    {
      "cell_type": "code",
      "execution_count": 114,
      "metadata": {
        "id": "kHYnf6uaVYk1"
      },
      "outputs": [],
      "source": [
        "def select_uncorrelated_features(df, feature_importances, threshold_corr=0.9):\n",
        "\n",
        "    # 1. Ordena features pela importância (do maior pro menor)\n",
        "    feature_importances = feature_importances.sort_values(by=\"Importance\", ascending=False).reset_index(drop=True)\n",
        "    features = feature_importances[\"Feature\"].tolist()\n",
        "\n",
        "    # 2. Seleciona apenas as features importantes do Spark DF\n",
        "\n",
        "    # 4. Itera pelos pares de features altamente correlacionados\n",
        "    to_remove = set()\n",
        "\n",
        "    for i in range(len(features)):\n",
        "\n",
        "        if features[i] in to_remove:\n",
        "            continue\n",
        "\n",
        "        for j in range(i+1, len(features)):\n",
        "            if features[j] in to_remove:\n",
        "                continue\n",
        "\n",
        "            df_selected = df[[features[i], features[j]]]  # converte só as colunas de interesse\n",
        "            # 3. Calcula correlação (Spearman é mais pesado, Pearson é mais rápido)\n",
        "            corr = df_selected.corr(method=\"spearman\").iloc[1,0]\n",
        "\n",
        "            if abs(corr) > threshold_corr:\n",
        "                # Remove a de menor importância\n",
        "                to_remove.add(features[j])\n",
        "                print(f'Mantida {features[i]}, {features[j]} removida correlação de {corr:.2f}')\n",
        "\n",
        "    # 5. Mantém apenas as não removidas\n",
        "    final_features = [f for f in features if f not in to_remove]\n",
        "\n",
        "    return final_features, to_remove"
      ]
    },
    {
      "cell_type": "code",
      "source": [
        "(full_df_train.filter(F.col('churn_origem').isin(0))\n",
        "          .groupBy('is_cancel_m1')\n",
        "          .agg(F.sum(F.col('is_ativo')).alias('ativos'),\n",
        "               F.sum('churn_m3').alias('churns'))\n",
        "          .withColumn('pct_churn', F.round(F.col('churns')/F.col('ativos'),2))\n",
        "          ).show()"
      ],
      "metadata": {
        "colab": {
          "base_uri": "https://localhost:8080/"
        },
        "id": "-8fqY8KgSD5I",
        "outputId": "28d608b9-35a4-44a5-f6de-e9a4090cb9e5"
      },
      "execution_count": null,
      "outputs": [
        {
          "output_type": "stream",
          "name": "stdout",
          "text": [
            "+------------+------+------+---------+\n",
            "|is_cancel_m1|ativos|churns|pct_churn|\n",
            "+------------+------+------+---------+\n",
            "|        NULL|321558| 97117|      0.3|\n",
            "|           1| 10482|  1591|     0.15|\n",
            "|           0|917305| 91457|      0.1|\n",
            "+------------+------+------+---------+\n",
            "\n"
          ]
        }
      ]
    },
    {
      "cell_type": "code",
      "source": [
        "(full_df_train.filter(F.col('churn_origem').isin(0))\n",
        "          .groupBy('is_auto_renew_m1')\n",
        "          .agg(F.sum(F.col('is_ativo')).alias('ativos'),\n",
        "               F.sum('churn_m3').alias('churns'))\n",
        "          .withColumn('pct_churn', F.round(F.col('churns')/F.col('ativos'),2))\n",
        "          ).show()"
      ],
      "metadata": {
        "colab": {
          "base_uri": "https://localhost:8080/"
        },
        "id": "K7CnmyQzSFjs",
        "outputId": "6a285677-f729-4bb6-d61d-0a173d707c05"
      },
      "execution_count": null,
      "outputs": [
        {
          "output_type": "stream",
          "name": "stdout",
          "text": [
            "+----------------+------+------+---------+\n",
            "|is_auto_renew_m1|ativos|churns|pct_churn|\n",
            "+----------------+------+------+---------+\n",
            "|            NULL|321558| 97117|      0.3|\n",
            "|               1|792908| 59992|     0.08|\n",
            "|               0|134879| 33056|     0.25|\n",
            "+----------------+------+------+---------+\n",
            "\n"
          ]
        }
      ]
    },
    {
      "cell_type": "code",
      "source": [
        "df_analysis_fe= full_df_train.drop('registration_init_time_').withColumn(\"random_\", F.rand(seed=30))"
      ],
      "metadata": {
        "id": "nI_sv5j8MIOg"
      },
      "execution_count": null,
      "outputs": []
    },
    {
      "cell_type": "code",
      "source": [
        "df_analysis_fe.write.mode(\"overwrite\").parquet('/content/drive/MyDrive/df_analysis_fe.parquet')"
      ],
      "metadata": {
        "id": "p4dvSl3i_5RS"
      },
      "execution_count": null,
      "outputs": []
    },
    {
      "cell_type": "code",
      "source": [
        "df_analysis_fe = spark.read.parquet('/content/drive/MyDrive/df_analysis_fe.parquet')"
      ],
      "metadata": {
        "id": "dP4gIYSEandj"
      },
      "execution_count": 106,
      "outputs": []
    },
    {
      "cell_type": "code",
      "execution_count": null,
      "metadata": {
        "colab": {
          "base_uri": "https://localhost:8080/"
        },
        "id": "qC_LHeQ1eH2H",
        "outputId": "645e2386-eac9-48c0-c73f-aeedfd2a77bf"
      },
      "outputs": [
        {
          "output_type": "stream",
          "name": "stdout",
          "text": [
            "4247493 570495 3676998 0.5775761912299109 3.7226382352167855\n"
          ]
        }
      ],
      "source": [
        "n_total = df_analysis_fe.count()\n",
        "n_churn = df_analysis_fe.filter(F.col(\"churn_m3\") == 1).count()\n",
        "n_nonchurn = n_total - n_churn\n",
        "\n",
        "# calcular pesos (versão \"balanced\")\n",
        "w0 = n_total / (2 * n_nonchurn)\n",
        "w1 = n_total / (2 * n_churn)\n",
        "\n",
        "print(n_total, n_churn, n_nonchurn, w0, w1)"
      ]
    },
    {
      "cell_type": "code",
      "execution_count": null,
      "metadata": {
        "id": "d7d213bd"
      },
      "outputs": [],
      "source": [
        "feature_cols = [col for col in df_analysis_fe.columns if col not in ['msno', 'safra', 'churn_m3', 'churn_origem', 'is_ativo', 'classWeight']]\n",
        "\n",
        "imputer = Imputer(\n",
        "    inputCols=feature_cols,\n",
        "    # outputCols=[c + \"_imputed\" for c in feature_cols]\n",
        "    outputCols=feature_cols\n",
        ").setStrategy(\"median\")  # ou \"mean\"\n",
        "\n",
        "df_imputed = imputer.fit(df_analysis_fe).transform(df_analysis_fe)\n",
        "\n",
        "\n",
        "# Assemble features into a vector\n",
        "assembler = VectorAssembler(inputCols=feature_cols, outputCol=\"features\")\n",
        "model_data = assembler.transform(df_imputed).select(\"features\", 'classWeight', F.col(\"churn_m3\").alias(\"label\"))\n"
      ]
    },
    {
      "cell_type": "code",
      "execution_count": null,
      "metadata": {
        "id": "4e1bd486"
      },
      "outputs": [],
      "source": [
        "rf = RandomForestClassifier(labelCol=\"label\",\n",
        "                            featuresCol=\"features\",\n",
        "                            seed=42,\n",
        "                            numTrees=100,           # mais árvores → importância estável\n",
        "                            impurity=\"gini\",           # mais rápido, sem perda prática\n",
        "                            maxDepth=6,               # evita overfitting/ruído\n",
        "                            minInstancesPerNode=100,        # splits mais gerais\n",
        "                            featureSubsetStrategy=\"sqrt\",\n",
        "                            weightCol=\"classWeight\" # corrige desbalanceamento manualmente\n",
        "                            )\n",
        "\n",
        "# Train the model\n",
        "rf_model = rf.fit(model_data)"
      ]
    },
    {
      "cell_type": "code",
      "source": [
        "# Get feature importances\n",
        "feature_importances = rf_model.featureImportances\n",
        "\n",
        "# Create a list of feature names\n",
        "feature_names = [col for col in df_analysis_fe.columns if col not in ['msno', 'safra', 'churn_m3', 'churn_origem', 'is_ativo', 'classWeight']]\n",
        "\n",
        "# Create a pandas DataFrame to store feature names and their importance scores\n",
        "importance_df = pd.DataFrame({\n",
        "    'Feature': feature_names,\n",
        "    'Importance': feature_importances.toArray()\n",
        "})\n",
        "\n",
        "# Sort the DataFrame by importance in descending order\n",
        "importance_df = importance_df.sort_values(by='Importance', ascending=False)\n",
        "\n",
        "# Display the feature importance\n",
        "print(\"Feature Importance:\")\n",
        "vl = importance_df[importance_df['Feature']=='random_']['Importance'].to_list()[0]\n",
        "total_features = len(importance_df[importance_df['Importance']>vl])\n",
        "print(total_features, len(importance_df))"
      ],
      "metadata": {
        "id": "WEAlFDuhMkE-",
        "colab": {
          "base_uri": "https://localhost:8080/"
        },
        "outputId": "998227d3-83ba-447f-bba8-3ffd32edc568"
      },
      "execution_count": null,
      "outputs": [
        {
          "output_type": "stream",
          "name": "stdout",
          "text": [
            "Feature Importance:\n",
            "119 122\n"
          ]
        }
      ]
    },
    {
      "cell_type": "code",
      "execution_count": null,
      "metadata": {
        "id": "60qWkT3WLAQt",
        "colab": {
          "base_uri": "https://localhost:8080/"
        },
        "outputId": "df318880-d20f-4f74-e52b-1889e8a5c254",
        "collapsed": true
      },
      "outputs": [
        {
          "output_type": "stream",
          "name": "stdout",
          "text": [
            "                        Feature    Importance\n",
            "17             tenure_months_m3  8.134104e-02\n",
            "30    actual_amount_paid_max_m3  7.068586e-02\n",
            "5        registered_via_treated  6.815863e-02\n",
            "8            actual_amount_paid  4.980377e-02\n",
            "38    actual_amount_paid_min_m3  4.688377e-02\n",
            "20             tenure_months_m6  4.670094e-02\n",
            "7               plan_list_price  4.302407e-02\n",
            "40           payment_day_min_m6  4.288964e-02\n",
            "36           payment_day_min_m3  3.766186e-02\n",
            "46    actual_amount_paid_avg_m3  3.416822e-02\n",
            "44           payment_day_avg_m3  3.338861e-02\n",
            "9                 is_auto_renew  3.134607e-02\n",
            "25                total_paid_m3  2.739468e-02\n",
            "28           payment_day_max_m3  2.715526e-02\n",
            "50    actual_amount_paid_avg_m6  2.561780e-02\n",
            "26                total_paid_m6  2.553247e-02\n",
            "48           payment_day_avg_m6  2.521472e-02\n",
            "42    actual_amount_paid_min_m6  2.387433e-02\n",
            "32           payment_day_max_m6  2.261796e-02\n",
            "119            info_transaction  2.204031e-02\n",
            "15                  payment_day  2.161110e-02\n",
            "16           pay_method_grouped  2.091243e-02\n",
            "24         total_transaction_m6  2.008947e-02\n",
            "34    actual_amount_paid_max_m6  1.975076e-02\n",
            "23         total_transaction_m3  1.572806e-02\n",
            "49          pct_discount_avg_m6  1.292294e-02\n",
            "4                  city_grouped  8.589397e-03\n",
            "29          pct_discount_max_m3  7.719802e-03\n",
            "10             is_auto_renew_m1  6.484870e-03\n",
            "14                 pct_discount  5.118946e-03\n",
            "35     payment_plan_days_min_m3  4.867220e-03\n",
            "120              info_user_logs  4.818971e-03\n",
            "45          pct_discount_avg_m3  4.546878e-03\n",
            "47     payment_plan_days_avg_m6  4.518984e-03\n",
            "6             payment_plan_days  4.074721e-03\n",
            "43     payment_plan_days_avg_m3  4.061026e-03\n",
            "33          pct_discount_max_m6  3.892273e-03\n",
            "0             months_registered  3.506305e-03\n",
            "41          pct_discount_min_m6  3.294832e-03\n",
            "59           total_mins_treated  2.636326e-03\n",
            "31     payment_plan_days_max_m6  2.483993e-03\n",
            "60                 songs_played  2.277850e-03\n",
            "39     payment_plan_days_min_m6  2.165573e-03\n",
            "37          pct_discount_min_m3  1.872071e-03\n",
            "92    total_mins_treated_min_m3  1.663083e-03\n",
            "68             trend_play_count  1.585418e-03\n",
            "27     payment_plan_days_max_m3  1.146709e-03\n",
            "22              plan_changes_m6  1.084031e-03\n",
            "57                      num_100  9.803300e-04\n",
            "72    total_mins_treated_sum_m3  9.609275e-04\n",
            "97    total_mins_treated_min_m6  9.567878e-04\n",
            "77    total_mins_treated_sum_m6  8.905291e-04\n",
            "116             num_985_tend_m6  8.312828e-04\n",
            "21    payment_method_changes_m6  8.281891e-04\n",
            "1                    bd_treated  8.056765e-04\n",
            "93          num_under_75_min_m3  7.801089e-04\n",
            "117  total_mins_treated_tend_m6  7.449769e-04\n",
            "58                      num_unq  6.868008e-04\n",
            "62                 num_under_50  6.709955e-04\n",
            "2               declared_gender  6.514230e-04\n",
            "18    payment_method_changes_m3  6.166769e-04\n",
            "78          num_under_75_sum_m6  5.902340e-04\n",
            "109              num_25_tend_m3  5.517006e-04\n",
            "67                 avg_songs_m3  5.140784e-04\n",
            "99                num_25_avg_m3  5.137715e-04\n",
            "115              num_75_tend_m6  4.332462e-04\n",
            "74                num_25_sum_m6  4.163134e-04\n",
            "53                       num_25  4.161002e-04\n",
            "52   actual_amount_paid_tend_m6  3.855537e-04\n",
            "54                       num_50  3.841454e-04\n",
            "69                num_25_sum_m3  3.679514e-04\n",
            "114              num_25_tend_m6  3.630712e-04\n",
            "91               num_985_min_m3  3.626149e-04\n",
            "51   actual_amount_paid_tend_m3  3.584565e-04\n",
            "103         num_under_75_avg_m3  3.381190e-04\n",
            "112  total_mins_treated_tend_m3  3.373599e-04\n",
            "75                num_75_sum_m6  3.365722e-04\n",
            "55                       num_75  3.185056e-04\n",
            "102   total_mins_treated_avg_m3  3.121440e-04\n",
            "87    total_mins_treated_max_m6  2.728927e-04\n",
            "86               num_985_max_m6  2.639573e-04\n",
            "111             num_985_tend_m3  2.634995e-04\n",
            "76               num_985_sum_m6  2.600653e-04\n",
            "110              num_75_tend_m3  2.551523e-04\n",
            "118        num_under_75_tend_m6  2.274871e-04\n",
            "89                num_25_min_m3  2.198411e-04\n",
            "79                num_25_max_m3  1.971347e-04\n",
            "61                 num_under_75  1.886003e-04\n",
            "73          num_under_75_sum_m3  1.814335e-04\n",
            "113        num_under_75_tend_m3  1.584968e-04\n",
            "80                num_75_max_m3  1.370414e-04\n",
            "95                num_75_min_m6  1.246159e-04\n",
            "11              total_cancel_m3  9.979090e-05\n",
            "83          num_under_75_max_m3  8.451600e-05\n",
            "94                num_25_min_m6  6.198964e-05\n",
            "70                num_75_sum_m3  5.933107e-05\n",
            "56                      num_985  5.279572e-05\n",
            "19              plan_changes_m3  4.822443e-05\n",
            "98          num_under_75_min_m6  4.708586e-05\n",
            "82    total_mins_treated_max_m3  3.445781e-05\n",
            "107   total_mins_treated_avg_m6  2.243214e-05\n",
            "12              total_cancel_m6  1.928993e-05\n",
            "90                num_75_min_m3  1.841626e-05\n",
            "105               num_75_avg_m6  1.607616e-05\n",
            "71               num_985_sum_m3  1.530203e-05\n",
            "13                 is_cancel_m1  8.911856e-06\n",
            "3                gender_treated  8.100440e-06\n",
            "101              num_985_avg_m3  7.854874e-06\n",
            "66            avg_secs_per_song  3.201646e-06\n",
            "104               num_25_avg_m6  3.188267e-06\n",
            "96               num_985_min_m6  2.719782e-06\n",
            "64                 pct_under_50  2.246994e-06\n",
            "84                num_25_max_m6  1.346918e-06\n",
            "85                num_75_max_m6  1.068613e-06\n",
            "65              early_drop_rate  8.068287e-07\n",
            "108         num_under_75_avg_m6  6.085795e-07\n",
            "106              num_985_avg_m6  5.233086e-07\n",
            "63                 pct_under_75  4.094381e-07\n",
            "88          num_under_75_max_m6  4.026018e-07\n"
          ]
        }
      ],
      "source": [
        "pd.set_option(\"display.max_rows\", None)\n",
        "print(importance_df[importance_df['Importance']>vl].head(total_features))"
      ]
    },
    {
      "cell_type": "code",
      "execution_count": null,
      "metadata": {
        "id": "a28f7437",
        "colab": {
          "base_uri": "https://localhost:8080/",
          "height": 467
        },
        "outputId": "75d9bf74-593a-4508-b2ea-74b9aab76ce4"
      },
      "outputs": [
        {
          "output_type": "display_data",
          "data": {
            "text/html": [
              "<html>\n",
              "<head><meta charset=\"utf-8\" /></head>\n",
              "<body>\n",
              "    <div>            <script src=\"https://cdnjs.cloudflare.com/ajax/libs/mathjax/2.7.5/MathJax.js?config=TeX-AMS-MML_SVG\"></script><script type=\"text/javascript\">if (window.MathJax && window.MathJax.Hub && window.MathJax.Hub.Config) {window.MathJax.Hub.Config({SVG: {font: \"STIX-Web\"}});}</script>                <script type=\"text/javascript\">window.PlotlyConfig = {MathJaxConfig: 'local'};</script>\n",
              "        <script charset=\"utf-8\" src=\"https://cdn.plot.ly/plotly-2.35.2.min.js\"></script>                <div id=\"37e6f476-7196-4414-86cc-1a537e5b4dbd\" class=\"plotly-graph-div\" style=\"height:450px; width:900px;\"></div>            <script type=\"text/javascript\">                                    window.PLOTLYENV=window.PLOTLYENV || {};                                    if (document.getElementById(\"37e6f476-7196-4414-86cc-1a537e5b4dbd\")) {                    Plotly.newPlot(                        \"37e6f476-7196-4414-86cc-1a537e5b4dbd\",                        [{\"alignmentgroup\":\"True\",\"hovertemplate\":\"Importance=%{x}\\u003cbr\\u003eFeature=%{y}\\u003cextra\\u003e\\u003c\\u002fextra\\u003e\",\"legendgroup\":\"\",\"marker\":{\"color\":\"#636efa\",\"pattern\":{\"shape\":\"\"}},\"name\":\"\",\"offsetgroup\":\"\",\"orientation\":\"h\",\"showlegend\":false,\"textposition\":\"auto\",\"x\":[0.08134103517137413,0.07068586476714982,0.06815863464498077,0.04980377246704306,0.046883765034421425,0.046700935388791096,0.04302407363115148,0.04288964213992336,0.0376618575208715,0.03416821877800441,0.033388614611806824,0.03134606703084165,0.02739468083909537,0.027155261870313443,0.025617801328668473,0.02553247493848649,0.025214721032862496,0.023874329845718956,0.022617956335353927,0.022040308935516447,0.021611096850161368,0.02091242699883662,0.020089470729318055,0.019750760894170803,0.01572805771760878,0.012922935205518753,0.008589397044397444,0.007719801581210348,0.006484869821972497,0.005118945716094357,0.004867220179537495,0.004818970880215249,0.004546877618080292,0.004518984256481855,0.004074720548347582,0.004061025523668384,0.003892273060879359,0.003506305138407201,0.003294831642443509,0.0026363262507453997,0.0024839925597816433,0.0022778503072357096,0.002165572581353773,0.0018720711189015799,0.0016630825801803527,0.0015854181985781506,0.0011467089635314389,0.0010840310367644691,0.0009803299767486813,0.0009609275317288533,0.000956787786949193,0.0008905290960132765,0.0008312827531372365,0.0008281891211565243,0.0008056764791544533,0.000780108898746224,0.0007449769484905798,0.0006868007599347921,0.0006709955201596751,0.0006514229776296565,0.0006166769170181437,0.0005902340177781083,0.0005517006107916082,0.0005140784088562134,0.0005137714582233653,0.0004332462018822596,0.0004163133515160292,0.00041610016685645604,0.0003855536655110887,0.0003841454301963285,0.0003679513961015267,0.00036307118338004983,0.00036261493055198354,0.0003584564916997688,0.00033811902860076965,0.0003373598624758522,0.00033657222267438147,0.00031850559081919236,0.00031214397669753104,0.00027289270178511163,0.0002639572677563689,0.000263499530795303,0.00026006532479198196,0.00025515226671048337,0.00022748707083847212,0.00021984108834668739,0.00019713466376508428,0.0001886002540884839,0.0001814334999611802,0.00015849681391466017,0.00013704140871090647,0.0001246159305880454,0.00009979090194744485,0.00008451600108255607,0.00006198963768294927,0.000059331071224188804,0.00005279571829913409,0.000048224429443359404,0.000047085864175024895,0.00003445781321444961,0.000022432139486363562,0.000019289930281808555,0.000018416255170305317,0.000016076155207346805,0.000015302034621736417,8.911856397518925e-6,8.100440463611014e-6,7.854874327129205e-6,3.2016463964431432e-6,3.1882674052672786e-6,2.719781549628346e-6,2.2469937197448584e-6,1.3469179712857667e-6,1.0686128675911708e-6,8.068286801608118e-7,6.085795494149773e-7,5.233085953469871e-7,4.0943813662608256e-7,4.026017731187906e-7],\"xaxis\":\"x\",\"y\":[\"tenure_months_m3\",\"actual_amount_paid_max_m3\",\"registered_via_treated\",\"actual_amount_paid\",\"actual_amount_paid_min_m3\",\"tenure_months_m6\",\"plan_list_price\",\"payment_day_min_m6\",\"payment_day_min_m3\",\"actual_amount_paid_avg_m3\",\"payment_day_avg_m3\",\"is_auto_renew\",\"total_paid_m3\",\"payment_day_max_m3\",\"actual_amount_paid_avg_m6\",\"total_paid_m6\",\"payment_day_avg_m6\",\"actual_amount_paid_min_m6\",\"payment_day_max_m6\",\"info_transaction\",\"payment_day\",\"pay_method_grouped\",\"total_transaction_m6\",\"actual_amount_paid_max_m6\",\"total_transaction_m3\",\"pct_discount_avg_m6\",\"city_grouped\",\"pct_discount_max_m3\",\"is_auto_renew_m1\",\"pct_discount\",\"payment_plan_days_min_m3\",\"info_user_logs\",\"pct_discount_avg_m3\",\"payment_plan_days_avg_m6\",\"payment_plan_days\",\"payment_plan_days_avg_m3\",\"pct_discount_max_m6\",\"months_registered\",\"pct_discount_min_m6\",\"total_mins_treated\",\"payment_plan_days_max_m6\",\"songs_played\",\"payment_plan_days_min_m6\",\"pct_discount_min_m3\",\"total_mins_treated_min_m3\",\"trend_play_count\",\"payment_plan_days_max_m3\",\"plan_changes_m6\",\"num_100\",\"total_mins_treated_sum_m3\",\"total_mins_treated_min_m6\",\"total_mins_treated_sum_m6\",\"num_985_tend_m6\",\"payment_method_changes_m6\",\"bd_treated\",\"num_under_75_min_m3\",\"total_mins_treated_tend_m6\",\"num_unq\",\"num_under_50\",\"declared_gender\",\"payment_method_changes_m3\",\"num_under_75_sum_m6\",\"num_25_tend_m3\",\"avg_songs_m3\",\"num_25_avg_m3\",\"num_75_tend_m6\",\"num_25_sum_m6\",\"num_25\",\"actual_amount_paid_tend_m6\",\"num_50\",\"num_25_sum_m3\",\"num_25_tend_m6\",\"num_985_min_m3\",\"actual_amount_paid_tend_m3\",\"num_under_75_avg_m3\",\"total_mins_treated_tend_m3\",\"num_75_sum_m6\",\"num_75\",\"total_mins_treated_avg_m3\",\"total_mins_treated_max_m6\",\"num_985_max_m6\",\"num_985_tend_m3\",\"num_985_sum_m6\",\"num_75_tend_m3\",\"num_under_75_tend_m6\",\"num_25_min_m3\",\"num_25_max_m3\",\"num_under_75\",\"num_under_75_sum_m3\",\"num_under_75_tend_m3\",\"num_75_max_m3\",\"num_75_min_m6\",\"total_cancel_m3\",\"num_under_75_max_m3\",\"num_25_min_m6\",\"num_75_sum_m3\",\"num_985\",\"plan_changes_m3\",\"num_under_75_min_m6\",\"total_mins_treated_max_m3\",\"total_mins_treated_avg_m6\",\"total_cancel_m6\",\"num_75_min_m3\",\"num_75_avg_m6\",\"num_985_sum_m3\",\"is_cancel_m1\",\"gender_treated\",\"num_985_avg_m3\",\"avg_secs_per_song\",\"num_25_avg_m6\",\"num_985_min_m6\",\"pct_under_50\",\"num_25_max_m6\",\"num_75_max_m6\",\"early_drop_rate\",\"num_under_75_avg_m6\",\"num_985_avg_m6\",\"pct_under_75\",\"num_under_75_max_m6\"],\"yaxis\":\"y\",\"type\":\"bar\"}],                        {\"template\":{\"data\":{\"histogram2dcontour\":[{\"type\":\"histogram2dcontour\",\"colorbar\":{\"outlinewidth\":0,\"ticks\":\"\"},\"colorscale\":[[0.0,\"#0d0887\"],[0.1111111111111111,\"#46039f\"],[0.2222222222222222,\"#7201a8\"],[0.3333333333333333,\"#9c179e\"],[0.4444444444444444,\"#bd3786\"],[0.5555555555555556,\"#d8576b\"],[0.6666666666666666,\"#ed7953\"],[0.7777777777777778,\"#fb9f3a\"],[0.8888888888888888,\"#fdca26\"],[1.0,\"#f0f921\"]]}],\"choropleth\":[{\"type\":\"choropleth\",\"colorbar\":{\"outlinewidth\":0,\"ticks\":\"\"}}],\"histogram2d\":[{\"type\":\"histogram2d\",\"colorbar\":{\"outlinewidth\":0,\"ticks\":\"\"},\"colorscale\":[[0.0,\"#0d0887\"],[0.1111111111111111,\"#46039f\"],[0.2222222222222222,\"#7201a8\"],[0.3333333333333333,\"#9c179e\"],[0.4444444444444444,\"#bd3786\"],[0.5555555555555556,\"#d8576b\"],[0.6666666666666666,\"#ed7953\"],[0.7777777777777778,\"#fb9f3a\"],[0.8888888888888888,\"#fdca26\"],[1.0,\"#f0f921\"]]}],\"heatmap\":[{\"type\":\"heatmap\",\"colorbar\":{\"outlinewidth\":0,\"ticks\":\"\"},\"colorscale\":[[0.0,\"#0d0887\"],[0.1111111111111111,\"#46039f\"],[0.2222222222222222,\"#7201a8\"],[0.3333333333333333,\"#9c179e\"],[0.4444444444444444,\"#bd3786\"],[0.5555555555555556,\"#d8576b\"],[0.6666666666666666,\"#ed7953\"],[0.7777777777777778,\"#fb9f3a\"],[0.8888888888888888,\"#fdca26\"],[1.0,\"#f0f921\"]]}],\"heatmapgl\":[{\"type\":\"heatmapgl\",\"colorbar\":{\"outlinewidth\":0,\"ticks\":\"\"},\"colorscale\":[[0.0,\"#0d0887\"],[0.1111111111111111,\"#46039f\"],[0.2222222222222222,\"#7201a8\"],[0.3333333333333333,\"#9c179e\"],[0.4444444444444444,\"#bd3786\"],[0.5555555555555556,\"#d8576b\"],[0.6666666666666666,\"#ed7953\"],[0.7777777777777778,\"#fb9f3a\"],[0.8888888888888888,\"#fdca26\"],[1.0,\"#f0f921\"]]}],\"contourcarpet\":[{\"type\":\"contourcarpet\",\"colorbar\":{\"outlinewidth\":0,\"ticks\":\"\"}}],\"contour\":[{\"type\":\"contour\",\"colorbar\":{\"outlinewidth\":0,\"ticks\":\"\"},\"colorscale\":[[0.0,\"#0d0887\"],[0.1111111111111111,\"#46039f\"],[0.2222222222222222,\"#7201a8\"],[0.3333333333333333,\"#9c179e\"],[0.4444444444444444,\"#bd3786\"],[0.5555555555555556,\"#d8576b\"],[0.6666666666666666,\"#ed7953\"],[0.7777777777777778,\"#fb9f3a\"],[0.8888888888888888,\"#fdca26\"],[1.0,\"#f0f921\"]]}],\"surface\":[{\"type\":\"surface\",\"colorbar\":{\"outlinewidth\":0,\"ticks\":\"\"},\"colorscale\":[[0.0,\"#0d0887\"],[0.1111111111111111,\"#46039f\"],[0.2222222222222222,\"#7201a8\"],[0.3333333333333333,\"#9c179e\"],[0.4444444444444444,\"#bd3786\"],[0.5555555555555556,\"#d8576b\"],[0.6666666666666666,\"#ed7953\"],[0.7777777777777778,\"#fb9f3a\"],[0.8888888888888888,\"#fdca26\"],[1.0,\"#f0f921\"]]}],\"mesh3d\":[{\"type\":\"mesh3d\",\"colorbar\":{\"outlinewidth\":0,\"ticks\":\"\"}}],\"scatter\":[{\"fillpattern\":{\"fillmode\":\"overlay\",\"size\":10,\"solidity\":0.2},\"type\":\"scatter\"}],\"parcoords\":[{\"type\":\"parcoords\",\"line\":{\"colorbar\":{\"outlinewidth\":0,\"ticks\":\"\"}}}],\"scatterpolargl\":[{\"type\":\"scatterpolargl\",\"marker\":{\"colorbar\":{\"outlinewidth\":0,\"ticks\":\"\"}}}],\"bar\":[{\"error_x\":{\"color\":\"#2a3f5f\"},\"error_y\":{\"color\":\"#2a3f5f\"},\"marker\":{\"line\":{\"color\":\"#E5ECF6\",\"width\":0.5},\"pattern\":{\"fillmode\":\"overlay\",\"size\":10,\"solidity\":0.2}},\"type\":\"bar\"}],\"scattergeo\":[{\"type\":\"scattergeo\",\"marker\":{\"colorbar\":{\"outlinewidth\":0,\"ticks\":\"\"}}}],\"scatterpolar\":[{\"type\":\"scatterpolar\",\"marker\":{\"colorbar\":{\"outlinewidth\":0,\"ticks\":\"\"}}}],\"histogram\":[{\"marker\":{\"pattern\":{\"fillmode\":\"overlay\",\"size\":10,\"solidity\":0.2}},\"type\":\"histogram\"}],\"scattergl\":[{\"type\":\"scattergl\",\"marker\":{\"colorbar\":{\"outlinewidth\":0,\"ticks\":\"\"}}}],\"scatter3d\":[{\"type\":\"scatter3d\",\"line\":{\"colorbar\":{\"outlinewidth\":0,\"ticks\":\"\"}},\"marker\":{\"colorbar\":{\"outlinewidth\":0,\"ticks\":\"\"}}}],\"scattermapbox\":[{\"type\":\"scattermapbox\",\"marker\":{\"colorbar\":{\"outlinewidth\":0,\"ticks\":\"\"}}}],\"scatterternary\":[{\"type\":\"scatterternary\",\"marker\":{\"colorbar\":{\"outlinewidth\":0,\"ticks\":\"\"}}}],\"scattercarpet\":[{\"type\":\"scattercarpet\",\"marker\":{\"colorbar\":{\"outlinewidth\":0,\"ticks\":\"\"}}}],\"carpet\":[{\"aaxis\":{\"endlinecolor\":\"#2a3f5f\",\"gridcolor\":\"white\",\"linecolor\":\"white\",\"minorgridcolor\":\"white\",\"startlinecolor\":\"#2a3f5f\"},\"baxis\":{\"endlinecolor\":\"#2a3f5f\",\"gridcolor\":\"white\",\"linecolor\":\"white\",\"minorgridcolor\":\"white\",\"startlinecolor\":\"#2a3f5f\"},\"type\":\"carpet\"}],\"table\":[{\"cells\":{\"fill\":{\"color\":\"#EBF0F8\"},\"line\":{\"color\":\"white\"}},\"header\":{\"fill\":{\"color\":\"#C8D4E3\"},\"line\":{\"color\":\"white\"}},\"type\":\"table\"}],\"barpolar\":[{\"marker\":{\"line\":{\"color\":\"#E5ECF6\",\"width\":0.5},\"pattern\":{\"fillmode\":\"overlay\",\"size\":10,\"solidity\":0.2}},\"type\":\"barpolar\"}],\"pie\":[{\"automargin\":true,\"type\":\"pie\"}]},\"layout\":{\"autotypenumbers\":\"strict\",\"colorway\":[\"#636efa\",\"#EF553B\",\"#00cc96\",\"#ab63fa\",\"#FFA15A\",\"#19d3f3\",\"#FF6692\",\"#B6E880\",\"#FF97FF\",\"#FECB52\"],\"font\":{\"color\":\"#2a3f5f\"},\"hovermode\":\"closest\",\"hoverlabel\":{\"align\":\"left\"},\"paper_bgcolor\":\"white\",\"plot_bgcolor\":\"#E5ECF6\",\"polar\":{\"bgcolor\":\"#E5ECF6\",\"angularaxis\":{\"gridcolor\":\"white\",\"linecolor\":\"white\",\"ticks\":\"\"},\"radialaxis\":{\"gridcolor\":\"white\",\"linecolor\":\"white\",\"ticks\":\"\"}},\"ternary\":{\"bgcolor\":\"#E5ECF6\",\"aaxis\":{\"gridcolor\":\"white\",\"linecolor\":\"white\",\"ticks\":\"\"},\"baxis\":{\"gridcolor\":\"white\",\"linecolor\":\"white\",\"ticks\":\"\"},\"caxis\":{\"gridcolor\":\"white\",\"linecolor\":\"white\",\"ticks\":\"\"}},\"coloraxis\":{\"colorbar\":{\"outlinewidth\":0,\"ticks\":\"\"}},\"colorscale\":{\"sequential\":[[0.0,\"#0d0887\"],[0.1111111111111111,\"#46039f\"],[0.2222222222222222,\"#7201a8\"],[0.3333333333333333,\"#9c179e\"],[0.4444444444444444,\"#bd3786\"],[0.5555555555555556,\"#d8576b\"],[0.6666666666666666,\"#ed7953\"],[0.7777777777777778,\"#fb9f3a\"],[0.8888888888888888,\"#fdca26\"],[1.0,\"#f0f921\"]],\"sequentialminus\":[[0.0,\"#0d0887\"],[0.1111111111111111,\"#46039f\"],[0.2222222222222222,\"#7201a8\"],[0.3333333333333333,\"#9c179e\"],[0.4444444444444444,\"#bd3786\"],[0.5555555555555556,\"#d8576b\"],[0.6666666666666666,\"#ed7953\"],[0.7777777777777778,\"#fb9f3a\"],[0.8888888888888888,\"#fdca26\"],[1.0,\"#f0f921\"]],\"diverging\":[[0,\"#8e0152\"],[0.1,\"#c51b7d\"],[0.2,\"#de77ae\"],[0.3,\"#f1b6da\"],[0.4,\"#fde0ef\"],[0.5,\"#f7f7f7\"],[0.6,\"#e6f5d0\"],[0.7,\"#b8e186\"],[0.8,\"#7fbc41\"],[0.9,\"#4d9221\"],[1,\"#276419\"]]},\"xaxis\":{\"gridcolor\":\"white\",\"linecolor\":\"white\",\"ticks\":\"\",\"title\":{\"standoff\":15},\"zerolinecolor\":\"white\",\"automargin\":true,\"zerolinewidth\":2},\"yaxis\":{\"gridcolor\":\"white\",\"linecolor\":\"white\",\"ticks\":\"\",\"title\":{\"standoff\":15},\"zerolinecolor\":\"white\",\"automargin\":true,\"zerolinewidth\":2},\"scene\":{\"xaxis\":{\"backgroundcolor\":\"#E5ECF6\",\"gridcolor\":\"white\",\"linecolor\":\"white\",\"showbackground\":true,\"ticks\":\"\",\"zerolinecolor\":\"white\",\"gridwidth\":2},\"yaxis\":{\"backgroundcolor\":\"#E5ECF6\",\"gridcolor\":\"white\",\"linecolor\":\"white\",\"showbackground\":true,\"ticks\":\"\",\"zerolinecolor\":\"white\",\"gridwidth\":2},\"zaxis\":{\"backgroundcolor\":\"#E5ECF6\",\"gridcolor\":\"white\",\"linecolor\":\"white\",\"showbackground\":true,\"ticks\":\"\",\"zerolinecolor\":\"white\",\"gridwidth\":2}},\"shapedefaults\":{\"line\":{\"color\":\"#2a3f5f\"}},\"annotationdefaults\":{\"arrowcolor\":\"#2a3f5f\",\"arrowhead\":0,\"arrowwidth\":1},\"geo\":{\"bgcolor\":\"white\",\"landcolor\":\"#E5ECF6\",\"subunitcolor\":\"white\",\"showland\":true,\"showlakes\":true,\"lakecolor\":\"white\"},\"title\":{\"x\":0.05},\"mapbox\":{\"style\":\"light\"}}},\"xaxis\":{\"anchor\":\"y\",\"domain\":[0.0,1.0],\"title\":{\"text\":\"Importance\"}},\"yaxis\":{\"anchor\":\"x\",\"domain\":[0.0,1.0],\"title\":{\"text\":\"Feature\"},\"categoryorder\":\"total ascending\"},\"legend\":{\"tracegroupgap\":0},\"title\":{\"text\":\"Feature Importance from Random Forest Model\"},\"barmode\":\"relative\",\"width\":900,\"height\":450},                        {\"responsive\": true}                    ).then(function(){\n",
              "                            \n",
              "var gd = document.getElementById('37e6f476-7196-4414-86cc-1a537e5b4dbd');\n",
              "var x = new MutationObserver(function (mutations, observer) {{\n",
              "        var display = window.getComputedStyle(gd).display;\n",
              "        if (!display || display === 'none') {{\n",
              "            console.log([gd, 'removed!']);\n",
              "            Plotly.purge(gd);\n",
              "            observer.disconnect();\n",
              "        }}\n",
              "}});\n",
              "\n",
              "// Listen for the removal of the full notebook cells\n",
              "var notebookContainer = gd.closest('#notebook-container');\n",
              "if (notebookContainer) {{\n",
              "    x.observe(notebookContainer, {childList: true});\n",
              "}}\n",
              "\n",
              "// Listen for the clearing of the current output cell\n",
              "var outputEl = gd.closest('.output');\n",
              "if (outputEl) {{\n",
              "    x.observe(outputEl, {childList: true});\n",
              "}}\n",
              "\n",
              "                        })                };                            </script>        </div>\n",
              "</body>\n",
              "</html>"
            ]
          },
          "metadata": {}
        }
      ],
      "source": [
        "import plotly.express as px\n",
        "\n",
        "# Create a bar chart\n",
        "fig = px.bar(importance_df[importance_df['Importance']>vl],\n",
        "             x='Importance',\n",
        "             y='Feature',\n",
        "             orientation='h',  # Set orientation to horizontal for horizontal bars\n",
        "             title='Feature Importance from Random Forest Model')\n",
        "\n",
        "# Reverse the order of features to have the most important at the top\n",
        "fig.update_layout(yaxis={'categoryorder':'total ascending'},\n",
        "                  width=900,  # Largura ligeiramente menor que 794px para margens\n",
        "                  height=450, # Altura ligeiramente menor que 1123px para margens\n",
        "                  )\n",
        "\n",
        "\n",
        "# Display the plot\n",
        "fig.show()"
      ]
    },
    {
      "cell_type": "code",
      "execution_count": null,
      "metadata": {
        "id": "jG-8WAfXPfLp"
      },
      "outputs": [],
      "source": [
        "importance_df.to_parquet('/content/drive/MyDrive/feature_importance.parquet')"
      ]
    },
    {
      "cell_type": "markdown",
      "metadata": {
        "id": "GFXYIjJKyJ27"
      },
      "source": [
        "## Selecionando as variáveis finais"
      ]
    },
    {
      "cell_type": "code",
      "execution_count": 108,
      "metadata": {
        "id": "fBtcnm9HlvtX"
      },
      "outputs": [],
      "source": [
        "importance_df = pd.read_parquet('/content/drive/MyDrive/feature_importance.parquet')\n",
        "\n",
        "vl = importance_df[importance_df['Feature']=='random_']['Importance'].to_list()[0]"
      ]
    },
    {
      "cell_type": "code",
      "execution_count": 109,
      "metadata": {
        "id": "y32Cq9hNuGr9"
      },
      "outputs": [],
      "source": [
        "cols = importance_df[importance_df['Importance']>vl]['Feature'].to_list()\n",
        "\n",
        "df_analysis_pd = pd.read_parquet('/content/drive/MyDrive/df_analysis_fe.parquet', columns=cols)"
      ]
    },
    {
      "cell_type": "code",
      "execution_count": null,
      "metadata": {
        "id": "SLiqnzjOE_VS",
        "colab": {
          "base_uri": "https://localhost:8080/"
        },
        "collapsed": true,
        "outputId": "31e9baad-2f90-4ec6-91f8-b3a5d6d5bbc8"
      },
      "outputs": [
        {
          "output_type": "stream",
          "name": "stdout",
          "text": [
            "Mantida actual_amount_paid_max_m3, actual_amount_paid removida correlação de 0.96\n",
            "Mantida actual_amount_paid_max_m3, actual_amount_paid_min_m3 removida correlação de 0.91\n",
            "Mantida actual_amount_paid_max_m3, plan_list_price removida correlação de 0.94\n",
            "Mantida actual_amount_paid_max_m3, actual_amount_paid_avg_m3 removida correlação de 0.96\n",
            "Mantida actual_amount_paid_max_m3, actual_amount_paid_avg_m6 removida correlação de 0.94\n",
            "Mantida actual_amount_paid_max_m3, actual_amount_paid_max_m6 removida correlação de 0.96\n",
            "Mantida registered_via_treated, pay_method_grouped removida correlação de 0.93\n",
            "Mantida payment_day_min_m6, payment_day_min_m3 removida correlação de 0.96\n",
            "Mantida payment_day_avg_m3, payment_day_max_m3 removida correlação de 0.92\n",
            "Mantida payment_day_avg_m3, payment_day_avg_m6 removida correlação de 0.97\n",
            "Mantida payment_day_avg_m3, payment_day removida correlação de 0.92\n",
            "Mantida is_auto_renew, is_auto_renew_m1 removida correlação de 0.95\n",
            "Mantida pct_discount_avg_m6, pct_discount_max_m6 removida correlação de 1.00\n",
            "Mantida pct_discount_max_m3, pct_discount_avg_m3 removida correlação de 1.00\n",
            "Mantida pct_discount, pct_discount_min_m6 removida correlação de 0.91\n",
            "Mantida pct_discount, pct_discount_min_m3 removida correlação de 0.91\n",
            "Mantida payment_plan_days_avg_m3, payment_plan_days_max_m3 removida correlação de 0.91\n",
            "Mantida total_mins_treated, songs_played removida correlação de 0.98\n",
            "Mantida total_mins_treated, trend_play_count removida correlação de 0.98\n",
            "Mantida total_mins_treated, num_100 removida correlação de 0.99\n",
            "Mantida total_mins_treated, total_mins_treated_sum_m3 removida correlação de 0.90\n",
            "Mantida total_mins_treated, num_unq removida correlação de 0.94\n",
            "Mantida total_mins_treated, avg_songs_m3 removida correlação de 0.91\n",
            "Mantida total_mins_treated, total_mins_treated_avg_m3 removida correlação de 0.92\n",
            "Mantida total_mins_treated_sum_m6, total_mins_treated_max_m6 removida correlação de 0.95\n",
            "Mantida total_mins_treated_sum_m6, total_mins_treated_max_m3 removida correlação de 0.91\n",
            "Mantida total_mins_treated_sum_m6, total_mins_treated_avg_m6 removida correlação de 0.96\n",
            "Mantida num_under_75_min_m3, num_under_75_avg_m3 removida correlação de 0.91\n",
            "Mantida num_under_75_min_m3, num_25_min_m3 removida correlação de 0.99\n",
            "Mantida num_under_75_min_m3, num_under_75_min_m6 removida correlação de 0.90\n",
            "Mantida num_under_75_min_m3, num_75_min_m3 removida correlação de 0.92\n",
            "Mantida num_under_50, num_25 removida correlação de 0.99\n",
            "Mantida num_under_50, num_50 removida correlação de 0.92\n",
            "Mantida num_under_50, num_under_75 removida correlação de 1.00\n",
            "Mantida num_under_75_sum_m6, num_25_sum_m6 removida correlação de 0.99\n",
            "Mantida num_under_75_sum_m6, num_25_sum_m3 removida correlação de 0.93\n",
            "Mantida num_under_75_sum_m6, num_75_sum_m6 removida correlação de 0.93\n",
            "Mantida num_under_75_sum_m6, num_under_75_sum_m3 removida correlação de 0.94\n",
            "Mantida num_under_75_sum_m6, num_25_avg_m6 removida correlação de 0.94\n",
            "Mantida num_under_75_sum_m6, num_25_max_m6 removida correlação de 0.94\n",
            "Mantida num_under_75_sum_m6, num_under_75_avg_m6 removida correlação de 0.95\n",
            "Mantida num_under_75_sum_m6, num_under_75_max_m6 removida correlação de 0.95\n",
            "Mantida num_25_tend_m3, num_under_75_tend_m3 removida correlação de 0.97\n",
            "Mantida num_25_avg_m3, num_25_max_m3 removida correlação de 0.98\n",
            "Mantida num_25_avg_m3, num_under_75_max_m3 removida correlação de 0.97\n",
            "Mantida num_25_tend_m6, num_under_75_tend_m6 removida correlação de 0.97\n",
            "Mantida num_985_min_m3, num_985_avg_m3 removida correlação de 0.90\n",
            "Mantida num_985_max_m6, num_985_sum_m6 removida correlação de 0.95\n",
            "Mantida num_985_max_m6, num_985_sum_m3 removida correlação de 0.91\n",
            "Mantida num_985_max_m6, num_985_avg_m6 removida correlação de 0.96\n",
            "Mantida num_75_max_m3, num_75_sum_m3 removida correlação de 0.97\n",
            "Mantida num_75_max_m3, num_75_avg_m6 removida correlação de 0.93\n",
            "Mantida num_75_max_m3, num_75_max_m6 removida correlação de 0.91\n",
            "Mantida avg_secs_per_song, pct_under_50 removida correlação de -0.91\n",
            "Mantida avg_secs_per_song, pct_under_75 removida correlação de -0.90\n"
          ]
        }
      ],
      "source": [
        "final_features, to_remove = select_uncorrelated_features(df_analysis_pd, importance_df[importance_df['Importance']>vl], 0.9)"
      ]
    },
    {
      "cell_type": "code",
      "execution_count": null,
      "metadata": {
        "id": "g51PELgmFDXs",
        "colab": {
          "base_uri": "https://localhost:8080/"
        },
        "collapsed": true,
        "outputId": "19d3ba48-694f-4b12-bb6e-98c2b7f68ef5"
      },
      "outputs": [
        {
          "output_type": "execute_result",
          "data": {
            "text/plain": [
              "['tenure_months_m3',\n",
              " 'actual_amount_paid_max_m3',\n",
              " 'registered_via_treated',\n",
              " 'tenure_months_m6',\n",
              " 'payment_day_min_m6',\n",
              " 'payment_day_avg_m3',\n",
              " 'is_auto_renew',\n",
              " 'total_paid_m3',\n",
              " 'total_paid_m6',\n",
              " 'actual_amount_paid_min_m6',\n",
              " 'payment_day_max_m6',\n",
              " 'info_transaction',\n",
              " 'total_transaction_m6',\n",
              " 'total_transaction_m3',\n",
              " 'pct_discount_avg_m6',\n",
              " 'city_grouped',\n",
              " 'pct_discount_max_m3',\n",
              " 'pct_discount',\n",
              " 'payment_plan_days_min_m3',\n",
              " 'info_user_logs',\n",
              " 'payment_plan_days_avg_m6',\n",
              " 'payment_plan_days',\n",
              " 'payment_plan_days_avg_m3',\n",
              " 'months_registered',\n",
              " 'total_mins_treated',\n",
              " 'payment_plan_days_max_m6',\n",
              " 'payment_plan_days_min_m6',\n",
              " 'total_mins_treated_min_m3',\n",
              " 'plan_changes_m6',\n",
              " 'total_mins_treated_min_m6',\n",
              " 'total_mins_treated_sum_m6',\n",
              " 'num_985_tend_m6',\n",
              " 'payment_method_changes_m6',\n",
              " 'bd_treated',\n",
              " 'num_under_75_min_m3',\n",
              " 'total_mins_treated_tend_m6',\n",
              " 'num_under_50',\n",
              " 'declared_gender',\n",
              " 'payment_method_changes_m3',\n",
              " 'num_under_75_sum_m6',\n",
              " 'num_25_tend_m3',\n",
              " 'num_25_avg_m3',\n",
              " 'num_75_tend_m6',\n",
              " 'actual_amount_paid_tend_m6',\n",
              " 'num_25_tend_m6',\n",
              " 'num_985_min_m3',\n",
              " 'actual_amount_paid_tend_m3',\n",
              " 'total_mins_treated_tend_m3',\n",
              " 'num_75',\n",
              " 'num_985_max_m6',\n",
              " 'num_985_tend_m3',\n",
              " 'num_75_tend_m3',\n",
              " 'num_75_max_m3',\n",
              " 'num_75_min_m6',\n",
              " 'total_cancel_m3',\n",
              " 'num_25_min_m6',\n",
              " 'num_985',\n",
              " 'plan_changes_m3',\n",
              " 'total_cancel_m6',\n",
              " 'is_cancel_m1',\n",
              " 'gender_treated',\n",
              " 'avg_secs_per_song',\n",
              " 'num_985_min_m6',\n",
              " 'early_drop_rate']"
            ]
          },
          "metadata": {},
          "execution_count": 18
        }
      ],
      "source": [
        "final_features"
      ]
    },
    {
      "cell_type": "code",
      "source": [
        "df_analysis_pd = pd.read_parquet('/content/drive/MyDrive/df_analysis_fe.parquet', columns=final_features)"
      ],
      "metadata": {
        "id": "GqJcTlsjVJrK"
      },
      "execution_count": 111,
      "outputs": []
    },
    {
      "cell_type": "code",
      "execution_count": null,
      "metadata": {
        "id": "WR6DJY4QvRX4",
        "colab": {
          "base_uri": "https://localhost:8080/",
          "height": 467
        },
        "outputId": "8ebc08a2-0de4-4545-e4ef-3ad4983d52bf"
      },
      "outputs": [
        {
          "output_type": "display_data",
          "data": {
            "text/html": [
              "<html>\n",
              "<head><meta charset=\"utf-8\" /></head>\n",
              "<body>\n",
              "    <div>            <script src=\"https://cdnjs.cloudflare.com/ajax/libs/mathjax/2.7.5/MathJax.js?config=TeX-AMS-MML_SVG\"></script><script type=\"text/javascript\">if (window.MathJax && window.MathJax.Hub && window.MathJax.Hub.Config) {window.MathJax.Hub.Config({SVG: {font: \"STIX-Web\"}});}</script>                <script type=\"text/javascript\">window.PlotlyConfig = {MathJaxConfig: 'local'};</script>\n",
              "        <script charset=\"utf-8\" src=\"https://cdn.plot.ly/plotly-2.35.2.min.js\"></script>                <div id=\"684e9ea9-656a-4dd7-b870-5769ca5195af\" class=\"plotly-graph-div\" style=\"height:450px; width:900px;\"></div>            <script type=\"text/javascript\">                                    window.PLOTLYENV=window.PLOTLYENV || {};                                    if (document.getElementById(\"684e9ea9-656a-4dd7-b870-5769ca5195af\")) {                    Plotly.newPlot(                        \"684e9ea9-656a-4dd7-b870-5769ca5195af\",                        [{\"alignmentgroup\":\"True\",\"hovertemplate\":\"Importance=%{x}\\u003cbr\\u003eFeature=%{y}\\u003cextra\\u003e\\u003c\\u002fextra\\u003e\",\"legendgroup\":\"\",\"marker\":{\"color\":\"#636efa\",\"pattern\":{\"shape\":\"\"}},\"name\":\"\",\"offsetgroup\":\"\",\"orientation\":\"h\",\"showlegend\":false,\"textposition\":\"auto\",\"x\":[0.08134103517137413,0.07068586476714982,0.06815863464498077,0.046700935388791096,0.04288964213992336,0.033388614611806824,0.03134606703084165,0.02739468083909537,0.02553247493848649,0.023874329845718956,0.022617956335353927,0.022040308935516447,0.020089470729318055,0.01572805771760878,0.012922935205518753,0.008589397044397444,0.007719801581210348,0.005118945716094357,0.004867220179537495,0.004818970880215249,0.004518984256481855,0.004074720548347582,0.004061025523668384,0.003506305138407201,0.0026363262507453997,0.0024839925597816433,0.002165572581353773,0.0016630825801803527,0.0010840310367644691,0.000956787786949193,0.0008905290960132765,0.0008312827531372365,0.0008281891211565243,0.0008056764791544533,0.000780108898746224,0.0007449769484905798,0.0006709955201596751,0.0006514229776296565,0.0006166769170181437,0.0005902340177781083,0.0005517006107916082,0.0005137714582233653,0.0004332462018822596,0.0003855536655110887,0.00036307118338004983,0.00036261493055198354,0.0003584564916997688,0.0003373598624758522,0.00031850559081919236,0.0002639572677563689,0.000263499530795303,0.00025515226671048337,0.00013704140871090647,0.0001246159305880454,0.00009979090194744485,0.00006198963768294927,0.00005279571829913409,0.000048224429443359404,0.000019289930281808555,8.911856397518925e-6,8.100440463611014e-6,3.2016463964431432e-6,2.719781549628346e-6,8.068286801608118e-7],\"xaxis\":\"x\",\"y\":[\"tenure_months_m3\",\"actual_amount_paid_max_m3\",\"registered_via_treated\",\"tenure_months_m6\",\"payment_day_min_m6\",\"payment_day_avg_m3\",\"is_auto_renew\",\"total_paid_m3\",\"total_paid_m6\",\"actual_amount_paid_min_m6\",\"payment_day_max_m6\",\"info_transaction\",\"total_transaction_m6\",\"total_transaction_m3\",\"pct_discount_avg_m6\",\"city_grouped\",\"pct_discount_max_m3\",\"pct_discount\",\"payment_plan_days_min_m3\",\"info_user_logs\",\"payment_plan_days_avg_m6\",\"payment_plan_days\",\"payment_plan_days_avg_m3\",\"months_registered\",\"total_mins_treated\",\"payment_plan_days_max_m6\",\"payment_plan_days_min_m6\",\"total_mins_treated_min_m3\",\"plan_changes_m6\",\"total_mins_treated_min_m6\",\"total_mins_treated_sum_m6\",\"num_985_tend_m6\",\"payment_method_changes_m6\",\"bd_treated\",\"num_under_75_min_m3\",\"total_mins_treated_tend_m6\",\"num_under_50\",\"declared_gender\",\"payment_method_changes_m3\",\"num_under_75_sum_m6\",\"num_25_tend_m3\",\"num_25_avg_m3\",\"num_75_tend_m6\",\"actual_amount_paid_tend_m6\",\"num_25_tend_m6\",\"num_985_min_m3\",\"actual_amount_paid_tend_m3\",\"total_mins_treated_tend_m3\",\"num_75\",\"num_985_max_m6\",\"num_985_tend_m3\",\"num_75_tend_m3\",\"num_75_max_m3\",\"num_75_min_m6\",\"total_cancel_m3\",\"num_25_min_m6\",\"num_985\",\"plan_changes_m3\",\"total_cancel_m6\",\"is_cancel_m1\",\"gender_treated\",\"avg_secs_per_song\",\"num_985_min_m6\",\"early_drop_rate\"],\"yaxis\":\"y\",\"type\":\"bar\"}],                        {\"template\":{\"data\":{\"histogram2dcontour\":[{\"type\":\"histogram2dcontour\",\"colorbar\":{\"outlinewidth\":0,\"ticks\":\"\"},\"colorscale\":[[0.0,\"#0d0887\"],[0.1111111111111111,\"#46039f\"],[0.2222222222222222,\"#7201a8\"],[0.3333333333333333,\"#9c179e\"],[0.4444444444444444,\"#bd3786\"],[0.5555555555555556,\"#d8576b\"],[0.6666666666666666,\"#ed7953\"],[0.7777777777777778,\"#fb9f3a\"],[0.8888888888888888,\"#fdca26\"],[1.0,\"#f0f921\"]]}],\"choropleth\":[{\"type\":\"choropleth\",\"colorbar\":{\"outlinewidth\":0,\"ticks\":\"\"}}],\"histogram2d\":[{\"type\":\"histogram2d\",\"colorbar\":{\"outlinewidth\":0,\"ticks\":\"\"},\"colorscale\":[[0.0,\"#0d0887\"],[0.1111111111111111,\"#46039f\"],[0.2222222222222222,\"#7201a8\"],[0.3333333333333333,\"#9c179e\"],[0.4444444444444444,\"#bd3786\"],[0.5555555555555556,\"#d8576b\"],[0.6666666666666666,\"#ed7953\"],[0.7777777777777778,\"#fb9f3a\"],[0.8888888888888888,\"#fdca26\"],[1.0,\"#f0f921\"]]}],\"heatmap\":[{\"type\":\"heatmap\",\"colorbar\":{\"outlinewidth\":0,\"ticks\":\"\"},\"colorscale\":[[0.0,\"#0d0887\"],[0.1111111111111111,\"#46039f\"],[0.2222222222222222,\"#7201a8\"],[0.3333333333333333,\"#9c179e\"],[0.4444444444444444,\"#bd3786\"],[0.5555555555555556,\"#d8576b\"],[0.6666666666666666,\"#ed7953\"],[0.7777777777777778,\"#fb9f3a\"],[0.8888888888888888,\"#fdca26\"],[1.0,\"#f0f921\"]]}],\"heatmapgl\":[{\"type\":\"heatmapgl\",\"colorbar\":{\"outlinewidth\":0,\"ticks\":\"\"},\"colorscale\":[[0.0,\"#0d0887\"],[0.1111111111111111,\"#46039f\"],[0.2222222222222222,\"#7201a8\"],[0.3333333333333333,\"#9c179e\"],[0.4444444444444444,\"#bd3786\"],[0.5555555555555556,\"#d8576b\"],[0.6666666666666666,\"#ed7953\"],[0.7777777777777778,\"#fb9f3a\"],[0.8888888888888888,\"#fdca26\"],[1.0,\"#f0f921\"]]}],\"contourcarpet\":[{\"type\":\"contourcarpet\",\"colorbar\":{\"outlinewidth\":0,\"ticks\":\"\"}}],\"contour\":[{\"type\":\"contour\",\"colorbar\":{\"outlinewidth\":0,\"ticks\":\"\"},\"colorscale\":[[0.0,\"#0d0887\"],[0.1111111111111111,\"#46039f\"],[0.2222222222222222,\"#7201a8\"],[0.3333333333333333,\"#9c179e\"],[0.4444444444444444,\"#bd3786\"],[0.5555555555555556,\"#d8576b\"],[0.6666666666666666,\"#ed7953\"],[0.7777777777777778,\"#fb9f3a\"],[0.8888888888888888,\"#fdca26\"],[1.0,\"#f0f921\"]]}],\"surface\":[{\"type\":\"surface\",\"colorbar\":{\"outlinewidth\":0,\"ticks\":\"\"},\"colorscale\":[[0.0,\"#0d0887\"],[0.1111111111111111,\"#46039f\"],[0.2222222222222222,\"#7201a8\"],[0.3333333333333333,\"#9c179e\"],[0.4444444444444444,\"#bd3786\"],[0.5555555555555556,\"#d8576b\"],[0.6666666666666666,\"#ed7953\"],[0.7777777777777778,\"#fb9f3a\"],[0.8888888888888888,\"#fdca26\"],[1.0,\"#f0f921\"]]}],\"mesh3d\":[{\"type\":\"mesh3d\",\"colorbar\":{\"outlinewidth\":0,\"ticks\":\"\"}}],\"scatter\":[{\"fillpattern\":{\"fillmode\":\"overlay\",\"size\":10,\"solidity\":0.2},\"type\":\"scatter\"}],\"parcoords\":[{\"type\":\"parcoords\",\"line\":{\"colorbar\":{\"outlinewidth\":0,\"ticks\":\"\"}}}],\"scatterpolargl\":[{\"type\":\"scatterpolargl\",\"marker\":{\"colorbar\":{\"outlinewidth\":0,\"ticks\":\"\"}}}],\"bar\":[{\"error_x\":{\"color\":\"#2a3f5f\"},\"error_y\":{\"color\":\"#2a3f5f\"},\"marker\":{\"line\":{\"color\":\"#E5ECF6\",\"width\":0.5},\"pattern\":{\"fillmode\":\"overlay\",\"size\":10,\"solidity\":0.2}},\"type\":\"bar\"}],\"scattergeo\":[{\"type\":\"scattergeo\",\"marker\":{\"colorbar\":{\"outlinewidth\":0,\"ticks\":\"\"}}}],\"scatterpolar\":[{\"type\":\"scatterpolar\",\"marker\":{\"colorbar\":{\"outlinewidth\":0,\"ticks\":\"\"}}}],\"histogram\":[{\"marker\":{\"pattern\":{\"fillmode\":\"overlay\",\"size\":10,\"solidity\":0.2}},\"type\":\"histogram\"}],\"scattergl\":[{\"type\":\"scattergl\",\"marker\":{\"colorbar\":{\"outlinewidth\":0,\"ticks\":\"\"}}}],\"scatter3d\":[{\"type\":\"scatter3d\",\"line\":{\"colorbar\":{\"outlinewidth\":0,\"ticks\":\"\"}},\"marker\":{\"colorbar\":{\"outlinewidth\":0,\"ticks\":\"\"}}}],\"scattermapbox\":[{\"type\":\"scattermapbox\",\"marker\":{\"colorbar\":{\"outlinewidth\":0,\"ticks\":\"\"}}}],\"scatterternary\":[{\"type\":\"scatterternary\",\"marker\":{\"colorbar\":{\"outlinewidth\":0,\"ticks\":\"\"}}}],\"scattercarpet\":[{\"type\":\"scattercarpet\",\"marker\":{\"colorbar\":{\"outlinewidth\":0,\"ticks\":\"\"}}}],\"carpet\":[{\"aaxis\":{\"endlinecolor\":\"#2a3f5f\",\"gridcolor\":\"white\",\"linecolor\":\"white\",\"minorgridcolor\":\"white\",\"startlinecolor\":\"#2a3f5f\"},\"baxis\":{\"endlinecolor\":\"#2a3f5f\",\"gridcolor\":\"white\",\"linecolor\":\"white\",\"minorgridcolor\":\"white\",\"startlinecolor\":\"#2a3f5f\"},\"type\":\"carpet\"}],\"table\":[{\"cells\":{\"fill\":{\"color\":\"#EBF0F8\"},\"line\":{\"color\":\"white\"}},\"header\":{\"fill\":{\"color\":\"#C8D4E3\"},\"line\":{\"color\":\"white\"}},\"type\":\"table\"}],\"barpolar\":[{\"marker\":{\"line\":{\"color\":\"#E5ECF6\",\"width\":0.5},\"pattern\":{\"fillmode\":\"overlay\",\"size\":10,\"solidity\":0.2}},\"type\":\"barpolar\"}],\"pie\":[{\"automargin\":true,\"type\":\"pie\"}]},\"layout\":{\"autotypenumbers\":\"strict\",\"colorway\":[\"#636efa\",\"#EF553B\",\"#00cc96\",\"#ab63fa\",\"#FFA15A\",\"#19d3f3\",\"#FF6692\",\"#B6E880\",\"#FF97FF\",\"#FECB52\"],\"font\":{\"color\":\"#2a3f5f\"},\"hovermode\":\"closest\",\"hoverlabel\":{\"align\":\"left\"},\"paper_bgcolor\":\"white\",\"plot_bgcolor\":\"#E5ECF6\",\"polar\":{\"bgcolor\":\"#E5ECF6\",\"angularaxis\":{\"gridcolor\":\"white\",\"linecolor\":\"white\",\"ticks\":\"\"},\"radialaxis\":{\"gridcolor\":\"white\",\"linecolor\":\"white\",\"ticks\":\"\"}},\"ternary\":{\"bgcolor\":\"#E5ECF6\",\"aaxis\":{\"gridcolor\":\"white\",\"linecolor\":\"white\",\"ticks\":\"\"},\"baxis\":{\"gridcolor\":\"white\",\"linecolor\":\"white\",\"ticks\":\"\"},\"caxis\":{\"gridcolor\":\"white\",\"linecolor\":\"white\",\"ticks\":\"\"}},\"coloraxis\":{\"colorbar\":{\"outlinewidth\":0,\"ticks\":\"\"}},\"colorscale\":{\"sequential\":[[0.0,\"#0d0887\"],[0.1111111111111111,\"#46039f\"],[0.2222222222222222,\"#7201a8\"],[0.3333333333333333,\"#9c179e\"],[0.4444444444444444,\"#bd3786\"],[0.5555555555555556,\"#d8576b\"],[0.6666666666666666,\"#ed7953\"],[0.7777777777777778,\"#fb9f3a\"],[0.8888888888888888,\"#fdca26\"],[1.0,\"#f0f921\"]],\"sequentialminus\":[[0.0,\"#0d0887\"],[0.1111111111111111,\"#46039f\"],[0.2222222222222222,\"#7201a8\"],[0.3333333333333333,\"#9c179e\"],[0.4444444444444444,\"#bd3786\"],[0.5555555555555556,\"#d8576b\"],[0.6666666666666666,\"#ed7953\"],[0.7777777777777778,\"#fb9f3a\"],[0.8888888888888888,\"#fdca26\"],[1.0,\"#f0f921\"]],\"diverging\":[[0,\"#8e0152\"],[0.1,\"#c51b7d\"],[0.2,\"#de77ae\"],[0.3,\"#f1b6da\"],[0.4,\"#fde0ef\"],[0.5,\"#f7f7f7\"],[0.6,\"#e6f5d0\"],[0.7,\"#b8e186\"],[0.8,\"#7fbc41\"],[0.9,\"#4d9221\"],[1,\"#276419\"]]},\"xaxis\":{\"gridcolor\":\"white\",\"linecolor\":\"white\",\"ticks\":\"\",\"title\":{\"standoff\":15},\"zerolinecolor\":\"white\",\"automargin\":true,\"zerolinewidth\":2},\"yaxis\":{\"gridcolor\":\"white\",\"linecolor\":\"white\",\"ticks\":\"\",\"title\":{\"standoff\":15},\"zerolinecolor\":\"white\",\"automargin\":true,\"zerolinewidth\":2},\"scene\":{\"xaxis\":{\"backgroundcolor\":\"#E5ECF6\",\"gridcolor\":\"white\",\"linecolor\":\"white\",\"showbackground\":true,\"ticks\":\"\",\"zerolinecolor\":\"white\",\"gridwidth\":2},\"yaxis\":{\"backgroundcolor\":\"#E5ECF6\",\"gridcolor\":\"white\",\"linecolor\":\"white\",\"showbackground\":true,\"ticks\":\"\",\"zerolinecolor\":\"white\",\"gridwidth\":2},\"zaxis\":{\"backgroundcolor\":\"#E5ECF6\",\"gridcolor\":\"white\",\"linecolor\":\"white\",\"showbackground\":true,\"ticks\":\"\",\"zerolinecolor\":\"white\",\"gridwidth\":2}},\"shapedefaults\":{\"line\":{\"color\":\"#2a3f5f\"}},\"annotationdefaults\":{\"arrowcolor\":\"#2a3f5f\",\"arrowhead\":0,\"arrowwidth\":1},\"geo\":{\"bgcolor\":\"white\",\"landcolor\":\"#E5ECF6\",\"subunitcolor\":\"white\",\"showland\":true,\"showlakes\":true,\"lakecolor\":\"white\"},\"title\":{\"x\":0.05},\"mapbox\":{\"style\":\"light\"}}},\"xaxis\":{\"anchor\":\"y\",\"domain\":[0.0,1.0],\"title\":{\"text\":\"Importance\"}},\"yaxis\":{\"anchor\":\"x\",\"domain\":[0.0,1.0],\"title\":{\"text\":\"Feature\"},\"categoryorder\":\"total ascending\"},\"legend\":{\"tracegroupgap\":0},\"title\":{\"text\":\"Feature Importance from Random Forest Model\"},\"barmode\":\"relative\",\"width\":900,\"height\":450},                        {\"responsive\": true}                    ).then(function(){\n",
              "                            \n",
              "var gd = document.getElementById('684e9ea9-656a-4dd7-b870-5769ca5195af');\n",
              "var x = new MutationObserver(function (mutations, observer) {{\n",
              "        var display = window.getComputedStyle(gd).display;\n",
              "        if (!display || display === 'none') {{\n",
              "            console.log([gd, 'removed!']);\n",
              "            Plotly.purge(gd);\n",
              "            observer.disconnect();\n",
              "        }}\n",
              "}});\n",
              "\n",
              "// Listen for the removal of the full notebook cells\n",
              "var notebookContainer = gd.closest('#notebook-container');\n",
              "if (notebookContainer) {{\n",
              "    x.observe(notebookContainer, {childList: true});\n",
              "}}\n",
              "\n",
              "// Listen for the clearing of the current output cell\n",
              "var outputEl = gd.closest('.output');\n",
              "if (outputEl) {{\n",
              "    x.observe(outputEl, {childList: true});\n",
              "}}\n",
              "\n",
              "                        })                };                            </script>        </div>\n",
              "</body>\n",
              "</html>"
            ]
          },
          "metadata": {}
        }
      ],
      "source": [
        "import plotly.express as px\n",
        "\n",
        "# Create a bar chart\n",
        "fig = px.bar(importance_df[importance_df['Feature'].isin(final_features)],\n",
        "             x='Importance',\n",
        "             y='Feature',\n",
        "             orientation='h',  # Set orientation to horizontal for horizontal bars\n",
        "             title='Feature Importance from Random Forest Model')\n",
        "\n",
        "# Reverse the order of features to have the most important at the top\n",
        "fig.update_layout(yaxis={'categoryorder':'total ascending'},\n",
        "                  width=900,  # Largura ligeiramente menor que 794px para margens\n",
        "                  height=450, # Altura ligeiramente menor que 1123px para margens\n",
        "                  )\n",
        "\n",
        "\n",
        "# Display the plot"
      ]
    },
    {
      "cell_type": "markdown",
      "metadata": {
        "id": "232a869d"
      },
      "source": [
        "#7.  Modelo V0 - Comparação\n"
      ]
    },
    {
      "cell_type": "markdown",
      "metadata": {
        "id": "FSwROTt2UU3x"
      },
      "source": [
        "### Salvando variáveis finais"
      ]
    },
    {
      "cell_type": "code",
      "execution_count": 110,
      "metadata": {
        "colab": {
          "base_uri": "https://localhost:8080/"
        },
        "id": "BdyQPIOR_8Bq",
        "outputId": "f50dece8-a4ad-4ddf-b883-1b1107d1bdff"
      },
      "outputs": [
        {
          "output_type": "execute_result",
          "data": {
            "text/plain": [
              "64"
            ]
          },
          "metadata": {},
          "execution_count": 110
        }
      ],
      "source": [
        "final_features = [\n",
        "    'tenure_months_m3',\n",
        " 'actual_amount_paid_max_m3',\n",
        " 'registered_via_treated',\n",
        " 'tenure_months_m6',\n",
        " 'payment_day_min_m6',\n",
        " 'payment_day_avg_m3',\n",
        " 'is_auto_renew',\n",
        " 'total_paid_m3',\n",
        " 'total_paid_m6',\n",
        " 'actual_amount_paid_min_m6',\n",
        " 'payment_day_max_m6',\n",
        " 'info_transaction',\n",
        " 'total_transaction_m6',\n",
        " 'total_transaction_m3',\n",
        " 'pct_discount_avg_m6',\n",
        " 'city_grouped',\n",
        " 'pct_discount_max_m3',\n",
        " 'pct_discount',\n",
        " 'payment_plan_days_min_m3',\n",
        " 'info_user_logs',\n",
        " 'payment_plan_days_avg_m6',\n",
        " 'payment_plan_days',\n",
        " 'payment_plan_days_avg_m3',\n",
        " 'months_registered',\n",
        " 'total_mins_treated',\n",
        " 'payment_plan_days_max_m6',\n",
        " 'payment_plan_days_min_m6',\n",
        " 'total_mins_treated_min_m3',\n",
        " 'plan_changes_m6',\n",
        " 'total_mins_treated_min_m6',\n",
        " 'total_mins_treated_sum_m6',\n",
        " 'num_985_tend_m6',\n",
        " 'payment_method_changes_m6',\n",
        " 'bd_treated',\n",
        " 'num_under_75_min_m3',\n",
        " 'total_mins_treated_tend_m6',\n",
        " 'num_under_50',\n",
        " 'declared_gender',\n",
        " 'payment_method_changes_m3',\n",
        " 'num_under_75_sum_m6',\n",
        " 'num_25_tend_m3',\n",
        " 'num_25_avg_m3',\n",
        " 'num_75_tend_m6',\n",
        " 'actual_amount_paid_tend_m6',\n",
        " 'num_25_tend_m6',\n",
        " 'num_985_min_m3',\n",
        " 'actual_amount_paid_tend_m3',\n",
        " 'total_mins_treated_tend_m3',\n",
        " 'num_75',\n",
        " 'num_985_max_m6',\n",
        " 'num_985_tend_m3',\n",
        " 'num_75_tend_m3',\n",
        " 'num_75_max_m3',\n",
        " 'num_75_min_m6',\n",
        " 'total_cancel_m3',\n",
        " 'num_25_min_m6',\n",
        " 'num_985',\n",
        " 'plan_changes_m3',\n",
        " 'total_cancel_m6',\n",
        " 'is_cancel_m1',\n",
        " 'gender_treated',\n",
        " 'avg_secs_per_song',\n",
        " 'num_985_min_m6',\n",
        " 'early_drop_rate'\n",
        "]\n",
        "\n",
        "len(final_features)"
      ]
    },
    {
      "cell_type": "markdown",
      "metadata": {
        "id": "r-plJCDz0BOU"
      },
      "source": [
        "### Salva bases"
      ]
    },
    {
      "cell_type": "code",
      "source": [
        "full_df_train.select('msno', 'safra', 'churn_origem', 'is_ativo', 'churn_m3',*final_features, 'classWeight').write.parquet('/content/drive/MyDrive/full_df_train.parquet', mode='overwrite')\n",
        "size_ = os.path.getsize('/content/drive/MyDrive/full_df_train.parquet')\n",
        "print(f'{size_/1024:.2} Mb')\n",
        "\n",
        "full_df_test.select('msno', 'safra', 'churn_origem', 'is_ativo', 'churn_m3',*final_features, 'classWeight').write.parquet('/content/drive/MyDrive/full_df_test.parquet', mode='overwrite')\n",
        "size_ = os.path.getsize('/content/drive/MyDrive/full_df_test.parquet')\n",
        "print(f'{size_/1024:.2} Mb')\n",
        "\n",
        "full_df_oot.select('msno', 'safra', 'churn_origem', 'is_ativo', 'churn_m3',*final_features, 'classWeight').write.parquet('/content/drive/MyDrive/full_df_oot.parquet', mode='overwrite')\n",
        "size_ = os.path.getsize('/content/drive/MyDrive/full_df_oot.parquet')\n",
        "print(f'{size_/1024:.2} Mb')"
      ],
      "metadata": {
        "colab": {
          "base_uri": "https://localhost:8080/"
        },
        "id": "gEIpRgXhmm4D",
        "outputId": "39809e79-e3a8-4dfa-8755-3bd37e7c4ae6"
      },
      "execution_count": 18,
      "outputs": [
        {
          "output_type": "stream",
          "name": "stdout",
          "text": [
            "4.0 Mb\n",
            "4.0 Mb\n",
            "4.0 Mb\n"
          ]
        }
      ]
    },
    {
      "cell_type": "markdown",
      "metadata": {
        "id": "CAhWhry20D90"
      },
      "source": [
        "### Modelagem"
      ]
    },
    {
      "cell_type": "code",
      "execution_count": 7,
      "metadata": {
        "id": "vAzTKmQmXrc9",
        "colab": {
          "base_uri": "https://localhost:8080/"
        },
        "collapsed": true,
        "outputId": "70b13d60-d639-4391-e5cd-506f6d051080"
      },
      "outputs": [
        {
          "output_type": "execute_result",
          "data": {
            "text/plain": [
              "DataFrame[msno: string, safra: int, churn_origem: int, is_ativo: int, churn_m3: int, tenure_months_m3: double, actual_amount_paid_max_m3: float, registered_via_treated: double, tenure_months_m6: double, payment_day_min_m6: int, payment_day_avg_m3: double, is_auto_renew: int, total_paid_m3: double, total_paid_m6: double, actual_amount_paid_min_m6: float, payment_day_max_m6: int, info_transaction: int, total_transaction_m6: bigint, total_transaction_m3: bigint, pct_discount_avg_m6: double, city_grouped: double, pct_discount_max_m3: double, pct_discount: double, payment_plan_days_min_m3: int, info_user_logs: int, payment_plan_days_avg_m6: double, payment_plan_days: int, payment_plan_days_avg_m3: double, months_registered: bigint, total_mins_treated: double, payment_plan_days_max_m6: int, payment_plan_days_min_m6: int, total_mins_treated_min_m3: double, plan_changes_m6: bigint, total_mins_treated_min_m6: double, total_mins_treated_sum_m6: double, num_985_tend_m6: double, payment_method_changes_m6: bigint, bd_treated: int, num_under_75_min_m3: double, total_mins_treated_tend_m6: double, num_under_50: double, declared_gender: int, payment_method_changes_m3: bigint, num_under_75_sum_m6: double, num_25_tend_m3: double, num_25_avg_m3: double, num_75_tend_m6: double, actual_amount_paid_tend_m6: double, num_25_tend_m6: double, num_985_min_m3: double, actual_amount_paid_tend_m3: double, total_mins_treated_tend_m3: double, num_75: double, num_985_max_m6: double, num_985_tend_m3: double, num_75_tend_m3: double, num_75_max_m3: double, num_75_min_m6: double, total_cancel_m3: bigint, num_25_min_m6: double, num_985: double, plan_changes_m3: bigint, total_cancel_m6: bigint, is_cancel_m1: int, gender_treated: int, avg_secs_per_song: double, num_985_min_m6: double, early_drop_rate: double, classWeight: int]"
            ]
          },
          "metadata": {},
          "execution_count": 7
        }
      ],
      "source": [
        "full_df_train = spark.read.parquet('/content/drive/MyDrive/full_df_train.parquet')\n",
        "full_df_train.cache()\n",
        "full_df_test = spark.read.parquet('/content/drive/MyDrive/full_df_test.parquet')\n",
        "full_df_test.cache()\n",
        "full_df_oot = spark.read.parquet('/content/drive/MyDrive/full_df_oot.parquet')\n",
        "full_df_oot.cache()"
      ]
    },
    {
      "cell_type": "code",
      "source": [
        "avalia_nulos(full_df_train, full_df_train.count())"
      ],
      "metadata": {
        "id": "wC6XG3WaIcsE",
        "colab": {
          "base_uri": "https://localhost:8080/"
        },
        "collapsed": true,
        "outputId": "a8e49bfd-0b5e-4827-c169-765fd50c319a"
      },
      "execution_count": 20,
      "outputs": [
        {
          "output_type": "stream",
          "name": "stdout",
          "text": [
            "msno tem 0.00% nulos\n",
            "safra tem 0.00% nulos\n",
            "churn_origem tem 0.00% nulos\n",
            "is_ativo tem 0.00% nulos\n",
            "churn_m3 tem 0.00% nulos\n",
            "tenure_months_m3 tem 30.06% nulos\n",
            "actual_amount_paid_max_m3 tem 30.06% nulos\n",
            "registered_via_treated tem 0.00% nulos\n",
            "tenure_months_m6 tem 30.06% nulos\n",
            "payment_day_min_m6 tem 30.06% nulos\n",
            "payment_day_avg_m3 tem 30.06% nulos\n",
            "is_auto_renew tem 30.06% nulos\n",
            "total_paid_m3 tem 30.06% nulos\n",
            "total_paid_m6 tem 30.06% nulos\n",
            "actual_amount_paid_min_m6 tem 30.06% nulos\n",
            "payment_day_max_m6 tem 30.06% nulos\n",
            "info_transaction tem 0.00% nulos\n",
            "total_transaction_m6 tem 30.06% nulos\n",
            "total_transaction_m3 tem 30.06% nulos\n",
            "pct_discount_avg_m6 tem 30.06% nulos\n",
            "city_grouped tem 0.00% nulos\n",
            "pct_discount_max_m3 tem 30.06% nulos\n",
            "pct_discount tem 30.06% nulos\n",
            "payment_plan_days_min_m3 tem 30.06% nulos\n",
            "info_user_logs tem 0.00% nulos\n",
            "payment_plan_days_avg_m6 tem 30.06% nulos\n",
            "payment_plan_days tem 30.06% nulos\n",
            "payment_plan_days_avg_m3 tem 30.06% nulos\n",
            "months_registered tem 0.00% nulos\n",
            "total_mins_treated tem 15.22% nulos\n",
            "payment_plan_days_max_m6 tem 30.06% nulos\n",
            "payment_plan_days_min_m6 tem 30.06% nulos\n",
            "total_mins_treated_min_m3 tem 15.21% nulos\n",
            "plan_changes_m6 tem 30.06% nulos\n",
            "total_mins_treated_min_m6 tem 15.21% nulos\n",
            "total_mins_treated_sum_m6 tem 15.21% nulos\n",
            "num_985_tend_m6 tem 41.89% nulos\n",
            "payment_method_changes_m6 tem 30.06% nulos\n",
            "bd_treated tem 0.00% nulos\n",
            "num_under_75_min_m3 tem 15.21% nulos\n",
            "total_mins_treated_tend_m6 tem 38.03% nulos\n",
            "num_under_50 tem 15.21% nulos\n",
            "declared_gender tem 0.00% nulos\n",
            "payment_method_changes_m3 tem 30.06% nulos\n",
            "num_under_75_sum_m6 tem 15.21% nulos\n",
            "num_25_tend_m3 tem 28.26% nulos\n",
            "num_25_avg_m3 tem 15.21% nulos\n",
            "num_75_tend_m6 tem 41.79% nulos\n",
            "actual_amount_paid_tend_m6 tem 52.65% nulos\n",
            "num_25_tend_m6 tem 38.76% nulos\n",
            "num_985_min_m3 tem 15.21% nulos\n",
            "actual_amount_paid_tend_m3 tem 42.40% nulos\n",
            "total_mins_treated_tend_m3 tem 26.83% nulos\n",
            "num_75 tem 15.21% nulos\n",
            "num_985_max_m6 tem 15.21% nulos\n",
            "num_985_tend_m3 tem 32.54% nulos\n",
            "num_75_tend_m3 tem 32.42% nulos\n",
            "num_75_max_m3 tem 15.21% nulos\n",
            "num_75_min_m6 tem 15.21% nulos\n",
            "total_cancel_m3 tem 34.47% nulos\n",
            "num_25_min_m6 tem 15.21% nulos\n",
            "num_985 tem 15.21% nulos\n",
            "plan_changes_m3 tem 30.06% nulos\n",
            "total_cancel_m6 tem 34.47% nulos\n",
            "is_cancel_m1 tem 34.47% nulos\n",
            "gender_treated tem 0.00% nulos\n",
            "avg_secs_per_song tem 15.22% nulos\n",
            "num_985_min_m6 tem 15.21% nulos\n",
            "early_drop_rate tem 15.21% nulos\n",
            "classWeight tem 0.00% nulos\n",
            "\n"
          ]
        }
      ]
    },
    {
      "cell_type": "code",
      "execution_count": 9,
      "metadata": {
        "id": "k3WiJFq6SiNR"
      },
      "outputs": [],
      "source": [
        "def ks_metric(df_pred, n_bins=10):\n",
        "\n",
        "    df_pred = df_pred.withColumn(\"proba1\", vector_to_array(\"probability\").getItem(1))\n",
        "\n",
        "    # 2️⃣ Criar decil ou bin baseado em ntile\n",
        "    w = W.orderBy(F.col(\"proba1\").desc())\n",
        "    df_pred = df_pred.withColumn(\"decile\", F.ntile(n_bins).over(w))\n",
        "\n",
        "    # 3️⃣ Agregar por decil\n",
        "    agg = df_pred.groupBy(\"decile\").agg(\n",
        "        F.sum(\"churn_m3\").alias(\"bad\"),\n",
        "        F.sum(1 - F.col(\"churn_m3\")).alias(\"good\")\n",
        "    ).orderBy(\"decile\", ascending=False)\n",
        "\n",
        "    # 4️⃣ Total de bons e maus\n",
        "    total_bad  = df_pred.filter(F.col(\"churn_m3\")==1).count()\n",
        "    total_good = df_pred.filter(F.col(\"churn_m3\")==0).count()\n",
        "\n",
        "    # 5️⃣ Calcular cumulativos\n",
        "    w2 = W.orderBy(\"decile\").rowsBetween(W.unboundedPreceding, 0)\n",
        "    agg = agg.withColumn(\"cum_bad\", F.sum(\"bad\").over(w2)/total_bad)\n",
        "    agg = agg.withColumn(\"cum_good\", F.sum(\"good\").over(w2)/total_good)\n",
        "\n",
        "    # 6️⃣ KS por decil\n",
        "    agg = agg.withColumn(\"ks\", F.abs(F.col(\"cum_bad\") - F.col(\"cum_good\")))\n",
        "\n",
        "    # 7️⃣ Retornar KS máximo\n",
        "    ks_value = agg.agg(F.max(\"ks\")).first()[0]\n",
        "    return ks_value\n"
      ]
    },
    {
      "cell_type": "code",
      "execution_count": 122,
      "metadata": {
        "id": "COaj6GmKt4Wx"
      },
      "outputs": [],
      "source": [
        "def pipe(df_spark, model):\n",
        "  feature_cols = [col for col in df_spark.columns if col not in ['msno', 'safra', 'churn_m3', 'churn_origem', 'is_ativo', 'classWeight', 'is_validation'] and col in final_features]\n",
        "\n",
        "  imputer = Imputer(\n",
        "      inputCols=feature_cols,\n",
        "      outputCols=feature_cols\n",
        "  ).setStrategy(\"median\")  # ou \"mean\"\n",
        "\n",
        "  # Define individual stages\n",
        "  assembler = VectorAssembler(inputCols=feature_cols, outputCol=\"features\")\n",
        "\n",
        "  # Create the pipeline\n",
        "  return Pipeline(stages=[imputer, assembler, model])\n",
        "\n",
        "\n",
        "def pipe_xgb(df_spark, model):\n",
        "  feature_cols = [col for col in df_spark.columns if col not in ['msno', 'safra', 'churn_m3', 'churn_origem', 'is_ativo', 'classWeight', 'is_validation'] and col in final_features]\n",
        "\n",
        "  imputer = Imputer(\n",
        "    inputCols=feature_cols,\n",
        "    outputCols=feature_cols,\n",
        "    strategy=\"median\" #\n",
        "                  ).setMissingValue(-99) # Define o valor de substituição\n",
        "\n",
        "\n",
        "  # Define individual stages\n",
        "  assembler = VectorAssembler(inputCols=feature_cols, outputCol=\"features\", handleInvalid=\"keep\")\n",
        "\n",
        "  # Create the pipeline\n",
        "  return Pipeline(stages=[assembler, model])\n",
        "\n",
        "def model_training(model, pipe, train, test, oot=None):\n",
        "\n",
        "  model_name = type(model).__name__\n",
        "\n",
        "  preproc_model = pipe(train, model).fit(train)\n",
        "\n",
        "  train_dt = preproc_model.transform(train)\n",
        "  test_dt = preproc_model.transform(test)\n",
        "\n",
        "  evaluator = BinaryClassificationEvaluator(\n",
        "    labelCol=\"churn_m3\",\n",
        "    rawPredictionCol=\"rawPrediction\",\n",
        "    metricName=\"areaUnderROC\"\n",
        "    )\n",
        "\n",
        "  ks_train = ks_metric(train_dt)\n",
        "  ks_test = ks_metric(test_dt)\n",
        "\n",
        "\n",
        "  auc_train_dt = evaluator.evaluate(train_dt)\n",
        "  auc_test_dt = evaluator.evaluate(test_dt)\n",
        "\n",
        "  print(f'============ {model_name} ============')\n",
        "  print(f\"AUC train : {auc_train_dt:.4f}\")\n",
        "  print(f\"AUC test : {auc_test_dt:.4f}\")\n",
        "  print('-'*60)\n",
        "  print(f\"KS train : {ks_train:.4f}\")\n",
        "  print(f\"KS test : {ks_test:.4f}\")\n",
        "  print('='*60)\n",
        "\n",
        "  if oot:\n",
        "    oot_dt = preproc_model.transform(oot)\n",
        "    auc_oot_dt = evaluator.evaluate(oot_dt)\n",
        "    ks_oot = ks_metric(oot_dt)\n",
        "\n",
        "    print(f\"AUC OOT : {auc_oot_dt:.4f}\")\n",
        "    print(f\"KS OOT : {ks_oot:.4f}\")\n",
        "    print('='*60)\n",
        "\n",
        "    return test_dt, oot_dt, preproc_model\n",
        "\n",
        "  return test_dt, preproc_model\n"
      ]
    },
    {
      "cell_type": "code",
      "execution_count": 76,
      "metadata": {
        "id": "wa2nyUPeYHrt"
      },
      "outputs": [],
      "source": [
        "\n",
        "'''\n",
        " Por questões de tempo e por ter utilizado random forest para construir o feature importance, achei prudente em viés de robustez, mas com maior eficiência e interpretabilidade\n",
        "usar uma Árvore de Decisão como modelo base.\n",
        "  Dado também que leva em conta os mesmos tratamentos que Random Forest, diferente do Regressão logística que ainda demandaria um escalonamento.\n",
        "'''\n",
        "\n",
        "# Decision Tree\n",
        "dt = DecisionTreeClassifier(\n",
        "    labelCol=\"churn_m3\",\n",
        "    featuresCol=\"features\",\n",
        "    seed=42,\n",
        "    impurity=\"gini\",              # mesmo critério da RF\n",
        "    maxDepth=14,                  # controla overfitting\n",
        "    minInstancesPerNode=1000,       # deixa os splits mais gerais\n",
        "    weightCol=\"classWeight\"       # corrige desbalanceamento\n",
        ")\n",
        "\n",
        "\n",
        "# Random Forest\n",
        "rf = RandomForestClassifier(\n",
        "                            labelCol=\"churn_m3\",\n",
        "                            featuresCol=\"features\",\n",
        "                            seed=42,\n",
        "                            numTrees=100,           # mais árvores → importância estável\n",
        "                            impurity=\"gini\",           # mais rápido, sem perda prática\n",
        "                            maxDepth=6,               # evita overfitting/ruído\n",
        "                            minInstancesPerNode=1000,        # splits mais gerais\n",
        "                            featureSubsetStrategy=\"sqrt\",\n",
        "                            weightCol=\"classWeight\" # corrige desbalanceamento manualmente\n",
        ")\n",
        "\n",
        "xgb = SparkXGBClassifier(\n",
        "    label_col=\"churn_m3\",          # target\n",
        "    features_col=\"features\",       # vetor de features\n",
        "    weight_col=\"classWeight\",      # corrige desbalanceamento\n",
        "    seed=42,\n",
        "\n",
        "    # Complexidade do modelo\n",
        "    num_round=100,                 # número de boosting rounds (similar a numTrees)\n",
        "    max_depth=4,                  # profundidade máxima das árvores\n",
        "    min_child_weight=1000,           # tamanho mínimo de amostra em cada folha (similar ao minInstancesPerNode)\n",
        "\n",
        "    # Regularização / controle de overfitting\n",
        "    eta=0.03,                       # learning rate → shrinkage\n",
        "    subsample=0.8,                 # amostragem de linhas\n",
        "    colsample_bytree=0.8,          # amostragem de colunas\n",
        "    reg_gamma=0.1,\n",
        "\n",
        "    eval_metric=\"logloss\",              # métrica de avaliação (pode trocar para \"logloss\")\n",
        "    missing=-99,\n",
        "    num_workers=4\n",
        ")"
      ]
    },
    {
      "cell_type": "code",
      "execution_count": 28,
      "metadata": {
        "id": "_yOZmGqLYDBl",
        "colab": {
          "base_uri": "https://localhost:8080/"
        },
        "outputId": "a906d7de-40a1-4c97-bb08-3a63cdaa398d"
      },
      "outputs": [
        {
          "output_type": "stream",
          "name": "stdout",
          "text": [
            "============ DecisionTreeClassifier ============\n",
            "AUC train : 0.6938\n",
            "AUC test : 0.6912\n",
            "------------------------------------------------------------\n",
            "KS train : 0.5446\n",
            "KS test : 0.5406\n",
            "============================================================\n"
          ]
        }
      ],
      "source": [
        "# A lei dos grandes números e os teste realizados, não necessário treinar com todos os dados\n",
        "# Os resultados apesar de próximos, foram melhores no xgboost, e portanto, seguiremos para otimização com ele\n",
        "preds_dt, trained_model_dt = model_training(dt, pipe, full_df_train, full_df_test)"
      ]
    },
    {
      "cell_type": "code",
      "execution_count": 29,
      "metadata": {
        "id": "j2GSRx3he6k-",
        "colab": {
          "base_uri": "https://localhost:8080/"
        },
        "outputId": "94f056ac-044b-4736-9c2c-2f761da5ad5d"
      },
      "outputs": [
        {
          "output_type": "stream",
          "name": "stdout",
          "text": [
            "============ RandomForestClassifier ============\n",
            "AUC train : 0.8279\n",
            "AUC test : 0.8258\n",
            "------------------------------------------------------------\n",
            "KS train : 0.4955\n",
            "KS test : 0.4948\n",
            "============================================================\n"
          ]
        }
      ],
      "source": [
        "preds_rf, trained_model_rf = model_training(rf, pipe, full_df_train, full_df_test)"
      ]
    },
    {
      "cell_type": "code",
      "execution_count": 77,
      "metadata": {
        "id": "E4oo6tLkyG9R",
        "colab": {
          "base_uri": "https://localhost:8080/"
        },
        "outputId": "571b1922-63f1-4c50-f52b-370194c8f184"
      },
      "outputs": [
        {
          "output_type": "stream",
          "name": "stderr",
          "text": [
            "INFO:XGBoost-PySpark:Running xgboost-3.0.5 on 4 workers with\n",
            "\tbooster params: {'objective': 'binary:logistic', 'colsample_bytree': 0.8, 'device': 'cpu', 'eval_metric': 'logloss', 'max_depth': 4, 'min_child_weight': 1000, 'subsample': 0.8, 'seed': 42, 'num_round': 100, 'eta': 0.03, 'reg_gamma': 0.1, 'nthread': 1}\n",
            "\ttrain_call_kwargs_params: {'verbose_eval': True, 'num_boost_round': 100}\n",
            "\tdmatrix_kwargs: {'nthread': 1, 'missing': -99.0}\n",
            "INFO:XGBoost-PySpark:Finished xgboost training!\n"
          ]
        },
        {
          "output_type": "stream",
          "name": "stdout",
          "text": [
            "============ SparkXGBClassifier ============\n",
            "AUC train : 0.8412\n",
            "AUC test : 0.8394\n",
            "------------------------------------------------------------\n",
            "KS train : 0.5235\n",
            "KS test : 0.5225\n",
            "============================================================\n"
          ]
        }
      ],
      "source": [
        "preds_xgb, trained_model_xgb = model_training(xgb, pipe_xgb, full_df_train, full_df_test)"
      ]
    },
    {
      "cell_type": "markdown",
      "source": [
        "# 8. Validando modelo V1"
      ],
      "metadata": {
        "id": "Y7Zb8MqBk0kT"
      }
    },
    {
      "cell_type": "code",
      "source": [
        "from pyspark.ml.tuning import CrossValidator, ParamGridBuilder\n",
        "\n",
        "xgb_validation = SparkXGBClassifier(\n",
        "    label_col=\"churn_m3\",          # target\n",
        "    features_col=\"features\",       # vetor de features\n",
        "    weight_col=\"classWeight\",      # corrige desbalanceamento\n",
        "    seed=42,\n",
        "\n",
        "    min_child_weight=1000,           # tamanho mínimo de amostra em cada folha (similar ao minInstancesPerNode)\n",
        "    # eta=0.05,                       # learning rate → shrinkage\n",
        "    subsample=0.8,                 # amostragem de linhas\n",
        "    num_round=100,                 # número de boosting rounds (similar a numTrees)\n",
        "\n",
        "    reg_lambda=1,\n",
        "    reg_alpha=1,\n",
        "    eval_metric=\"logloss\",              # métrica de avaliação (pode trocar para \"logloss\")\n",
        "\n",
        "    num_workers=4,\n",
        "    missing=-99\n",
        ")\n",
        "\n",
        "pipe_ = pipe_xgb(full_df_train, xgb_validation)\n",
        "\n",
        "# Create ParamGrid for Cross Validation (using a single parameter for simplicity)\n",
        "# You can add more hyperparameters to tune here\n",
        "paramGrid_xgb_validation = (ParamGridBuilder()\n",
        "            .addGrid(xgb_validation.max_depth, [4, 6])\n",
        "            .addGrid(xgb_validation.learning_rate, [0.03, 0.05])\n",
        "            .addGrid(xgb_validation.colsample_bytree, [0.6, 0.8])\n",
        "            .addGrid(xgb_validation.gamma, [0.1, 1])\n",
        "\n",
        "             .build())\n",
        "\n",
        "evaluator = BinaryClassificationEvaluator(\n",
        "  labelCol=\"churn_m3\",\n",
        "  rawPredictionCol=\"rawPrediction\",\n",
        "  metricName=\"areaUnderROC\"\n",
        "  )\n",
        "\n",
        "# Create CrossValidator\n",
        "cv_xgb_validation = CrossValidator(estimator=pipe_,\n",
        "                        estimatorParamMaps=paramGrid_xgb_validation,\n",
        "                        evaluator=evaluator,\n",
        "                        numFolds=3, # You can adjust the number of folds\n",
        "                        parallelism=4,\n",
        "                        seed=42)\n",
        "\n",
        "# ==========================================================\n",
        "# 7. Treino\n",
        "# ==========================================================\n",
        "cvModel = cv_xgb_validation.fit(full_df_train)\n",
        "\n",
        "# ==========================================================\n",
        "# 8. Avaliação\n",
        "# ==========================================================\n",
        "pred_train = cvModel.transform(full_df_train)\n",
        "pred_test  = cvModel.transform(full_df_test)\n",
        "pred_oot   = cvModel.transform(full_df_oot)\n",
        "\n",
        "auc_train = evaluator.evaluate(pred_train)\n",
        "auc_test  = evaluator.evaluate(pred_test)\n",
        "auc_oot   = evaluator.evaluate(pred_oot)\n",
        "\n",
        "ks_train = ks_metric(pred_train)\n",
        "ks_test  = ks_metric(pred_test)\n",
        "ks_oot   = ks_metric(pred_oot)\n"
      ],
      "metadata": {
        "colab": {
          "base_uri": "https://localhost:8080/"
        },
        "collapsed": true,
        "id": "rzXJUelR-c5s",
        "outputId": "9cd7fe8c-1dc5-40bc-82be-46106e56ce35"
      },
      "execution_count": 78,
      "outputs": [
        {
          "output_type": "stream",
          "name": "stderr",
          "text": [
            "INFO:XGBoost-PySpark:Running xgboost-3.0.5 on 4 workers with\n",
            "\tbooster params: {'colsample_bytree': 0.6, 'device': 'cpu', 'eval_metric': 'logloss', 'gamma': 1, 'learning_rate': 0.03, 'max_depth': 4, 'min_child_weight': 1000, 'objective': 'binary:logistic', 'reg_alpha': 1, 'reg_lambda': 1, 'subsample': 0.8, 'seed': 42, 'num_round': 100, 'nthread': 1}\n",
            "\ttrain_call_kwargs_params: {'verbose_eval': True, 'num_boost_round': 100}\n",
            "\tdmatrix_kwargs: {'nthread': 1, 'missing': -99.0}\n",
            "INFO:XGBoost-PySpark:Running xgboost-3.0.5 on 4 workers with\n",
            "\tbooster params: {'colsample_bytree': 0.8, 'device': 'cpu', 'eval_metric': 'logloss', 'gamma': 0.1, 'learning_rate': 0.03, 'max_depth': 4, 'min_child_weight': 1000, 'objective': 'binary:logistic', 'reg_alpha': 1, 'reg_lambda': 1, 'subsample': 0.8, 'seed': 42, 'num_round': 100, 'nthread': 1}\n",
            "\ttrain_call_kwargs_params: {'verbose_eval': True, 'num_boost_round': 100}\n",
            "\tdmatrix_kwargs: {'nthread': 1, 'missing': -99.0}\n",
            "INFO:XGBoost-PySpark:Running xgboost-3.0.5 on 4 workers with\n",
            "\tbooster params: {'colsample_bytree': 0.6, 'device': 'cpu', 'eval_metric': 'logloss', 'gamma': 0.1, 'learning_rate': 0.03, 'max_depth': 4, 'min_child_weight': 1000, 'objective': 'binary:logistic', 'reg_alpha': 1, 'reg_lambda': 1, 'subsample': 0.8, 'seed': 42, 'num_round': 100, 'nthread': 1}\n",
            "\ttrain_call_kwargs_params: {'verbose_eval': True, 'num_boost_round': 100}\n",
            "\tdmatrix_kwargs: {'nthread': 1, 'missing': -99.0}\n",
            "INFO:XGBoost-PySpark:Running xgboost-3.0.5 on 4 workers with\n",
            "\tbooster params: {'colsample_bytree': 0.8, 'device': 'cpu', 'eval_metric': 'logloss', 'gamma': 1, 'learning_rate': 0.03, 'max_depth': 4, 'min_child_weight': 1000, 'objective': 'binary:logistic', 'reg_alpha': 1, 'reg_lambda': 1, 'subsample': 0.8, 'seed': 42, 'num_round': 100, 'nthread': 1}\n",
            "\ttrain_call_kwargs_params: {'verbose_eval': True, 'num_boost_round': 100}\n",
            "\tdmatrix_kwargs: {'nthread': 1, 'missing': -99.0}\n",
            "INFO:XGBoost-PySpark:Finished xgboost training!\n",
            "INFO:XGBoost-PySpark:Finished xgboost training!\n",
            "INFO:XGBoost-PySpark:Finished xgboost training!\n",
            "INFO:XGBoost-PySpark:Finished xgboost training!\n",
            "INFO:XGBoost-PySpark:Running xgboost-3.0.5 on 4 workers with\n",
            "\tbooster params: {'colsample_bytree': 0.6, 'device': 'cpu', 'eval_metric': 'logloss', 'gamma': 0.1, 'learning_rate': 0.05, 'max_depth': 4, 'min_child_weight': 1000, 'objective': 'binary:logistic', 'reg_alpha': 1, 'reg_lambda': 1, 'subsample': 0.8, 'seed': 42, 'num_round': 100, 'nthread': 1}\n",
            "\ttrain_call_kwargs_params: {'verbose_eval': True, 'num_boost_round': 100}\n",
            "\tdmatrix_kwargs: {'nthread': 1, 'missing': -99.0}\n",
            "INFO:XGBoost-PySpark:Running xgboost-3.0.5 on 4 workers with\n",
            "\tbooster params: {'colsample_bytree': 0.6, 'device': 'cpu', 'eval_metric': 'logloss', 'gamma': 1, 'learning_rate': 0.05, 'max_depth': 4, 'min_child_weight': 1000, 'objective': 'binary:logistic', 'reg_alpha': 1, 'reg_lambda': 1, 'subsample': 0.8, 'seed': 42, 'num_round': 100, 'nthread': 1}\n",
            "\ttrain_call_kwargs_params: {'verbose_eval': True, 'num_boost_round': 100}\n",
            "\tdmatrix_kwargs: {'nthread': 1, 'missing': -99.0}\n",
            "INFO:XGBoost-PySpark:Running xgboost-3.0.5 on 4 workers with\n",
            "\tbooster params: {'colsample_bytree': 0.8, 'device': 'cpu', 'eval_metric': 'logloss', 'gamma': 0.1, 'learning_rate': 0.05, 'max_depth': 4, 'min_child_weight': 1000, 'objective': 'binary:logistic', 'reg_alpha': 1, 'reg_lambda': 1, 'subsample': 0.8, 'seed': 42, 'num_round': 100, 'nthread': 1}\n",
            "\ttrain_call_kwargs_params: {'verbose_eval': True, 'num_boost_round': 100}\n",
            "\tdmatrix_kwargs: {'nthread': 1, 'missing': -99.0}\n",
            "INFO:XGBoost-PySpark:Running xgboost-3.0.5 on 4 workers with\n",
            "\tbooster params: {'colsample_bytree': 0.8, 'device': 'cpu', 'eval_metric': 'logloss', 'gamma': 1, 'learning_rate': 0.05, 'max_depth': 4, 'min_child_weight': 1000, 'objective': 'binary:logistic', 'reg_alpha': 1, 'reg_lambda': 1, 'subsample': 0.8, 'seed': 42, 'num_round': 100, 'nthread': 1}\n",
            "\ttrain_call_kwargs_params: {'verbose_eval': True, 'num_boost_round': 100}\n",
            "\tdmatrix_kwargs: {'nthread': 1, 'missing': -99.0}\n",
            "INFO:XGBoost-PySpark:Finished xgboost training!\n",
            "INFO:XGBoost-PySpark:Finished xgboost training!\n",
            "INFO:XGBoost-PySpark:Finished xgboost training!\n",
            "INFO:XGBoost-PySpark:Finished xgboost training!\n",
            "INFO:XGBoost-PySpark:Running xgboost-3.0.5 on 4 workers with\n",
            "\tbooster params: {'colsample_bytree': 0.6, 'device': 'cpu', 'eval_metric': 'logloss', 'gamma': 0.1, 'learning_rate': 0.03, 'max_depth': 6, 'min_child_weight': 1000, 'objective': 'binary:logistic', 'reg_alpha': 1, 'reg_lambda': 1, 'subsample': 0.8, 'seed': 42, 'num_round': 100, 'nthread': 1}\n",
            "\ttrain_call_kwargs_params: {'verbose_eval': True, 'num_boost_round': 100}\n",
            "\tdmatrix_kwargs: {'nthread': 1, 'missing': -99.0}\n",
            "INFO:XGBoost-PySpark:Running xgboost-3.0.5 on 4 workers with\n",
            "\tbooster params: {'colsample_bytree': 0.8, 'device': 'cpu', 'eval_metric': 'logloss', 'gamma': 0.1, 'learning_rate': 0.03, 'max_depth': 6, 'min_child_weight': 1000, 'objective': 'binary:logistic', 'reg_alpha': 1, 'reg_lambda': 1, 'subsample': 0.8, 'seed': 42, 'num_round': 100, 'nthread': 1}\n",
            "\ttrain_call_kwargs_params: {'verbose_eval': True, 'num_boost_round': 100}\n",
            "\tdmatrix_kwargs: {'nthread': 1, 'missing': -99.0}\n",
            "INFO:XGBoost-PySpark:Running xgboost-3.0.5 on 4 workers with\n",
            "\tbooster params: {'colsample_bytree': 0.6, 'device': 'cpu', 'eval_metric': 'logloss', 'gamma': 1, 'learning_rate': 0.03, 'max_depth': 6, 'min_child_weight': 1000, 'objective': 'binary:logistic', 'reg_alpha': 1, 'reg_lambda': 1, 'subsample': 0.8, 'seed': 42, 'num_round': 100, 'nthread': 1}\n",
            "\ttrain_call_kwargs_params: {'verbose_eval': True, 'num_boost_round': 100}\n",
            "\tdmatrix_kwargs: {'nthread': 1, 'missing': -99.0}\n",
            "INFO:XGBoost-PySpark:Running xgboost-3.0.5 on 4 workers with\n",
            "\tbooster params: {'colsample_bytree': 0.8, 'device': 'cpu', 'eval_metric': 'logloss', 'gamma': 1, 'learning_rate': 0.03, 'max_depth': 6, 'min_child_weight': 1000, 'objective': 'binary:logistic', 'reg_alpha': 1, 'reg_lambda': 1, 'subsample': 0.8, 'seed': 42, 'num_round': 100, 'nthread': 1}\n",
            "\ttrain_call_kwargs_params: {'verbose_eval': True, 'num_boost_round': 100}\n",
            "\tdmatrix_kwargs: {'nthread': 1, 'missing': -99.0}\n",
            "INFO:XGBoost-PySpark:Finished xgboost training!\n",
            "INFO:XGBoost-PySpark:Finished xgboost training!\n",
            "INFO:XGBoost-PySpark:Finished xgboost training!\n",
            "INFO:XGBoost-PySpark:Finished xgboost training!\n",
            "INFO:XGBoost-PySpark:Running xgboost-3.0.5 on 4 workers with\n",
            "\tbooster params: {'colsample_bytree': 0.6, 'device': 'cpu', 'eval_metric': 'logloss', 'gamma': 0.1, 'learning_rate': 0.05, 'max_depth': 6, 'min_child_weight': 1000, 'objective': 'binary:logistic', 'reg_alpha': 1, 'reg_lambda': 1, 'subsample': 0.8, 'seed': 42, 'num_round': 100, 'nthread': 1}\n",
            "\ttrain_call_kwargs_params: {'verbose_eval': True, 'num_boost_round': 100}\n",
            "\tdmatrix_kwargs: {'nthread': 1, 'missing': -99.0}\n",
            "INFO:XGBoost-PySpark:Running xgboost-3.0.5 on 4 workers with\n",
            "\tbooster params: {'colsample_bytree': 0.8, 'device': 'cpu', 'eval_metric': 'logloss', 'gamma': 0.1, 'learning_rate': 0.05, 'max_depth': 6, 'min_child_weight': 1000, 'objective': 'binary:logistic', 'reg_alpha': 1, 'reg_lambda': 1, 'subsample': 0.8, 'seed': 42, 'num_round': 100, 'nthread': 1}\n",
            "\ttrain_call_kwargs_params: {'verbose_eval': True, 'num_boost_round': 100}\n",
            "\tdmatrix_kwargs: {'nthread': 1, 'missing': -99.0}\n",
            "INFO:XGBoost-PySpark:Running xgboost-3.0.5 on 4 workers with\n",
            "\tbooster params: {'colsample_bytree': 0.6, 'device': 'cpu', 'eval_metric': 'logloss', 'gamma': 1, 'learning_rate': 0.05, 'max_depth': 6, 'min_child_weight': 1000, 'objective': 'binary:logistic', 'reg_alpha': 1, 'reg_lambda': 1, 'subsample': 0.8, 'seed': 42, 'num_round': 100, 'nthread': 1}\n",
            "\ttrain_call_kwargs_params: {'verbose_eval': True, 'num_boost_round': 100}\n",
            "\tdmatrix_kwargs: {'nthread': 1, 'missing': -99.0}\n",
            "INFO:XGBoost-PySpark:Running xgboost-3.0.5 on 4 workers with\n",
            "\tbooster params: {'colsample_bytree': 0.8, 'device': 'cpu', 'eval_metric': 'logloss', 'gamma': 1, 'learning_rate': 0.05, 'max_depth': 6, 'min_child_weight': 1000, 'objective': 'binary:logistic', 'reg_alpha': 1, 'reg_lambda': 1, 'subsample': 0.8, 'seed': 42, 'num_round': 100, 'nthread': 1}\n",
            "\ttrain_call_kwargs_params: {'verbose_eval': True, 'num_boost_round': 100}\n",
            "\tdmatrix_kwargs: {'nthread': 1, 'missing': -99.0}\n",
            "INFO:XGBoost-PySpark:Finished xgboost training!\n",
            "INFO:XGBoost-PySpark:Finished xgboost training!\n",
            "INFO:XGBoost-PySpark:Finished xgboost training!\n",
            "INFO:XGBoost-PySpark:Finished xgboost training!\n",
            "INFO:XGBoost-PySpark:Running xgboost-3.0.5 on 4 workers with\n",
            "\tbooster params: {'colsample_bytree': 0.8, 'device': 'cpu', 'eval_metric': 'logloss', 'gamma': 1, 'learning_rate': 0.03, 'max_depth': 4, 'min_child_weight': 1000, 'objective': 'binary:logistic', 'reg_alpha': 1, 'reg_lambda': 1, 'subsample': 0.8, 'seed': 42, 'num_round': 100, 'nthread': 1}\n",
            "\ttrain_call_kwargs_params: {'verbose_eval': True, 'num_boost_round': 100}\n",
            "\tdmatrix_kwargs: {'nthread': 1, 'missing': -99.0}\n",
            "INFO:XGBoost-PySpark:Running xgboost-3.0.5 on 4 workers with\n",
            "\tbooster params: {'colsample_bytree': 0.6, 'device': 'cpu', 'eval_metric': 'logloss', 'gamma': 1, 'learning_rate': 0.03, 'max_depth': 4, 'min_child_weight': 1000, 'objective': 'binary:logistic', 'reg_alpha': 1, 'reg_lambda': 1, 'subsample': 0.8, 'seed': 42, 'num_round': 100, 'nthread': 1}\n",
            "\ttrain_call_kwargs_params: {'verbose_eval': True, 'num_boost_round': 100}\n",
            "\tdmatrix_kwargs: {'nthread': 1, 'missing': -99.0}\n",
            "INFO:XGBoost-PySpark:Running xgboost-3.0.5 on 4 workers with\n",
            "\tbooster params: {'colsample_bytree': 0.8, 'device': 'cpu', 'eval_metric': 'logloss', 'gamma': 0.1, 'learning_rate': 0.03, 'max_depth': 4, 'min_child_weight': 1000, 'objective': 'binary:logistic', 'reg_alpha': 1, 'reg_lambda': 1, 'subsample': 0.8, 'seed': 42, 'num_round': 100, 'nthread': 1}\n",
            "\ttrain_call_kwargs_params: {'verbose_eval': True, 'num_boost_round': 100}\n",
            "\tdmatrix_kwargs: {'nthread': 1, 'missing': -99.0}\n",
            "INFO:XGBoost-PySpark:Running xgboost-3.0.5 on 4 workers with\n",
            "\tbooster params: {'colsample_bytree': 0.6, 'device': 'cpu', 'eval_metric': 'logloss', 'gamma': 0.1, 'learning_rate': 0.03, 'max_depth': 4, 'min_child_weight': 1000, 'objective': 'binary:logistic', 'reg_alpha': 1, 'reg_lambda': 1, 'subsample': 0.8, 'seed': 42, 'num_round': 100, 'nthread': 1}\n",
            "\ttrain_call_kwargs_params: {'verbose_eval': True, 'num_boost_round': 100}\n",
            "\tdmatrix_kwargs: {'nthread': 1, 'missing': -99.0}\n",
            "INFO:XGBoost-PySpark:Finished xgboost training!\n",
            "INFO:XGBoost-PySpark:Finished xgboost training!\n",
            "INFO:XGBoost-PySpark:Finished xgboost training!\n",
            "INFO:XGBoost-PySpark:Finished xgboost training!\n",
            "INFO:XGBoost-PySpark:Running xgboost-3.0.5 on 4 workers with\n",
            "\tbooster params: {'colsample_bytree': 0.6, 'device': 'cpu', 'eval_metric': 'logloss', 'gamma': 0.1, 'learning_rate': 0.05, 'max_depth': 4, 'min_child_weight': 1000, 'objective': 'binary:logistic', 'reg_alpha': 1, 'reg_lambda': 1, 'subsample': 0.8, 'seed': 42, 'num_round': 100, 'nthread': 1}\n",
            "\ttrain_call_kwargs_params: {'verbose_eval': True, 'num_boost_round': 100}\n",
            "\tdmatrix_kwargs: {'nthread': 1, 'missing': -99.0}\n",
            "INFO:XGBoost-PySpark:Running xgboost-3.0.5 on 4 workers with\n",
            "\tbooster params: {'colsample_bytree': 0.6, 'device': 'cpu', 'eval_metric': 'logloss', 'gamma': 1, 'learning_rate': 0.05, 'max_depth': 4, 'min_child_weight': 1000, 'objective': 'binary:logistic', 'reg_alpha': 1, 'reg_lambda': 1, 'subsample': 0.8, 'seed': 42, 'num_round': 100, 'nthread': 1}\n",
            "\ttrain_call_kwargs_params: {'verbose_eval': True, 'num_boost_round': 100}\n",
            "\tdmatrix_kwargs: {'nthread': 1, 'missing': -99.0}\n",
            "INFO:XGBoost-PySpark:Running xgboost-3.0.5 on 4 workers with\n",
            "\tbooster params: {'colsample_bytree': 0.8, 'device': 'cpu', 'eval_metric': 'logloss', 'gamma': 0.1, 'learning_rate': 0.05, 'max_depth': 4, 'min_child_weight': 1000, 'objective': 'binary:logistic', 'reg_alpha': 1, 'reg_lambda': 1, 'subsample': 0.8, 'seed': 42, 'num_round': 100, 'nthread': 1}\n",
            "\ttrain_call_kwargs_params: {'verbose_eval': True, 'num_boost_round': 100}\n",
            "\tdmatrix_kwargs: {'nthread': 1, 'missing': -99.0}\n",
            "INFO:XGBoost-PySpark:Running xgboost-3.0.5 on 4 workers with\n",
            "\tbooster params: {'colsample_bytree': 0.8, 'device': 'cpu', 'eval_metric': 'logloss', 'gamma': 1, 'learning_rate': 0.05, 'max_depth': 4, 'min_child_weight': 1000, 'objective': 'binary:logistic', 'reg_alpha': 1, 'reg_lambda': 1, 'subsample': 0.8, 'seed': 42, 'num_round': 100, 'nthread': 1}\n",
            "\ttrain_call_kwargs_params: {'verbose_eval': True, 'num_boost_round': 100}\n",
            "\tdmatrix_kwargs: {'nthread': 1, 'missing': -99.0}\n",
            "INFO:XGBoost-PySpark:Finished xgboost training!\n",
            "INFO:XGBoost-PySpark:Finished xgboost training!\n",
            "INFO:XGBoost-PySpark:Finished xgboost training!\n",
            "INFO:XGBoost-PySpark:Finished xgboost training!\n",
            "INFO:XGBoost-PySpark:Running xgboost-3.0.5 on 4 workers with\n",
            "\tbooster params: {'colsample_bytree': 0.6, 'device': 'cpu', 'eval_metric': 'logloss', 'gamma': 0.1, 'learning_rate': 0.03, 'max_depth': 6, 'min_child_weight': 1000, 'objective': 'binary:logistic', 'reg_alpha': 1, 'reg_lambda': 1, 'subsample': 0.8, 'seed': 42, 'num_round': 100, 'nthread': 1}\n",
            "\ttrain_call_kwargs_params: {'verbose_eval': True, 'num_boost_round': 100}\n",
            "\tdmatrix_kwargs: {'nthread': 1, 'missing': -99.0}\n",
            "INFO:XGBoost-PySpark:Running xgboost-3.0.5 on 4 workers with\n",
            "\tbooster params: {'colsample_bytree': 0.6, 'device': 'cpu', 'eval_metric': 'logloss', 'gamma': 1, 'learning_rate': 0.03, 'max_depth': 6, 'min_child_weight': 1000, 'objective': 'binary:logistic', 'reg_alpha': 1, 'reg_lambda': 1, 'subsample': 0.8, 'seed': 42, 'num_round': 100, 'nthread': 1}\n",
            "\ttrain_call_kwargs_params: {'verbose_eval': True, 'num_boost_round': 100}\n",
            "\tdmatrix_kwargs: {'nthread': 1, 'missing': -99.0}\n",
            "INFO:XGBoost-PySpark:Running xgboost-3.0.5 on 4 workers with\n",
            "\tbooster params: {'colsample_bytree': 0.8, 'device': 'cpu', 'eval_metric': 'logloss', 'gamma': 0.1, 'learning_rate': 0.03, 'max_depth': 6, 'min_child_weight': 1000, 'objective': 'binary:logistic', 'reg_alpha': 1, 'reg_lambda': 1, 'subsample': 0.8, 'seed': 42, 'num_round': 100, 'nthread': 1}\n",
            "\ttrain_call_kwargs_params: {'verbose_eval': True, 'num_boost_round': 100}\n",
            "\tdmatrix_kwargs: {'nthread': 1, 'missing': -99.0}\n",
            "INFO:XGBoost-PySpark:Running xgboost-3.0.5 on 4 workers with\n",
            "\tbooster params: {'colsample_bytree': 0.8, 'device': 'cpu', 'eval_metric': 'logloss', 'gamma': 1, 'learning_rate': 0.03, 'max_depth': 6, 'min_child_weight': 1000, 'objective': 'binary:logistic', 'reg_alpha': 1, 'reg_lambda': 1, 'subsample': 0.8, 'seed': 42, 'num_round': 100, 'nthread': 1}\n",
            "\ttrain_call_kwargs_params: {'verbose_eval': True, 'num_boost_round': 100}\n",
            "\tdmatrix_kwargs: {'nthread': 1, 'missing': -99.0}\n",
            "INFO:XGBoost-PySpark:Finished xgboost training!\n",
            "INFO:XGBoost-PySpark:Finished xgboost training!\n",
            "INFO:XGBoost-PySpark:Finished xgboost training!\n",
            "INFO:XGBoost-PySpark:Finished xgboost training!\n",
            "INFO:XGBoost-PySpark:Running xgboost-3.0.5 on 4 workers with\n",
            "\tbooster params: {'colsample_bytree': 0.6, 'device': 'cpu', 'eval_metric': 'logloss', 'gamma': 0.1, 'learning_rate': 0.05, 'max_depth': 6, 'min_child_weight': 1000, 'objective': 'binary:logistic', 'reg_alpha': 1, 'reg_lambda': 1, 'subsample': 0.8, 'seed': 42, 'num_round': 100, 'nthread': 1}\n",
            "\ttrain_call_kwargs_params: {'verbose_eval': True, 'num_boost_round': 100}\n",
            "\tdmatrix_kwargs: {'nthread': 1, 'missing': -99.0}\n",
            "INFO:XGBoost-PySpark:Running xgboost-3.0.5 on 4 workers with\n",
            "\tbooster params: {'colsample_bytree': 0.6, 'device': 'cpu', 'eval_metric': 'logloss', 'gamma': 1, 'learning_rate': 0.05, 'max_depth': 6, 'min_child_weight': 1000, 'objective': 'binary:logistic', 'reg_alpha': 1, 'reg_lambda': 1, 'subsample': 0.8, 'seed': 42, 'num_round': 100, 'nthread': 1}\n",
            "\ttrain_call_kwargs_params: {'verbose_eval': True, 'num_boost_round': 100}\n",
            "\tdmatrix_kwargs: {'nthread': 1, 'missing': -99.0}\n",
            "INFO:XGBoost-PySpark:Running xgboost-3.0.5 on 4 workers with\n",
            "\tbooster params: {'colsample_bytree': 0.8, 'device': 'cpu', 'eval_metric': 'logloss', 'gamma': 0.1, 'learning_rate': 0.05, 'max_depth': 6, 'min_child_weight': 1000, 'objective': 'binary:logistic', 'reg_alpha': 1, 'reg_lambda': 1, 'subsample': 0.8, 'seed': 42, 'num_round': 100, 'nthread': 1}\n",
            "\ttrain_call_kwargs_params: {'verbose_eval': True, 'num_boost_round': 100}\n",
            "\tdmatrix_kwargs: {'nthread': 1, 'missing': -99.0}\n",
            "INFO:XGBoost-PySpark:Running xgboost-3.0.5 on 4 workers with\n",
            "\tbooster params: {'colsample_bytree': 0.8, 'device': 'cpu', 'eval_metric': 'logloss', 'gamma': 1, 'learning_rate': 0.05, 'max_depth': 6, 'min_child_weight': 1000, 'objective': 'binary:logistic', 'reg_alpha': 1, 'reg_lambda': 1, 'subsample': 0.8, 'seed': 42, 'num_round': 100, 'nthread': 1}\n",
            "\ttrain_call_kwargs_params: {'verbose_eval': True, 'num_boost_round': 100}\n",
            "\tdmatrix_kwargs: {'nthread': 1, 'missing': -99.0}\n",
            "INFO:XGBoost-PySpark:Finished xgboost training!\n",
            "INFO:XGBoost-PySpark:Finished xgboost training!\n",
            "INFO:XGBoost-PySpark:Finished xgboost training!\n",
            "INFO:XGBoost-PySpark:Finished xgboost training!\n",
            "INFO:XGBoost-PySpark:Running xgboost-3.0.5 on 4 workers with\n",
            "\tbooster params: {'colsample_bytree': 0.6, 'device': 'cpu', 'eval_metric': 'logloss', 'gamma': 1, 'learning_rate': 0.03, 'max_depth': 4, 'min_child_weight': 1000, 'objective': 'binary:logistic', 'reg_alpha': 1, 'reg_lambda': 1, 'subsample': 0.8, 'seed': 42, 'num_round': 100, 'nthread': 1}\n",
            "\ttrain_call_kwargs_params: {'verbose_eval': True, 'num_boost_round': 100}\n",
            "\tdmatrix_kwargs: {'nthread': 1, 'missing': -99.0}\n",
            "INFO:XGBoost-PySpark:Running xgboost-3.0.5 on 4 workers with\n",
            "\tbooster params: {'colsample_bytree': 0.8, 'device': 'cpu', 'eval_metric': 'logloss', 'gamma': 1, 'learning_rate': 0.03, 'max_depth': 4, 'min_child_weight': 1000, 'objective': 'binary:logistic', 'reg_alpha': 1, 'reg_lambda': 1, 'subsample': 0.8, 'seed': 42, 'num_round': 100, 'nthread': 1}\n",
            "\ttrain_call_kwargs_params: {'verbose_eval': True, 'num_boost_round': 100}\n",
            "\tdmatrix_kwargs: {'nthread': 1, 'missing': -99.0}\n",
            "INFO:XGBoost-PySpark:Running xgboost-3.0.5 on 4 workers with\n",
            "\tbooster params: {'colsample_bytree': 0.6, 'device': 'cpu', 'eval_metric': 'logloss', 'gamma': 0.1, 'learning_rate': 0.03, 'max_depth': 4, 'min_child_weight': 1000, 'objective': 'binary:logistic', 'reg_alpha': 1, 'reg_lambda': 1, 'subsample': 0.8, 'seed': 42, 'num_round': 100, 'nthread': 1}\n",
            "\ttrain_call_kwargs_params: {'verbose_eval': True, 'num_boost_round': 100}\n",
            "\tdmatrix_kwargs: {'nthread': 1, 'missing': -99.0}\n",
            "INFO:XGBoost-PySpark:Running xgboost-3.0.5 on 4 workers with\n",
            "\tbooster params: {'colsample_bytree': 0.8, 'device': 'cpu', 'eval_metric': 'logloss', 'gamma': 0.1, 'learning_rate': 0.03, 'max_depth': 4, 'min_child_weight': 1000, 'objective': 'binary:logistic', 'reg_alpha': 1, 'reg_lambda': 1, 'subsample': 0.8, 'seed': 42, 'num_round': 100, 'nthread': 1}\n",
            "\ttrain_call_kwargs_params: {'verbose_eval': True, 'num_boost_round': 100}\n",
            "\tdmatrix_kwargs: {'nthread': 1, 'missing': -99.0}\n",
            "INFO:XGBoost-PySpark:Finished xgboost training!\n",
            "INFO:XGBoost-PySpark:Finished xgboost training!\n",
            "INFO:XGBoost-PySpark:Finished xgboost training!\n",
            "INFO:XGBoost-PySpark:Finished xgboost training!\n",
            "INFO:XGBoost-PySpark:Running xgboost-3.0.5 on 4 workers with\n",
            "\tbooster params: {'colsample_bytree': 0.6, 'device': 'cpu', 'eval_metric': 'logloss', 'gamma': 1, 'learning_rate': 0.05, 'max_depth': 4, 'min_child_weight': 1000, 'objective': 'binary:logistic', 'reg_alpha': 1, 'reg_lambda': 1, 'subsample': 0.8, 'seed': 42, 'num_round': 100, 'nthread': 1}\n",
            "\ttrain_call_kwargs_params: {'verbose_eval': True, 'num_boost_round': 100}\n",
            "\tdmatrix_kwargs: {'nthread': 1, 'missing': -99.0}\n",
            "INFO:XGBoost-PySpark:Running xgboost-3.0.5 on 4 workers with\n",
            "\tbooster params: {'colsample_bytree': 0.6, 'device': 'cpu', 'eval_metric': 'logloss', 'gamma': 0.1, 'learning_rate': 0.05, 'max_depth': 4, 'min_child_weight': 1000, 'objective': 'binary:logistic', 'reg_alpha': 1, 'reg_lambda': 1, 'subsample': 0.8, 'seed': 42, 'num_round': 100, 'nthread': 1}\n",
            "\ttrain_call_kwargs_params: {'verbose_eval': True, 'num_boost_round': 100}\n",
            "\tdmatrix_kwargs: {'nthread': 1, 'missing': -99.0}\n",
            "INFO:XGBoost-PySpark:Running xgboost-3.0.5 on 4 workers with\n",
            "\tbooster params: {'colsample_bytree': 0.8, 'device': 'cpu', 'eval_metric': 'logloss', 'gamma': 0.1, 'learning_rate': 0.05, 'max_depth': 4, 'min_child_weight': 1000, 'objective': 'binary:logistic', 'reg_alpha': 1, 'reg_lambda': 1, 'subsample': 0.8, 'seed': 42, 'num_round': 100, 'nthread': 1}\n",
            "\ttrain_call_kwargs_params: {'verbose_eval': True, 'num_boost_round': 100}\n",
            "\tdmatrix_kwargs: {'nthread': 1, 'missing': -99.0}\n",
            "INFO:XGBoost-PySpark:Running xgboost-3.0.5 on 4 workers with\n",
            "\tbooster params: {'colsample_bytree': 0.8, 'device': 'cpu', 'eval_metric': 'logloss', 'gamma': 1, 'learning_rate': 0.05, 'max_depth': 4, 'min_child_weight': 1000, 'objective': 'binary:logistic', 'reg_alpha': 1, 'reg_lambda': 1, 'subsample': 0.8, 'seed': 42, 'num_round': 100, 'nthread': 1}\n",
            "\ttrain_call_kwargs_params: {'verbose_eval': True, 'num_boost_round': 100}\n",
            "\tdmatrix_kwargs: {'nthread': 1, 'missing': -99.0}\n",
            "INFO:XGBoost-PySpark:Finished xgboost training!\n",
            "INFO:XGBoost-PySpark:Finished xgboost training!\n",
            "INFO:XGBoost-PySpark:Finished xgboost training!\n",
            "INFO:XGBoost-PySpark:Running xgboost-3.0.5 on 4 workers with\n",
            "\tbooster params: {'colsample_bytree': 0.6, 'device': 'cpu', 'eval_metric': 'logloss', 'gamma': 0.1, 'learning_rate': 0.03, 'max_depth': 6, 'min_child_weight': 1000, 'objective': 'binary:logistic', 'reg_alpha': 1, 'reg_lambda': 1, 'subsample': 0.8, 'seed': 42, 'num_round': 100, 'nthread': 1}\n",
            "\ttrain_call_kwargs_params: {'verbose_eval': True, 'num_boost_round': 100}\n",
            "\tdmatrix_kwargs: {'nthread': 1, 'missing': -99.0}\n",
            "INFO:XGBoost-PySpark:Running xgboost-3.0.5 on 4 workers with\n",
            "\tbooster params: {'colsample_bytree': 0.6, 'device': 'cpu', 'eval_metric': 'logloss', 'gamma': 1, 'learning_rate': 0.03, 'max_depth': 6, 'min_child_weight': 1000, 'objective': 'binary:logistic', 'reg_alpha': 1, 'reg_lambda': 1, 'subsample': 0.8, 'seed': 42, 'num_round': 100, 'nthread': 1}\n",
            "\ttrain_call_kwargs_params: {'verbose_eval': True, 'num_boost_round': 100}\n",
            "\tdmatrix_kwargs: {'nthread': 1, 'missing': -99.0}\n",
            "INFO:XGBoost-PySpark:Finished xgboost training!\n",
            "INFO:XGBoost-PySpark:Finished xgboost training!\n",
            "INFO:XGBoost-PySpark:Running xgboost-3.0.5 on 4 workers with\n",
            "\tbooster params: {'colsample_bytree': 0.8, 'device': 'cpu', 'eval_metric': 'logloss', 'gamma': 0.1, 'learning_rate': 0.03, 'max_depth': 6, 'min_child_weight': 1000, 'objective': 'binary:logistic', 'reg_alpha': 1, 'reg_lambda': 1, 'subsample': 0.8, 'seed': 42, 'num_round': 100, 'nthread': 1}\n",
            "\ttrain_call_kwargs_params: {'verbose_eval': True, 'num_boost_round': 100}\n",
            "\tdmatrix_kwargs: {'nthread': 1, 'missing': -99.0}\n",
            "INFO:XGBoost-PySpark:Finished xgboost training!\n",
            "INFO:XGBoost-PySpark:Running xgboost-3.0.5 on 4 workers with\n",
            "\tbooster params: {'colsample_bytree': 0.8, 'device': 'cpu', 'eval_metric': 'logloss', 'gamma': 1, 'learning_rate': 0.03, 'max_depth': 6, 'min_child_weight': 1000, 'objective': 'binary:logistic', 'reg_alpha': 1, 'reg_lambda': 1, 'subsample': 0.8, 'seed': 42, 'num_round': 100, 'nthread': 1}\n",
            "\ttrain_call_kwargs_params: {'verbose_eval': True, 'num_boost_round': 100}\n",
            "\tdmatrix_kwargs: {'nthread': 1, 'missing': -99.0}\n",
            "INFO:XGBoost-PySpark:Running xgboost-3.0.5 on 4 workers with\n",
            "\tbooster params: {'colsample_bytree': 0.6, 'device': 'cpu', 'eval_metric': 'logloss', 'gamma': 0.1, 'learning_rate': 0.05, 'max_depth': 6, 'min_child_weight': 1000, 'objective': 'binary:logistic', 'reg_alpha': 1, 'reg_lambda': 1, 'subsample': 0.8, 'seed': 42, 'num_round': 100, 'nthread': 1}\n",
            "\ttrain_call_kwargs_params: {'verbose_eval': True, 'num_boost_round': 100}\n",
            "\tdmatrix_kwargs: {'nthread': 1, 'missing': -99.0}\n",
            "INFO:XGBoost-PySpark:Running xgboost-3.0.5 on 4 workers with\n",
            "\tbooster params: {'colsample_bytree': 0.6, 'device': 'cpu', 'eval_metric': 'logloss', 'gamma': 1, 'learning_rate': 0.05, 'max_depth': 6, 'min_child_weight': 1000, 'objective': 'binary:logistic', 'reg_alpha': 1, 'reg_lambda': 1, 'subsample': 0.8, 'seed': 42, 'num_round': 100, 'nthread': 1}\n",
            "\ttrain_call_kwargs_params: {'verbose_eval': True, 'num_boost_round': 100}\n",
            "\tdmatrix_kwargs: {'nthread': 1, 'missing': -99.0}\n",
            "INFO:XGBoost-PySpark:Finished xgboost training!\n",
            "INFO:XGBoost-PySpark:Finished xgboost training!\n",
            "INFO:XGBoost-PySpark:Finished xgboost training!\n",
            "INFO:XGBoost-PySpark:Finished xgboost training!\n",
            "INFO:XGBoost-PySpark:Running xgboost-3.0.5 on 4 workers with\n",
            "\tbooster params: {'colsample_bytree': 0.8, 'device': 'cpu', 'eval_metric': 'logloss', 'gamma': 0.1, 'learning_rate': 0.05, 'max_depth': 6, 'min_child_weight': 1000, 'objective': 'binary:logistic', 'reg_alpha': 1, 'reg_lambda': 1, 'subsample': 0.8, 'seed': 42, 'num_round': 100, 'nthread': 1}\n",
            "\ttrain_call_kwargs_params: {'verbose_eval': True, 'num_boost_round': 100}\n",
            "\tdmatrix_kwargs: {'nthread': 1, 'missing': -99.0}\n",
            "INFO:XGBoost-PySpark:Running xgboost-3.0.5 on 4 workers with\n",
            "\tbooster params: {'colsample_bytree': 0.8, 'device': 'cpu', 'eval_metric': 'logloss', 'gamma': 1, 'learning_rate': 0.05, 'max_depth': 6, 'min_child_weight': 1000, 'objective': 'binary:logistic', 'reg_alpha': 1, 'reg_lambda': 1, 'subsample': 0.8, 'seed': 42, 'num_round': 100, 'nthread': 1}\n",
            "\ttrain_call_kwargs_params: {'verbose_eval': True, 'num_boost_round': 100}\n",
            "\tdmatrix_kwargs: {'nthread': 1, 'missing': -99.0}\n",
            "INFO:XGBoost-PySpark:Finished xgboost training!\n",
            "INFO:XGBoost-PySpark:Finished xgboost training!\n",
            "INFO:XGBoost-PySpark:Running xgboost-3.0.5 on 4 workers with\n",
            "\tbooster params: {'colsample_bytree': 0.8, 'device': 'cpu', 'eval_metric': 'logloss', 'gamma': 1, 'learning_rate': 0.05, 'max_depth': 6, 'min_child_weight': 1000, 'objective': 'binary:logistic', 'reg_alpha': 1, 'reg_lambda': 1, 'subsample': 0.8, 'seed': 42, 'num_round': 100, 'nthread': 1}\n",
            "\ttrain_call_kwargs_params: {'verbose_eval': True, 'num_boost_round': 100}\n",
            "\tdmatrix_kwargs: {'nthread': 1, 'missing': -99.0}\n",
            "INFO:XGBoost-PySpark:Finished xgboost training!\n"
          ]
        }
      ]
    },
    {
      "cell_type": "code",
      "source": [
        "\n",
        "print(\"========== XG Boost CV Results ==========\")\n",
        "print(f\"AUC Train: {auc_train:.4f}\")\n",
        "print(f\"AUC Test : {auc_test:.4f}\")\n",
        "print(f\"AUC OOT  : {auc_oot:.4f}\")\n",
        "print(\"------------------------------------------\")\n",
        "print(f\"KS Train : {ks_train:.4f}\")\n",
        "print(f\"KS Test  : {ks_test:.4f}\")\n",
        "print(f\"KS OOT   : {ks_oot:.4f}\")\n",
        "print(\"==========================================\")\n",
        "print()\n",
        "\n"
      ],
      "metadata": {
        "id": "D79oXfzkp6Cz",
        "colab": {
          "base_uri": "https://localhost:8080/"
        },
        "outputId": "d3add95f-aeb7-403a-c45e-6bad2cd82542"
      },
      "execution_count": 79,
      "outputs": [
        {
          "output_type": "stream",
          "name": "stdout",
          "text": [
            "========== XG Boost CV Results ==========\n",
            "AUC Train: 0.8539\n",
            "AUC Test : 0.8517\n",
            "AUC OOT  : 0.8292\n",
            "------------------------------------------\n",
            "KS Train : 0.5417\n",
            "KS Test  : 0.5406\n",
            "KS OOT   : 0.5523\n",
            "==========================================\n",
            "\n"
          ]
        }
      ]
    },
    {
      "cell_type": "code",
      "source": [
        "final_pipeline_model = cvModel.bestModel\n",
        "\n",
        "model_stage_index = len(final_pipeline_model.stages) - 1\n",
        "best_xgboost_estimator = final_pipeline_model.stages[model_stage_index]\n",
        "\n",
        "param_map = best_xgboost_estimator.extractParamMap()\n",
        "\n",
        "print(f\"--- Parâmetros Escolhidos para o Modelo XGBoost Final ---\")\n",
        "print(f\"Classe do Modelo: {best_xgboost_estimator.__class__.__name__}\\n\")\n",
        "\n",
        "for param, value in param_map.items():\n",
        "    tuned_params = ['max_depth', 'learning_rate', 'colsample_bytree', 'gamma']\n",
        "\n",
        "    if param.name in tuned_params:\n",
        "\n",
        "        print(f\"Parâmetro '{param.name}': {value}\")"
      ],
      "metadata": {
        "colab": {
          "base_uri": "https://localhost:8080/"
        },
        "id": "uiRYnTVe51O6",
        "outputId": "aaf5d13e-f7a2-4a0e-a797-f91d89e3c2cf"
      },
      "execution_count": 80,
      "outputs": [
        {
          "output_type": "stream",
          "name": "stdout",
          "text": [
            "--- Parâmetros Escolhidos para o Modelo XGBoost Final ---\n",
            "Classe do Modelo: SparkXGBClassifierModel\n",
            "\n",
            "Parâmetro 'colsample_bytree': 0.8\n",
            "Parâmetro 'gamma': 1\n",
            "Parâmetro 'learning_rate': 0.05\n",
            "Parâmetro 'max_depth': 6\n"
          ]
        }
      ]
    },
    {
      "cell_type": "code",
      "source": [
        "# ----------------------------------------------------------------------\n",
        "# 1. Extrair e Estruturar os Resultados do CrossValidator\n",
        "# ----------------------------------------------------------------------\n",
        "\n",
        "# O CrossValidator armazena as métricas médias para CADA combinação de parâmetro.\n",
        "avg_metrics = cvModel.avgMetrics\n",
        "\n",
        "# O ParamGrid armazena todas as combinações testadas.\n",
        "param_maps = cvModel.getEstimatorParamMaps()\n",
        "\n",
        "# Crie uma lista para armazenar os resultados\n",
        "results = []\n",
        "for i, metric in enumerate(avg_metrics):\n",
        "    param_map = param_maps[i]\n",
        "\n",
        "\n",
        "    # Adiciona a linha de resultados\n",
        "    results.append({\n",
        "        'max_depth': param_map.get(xgb_validation.max_depth),\n",
        "        'auc_avg': metric, # A métrica média do CV (validação)\n",
        "        'learning_rate': param_map.get(xgb_validation.learning_rate), # Usado para colorir/agrupar\n",
        "        'colsample_bytree': param_map.get(xgb_validation.colsample_bytree), # Usado para colorir/agrupar\n",
        "        'gamma': param_map.get(xgb_validation.gamma) # Usado para colorir/agrupar\n",
        "    })\n",
        "\n",
        "# Converte para DataFrame Pandas\n",
        "results_df = pd.DataFrame(results)\n",
        "\n",
        "# Agrupa e calcula a média das métricas para cada profundidade (se houver repetição)\n",
        "# Isso é importante se você testou muitas combinações.\n",
        "plot_df = results_df.groupby(['max_depth', 'learning_rate']).agg(\n",
        "    auc_medio=('auc_avg', 'mean')\n",
        ").reset_index()\n",
        "\n",
        "# ----------------------------------------------------------------------\n",
        "# 2. Plotar a Curva de Desempenho (Métrica vs. Parâmetro)\n",
        "# ----------------------------------------------------------------------\n",
        "\n",
        "fig_curva = px.line(\n",
        "    plot_df,\n",
        "    x='max_depth',              # Eixo X: Parâmetro de complexidade\n",
        "    y='auc_medio',              # Eixo Y: Métrica de validação (AUC média)\n",
        "    color='learning_rate',      # Agrupa as linhas por outro parâmetro (opcional)\n",
        "    markers=True,\n",
        "    title='Curva de Validação Cruzada: AUC vs. Profundidade Máxima (max_depth)',\n",
        "    # labels={\n",
        "    #     'max_depth': 'Profundidade Máxima da Árvore (max_depth)',\n",
        "    #     'auc_medio': 'AUC Média de Validação Cruzada',\n",
        "    #     'learning_rate': 'Taxa de Aprendizado (learning_rate)'\n",
        "    # }\n",
        ")\n",
        "\n",
        "fig_curva.update_layout(\n",
        "    xaxis = {'tickmode': 'linear'}, # Garante que max_depth seja tratado como numérico\n",
        "    hovermode=\"x unified\",\n",
        "    width=800,\n",
        "    height=600\n",
        ")\n",
        "\n",
        "fig_curva.show()\n",
        "\n",
        "plot_df = results_df.groupby(['colsample_bytree', 'gamma']).agg(\n",
        "    auc_medio=('auc_avg', 'mean')\n",
        ").reset_index()\n",
        "\n",
        "# ----------------------------------------------------------------------\n",
        "# 2. Plotar a Curva de Desempenho (Métrica vs. Parâmetro)\n",
        "# ----------------------------------------------------------------------\n",
        "\n",
        "fig_curva = px.line(\n",
        "    plot_df,\n",
        "    x='colsample_bytree',              # Eixo X: Parâmetro de complexidade\n",
        "    y='auc_medio',              # Eixo Y: Métrica de validação (AUC média)\n",
        "    color='gamma',      # Agrupa as linhas por outro parâmetro (opcional)\n",
        "    markers=True,\n",
        "    title='Curva de Validação Cruzada: AUC vs. Profundidade Máxima (colsample_bytree)',\n",
        "    # labels={\n",
        "    #     'colsample_bytree': 'Profundidade Máxima da Árvore (colsample_bytree)',\n",
        "    #     'auc_medio': 'AUC Média de Validação Cruzada',\n",
        "    #     'gamma': 'Taxa de Aprendizado (gamma)'\n",
        "    # }\n",
        ")\n",
        "\n",
        "fig_curva.update_layout(\n",
        "    xaxis = {'tickmode': 'linear'}, # Garante que max_depth seja tratado como numérico\n",
        "    hovermode=\"x unified\",\n",
        "    width=800,\n",
        "    height=600\n",
        ")\n",
        "\n",
        "fig_curva.show()"
      ],
      "metadata": {
        "colab": {
          "base_uri": "https://localhost:8080/",
          "height": 1000
        },
        "id": "6nmk4q438nav",
        "outputId": "2a34cba1-3bed-4229-f844-9c5f874de50b"
      },
      "execution_count": 82,
      "outputs": [
        {
          "output_type": "display_data",
          "data": {
            "text/html": [
              "<html>\n",
              "<head><meta charset=\"utf-8\" /></head>\n",
              "<body>\n",
              "    <div>            <script src=\"https://cdnjs.cloudflare.com/ajax/libs/mathjax/2.7.5/MathJax.js?config=TeX-AMS-MML_SVG\"></script><script type=\"text/javascript\">if (window.MathJax && window.MathJax.Hub && window.MathJax.Hub.Config) {window.MathJax.Hub.Config({SVG: {font: \"STIX-Web\"}});}</script>                <script type=\"text/javascript\">window.PlotlyConfig = {MathJaxConfig: 'local'};</script>\n",
              "        <script charset=\"utf-8\" src=\"https://cdn.plot.ly/plotly-2.35.2.min.js\"></script>                <div id=\"add74b1e-ec29-4117-b670-d45857fd79ce\" class=\"plotly-graph-div\" style=\"height:600px; width:800px;\"></div>            <script type=\"text/javascript\">                                    window.PLOTLYENV=window.PLOTLYENV || {};                                    if (document.getElementById(\"add74b1e-ec29-4117-b670-d45857fd79ce\")) {                    Plotly.newPlot(                        \"add74b1e-ec29-4117-b670-d45857fd79ce\",                        [{\"hovertemplate\":\"learning_rate=0.03\\u003cbr\\u003emax_depth=%{x}\\u003cbr\\u003eauc_medio=%{y}\\u003cextra\\u003e\\u003c\\u002fextra\\u003e\",\"legendgroup\":\"0.03\",\"line\":{\"color\":\"#636efa\",\"dash\":\"solid\"},\"marker\":{\"symbol\":\"circle\"},\"mode\":\"lines+markers\",\"name\":\"0.03\",\"orientation\":\"v\",\"showlegend\":true,\"x\":[4,6],\"xaxis\":\"x\",\"y\":[0.8392577112659516,0.8491548962357699],\"yaxis\":\"y\",\"type\":\"scatter\"},{\"hovertemplate\":\"learning_rate=0.05\\u003cbr\\u003emax_depth=%{x}\\u003cbr\\u003eauc_medio=%{y}\\u003cextra\\u003e\\u003c\\u002fextra\\u003e\",\"legendgroup\":\"0.05\",\"line\":{\"color\":\"#EF553B\",\"dash\":\"solid\"},\"marker\":{\"symbol\":\"circle\"},\"mode\":\"lines+markers\",\"name\":\"0.05\",\"orientation\":\"v\",\"showlegend\":true,\"x\":[4,6],\"xaxis\":\"x\",\"y\":[0.8444322495234463,0.8518737582895629],\"yaxis\":\"y\",\"type\":\"scatter\"}],                        {\"template\":{\"data\":{\"histogram2dcontour\":[{\"type\":\"histogram2dcontour\",\"colorbar\":{\"outlinewidth\":0,\"ticks\":\"\"},\"colorscale\":[[0.0,\"#0d0887\"],[0.1111111111111111,\"#46039f\"],[0.2222222222222222,\"#7201a8\"],[0.3333333333333333,\"#9c179e\"],[0.4444444444444444,\"#bd3786\"],[0.5555555555555556,\"#d8576b\"],[0.6666666666666666,\"#ed7953\"],[0.7777777777777778,\"#fb9f3a\"],[0.8888888888888888,\"#fdca26\"],[1.0,\"#f0f921\"]]}],\"choropleth\":[{\"type\":\"choropleth\",\"colorbar\":{\"outlinewidth\":0,\"ticks\":\"\"}}],\"histogram2d\":[{\"type\":\"histogram2d\",\"colorbar\":{\"outlinewidth\":0,\"ticks\":\"\"},\"colorscale\":[[0.0,\"#0d0887\"],[0.1111111111111111,\"#46039f\"],[0.2222222222222222,\"#7201a8\"],[0.3333333333333333,\"#9c179e\"],[0.4444444444444444,\"#bd3786\"],[0.5555555555555556,\"#d8576b\"],[0.6666666666666666,\"#ed7953\"],[0.7777777777777778,\"#fb9f3a\"],[0.8888888888888888,\"#fdca26\"],[1.0,\"#f0f921\"]]}],\"heatmap\":[{\"type\":\"heatmap\",\"colorbar\":{\"outlinewidth\":0,\"ticks\":\"\"},\"colorscale\":[[0.0,\"#0d0887\"],[0.1111111111111111,\"#46039f\"],[0.2222222222222222,\"#7201a8\"],[0.3333333333333333,\"#9c179e\"],[0.4444444444444444,\"#bd3786\"],[0.5555555555555556,\"#d8576b\"],[0.6666666666666666,\"#ed7953\"],[0.7777777777777778,\"#fb9f3a\"],[0.8888888888888888,\"#fdca26\"],[1.0,\"#f0f921\"]]}],\"heatmapgl\":[{\"type\":\"heatmapgl\",\"colorbar\":{\"outlinewidth\":0,\"ticks\":\"\"},\"colorscale\":[[0.0,\"#0d0887\"],[0.1111111111111111,\"#46039f\"],[0.2222222222222222,\"#7201a8\"],[0.3333333333333333,\"#9c179e\"],[0.4444444444444444,\"#bd3786\"],[0.5555555555555556,\"#d8576b\"],[0.6666666666666666,\"#ed7953\"],[0.7777777777777778,\"#fb9f3a\"],[0.8888888888888888,\"#fdca26\"],[1.0,\"#f0f921\"]]}],\"contourcarpet\":[{\"type\":\"contourcarpet\",\"colorbar\":{\"outlinewidth\":0,\"ticks\":\"\"}}],\"contour\":[{\"type\":\"contour\",\"colorbar\":{\"outlinewidth\":0,\"ticks\":\"\"},\"colorscale\":[[0.0,\"#0d0887\"],[0.1111111111111111,\"#46039f\"],[0.2222222222222222,\"#7201a8\"],[0.3333333333333333,\"#9c179e\"],[0.4444444444444444,\"#bd3786\"],[0.5555555555555556,\"#d8576b\"],[0.6666666666666666,\"#ed7953\"],[0.7777777777777778,\"#fb9f3a\"],[0.8888888888888888,\"#fdca26\"],[1.0,\"#f0f921\"]]}],\"surface\":[{\"type\":\"surface\",\"colorbar\":{\"outlinewidth\":0,\"ticks\":\"\"},\"colorscale\":[[0.0,\"#0d0887\"],[0.1111111111111111,\"#46039f\"],[0.2222222222222222,\"#7201a8\"],[0.3333333333333333,\"#9c179e\"],[0.4444444444444444,\"#bd3786\"],[0.5555555555555556,\"#d8576b\"],[0.6666666666666666,\"#ed7953\"],[0.7777777777777778,\"#fb9f3a\"],[0.8888888888888888,\"#fdca26\"],[1.0,\"#f0f921\"]]}],\"mesh3d\":[{\"type\":\"mesh3d\",\"colorbar\":{\"outlinewidth\":0,\"ticks\":\"\"}}],\"scatter\":[{\"fillpattern\":{\"fillmode\":\"overlay\",\"size\":10,\"solidity\":0.2},\"type\":\"scatter\"}],\"parcoords\":[{\"type\":\"parcoords\",\"line\":{\"colorbar\":{\"outlinewidth\":0,\"ticks\":\"\"}}}],\"scatterpolargl\":[{\"type\":\"scatterpolargl\",\"marker\":{\"colorbar\":{\"outlinewidth\":0,\"ticks\":\"\"}}}],\"bar\":[{\"error_x\":{\"color\":\"#2a3f5f\"},\"error_y\":{\"color\":\"#2a3f5f\"},\"marker\":{\"line\":{\"color\":\"#E5ECF6\",\"width\":0.5},\"pattern\":{\"fillmode\":\"overlay\",\"size\":10,\"solidity\":0.2}},\"type\":\"bar\"}],\"scattergeo\":[{\"type\":\"scattergeo\",\"marker\":{\"colorbar\":{\"outlinewidth\":0,\"ticks\":\"\"}}}],\"scatterpolar\":[{\"type\":\"scatterpolar\",\"marker\":{\"colorbar\":{\"outlinewidth\":0,\"ticks\":\"\"}}}],\"histogram\":[{\"marker\":{\"pattern\":{\"fillmode\":\"overlay\",\"size\":10,\"solidity\":0.2}},\"type\":\"histogram\"}],\"scattergl\":[{\"type\":\"scattergl\",\"marker\":{\"colorbar\":{\"outlinewidth\":0,\"ticks\":\"\"}}}],\"scatter3d\":[{\"type\":\"scatter3d\",\"line\":{\"colorbar\":{\"outlinewidth\":0,\"ticks\":\"\"}},\"marker\":{\"colorbar\":{\"outlinewidth\":0,\"ticks\":\"\"}}}],\"scattermapbox\":[{\"type\":\"scattermapbox\",\"marker\":{\"colorbar\":{\"outlinewidth\":0,\"ticks\":\"\"}}}],\"scatterternary\":[{\"type\":\"scatterternary\",\"marker\":{\"colorbar\":{\"outlinewidth\":0,\"ticks\":\"\"}}}],\"scattercarpet\":[{\"type\":\"scattercarpet\",\"marker\":{\"colorbar\":{\"outlinewidth\":0,\"ticks\":\"\"}}}],\"carpet\":[{\"aaxis\":{\"endlinecolor\":\"#2a3f5f\",\"gridcolor\":\"white\",\"linecolor\":\"white\",\"minorgridcolor\":\"white\",\"startlinecolor\":\"#2a3f5f\"},\"baxis\":{\"endlinecolor\":\"#2a3f5f\",\"gridcolor\":\"white\",\"linecolor\":\"white\",\"minorgridcolor\":\"white\",\"startlinecolor\":\"#2a3f5f\"},\"type\":\"carpet\"}],\"table\":[{\"cells\":{\"fill\":{\"color\":\"#EBF0F8\"},\"line\":{\"color\":\"white\"}},\"header\":{\"fill\":{\"color\":\"#C8D4E3\"},\"line\":{\"color\":\"white\"}},\"type\":\"table\"}],\"barpolar\":[{\"marker\":{\"line\":{\"color\":\"#E5ECF6\",\"width\":0.5},\"pattern\":{\"fillmode\":\"overlay\",\"size\":10,\"solidity\":0.2}},\"type\":\"barpolar\"}],\"pie\":[{\"automargin\":true,\"type\":\"pie\"}]},\"layout\":{\"autotypenumbers\":\"strict\",\"colorway\":[\"#636efa\",\"#EF553B\",\"#00cc96\",\"#ab63fa\",\"#FFA15A\",\"#19d3f3\",\"#FF6692\",\"#B6E880\",\"#FF97FF\",\"#FECB52\"],\"font\":{\"color\":\"#2a3f5f\"},\"hovermode\":\"closest\",\"hoverlabel\":{\"align\":\"left\"},\"paper_bgcolor\":\"white\",\"plot_bgcolor\":\"#E5ECF6\",\"polar\":{\"bgcolor\":\"#E5ECF6\",\"angularaxis\":{\"gridcolor\":\"white\",\"linecolor\":\"white\",\"ticks\":\"\"},\"radialaxis\":{\"gridcolor\":\"white\",\"linecolor\":\"white\",\"ticks\":\"\"}},\"ternary\":{\"bgcolor\":\"#E5ECF6\",\"aaxis\":{\"gridcolor\":\"white\",\"linecolor\":\"white\",\"ticks\":\"\"},\"baxis\":{\"gridcolor\":\"white\",\"linecolor\":\"white\",\"ticks\":\"\"},\"caxis\":{\"gridcolor\":\"white\",\"linecolor\":\"white\",\"ticks\":\"\"}},\"coloraxis\":{\"colorbar\":{\"outlinewidth\":0,\"ticks\":\"\"}},\"colorscale\":{\"sequential\":[[0.0,\"#0d0887\"],[0.1111111111111111,\"#46039f\"],[0.2222222222222222,\"#7201a8\"],[0.3333333333333333,\"#9c179e\"],[0.4444444444444444,\"#bd3786\"],[0.5555555555555556,\"#d8576b\"],[0.6666666666666666,\"#ed7953\"],[0.7777777777777778,\"#fb9f3a\"],[0.8888888888888888,\"#fdca26\"],[1.0,\"#f0f921\"]],\"sequentialminus\":[[0.0,\"#0d0887\"],[0.1111111111111111,\"#46039f\"],[0.2222222222222222,\"#7201a8\"],[0.3333333333333333,\"#9c179e\"],[0.4444444444444444,\"#bd3786\"],[0.5555555555555556,\"#d8576b\"],[0.6666666666666666,\"#ed7953\"],[0.7777777777777778,\"#fb9f3a\"],[0.8888888888888888,\"#fdca26\"],[1.0,\"#f0f921\"]],\"diverging\":[[0,\"#8e0152\"],[0.1,\"#c51b7d\"],[0.2,\"#de77ae\"],[0.3,\"#f1b6da\"],[0.4,\"#fde0ef\"],[0.5,\"#f7f7f7\"],[0.6,\"#e6f5d0\"],[0.7,\"#b8e186\"],[0.8,\"#7fbc41\"],[0.9,\"#4d9221\"],[1,\"#276419\"]]},\"xaxis\":{\"gridcolor\":\"white\",\"linecolor\":\"white\",\"ticks\":\"\",\"title\":{\"standoff\":15},\"zerolinecolor\":\"white\",\"automargin\":true,\"zerolinewidth\":2},\"yaxis\":{\"gridcolor\":\"white\",\"linecolor\":\"white\",\"ticks\":\"\",\"title\":{\"standoff\":15},\"zerolinecolor\":\"white\",\"automargin\":true,\"zerolinewidth\":2},\"scene\":{\"xaxis\":{\"backgroundcolor\":\"#E5ECF6\",\"gridcolor\":\"white\",\"linecolor\":\"white\",\"showbackground\":true,\"ticks\":\"\",\"zerolinecolor\":\"white\",\"gridwidth\":2},\"yaxis\":{\"backgroundcolor\":\"#E5ECF6\",\"gridcolor\":\"white\",\"linecolor\":\"white\",\"showbackground\":true,\"ticks\":\"\",\"zerolinecolor\":\"white\",\"gridwidth\":2},\"zaxis\":{\"backgroundcolor\":\"#E5ECF6\",\"gridcolor\":\"white\",\"linecolor\":\"white\",\"showbackground\":true,\"ticks\":\"\",\"zerolinecolor\":\"white\",\"gridwidth\":2}},\"shapedefaults\":{\"line\":{\"color\":\"#2a3f5f\"}},\"annotationdefaults\":{\"arrowcolor\":\"#2a3f5f\",\"arrowhead\":0,\"arrowwidth\":1},\"geo\":{\"bgcolor\":\"white\",\"landcolor\":\"#E5ECF6\",\"subunitcolor\":\"white\",\"showland\":true,\"showlakes\":true,\"lakecolor\":\"white\"},\"title\":{\"x\":0.05},\"mapbox\":{\"style\":\"light\"}}},\"xaxis\":{\"anchor\":\"y\",\"domain\":[0.0,1.0],\"title\":{\"text\":\"max_depth\"},\"tickmode\":\"linear\"},\"yaxis\":{\"anchor\":\"x\",\"domain\":[0.0,1.0],\"title\":{\"text\":\"auc_medio\"}},\"legend\":{\"title\":{\"text\":\"learning_rate\"},\"tracegroupgap\":0},\"title\":{\"text\":\"Curva de Validação Cruzada: AUC vs. Profundidade Máxima (max_depth)\"},\"hovermode\":\"x unified\",\"width\":800,\"height\":600},                        {\"responsive\": true}                    ).then(function(){\n",
              "                            \n",
              "var gd = document.getElementById('add74b1e-ec29-4117-b670-d45857fd79ce');\n",
              "var x = new MutationObserver(function (mutations, observer) {{\n",
              "        var display = window.getComputedStyle(gd).display;\n",
              "        if (!display || display === 'none') {{\n",
              "            console.log([gd, 'removed!']);\n",
              "            Plotly.purge(gd);\n",
              "            observer.disconnect();\n",
              "        }}\n",
              "}});\n",
              "\n",
              "// Listen for the removal of the full notebook cells\n",
              "var notebookContainer = gd.closest('#notebook-container');\n",
              "if (notebookContainer) {{\n",
              "    x.observe(notebookContainer, {childList: true});\n",
              "}}\n",
              "\n",
              "// Listen for the clearing of the current output cell\n",
              "var outputEl = gd.closest('.output');\n",
              "if (outputEl) {{\n",
              "    x.observe(outputEl, {childList: true});\n",
              "}}\n",
              "\n",
              "                        })                };                            </script>        </div>\n",
              "</body>\n",
              "</html>"
            ]
          },
          "metadata": {}
        },
        {
          "output_type": "display_data",
          "data": {
            "text/html": [
              "<html>\n",
              "<head><meta charset=\"utf-8\" /></head>\n",
              "<body>\n",
              "    <div>            <script src=\"https://cdnjs.cloudflare.com/ajax/libs/mathjax/2.7.5/MathJax.js?config=TeX-AMS-MML_SVG\"></script><script type=\"text/javascript\">if (window.MathJax && window.MathJax.Hub && window.MathJax.Hub.Config) {window.MathJax.Hub.Config({SVG: {font: \"STIX-Web\"}});}</script>                <script type=\"text/javascript\">window.PlotlyConfig = {MathJaxConfig: 'local'};</script>\n",
              "        <script charset=\"utf-8\" src=\"https://cdn.plot.ly/plotly-2.35.2.min.js\"></script>                <div id=\"4b00535f-1403-4ce0-97d4-af8bc85aabf5\" class=\"plotly-graph-div\" style=\"height:600px; width:800px;\"></div>            <script type=\"text/javascript\">                                    window.PLOTLYENV=window.PLOTLYENV || {};                                    if (document.getElementById(\"4b00535f-1403-4ce0-97d4-af8bc85aabf5\")) {                    Plotly.newPlot(                        \"4b00535f-1403-4ce0-97d4-af8bc85aabf5\",                        [{\"hovertemplate\":\"gamma=0.1\\u003cbr\\u003ecolsample_bytree=%{x}\\u003cbr\\u003eauc_medio=%{y}\\u003cextra\\u003e\\u003c\\u002fextra\\u003e\",\"legendgroup\":\"0.1\",\"line\":{\"color\":\"#636efa\",\"dash\":\"solid\"},\"marker\":{\"symbol\":\"circle\"},\"mode\":\"lines+markers\",\"name\":\"0.1\",\"orientation\":\"v\",\"showlegend\":true,\"x\":[0.6,0.8],\"xaxis\":\"x\",\"y\":[0.846070219829445,0.846278234208908],\"yaxis\":\"y\",\"type\":\"scatter\"},{\"hovertemplate\":\"gamma=1.0\\u003cbr\\u003ecolsample_bytree=%{x}\\u003cbr\\u003eauc_medio=%{y}\\u003cextra\\u003e\\u003c\\u002fextra\\u003e\",\"legendgroup\":\"1.0\",\"line\":{\"color\":\"#EF553B\",\"dash\":\"solid\"},\"marker\":{\"symbol\":\"circle\"},\"mode\":\"lines+markers\",\"name\":\"1.0\",\"orientation\":\"v\",\"showlegend\":true,\"x\":[0.6,0.8],\"xaxis\":\"x\",\"y\":[0.8460803762408893,0.8462897850354885],\"yaxis\":\"y\",\"type\":\"scatter\"}],                        {\"template\":{\"data\":{\"histogram2dcontour\":[{\"type\":\"histogram2dcontour\",\"colorbar\":{\"outlinewidth\":0,\"ticks\":\"\"},\"colorscale\":[[0.0,\"#0d0887\"],[0.1111111111111111,\"#46039f\"],[0.2222222222222222,\"#7201a8\"],[0.3333333333333333,\"#9c179e\"],[0.4444444444444444,\"#bd3786\"],[0.5555555555555556,\"#d8576b\"],[0.6666666666666666,\"#ed7953\"],[0.7777777777777778,\"#fb9f3a\"],[0.8888888888888888,\"#fdca26\"],[1.0,\"#f0f921\"]]}],\"choropleth\":[{\"type\":\"choropleth\",\"colorbar\":{\"outlinewidth\":0,\"ticks\":\"\"}}],\"histogram2d\":[{\"type\":\"histogram2d\",\"colorbar\":{\"outlinewidth\":0,\"ticks\":\"\"},\"colorscale\":[[0.0,\"#0d0887\"],[0.1111111111111111,\"#46039f\"],[0.2222222222222222,\"#7201a8\"],[0.3333333333333333,\"#9c179e\"],[0.4444444444444444,\"#bd3786\"],[0.5555555555555556,\"#d8576b\"],[0.6666666666666666,\"#ed7953\"],[0.7777777777777778,\"#fb9f3a\"],[0.8888888888888888,\"#fdca26\"],[1.0,\"#f0f921\"]]}],\"heatmap\":[{\"type\":\"heatmap\",\"colorbar\":{\"outlinewidth\":0,\"ticks\":\"\"},\"colorscale\":[[0.0,\"#0d0887\"],[0.1111111111111111,\"#46039f\"],[0.2222222222222222,\"#7201a8\"],[0.3333333333333333,\"#9c179e\"],[0.4444444444444444,\"#bd3786\"],[0.5555555555555556,\"#d8576b\"],[0.6666666666666666,\"#ed7953\"],[0.7777777777777778,\"#fb9f3a\"],[0.8888888888888888,\"#fdca26\"],[1.0,\"#f0f921\"]]}],\"heatmapgl\":[{\"type\":\"heatmapgl\",\"colorbar\":{\"outlinewidth\":0,\"ticks\":\"\"},\"colorscale\":[[0.0,\"#0d0887\"],[0.1111111111111111,\"#46039f\"],[0.2222222222222222,\"#7201a8\"],[0.3333333333333333,\"#9c179e\"],[0.4444444444444444,\"#bd3786\"],[0.5555555555555556,\"#d8576b\"],[0.6666666666666666,\"#ed7953\"],[0.7777777777777778,\"#fb9f3a\"],[0.8888888888888888,\"#fdca26\"],[1.0,\"#f0f921\"]]}],\"contourcarpet\":[{\"type\":\"contourcarpet\",\"colorbar\":{\"outlinewidth\":0,\"ticks\":\"\"}}],\"contour\":[{\"type\":\"contour\",\"colorbar\":{\"outlinewidth\":0,\"ticks\":\"\"},\"colorscale\":[[0.0,\"#0d0887\"],[0.1111111111111111,\"#46039f\"],[0.2222222222222222,\"#7201a8\"],[0.3333333333333333,\"#9c179e\"],[0.4444444444444444,\"#bd3786\"],[0.5555555555555556,\"#d8576b\"],[0.6666666666666666,\"#ed7953\"],[0.7777777777777778,\"#fb9f3a\"],[0.8888888888888888,\"#fdca26\"],[1.0,\"#f0f921\"]]}],\"surface\":[{\"type\":\"surface\",\"colorbar\":{\"outlinewidth\":0,\"ticks\":\"\"},\"colorscale\":[[0.0,\"#0d0887\"],[0.1111111111111111,\"#46039f\"],[0.2222222222222222,\"#7201a8\"],[0.3333333333333333,\"#9c179e\"],[0.4444444444444444,\"#bd3786\"],[0.5555555555555556,\"#d8576b\"],[0.6666666666666666,\"#ed7953\"],[0.7777777777777778,\"#fb9f3a\"],[0.8888888888888888,\"#fdca26\"],[1.0,\"#f0f921\"]]}],\"mesh3d\":[{\"type\":\"mesh3d\",\"colorbar\":{\"outlinewidth\":0,\"ticks\":\"\"}}],\"scatter\":[{\"fillpattern\":{\"fillmode\":\"overlay\",\"size\":10,\"solidity\":0.2},\"type\":\"scatter\"}],\"parcoords\":[{\"type\":\"parcoords\",\"line\":{\"colorbar\":{\"outlinewidth\":0,\"ticks\":\"\"}}}],\"scatterpolargl\":[{\"type\":\"scatterpolargl\",\"marker\":{\"colorbar\":{\"outlinewidth\":0,\"ticks\":\"\"}}}],\"bar\":[{\"error_x\":{\"color\":\"#2a3f5f\"},\"error_y\":{\"color\":\"#2a3f5f\"},\"marker\":{\"line\":{\"color\":\"#E5ECF6\",\"width\":0.5},\"pattern\":{\"fillmode\":\"overlay\",\"size\":10,\"solidity\":0.2}},\"type\":\"bar\"}],\"scattergeo\":[{\"type\":\"scattergeo\",\"marker\":{\"colorbar\":{\"outlinewidth\":0,\"ticks\":\"\"}}}],\"scatterpolar\":[{\"type\":\"scatterpolar\",\"marker\":{\"colorbar\":{\"outlinewidth\":0,\"ticks\":\"\"}}}],\"histogram\":[{\"marker\":{\"pattern\":{\"fillmode\":\"overlay\",\"size\":10,\"solidity\":0.2}},\"type\":\"histogram\"}],\"scattergl\":[{\"type\":\"scattergl\",\"marker\":{\"colorbar\":{\"outlinewidth\":0,\"ticks\":\"\"}}}],\"scatter3d\":[{\"type\":\"scatter3d\",\"line\":{\"colorbar\":{\"outlinewidth\":0,\"ticks\":\"\"}},\"marker\":{\"colorbar\":{\"outlinewidth\":0,\"ticks\":\"\"}}}],\"scattermapbox\":[{\"type\":\"scattermapbox\",\"marker\":{\"colorbar\":{\"outlinewidth\":0,\"ticks\":\"\"}}}],\"scatterternary\":[{\"type\":\"scatterternary\",\"marker\":{\"colorbar\":{\"outlinewidth\":0,\"ticks\":\"\"}}}],\"scattercarpet\":[{\"type\":\"scattercarpet\",\"marker\":{\"colorbar\":{\"outlinewidth\":0,\"ticks\":\"\"}}}],\"carpet\":[{\"aaxis\":{\"endlinecolor\":\"#2a3f5f\",\"gridcolor\":\"white\",\"linecolor\":\"white\",\"minorgridcolor\":\"white\",\"startlinecolor\":\"#2a3f5f\"},\"baxis\":{\"endlinecolor\":\"#2a3f5f\",\"gridcolor\":\"white\",\"linecolor\":\"white\",\"minorgridcolor\":\"white\",\"startlinecolor\":\"#2a3f5f\"},\"type\":\"carpet\"}],\"table\":[{\"cells\":{\"fill\":{\"color\":\"#EBF0F8\"},\"line\":{\"color\":\"white\"}},\"header\":{\"fill\":{\"color\":\"#C8D4E3\"},\"line\":{\"color\":\"white\"}},\"type\":\"table\"}],\"barpolar\":[{\"marker\":{\"line\":{\"color\":\"#E5ECF6\",\"width\":0.5},\"pattern\":{\"fillmode\":\"overlay\",\"size\":10,\"solidity\":0.2}},\"type\":\"barpolar\"}],\"pie\":[{\"automargin\":true,\"type\":\"pie\"}]},\"layout\":{\"autotypenumbers\":\"strict\",\"colorway\":[\"#636efa\",\"#EF553B\",\"#00cc96\",\"#ab63fa\",\"#FFA15A\",\"#19d3f3\",\"#FF6692\",\"#B6E880\",\"#FF97FF\",\"#FECB52\"],\"font\":{\"color\":\"#2a3f5f\"},\"hovermode\":\"closest\",\"hoverlabel\":{\"align\":\"left\"},\"paper_bgcolor\":\"white\",\"plot_bgcolor\":\"#E5ECF6\",\"polar\":{\"bgcolor\":\"#E5ECF6\",\"angularaxis\":{\"gridcolor\":\"white\",\"linecolor\":\"white\",\"ticks\":\"\"},\"radialaxis\":{\"gridcolor\":\"white\",\"linecolor\":\"white\",\"ticks\":\"\"}},\"ternary\":{\"bgcolor\":\"#E5ECF6\",\"aaxis\":{\"gridcolor\":\"white\",\"linecolor\":\"white\",\"ticks\":\"\"},\"baxis\":{\"gridcolor\":\"white\",\"linecolor\":\"white\",\"ticks\":\"\"},\"caxis\":{\"gridcolor\":\"white\",\"linecolor\":\"white\",\"ticks\":\"\"}},\"coloraxis\":{\"colorbar\":{\"outlinewidth\":0,\"ticks\":\"\"}},\"colorscale\":{\"sequential\":[[0.0,\"#0d0887\"],[0.1111111111111111,\"#46039f\"],[0.2222222222222222,\"#7201a8\"],[0.3333333333333333,\"#9c179e\"],[0.4444444444444444,\"#bd3786\"],[0.5555555555555556,\"#d8576b\"],[0.6666666666666666,\"#ed7953\"],[0.7777777777777778,\"#fb9f3a\"],[0.8888888888888888,\"#fdca26\"],[1.0,\"#f0f921\"]],\"sequentialminus\":[[0.0,\"#0d0887\"],[0.1111111111111111,\"#46039f\"],[0.2222222222222222,\"#7201a8\"],[0.3333333333333333,\"#9c179e\"],[0.4444444444444444,\"#bd3786\"],[0.5555555555555556,\"#d8576b\"],[0.6666666666666666,\"#ed7953\"],[0.7777777777777778,\"#fb9f3a\"],[0.8888888888888888,\"#fdca26\"],[1.0,\"#f0f921\"]],\"diverging\":[[0,\"#8e0152\"],[0.1,\"#c51b7d\"],[0.2,\"#de77ae\"],[0.3,\"#f1b6da\"],[0.4,\"#fde0ef\"],[0.5,\"#f7f7f7\"],[0.6,\"#e6f5d0\"],[0.7,\"#b8e186\"],[0.8,\"#7fbc41\"],[0.9,\"#4d9221\"],[1,\"#276419\"]]},\"xaxis\":{\"gridcolor\":\"white\",\"linecolor\":\"white\",\"ticks\":\"\",\"title\":{\"standoff\":15},\"zerolinecolor\":\"white\",\"automargin\":true,\"zerolinewidth\":2},\"yaxis\":{\"gridcolor\":\"white\",\"linecolor\":\"white\",\"ticks\":\"\",\"title\":{\"standoff\":15},\"zerolinecolor\":\"white\",\"automargin\":true,\"zerolinewidth\":2},\"scene\":{\"xaxis\":{\"backgroundcolor\":\"#E5ECF6\",\"gridcolor\":\"white\",\"linecolor\":\"white\",\"showbackground\":true,\"ticks\":\"\",\"zerolinecolor\":\"white\",\"gridwidth\":2},\"yaxis\":{\"backgroundcolor\":\"#E5ECF6\",\"gridcolor\":\"white\",\"linecolor\":\"white\",\"showbackground\":true,\"ticks\":\"\",\"zerolinecolor\":\"white\",\"gridwidth\":2},\"zaxis\":{\"backgroundcolor\":\"#E5ECF6\",\"gridcolor\":\"white\",\"linecolor\":\"white\",\"showbackground\":true,\"ticks\":\"\",\"zerolinecolor\":\"white\",\"gridwidth\":2}},\"shapedefaults\":{\"line\":{\"color\":\"#2a3f5f\"}},\"annotationdefaults\":{\"arrowcolor\":\"#2a3f5f\",\"arrowhead\":0,\"arrowwidth\":1},\"geo\":{\"bgcolor\":\"white\",\"landcolor\":\"#E5ECF6\",\"subunitcolor\":\"white\",\"showland\":true,\"showlakes\":true,\"lakecolor\":\"white\"},\"title\":{\"x\":0.05},\"mapbox\":{\"style\":\"light\"}}},\"xaxis\":{\"anchor\":\"y\",\"domain\":[0.0,1.0],\"title\":{\"text\":\"colsample_bytree\"},\"tickmode\":\"linear\"},\"yaxis\":{\"anchor\":\"x\",\"domain\":[0.0,1.0],\"title\":{\"text\":\"auc_medio\"}},\"legend\":{\"title\":{\"text\":\"gamma\"},\"tracegroupgap\":0},\"title\":{\"text\":\"Curva de Validação Cruzada: AUC vs. Profundidade Máxima (colsample_bytree)\"},\"hovermode\":\"x unified\",\"width\":800,\"height\":600},                        {\"responsive\": true}                    ).then(function(){\n",
              "                            \n",
              "var gd = document.getElementById('4b00535f-1403-4ce0-97d4-af8bc85aabf5');\n",
              "var x = new MutationObserver(function (mutations, observer) {{\n",
              "        var display = window.getComputedStyle(gd).display;\n",
              "        if (!display || display === 'none') {{\n",
              "            console.log([gd, 'removed!']);\n",
              "            Plotly.purge(gd);\n",
              "            observer.disconnect();\n",
              "        }}\n",
              "}});\n",
              "\n",
              "// Listen for the removal of the full notebook cells\n",
              "var notebookContainer = gd.closest('#notebook-container');\n",
              "if (notebookContainer) {{\n",
              "    x.observe(notebookContainer, {childList: true});\n",
              "}}\n",
              "\n",
              "// Listen for the clearing of the current output cell\n",
              "var outputEl = gd.closest('.output');\n",
              "if (outputEl) {{\n",
              "    x.observe(outputEl, {childList: true});\n",
              "}}\n",
              "\n",
              "                        })                };                            </script>        </div>\n",
              "</body>\n",
              "</html>"
            ]
          },
          "metadata": {}
        }
      ]
    },
    {
      "cell_type": "markdown",
      "source": [
        "# 9. Treinando e salvando modelo final"
      ],
      "metadata": {
        "id": "ly_mPVbMk5Kg"
      }
    },
    {
      "cell_type": "code",
      "source": [
        "\n",
        "xgb_v2 = SparkXGBClassifier(\n",
        "    label_col=\"churn_m3\",          # target\n",
        "    features_col=\"features\",       # vetor de features\n",
        "    weight_col=\"classWeight\",      # corrige desbalanceamento\n",
        "    seed=42,\n",
        "\n",
        "    min_child_weight=1000,           # tamanho mínimo de amostra em cada folha (similar ao minInstancesPerNode)\n",
        "    subsample=0.8,                 # amostragem de linhas\n",
        "    num_round=100,                 # número de boosting rounds (similar a numTrees)\n",
        "\n",
        "    eval_metric=\"auc\",              # métrica de avaliação (pode trocar para \"logloss\")\n",
        "\n",
        "    colsample_bytree=0.8,\n",
        "    gamma=1,\n",
        "    eta=0.05,\n",
        "    max_depth=6,\n",
        "\n",
        "    num_workers=4,\n",
        "    missing=-99\n",
        ")\n",
        "\n",
        "preds_xgb_v2, oot_xgb_v2, trained_xgb_v2 = model_training(xgb_v2, pipe_xgb, full_df_train, full_df_test, full_df_oot)"
      ],
      "metadata": {
        "colab": {
          "base_uri": "https://localhost:8080/"
        },
        "id": "TMzB43-ubdLH",
        "outputId": "eb6f8cef-1d1d-46ff-aa4f-823558fb79aa"
      },
      "execution_count": 137,
      "outputs": [
        {
          "output_type": "stream",
          "name": "stderr",
          "text": [
            "INFO:XGBoost-PySpark:Running xgboost-3.0.5 on 4 workers with\n",
            "\tbooster params: {'objective': 'binary:logistic', 'colsample_bytree': 0.8, 'device': 'cpu', 'eval_metric': 'auc', 'gamma': 1, 'max_depth': 6, 'min_child_weight': 1000, 'subsample': 0.8, 'seed': 42, 'num_round': 100, 'eta': 0.05, 'nthread': 1}\n",
            "\ttrain_call_kwargs_params: {'verbose_eval': True, 'num_boost_round': 100}\n",
            "\tdmatrix_kwargs: {'nthread': 1, 'missing': -99.0}\n",
            "INFO:XGBoost-PySpark:Finished xgboost training!\n"
          ]
        },
        {
          "output_type": "stream",
          "name": "stdout",
          "text": [
            "============ SparkXGBClassifier ============\n",
            "AUC train : 0.8516\n",
            "AUC test : 0.8492\n",
            "------------------------------------------------------------\n",
            "KS train : 0.5369\n",
            "KS test : 0.5346\n",
            "============================================================\n",
            "AUC OOT : 0.8256\n",
            "KS OOT : 0.5498\n",
            "============================================================\n"
          ]
        }
      ]
    },
    {
      "cell_type": "code",
      "source": [
        "# 1. Definir o caminho de salvamento\n",
        "# Use um caminho persistente (ex: Google Drive)\n",
        "model_save_path = \"/content/drive/MyDrive/xgboost_final\""
      ],
      "metadata": {
        "id": "n9GoOKZ-3YLN"
      },
      "execution_count": 9,
      "outputs": []
    },
    {
      "cell_type": "code",
      "source": [
        "# 2. Salvar o modelo\n",
        "try:\n",
        "    # Use o método write() na instância do modelo treinado\n",
        "    trained_xgb_v2.write().overwrite().save(model_save_path)\n",
        "    print(f\"\\n✅ Modelo XGBoost salvo com sucesso em:\")\n",
        "    print(f\"   {model_save_path}\")\n",
        "\n",
        "except Exception as e:\n",
        "    print(f\"\\n❌ ERRO ao salvar: {e}\")\n",
        "    print(\"Verifique se o Google Drive está montado e se o caminho é válido.\")\n"
      ],
      "metadata": {
        "colab": {
          "base_uri": "https://localhost:8080/"
        },
        "id": "24zZgcerh0Tq",
        "outputId": "db44e0e8-0c58-4927-8c2d-25b341f2587d"
      },
      "execution_count": 101,
      "outputs": [
        {
          "output_type": "stream",
          "name": "stdout",
          "text": [
            "\n",
            "✅ Modelo XGBoost salvo com sucesso em:\n",
            "   /content/drive/MyDrive/xgboost_final\n"
          ]
        }
      ]
    },
    {
      "cell_type": "code",
      "source": [
        "from pyspark.ml import PipelineModel\n",
        "\n",
        "try:\n",
        "    # 3. Carregar o modelo\n",
        "    # Você usa a classe Estimadora (SparkXGBClassifier) para carregar o modelo treinado\n",
        "    loaded_model = PipelineModel.load(model_save_path)\n",
        "    print(\"\\n✅ Modelo carregado com sucesso!\")\n",
        "\n",
        "    # 4. Exemplo de Uso\n",
        "    # predictions = loaded_model.transform(df_dados_novos)\n",
        "    # predictions.show(5)\n",
        "\n",
        "except Exception as e:\n",
        "    print(f\"\\n❌ ERRO ao carregar o modelo: {e}\")"
      ],
      "metadata": {
        "colab": {
          "base_uri": "https://localhost:8080/"
        },
        "id": "LLWUmuzX3Tgx",
        "outputId": "a0f15e6f-72d1-42e8-c934-8c5db1144b3b"
      },
      "execution_count": 10,
      "outputs": [
        {
          "output_type": "stream",
          "name": "stdout",
          "text": [
            "\n",
            "✅ Modelo carregado com sucesso!\n"
          ]
        }
      ]
    },
    {
      "cell_type": "code",
      "source": [
        "oot_xgb_v2 = loaded_model.transform(full_df_oot)\n",
        "preds_xgb_v2 = loaded_model.transform(full_df_test)\n",
        "train_xgb_v2 = loaded_model.transform(full_df_train)"
      ],
      "metadata": {
        "id": "jN0lgNaFJXaq"
      },
      "execution_count": 16,
      "outputs": []
    },
    {
      "cell_type": "markdown",
      "source": [
        "# 10. Avaliando Threshold\n",
        "\n",
        "\n",
        "Dado com premissa que o cliente após receber uma promoção proativa de 3 meses, ele ficará ao menos 12 meses ativos  <br>\n",
        "\n",
        "Teríamos que:\n",
        "1. Cliente que recebeu a oferta, mas não iria sair - Perdemos 3 meses de assinatura (Falso positivo)\n",
        "2. Cliente que recebeu a oferta e sairia - O mantém por mais 9 meses além dos 3 meses grátis. Totalizando ao menos 12 meses (Verdadeiro positivo)\n",
        "3. Cliente que não sairia e não recebeu a oferta - Não se ganha nem se perde nada (Verdadeiro negativo)\n",
        "4. Cliente que sairia e não recebeu a oferta - Se o cliente recebesse a oferta poderia-se ganhar 9 meses de assinatura - Custo de oportunidade (Falso negativo)\n",
        "\n",
        "\n",
        "\n",
        "<pre>\n",
        "Resumo da Matriz de Lucro por Cliente:\n",
        "\n",
        "Previsão/Real        Fica\t    Sai\n",
        "          Fica\t     TN 0\t    FP -3M\n",
        "          Sai        FN 0\t    TP (12M -3M)/2\n",
        "</pre>\n",
        "\n"
      ],
      "metadata": {
        "id": "FdjyW2oqw8fr"
      }
    },
    {
      "cell_type": "code",
      "source": [
        "md_paid = full_df_oot_orig.select(F.median('actual_amount_paid')).collect()[0][0]"
      ],
      "metadata": {
        "id": "E-uPS3AYHerW"
      },
      "execution_count": 14,
      "outputs": []
    },
    {
      "cell_type": "code",
      "source": [
        "from pyspark.ml.regression import IsotonicRegression\n",
        "\n",
        "\n",
        "# -----------------------------\n",
        "# 2. Pegue a probabilidade do churn (classe 1)\n",
        "# -----------------------------\n",
        "preds = train_xgb_v2.withColumn(\"p1\", vector_to_array(\"probability\").getItem(1))\n",
        "\n",
        "# -----------------------------\n",
        "# 3. Treine o calibrador monotônico (Isotonic Regression)\n",
        "# -----------------------------\n",
        "# IsotonicRegression espera features em vetor de 1 dimensão\n",
        "assembler = VectorAssembler(inputCols=[\"p1\"], outputCol=\"p1_vec\")\n",
        "preds = assembler.transform(preds)\n",
        "\n",
        "iso = IsotonicRegression(\n",
        "    featuresCol=\"p1_vec\",\n",
        "    labelCol=\"churn_m3\",\n",
        "    predictionCol=\"p1_calibrated\"\n",
        ")\n",
        "\n",
        "iso_model = iso.fit(preds)\n",
        "\n",
        "# -----------------------------\n",
        "# 4. Aplique a calibração em train/test\n",
        "# -----------------------------\n",
        "train_calibrated = iso_model.transform(preds)\n",
        "\n",
        "test_preds = preds_xgb_v2.withColumn(\"p1\", vector_to_array(\"probability\").getItem(1))\n",
        "test_preds = assembler.transform(test_preds)\n",
        "test_calibrated = iso_model.transform(test_preds)\n",
        "\n",
        "# Agora você tem a coluna \"p1_calibrated\" = probabilidade calibrada\n"
      ],
      "metadata": {
        "id": "uLkzG3WJ0MTh"
      },
      "execution_count": 18,
      "outputs": []
    },
    {
      "cell_type": "code",
      "source": [
        "\n",
        "oot_preds = oot_xgb_v2.withColumn(\"p1\", vector_to_array(\"probability\").getItem(1))\n",
        "oot_preds = assembler.transform(oot_preds)\n",
        "oot_calibrated = iso_model.transform(oot_preds)"
      ],
      "metadata": {
        "id": "WpzN9BXo1xj1"
      },
      "execution_count": 19,
      "outputs": []
    },
    {
      "cell_type": "code",
      "source": [
        "# -----------------------------\n",
        "# 1. Criação dos bins\n",
        "# -----------------------------\n",
        "nbins = 10\n",
        "\n",
        "# Antes da calibração\n",
        "calib_df_before = (\n",
        "    oot_calibrated\n",
        "    .withColumn(\"bin_before\", F.ntile(nbins).over(W.orderBy(\"p1\")))\n",
        "    .groupBy(\"bin_before\")\n",
        "    .agg(\n",
        "        F.avg(\"p1\").alias(\"avg_pred\"),\n",
        "        F.avg(\"churn_m3\").alias(\"avg_real\")\n",
        "    )\n",
        "    .orderBy(\"bin_before\")\n",
        "    .toPandas()\n",
        ")\n",
        "\n",
        "# Depois da calibração\n",
        "calib_df_after = (\n",
        "    oot_calibrated\n",
        "    .withColumn(\"bin_after\", F.ntile(nbins).over(W.orderBy(\"p1_calibrated\")))\n",
        "    .groupBy(\"bin_after\")\n",
        "    .agg(\n",
        "        F.avg(\"p1_calibrated\").alias(\"avg_pred_cal\"),\n",
        "        F.avg(\"churn_m3\").alias(\"avg_real_cal\")\n",
        "    )\n",
        "    .orderBy(\"bin_after\")\n",
        "    .toPandas()\n",
        ")\n",
        "\n",
        "# -----------------------------\n",
        "# 2. Plot com Plotly\n",
        "# -----------------------------\n",
        "fig = go.Figure()\n",
        "\n",
        "# Linha ideal (perfeito: previsto = real)\n",
        "fig.add_trace(go.Scatter(\n",
        "    x=[0,1], y=[0,1],\n",
        "    mode=\"lines\",\n",
        "    name=\"Ideal\",\n",
        "    line=dict(color=\"black\", dash=\"dash\")\n",
        "))\n",
        "\n",
        "# Antes da calibração\n",
        "fig.add_trace(go.Scatter(\n",
        "    x=calib_df_before[\"avg_pred\"],\n",
        "    y=calib_df_before[\"avg_real\"],\n",
        "    mode=\"lines+markers\",\n",
        "    name=\"Antes calibração\",\n",
        "    line=dict(color=\"red\")\n",
        "))\n",
        "\n",
        "# Depois da calibração\n",
        "fig.add_trace(go.Scatter(\n",
        "    x=calib_df_after[\"avg_pred_cal\"],\n",
        "    y=calib_df_after[\"avg_real_cal\"],\n",
        "    mode=\"lines+markers\",\n",
        "    name=\"Depois calibração\",\n",
        "    line=dict(color=\"blue\")\n",
        "))\n",
        "\n",
        "# Layout\n",
        "fig.update_layout(\n",
        "    title=\"Calibration Plot (Antes vs Depois da Isotonic Regression)\",\n",
        "    xaxis_title=\"Probabilidade prevista\",\n",
        "    yaxis_title=\"Taxa real de churn\",\n",
        "    template=\"plotly_white\",\n",
        "    width=800,\n",
        "    height=700\n",
        ")\n",
        "\n",
        "fig.show()\n"
      ],
      "metadata": {
        "colab": {
          "base_uri": "https://localhost:8080/",
          "height": 617
        },
        "id": "lqy1AWeQ1z9a",
        "outputId": "23329863-a487-4c2d-a859-3a602a07e859"
      },
      "execution_count": 23,
      "outputs": [
        {
          "output_type": "display_data",
          "data": {
            "text/html": [
              "<html>\n",
              "<head><meta charset=\"utf-8\" /></head>\n",
              "<body>\n",
              "    <div>            <script src=\"https://cdnjs.cloudflare.com/ajax/libs/mathjax/2.7.5/MathJax.js?config=TeX-AMS-MML_SVG\"></script><script type=\"text/javascript\">if (window.MathJax && window.MathJax.Hub && window.MathJax.Hub.Config) {window.MathJax.Hub.Config({SVG: {font: \"STIX-Web\"}});}</script>                <script type=\"text/javascript\">window.PlotlyConfig = {MathJaxConfig: 'local'};</script>\n",
              "        <script charset=\"utf-8\" src=\"https://cdn.plot.ly/plotly-2.35.2.min.js\"></script>                <div id=\"c58b7e01-b36c-40cc-9e55-dc507ff9740a\" class=\"plotly-graph-div\" style=\"height:600px; width:800px;\"></div>            <script type=\"text/javascript\">                                    window.PLOTLYENV=window.PLOTLYENV || {};                                    if (document.getElementById(\"c58b7e01-b36c-40cc-9e55-dc507ff9740a\")) {                    Plotly.newPlot(                        \"c58b7e01-b36c-40cc-9e55-dc507ff9740a\",                        [{\"line\":{\"color\":\"black\",\"dash\":\"dash\"},\"mode\":\"lines\",\"name\":\"Ideal\",\"x\":[0,1],\"y\":[0,1],\"type\":\"scatter\"},{\"line\":{\"color\":\"red\"},\"mode\":\"lines+markers\",\"name\":\"Antes calibração\",\"x\":[0.027449617018736487,0.041859834757716416,0.12218293643872898,0.183384929518225,0.23131126496513493,0.3035500946590417,0.4464416799036074,0.6002499393153412,0.7037110486647306,0.8948790716099642],\"y\":[0.009170868290505514,0.010854899414647012,0.01577527086799497,0.024195511910075882,0.028223024794059165,0.040640344113947166,0.09618350038550501,0.23358560240230491,0.28319401046950454,0.34251105790691067],\"type\":\"scatter\"},{\"line\":{\"color\":\"blue\"},\"mode\":\"lines+markers\",\"name\":\"Depois calibração\",\"x\":[0.0023697473776076285,0.005171988221470442,0.016848443868335693,0.02953302831953073,0.03908583700185837,0.05674187892181094,0.11002895768846112,0.187873371845826,0.29407934599801205,0.6887594131185854],\"y\":[0.009343329309242896,0.010611425035253062,0.015805705474171164,0.022846244369597857,0.029379539828754617,0.04094469017570913,0.09617335551677961,0.23344357424014933,0.28326502455058233,0.3425212027756361],\"type\":\"scatter\"}],                        {\"template\":{\"data\":{\"barpolar\":[{\"marker\":{\"line\":{\"color\":\"white\",\"width\":0.5},\"pattern\":{\"fillmode\":\"overlay\",\"size\":10,\"solidity\":0.2}},\"type\":\"barpolar\"}],\"bar\":[{\"error_x\":{\"color\":\"#2a3f5f\"},\"error_y\":{\"color\":\"#2a3f5f\"},\"marker\":{\"line\":{\"color\":\"white\",\"width\":0.5},\"pattern\":{\"fillmode\":\"overlay\",\"size\":10,\"solidity\":0.2}},\"type\":\"bar\"}],\"carpet\":[{\"aaxis\":{\"endlinecolor\":\"#2a3f5f\",\"gridcolor\":\"#C8D4E3\",\"linecolor\":\"#C8D4E3\",\"minorgridcolor\":\"#C8D4E3\",\"startlinecolor\":\"#2a3f5f\"},\"baxis\":{\"endlinecolor\":\"#2a3f5f\",\"gridcolor\":\"#C8D4E3\",\"linecolor\":\"#C8D4E3\",\"minorgridcolor\":\"#C8D4E3\",\"startlinecolor\":\"#2a3f5f\"},\"type\":\"carpet\"}],\"choropleth\":[{\"colorbar\":{\"outlinewidth\":0,\"ticks\":\"\"},\"type\":\"choropleth\"}],\"contourcarpet\":[{\"colorbar\":{\"outlinewidth\":0,\"ticks\":\"\"},\"type\":\"contourcarpet\"}],\"contour\":[{\"colorbar\":{\"outlinewidth\":0,\"ticks\":\"\"},\"colorscale\":[[0.0,\"#0d0887\"],[0.1111111111111111,\"#46039f\"],[0.2222222222222222,\"#7201a8\"],[0.3333333333333333,\"#9c179e\"],[0.4444444444444444,\"#bd3786\"],[0.5555555555555556,\"#d8576b\"],[0.6666666666666666,\"#ed7953\"],[0.7777777777777778,\"#fb9f3a\"],[0.8888888888888888,\"#fdca26\"],[1.0,\"#f0f921\"]],\"type\":\"contour\"}],\"heatmapgl\":[{\"colorbar\":{\"outlinewidth\":0,\"ticks\":\"\"},\"colorscale\":[[0.0,\"#0d0887\"],[0.1111111111111111,\"#46039f\"],[0.2222222222222222,\"#7201a8\"],[0.3333333333333333,\"#9c179e\"],[0.4444444444444444,\"#bd3786\"],[0.5555555555555556,\"#d8576b\"],[0.6666666666666666,\"#ed7953\"],[0.7777777777777778,\"#fb9f3a\"],[0.8888888888888888,\"#fdca26\"],[1.0,\"#f0f921\"]],\"type\":\"heatmapgl\"}],\"heatmap\":[{\"colorbar\":{\"outlinewidth\":0,\"ticks\":\"\"},\"colorscale\":[[0.0,\"#0d0887\"],[0.1111111111111111,\"#46039f\"],[0.2222222222222222,\"#7201a8\"],[0.3333333333333333,\"#9c179e\"],[0.4444444444444444,\"#bd3786\"],[0.5555555555555556,\"#d8576b\"],[0.6666666666666666,\"#ed7953\"],[0.7777777777777778,\"#fb9f3a\"],[0.8888888888888888,\"#fdca26\"],[1.0,\"#f0f921\"]],\"type\":\"heatmap\"}],\"histogram2dcontour\":[{\"colorbar\":{\"outlinewidth\":0,\"ticks\":\"\"},\"colorscale\":[[0.0,\"#0d0887\"],[0.1111111111111111,\"#46039f\"],[0.2222222222222222,\"#7201a8\"],[0.3333333333333333,\"#9c179e\"],[0.4444444444444444,\"#bd3786\"],[0.5555555555555556,\"#d8576b\"],[0.6666666666666666,\"#ed7953\"],[0.7777777777777778,\"#fb9f3a\"],[0.8888888888888888,\"#fdca26\"],[1.0,\"#f0f921\"]],\"type\":\"histogram2dcontour\"}],\"histogram2d\":[{\"colorbar\":{\"outlinewidth\":0,\"ticks\":\"\"},\"colorscale\":[[0.0,\"#0d0887\"],[0.1111111111111111,\"#46039f\"],[0.2222222222222222,\"#7201a8\"],[0.3333333333333333,\"#9c179e\"],[0.4444444444444444,\"#bd3786\"],[0.5555555555555556,\"#d8576b\"],[0.6666666666666666,\"#ed7953\"],[0.7777777777777778,\"#fb9f3a\"],[0.8888888888888888,\"#fdca26\"],[1.0,\"#f0f921\"]],\"type\":\"histogram2d\"}],\"histogram\":[{\"marker\":{\"pattern\":{\"fillmode\":\"overlay\",\"size\":10,\"solidity\":0.2}},\"type\":\"histogram\"}],\"mesh3d\":[{\"colorbar\":{\"outlinewidth\":0,\"ticks\":\"\"},\"type\":\"mesh3d\"}],\"parcoords\":[{\"line\":{\"colorbar\":{\"outlinewidth\":0,\"ticks\":\"\"}},\"type\":\"parcoords\"}],\"pie\":[{\"automargin\":true,\"type\":\"pie\"}],\"scatter3d\":[{\"line\":{\"colorbar\":{\"outlinewidth\":0,\"ticks\":\"\"}},\"marker\":{\"colorbar\":{\"outlinewidth\":0,\"ticks\":\"\"}},\"type\":\"scatter3d\"}],\"scattercarpet\":[{\"marker\":{\"colorbar\":{\"outlinewidth\":0,\"ticks\":\"\"}},\"type\":\"scattercarpet\"}],\"scattergeo\":[{\"marker\":{\"colorbar\":{\"outlinewidth\":0,\"ticks\":\"\"}},\"type\":\"scattergeo\"}],\"scattergl\":[{\"marker\":{\"colorbar\":{\"outlinewidth\":0,\"ticks\":\"\"}},\"type\":\"scattergl\"}],\"scattermapbox\":[{\"marker\":{\"colorbar\":{\"outlinewidth\":0,\"ticks\":\"\"}},\"type\":\"scattermapbox\"}],\"scatterpolargl\":[{\"marker\":{\"colorbar\":{\"outlinewidth\":0,\"ticks\":\"\"}},\"type\":\"scatterpolargl\"}],\"scatterpolar\":[{\"marker\":{\"colorbar\":{\"outlinewidth\":0,\"ticks\":\"\"}},\"type\":\"scatterpolar\"}],\"scatter\":[{\"fillpattern\":{\"fillmode\":\"overlay\",\"size\":10,\"solidity\":0.2},\"type\":\"scatter\"}],\"scatterternary\":[{\"marker\":{\"colorbar\":{\"outlinewidth\":0,\"ticks\":\"\"}},\"type\":\"scatterternary\"}],\"surface\":[{\"colorbar\":{\"outlinewidth\":0,\"ticks\":\"\"},\"colorscale\":[[0.0,\"#0d0887\"],[0.1111111111111111,\"#46039f\"],[0.2222222222222222,\"#7201a8\"],[0.3333333333333333,\"#9c179e\"],[0.4444444444444444,\"#bd3786\"],[0.5555555555555556,\"#d8576b\"],[0.6666666666666666,\"#ed7953\"],[0.7777777777777778,\"#fb9f3a\"],[0.8888888888888888,\"#fdca26\"],[1.0,\"#f0f921\"]],\"type\":\"surface\"}],\"table\":[{\"cells\":{\"fill\":{\"color\":\"#EBF0F8\"},\"line\":{\"color\":\"white\"}},\"header\":{\"fill\":{\"color\":\"#C8D4E3\"},\"line\":{\"color\":\"white\"}},\"type\":\"table\"}]},\"layout\":{\"annotationdefaults\":{\"arrowcolor\":\"#2a3f5f\",\"arrowhead\":0,\"arrowwidth\":1},\"autotypenumbers\":\"strict\",\"coloraxis\":{\"colorbar\":{\"outlinewidth\":0,\"ticks\":\"\"}},\"colorscale\":{\"diverging\":[[0,\"#8e0152\"],[0.1,\"#c51b7d\"],[0.2,\"#de77ae\"],[0.3,\"#f1b6da\"],[0.4,\"#fde0ef\"],[0.5,\"#f7f7f7\"],[0.6,\"#e6f5d0\"],[0.7,\"#b8e186\"],[0.8,\"#7fbc41\"],[0.9,\"#4d9221\"],[1,\"#276419\"]],\"sequential\":[[0.0,\"#0d0887\"],[0.1111111111111111,\"#46039f\"],[0.2222222222222222,\"#7201a8\"],[0.3333333333333333,\"#9c179e\"],[0.4444444444444444,\"#bd3786\"],[0.5555555555555556,\"#d8576b\"],[0.6666666666666666,\"#ed7953\"],[0.7777777777777778,\"#fb9f3a\"],[0.8888888888888888,\"#fdca26\"],[1.0,\"#f0f921\"]],\"sequentialminus\":[[0.0,\"#0d0887\"],[0.1111111111111111,\"#46039f\"],[0.2222222222222222,\"#7201a8\"],[0.3333333333333333,\"#9c179e\"],[0.4444444444444444,\"#bd3786\"],[0.5555555555555556,\"#d8576b\"],[0.6666666666666666,\"#ed7953\"],[0.7777777777777778,\"#fb9f3a\"],[0.8888888888888888,\"#fdca26\"],[1.0,\"#f0f921\"]]},\"colorway\":[\"#636efa\",\"#EF553B\",\"#00cc96\",\"#ab63fa\",\"#FFA15A\",\"#19d3f3\",\"#FF6692\",\"#B6E880\",\"#FF97FF\",\"#FECB52\"],\"font\":{\"color\":\"#2a3f5f\"},\"geo\":{\"bgcolor\":\"white\",\"lakecolor\":\"white\",\"landcolor\":\"white\",\"showlakes\":true,\"showland\":true,\"subunitcolor\":\"#C8D4E3\"},\"hoverlabel\":{\"align\":\"left\"},\"hovermode\":\"closest\",\"mapbox\":{\"style\":\"light\"},\"paper_bgcolor\":\"white\",\"plot_bgcolor\":\"white\",\"polar\":{\"angularaxis\":{\"gridcolor\":\"#EBF0F8\",\"linecolor\":\"#EBF0F8\",\"ticks\":\"\"},\"bgcolor\":\"white\",\"radialaxis\":{\"gridcolor\":\"#EBF0F8\",\"linecolor\":\"#EBF0F8\",\"ticks\":\"\"}},\"scene\":{\"xaxis\":{\"backgroundcolor\":\"white\",\"gridcolor\":\"#DFE8F3\",\"gridwidth\":2,\"linecolor\":\"#EBF0F8\",\"showbackground\":true,\"ticks\":\"\",\"zerolinecolor\":\"#EBF0F8\"},\"yaxis\":{\"backgroundcolor\":\"white\",\"gridcolor\":\"#DFE8F3\",\"gridwidth\":2,\"linecolor\":\"#EBF0F8\",\"showbackground\":true,\"ticks\":\"\",\"zerolinecolor\":\"#EBF0F8\"},\"zaxis\":{\"backgroundcolor\":\"white\",\"gridcolor\":\"#DFE8F3\",\"gridwidth\":2,\"linecolor\":\"#EBF0F8\",\"showbackground\":true,\"ticks\":\"\",\"zerolinecolor\":\"#EBF0F8\"}},\"shapedefaults\":{\"line\":{\"color\":\"#2a3f5f\"}},\"ternary\":{\"aaxis\":{\"gridcolor\":\"#DFE8F3\",\"linecolor\":\"#A2B1C6\",\"ticks\":\"\"},\"baxis\":{\"gridcolor\":\"#DFE8F3\",\"linecolor\":\"#A2B1C6\",\"ticks\":\"\"},\"bgcolor\":\"white\",\"caxis\":{\"gridcolor\":\"#DFE8F3\",\"linecolor\":\"#A2B1C6\",\"ticks\":\"\"}},\"title\":{\"x\":0.05},\"xaxis\":{\"automargin\":true,\"gridcolor\":\"#EBF0F8\",\"linecolor\":\"#EBF0F8\",\"ticks\":\"\",\"title\":{\"standoff\":15},\"zerolinecolor\":\"#EBF0F8\",\"zerolinewidth\":2},\"yaxis\":{\"automargin\":true,\"gridcolor\":\"#EBF0F8\",\"linecolor\":\"#EBF0F8\",\"ticks\":\"\",\"title\":{\"standoff\":15},\"zerolinecolor\":\"#EBF0F8\",\"zerolinewidth\":2}}},\"title\":{\"text\":\"Calibration Plot (Antes vs Depois da Isotonic Regression)\"},\"xaxis\":{\"title\":{\"text\":\"Probabilidade prevista\"}},\"yaxis\":{\"title\":{\"text\":\"Taxa real de churn\"}},\"width\":800,\"height\":600},                        {\"responsive\": true}                    ).then(function(){\n",
              "                            \n",
              "var gd = document.getElementById('c58b7e01-b36c-40cc-9e55-dc507ff9740a');\n",
              "var x = new MutationObserver(function (mutations, observer) {{\n",
              "        var display = window.getComputedStyle(gd).display;\n",
              "        if (!display || display === 'none') {{\n",
              "            console.log([gd, 'removed!']);\n",
              "            Plotly.purge(gd);\n",
              "            observer.disconnect();\n",
              "        }}\n",
              "}});\n",
              "\n",
              "// Listen for the removal of the full notebook cells\n",
              "var notebookContainer = gd.closest('#notebook-container');\n",
              "if (notebookContainer) {{\n",
              "    x.observe(notebookContainer, {childList: true});\n",
              "}}\n",
              "\n",
              "// Listen for the clearing of the current output cell\n",
              "var outputEl = gd.closest('.output');\n",
              "if (outputEl) {{\n",
              "    x.observe(outputEl, {childList: true});\n",
              "}}\n",
              "\n",
              "                        })                };                            </script>        </div>\n",
              "</body>\n",
              "</html>"
            ]
          },
          "metadata": {}
        }
      ]
    },
    {
      "cell_type": "code",
      "source": [
        "def threshold_gain_analysis(df, prob_col=\"p1_calibrated\", label_col=\"churn_m3\"):\n",
        "    # Configurações de negócio\n",
        "    mensalidade = 149   # valor hipotético\n",
        "    custo_incentivo = 3 * mensalidade\n",
        "    ganho_retenção = 12 * mensalidade\n",
        "\n",
        "    thresholds = np.arange(0.05, 1.0, 0.05)\n",
        "    results = []\n",
        "\n",
        "    for t in thresholds:\n",
        "        df_eval = (\n",
        "            df.withColumn(\"predict_offer\", (F.col(prob_col) >= F.lit(t)).cast(\"int\"))\n",
        "        )\n",
        "\n",
        "        # métricas básicas\n",
        "        tp = df_eval.filter((F.col(label_col) == 1) & (F.col(\"predict_offer\") == 1)).count()\n",
        "        fp = df_eval.filter((F.col(label_col) == 0) & (F.col(\"predict_offer\") == 1)).count()\n",
        "        fn = df_eval.filter((F.col(label_col) == 1) & (F.col(\"predict_offer\") == 0)).count()\n",
        "        tn = df_eval.filter((F.col(label_col) == 0) & (F.col(\"predict_offer\") == 0)).count()\n",
        "\n",
        "        # ganhos/perdas\n",
        "        ganho_tp = 0.5 * tp * (ganho_retenção - custo_incentivo)  # 50% ficam\n",
        "        perda_tp = 0.5 * tp * (custo_incentivo)                  # 50% não ficam\n",
        "        perda_fp = fp * custo_incentivo                          # não churn → perda total\n",
        "\n",
        "        ganho_total = ganho_tp - perda_tp - perda_fp\n",
        "\n",
        "        results.append((t, tp, fp, fn, tn, ganho_total))\n",
        "\n",
        "    # Pandas para análise e gráfico\n",
        "    results_df = pd.DataFrame(results, columns=[\"threshold\", \"TP\", \"FP\", \"FN\", \"TN\", \"gain\"])\n",
        "    return results_df\n"
      ],
      "metadata": {
        "id": "-DFs9Rzv18tD"
      },
      "execution_count": 21,
      "outputs": []
    },
    {
      "cell_type": "code",
      "source": [
        "results_df = threshold_gain_analysis(test_calibrated)\n",
        "\n",
        "fig = px.line(results_df, x=\"threshold\", y=\"gain\", markers=True,\n",
        "              title=\"Ganho financeiro esperado por threshold\",\n",
        "              labels={\"threshold\": \"Threshold\", \"gain\": \"Ganho líquido (R$)\"})\n",
        "\n",
        "fig.update_layout(hovermode=\"x unified\",\n",
        "                    width=800,\n",
        "                    height=600)\n",
        "fig.show()\n",
        "\n",
        "# Melhor threshold\n",
        "best_row = results_df.loc[results_df[\"gain\"].idxmax()]\n",
        "print(f\"Melhor threshold: {best_row['threshold']:.2f} com ganho esperado de R$ {best_row['gain']:,.2f}\")\n"
      ],
      "metadata": {
        "colab": {
          "base_uri": "https://localhost:8080/",
          "height": 560
        },
        "id": "aP-LwhZB2Ss4",
        "outputId": "5deb32a9-98a1-4760-c65e-fcf2acb4244f"
      },
      "execution_count": 22,
      "outputs": [
        {
          "output_type": "display_data",
          "data": {
            "text/html": [
              "<html>\n",
              "<head><meta charset=\"utf-8\" /></head>\n",
              "<body>\n",
              "    <div>            <script src=\"https://cdnjs.cloudflare.com/ajax/libs/mathjax/2.7.5/MathJax.js?config=TeX-AMS-MML_SVG\"></script><script type=\"text/javascript\">if (window.MathJax && window.MathJax.Hub && window.MathJax.Hub.Config) {window.MathJax.Hub.Config({SVG: {font: \"STIX-Web\"}});}</script>                <script type=\"text/javascript\">window.PlotlyConfig = {MathJaxConfig: 'local'};</script>\n",
              "        <script charset=\"utf-8\" src=\"https://cdn.plot.ly/plotly-2.35.2.min.js\"></script>                <div id=\"8a364189-4341-438e-be8c-11f9a54ebbca\" class=\"plotly-graph-div\" style=\"height:525px; width:100%;\"></div>            <script type=\"text/javascript\">                                    window.PLOTLYENV=window.PLOTLYENV || {};                                    if (document.getElementById(\"8a364189-4341-438e-be8c-11f9a54ebbca\")) {                    Plotly.newPlot(                        \"8a364189-4341-438e-be8c-11f9a54ebbca\",                        [{\"hovertemplate\":\"Threshold=%{x}\\u003cbr\\u003eGanho líquido (R$)=%{y}\\u003cextra\\u003e\\u003c\\u002fextra\\u003e\",\"legendgroup\":\"\",\"line\":{\"color\":\"#636efa\",\"dash\":\"solid\"},\"marker\":{\"symbol\":\"circle\"},\"mode\":\"lines+markers\",\"name\":\"\",\"orientation\":\"v\",\"showlegend\":false,\"x\":[0.05,0.1,0.15000000000000002,0.2,0.25,0.3,0.35000000000000003,0.4,0.45,0.5,0.55,0.6000000000000001,0.6500000000000001,0.7000000000000001,0.7500000000000001,0.8,0.8500000000000001,0.9000000000000001,0.9500000000000001],\"xaxis\":\"x\",\"y\":[-27210900.0,-17846700.0,-12453900.0,-6948900.0,-2478000.0,744900.0,1971000.0,2399700.0,2547600.0,2580000.0,2550000.0,2495100.0,2394300.0,2262000.0,2184300.0,2137800.0,1922700.0,1422600.0,1198200.0],\"yaxis\":\"y\",\"type\":\"scatter\"}],                        {\"template\":{\"data\":{\"histogram2dcontour\":[{\"type\":\"histogram2dcontour\",\"colorbar\":{\"outlinewidth\":0,\"ticks\":\"\"},\"colorscale\":[[0.0,\"#0d0887\"],[0.1111111111111111,\"#46039f\"],[0.2222222222222222,\"#7201a8\"],[0.3333333333333333,\"#9c179e\"],[0.4444444444444444,\"#bd3786\"],[0.5555555555555556,\"#d8576b\"],[0.6666666666666666,\"#ed7953\"],[0.7777777777777778,\"#fb9f3a\"],[0.8888888888888888,\"#fdca26\"],[1.0,\"#f0f921\"]]}],\"choropleth\":[{\"type\":\"choropleth\",\"colorbar\":{\"outlinewidth\":0,\"ticks\":\"\"}}],\"histogram2d\":[{\"type\":\"histogram2d\",\"colorbar\":{\"outlinewidth\":0,\"ticks\":\"\"},\"colorscale\":[[0.0,\"#0d0887\"],[0.1111111111111111,\"#46039f\"],[0.2222222222222222,\"#7201a8\"],[0.3333333333333333,\"#9c179e\"],[0.4444444444444444,\"#bd3786\"],[0.5555555555555556,\"#d8576b\"],[0.6666666666666666,\"#ed7953\"],[0.7777777777777778,\"#fb9f3a\"],[0.8888888888888888,\"#fdca26\"],[1.0,\"#f0f921\"]]}],\"heatmap\":[{\"type\":\"heatmap\",\"colorbar\":{\"outlinewidth\":0,\"ticks\":\"\"},\"colorscale\":[[0.0,\"#0d0887\"],[0.1111111111111111,\"#46039f\"],[0.2222222222222222,\"#7201a8\"],[0.3333333333333333,\"#9c179e\"],[0.4444444444444444,\"#bd3786\"],[0.5555555555555556,\"#d8576b\"],[0.6666666666666666,\"#ed7953\"],[0.7777777777777778,\"#fb9f3a\"],[0.8888888888888888,\"#fdca26\"],[1.0,\"#f0f921\"]]}],\"heatmapgl\":[{\"type\":\"heatmapgl\",\"colorbar\":{\"outlinewidth\":0,\"ticks\":\"\"},\"colorscale\":[[0.0,\"#0d0887\"],[0.1111111111111111,\"#46039f\"],[0.2222222222222222,\"#7201a8\"],[0.3333333333333333,\"#9c179e\"],[0.4444444444444444,\"#bd3786\"],[0.5555555555555556,\"#d8576b\"],[0.6666666666666666,\"#ed7953\"],[0.7777777777777778,\"#fb9f3a\"],[0.8888888888888888,\"#fdca26\"],[1.0,\"#f0f921\"]]}],\"contourcarpet\":[{\"type\":\"contourcarpet\",\"colorbar\":{\"outlinewidth\":0,\"ticks\":\"\"}}],\"contour\":[{\"type\":\"contour\",\"colorbar\":{\"outlinewidth\":0,\"ticks\":\"\"},\"colorscale\":[[0.0,\"#0d0887\"],[0.1111111111111111,\"#46039f\"],[0.2222222222222222,\"#7201a8\"],[0.3333333333333333,\"#9c179e\"],[0.4444444444444444,\"#bd3786\"],[0.5555555555555556,\"#d8576b\"],[0.6666666666666666,\"#ed7953\"],[0.7777777777777778,\"#fb9f3a\"],[0.8888888888888888,\"#fdca26\"],[1.0,\"#f0f921\"]]}],\"surface\":[{\"type\":\"surface\",\"colorbar\":{\"outlinewidth\":0,\"ticks\":\"\"},\"colorscale\":[[0.0,\"#0d0887\"],[0.1111111111111111,\"#46039f\"],[0.2222222222222222,\"#7201a8\"],[0.3333333333333333,\"#9c179e\"],[0.4444444444444444,\"#bd3786\"],[0.5555555555555556,\"#d8576b\"],[0.6666666666666666,\"#ed7953\"],[0.7777777777777778,\"#fb9f3a\"],[0.8888888888888888,\"#fdca26\"],[1.0,\"#f0f921\"]]}],\"mesh3d\":[{\"type\":\"mesh3d\",\"colorbar\":{\"outlinewidth\":0,\"ticks\":\"\"}}],\"scatter\":[{\"fillpattern\":{\"fillmode\":\"overlay\",\"size\":10,\"solidity\":0.2},\"type\":\"scatter\"}],\"parcoords\":[{\"type\":\"parcoords\",\"line\":{\"colorbar\":{\"outlinewidth\":0,\"ticks\":\"\"}}}],\"scatterpolargl\":[{\"type\":\"scatterpolargl\",\"marker\":{\"colorbar\":{\"outlinewidth\":0,\"ticks\":\"\"}}}],\"bar\":[{\"error_x\":{\"color\":\"#2a3f5f\"},\"error_y\":{\"color\":\"#2a3f5f\"},\"marker\":{\"line\":{\"color\":\"#E5ECF6\",\"width\":0.5},\"pattern\":{\"fillmode\":\"overlay\",\"size\":10,\"solidity\":0.2}},\"type\":\"bar\"}],\"scattergeo\":[{\"type\":\"scattergeo\",\"marker\":{\"colorbar\":{\"outlinewidth\":0,\"ticks\":\"\"}}}],\"scatterpolar\":[{\"type\":\"scatterpolar\",\"marker\":{\"colorbar\":{\"outlinewidth\":0,\"ticks\":\"\"}}}],\"histogram\":[{\"marker\":{\"pattern\":{\"fillmode\":\"overlay\",\"size\":10,\"solidity\":0.2}},\"type\":\"histogram\"}],\"scattergl\":[{\"type\":\"scattergl\",\"marker\":{\"colorbar\":{\"outlinewidth\":0,\"ticks\":\"\"}}}],\"scatter3d\":[{\"type\":\"scatter3d\",\"line\":{\"colorbar\":{\"outlinewidth\":0,\"ticks\":\"\"}},\"marker\":{\"colorbar\":{\"outlinewidth\":0,\"ticks\":\"\"}}}],\"scattermapbox\":[{\"type\":\"scattermapbox\",\"marker\":{\"colorbar\":{\"outlinewidth\":0,\"ticks\":\"\"}}}],\"scatterternary\":[{\"type\":\"scatterternary\",\"marker\":{\"colorbar\":{\"outlinewidth\":0,\"ticks\":\"\"}}}],\"scattercarpet\":[{\"type\":\"scattercarpet\",\"marker\":{\"colorbar\":{\"outlinewidth\":0,\"ticks\":\"\"}}}],\"carpet\":[{\"aaxis\":{\"endlinecolor\":\"#2a3f5f\",\"gridcolor\":\"white\",\"linecolor\":\"white\",\"minorgridcolor\":\"white\",\"startlinecolor\":\"#2a3f5f\"},\"baxis\":{\"endlinecolor\":\"#2a3f5f\",\"gridcolor\":\"white\",\"linecolor\":\"white\",\"minorgridcolor\":\"white\",\"startlinecolor\":\"#2a3f5f\"},\"type\":\"carpet\"}],\"table\":[{\"cells\":{\"fill\":{\"color\":\"#EBF0F8\"},\"line\":{\"color\":\"white\"}},\"header\":{\"fill\":{\"color\":\"#C8D4E3\"},\"line\":{\"color\":\"white\"}},\"type\":\"table\"}],\"barpolar\":[{\"marker\":{\"line\":{\"color\":\"#E5ECF6\",\"width\":0.5},\"pattern\":{\"fillmode\":\"overlay\",\"size\":10,\"solidity\":0.2}},\"type\":\"barpolar\"}],\"pie\":[{\"automargin\":true,\"type\":\"pie\"}]},\"layout\":{\"autotypenumbers\":\"strict\",\"colorway\":[\"#636efa\",\"#EF553B\",\"#00cc96\",\"#ab63fa\",\"#FFA15A\",\"#19d3f3\",\"#FF6692\",\"#B6E880\",\"#FF97FF\",\"#FECB52\"],\"font\":{\"color\":\"#2a3f5f\"},\"hovermode\":\"closest\",\"hoverlabel\":{\"align\":\"left\"},\"paper_bgcolor\":\"white\",\"plot_bgcolor\":\"#E5ECF6\",\"polar\":{\"bgcolor\":\"#E5ECF6\",\"angularaxis\":{\"gridcolor\":\"white\",\"linecolor\":\"white\",\"ticks\":\"\"},\"radialaxis\":{\"gridcolor\":\"white\",\"linecolor\":\"white\",\"ticks\":\"\"}},\"ternary\":{\"bgcolor\":\"#E5ECF6\",\"aaxis\":{\"gridcolor\":\"white\",\"linecolor\":\"white\",\"ticks\":\"\"},\"baxis\":{\"gridcolor\":\"white\",\"linecolor\":\"white\",\"ticks\":\"\"},\"caxis\":{\"gridcolor\":\"white\",\"linecolor\":\"white\",\"ticks\":\"\"}},\"coloraxis\":{\"colorbar\":{\"outlinewidth\":0,\"ticks\":\"\"}},\"colorscale\":{\"sequential\":[[0.0,\"#0d0887\"],[0.1111111111111111,\"#46039f\"],[0.2222222222222222,\"#7201a8\"],[0.3333333333333333,\"#9c179e\"],[0.4444444444444444,\"#bd3786\"],[0.5555555555555556,\"#d8576b\"],[0.6666666666666666,\"#ed7953\"],[0.7777777777777778,\"#fb9f3a\"],[0.8888888888888888,\"#fdca26\"],[1.0,\"#f0f921\"]],\"sequentialminus\":[[0.0,\"#0d0887\"],[0.1111111111111111,\"#46039f\"],[0.2222222222222222,\"#7201a8\"],[0.3333333333333333,\"#9c179e\"],[0.4444444444444444,\"#bd3786\"],[0.5555555555555556,\"#d8576b\"],[0.6666666666666666,\"#ed7953\"],[0.7777777777777778,\"#fb9f3a\"],[0.8888888888888888,\"#fdca26\"],[1.0,\"#f0f921\"]],\"diverging\":[[0,\"#8e0152\"],[0.1,\"#c51b7d\"],[0.2,\"#de77ae\"],[0.3,\"#f1b6da\"],[0.4,\"#fde0ef\"],[0.5,\"#f7f7f7\"],[0.6,\"#e6f5d0\"],[0.7,\"#b8e186\"],[0.8,\"#7fbc41\"],[0.9,\"#4d9221\"],[1,\"#276419\"]]},\"xaxis\":{\"gridcolor\":\"white\",\"linecolor\":\"white\",\"ticks\":\"\",\"title\":{\"standoff\":15},\"zerolinecolor\":\"white\",\"automargin\":true,\"zerolinewidth\":2},\"yaxis\":{\"gridcolor\":\"white\",\"linecolor\":\"white\",\"ticks\":\"\",\"title\":{\"standoff\":15},\"zerolinecolor\":\"white\",\"automargin\":true,\"zerolinewidth\":2},\"scene\":{\"xaxis\":{\"backgroundcolor\":\"#E5ECF6\",\"gridcolor\":\"white\",\"linecolor\":\"white\",\"showbackground\":true,\"ticks\":\"\",\"zerolinecolor\":\"white\",\"gridwidth\":2},\"yaxis\":{\"backgroundcolor\":\"#E5ECF6\",\"gridcolor\":\"white\",\"linecolor\":\"white\",\"showbackground\":true,\"ticks\":\"\",\"zerolinecolor\":\"white\",\"gridwidth\":2},\"zaxis\":{\"backgroundcolor\":\"#E5ECF6\",\"gridcolor\":\"white\",\"linecolor\":\"white\",\"showbackground\":true,\"ticks\":\"\",\"zerolinecolor\":\"white\",\"gridwidth\":2}},\"shapedefaults\":{\"line\":{\"color\":\"#2a3f5f\"}},\"annotationdefaults\":{\"arrowcolor\":\"#2a3f5f\",\"arrowhead\":0,\"arrowwidth\":1},\"geo\":{\"bgcolor\":\"white\",\"landcolor\":\"#E5ECF6\",\"subunitcolor\":\"white\",\"showland\":true,\"showlakes\":true,\"lakecolor\":\"white\"},\"title\":{\"x\":0.05},\"mapbox\":{\"style\":\"light\"}}},\"xaxis\":{\"anchor\":\"y\",\"domain\":[0.0,1.0],\"title\":{\"text\":\"Threshold\"}},\"yaxis\":{\"anchor\":\"x\",\"domain\":[0.0,1.0],\"title\":{\"text\":\"Ganho líquido (R$)\"}},\"legend\":{\"tracegroupgap\":0},\"title\":{\"text\":\"Ganho financeiro esperado por threshold\"}},                        {\"responsive\": true}                    ).then(function(){\n",
              "                            \n",
              "var gd = document.getElementById('8a364189-4341-438e-be8c-11f9a54ebbca');\n",
              "var x = new MutationObserver(function (mutations, observer) {{\n",
              "        var display = window.getComputedStyle(gd).display;\n",
              "        if (!display || display === 'none') {{\n",
              "            console.log([gd, 'removed!']);\n",
              "            Plotly.purge(gd);\n",
              "            observer.disconnect();\n",
              "        }}\n",
              "}});\n",
              "\n",
              "// Listen for the removal of the full notebook cells\n",
              "var notebookContainer = gd.closest('#notebook-container');\n",
              "if (notebookContainer) {{\n",
              "    x.observe(notebookContainer, {childList: true});\n",
              "}}\n",
              "\n",
              "// Listen for the clearing of the current output cell\n",
              "var outputEl = gd.closest('.output');\n",
              "if (outputEl) {{\n",
              "    x.observe(outputEl, {childList: true});\n",
              "}}\n",
              "\n",
              "                        })                };                            </script>        </div>\n",
              "</body>\n",
              "</html>"
            ]
          },
          "metadata": {}
        },
        {
          "output_type": "stream",
          "name": "stdout",
          "text": [
            "Melhor threshold: 0.50 com ganho esperado de R$ 2580000.00\n"
          ]
        }
      ]
    },
    {
      "cell_type": "code",
      "source": [
        "results_df = threshold_gain_analysis(oot_calibrated)\n",
        "\n",
        "fig = px.line(results_df, x=\"threshold\", y=\"gain\", markers=True,\n",
        "              title=\"Ganho financeiro esperado por threshold\",\n",
        "              labels={\"threshold\": \"Threshold\", \"gain\": \"Ganho líquido (R$)\"})\n",
        "\n",
        "fig.update_layout(hovermode=\"x unified\",\n",
        "                    width=800,\n",
        "                    height=600)\n",
        "fig.show()\n",
        "\n",
        "# Melhor threshold\n",
        "best_row = results_df.loc[results_df[\"gain\"].idxmax()]\n",
        "print(f\"Melhor threshold: {best_row['threshold']:.2f} com ganho esperado de R$ {best_row['gain']:.2f}\")"
      ],
      "metadata": {
        "colab": {
          "base_uri": "https://localhost:8080/",
          "height": 635
        },
        "id": "ASHWUcnk24iO",
        "outputId": "75337f42-b169-4eae-f8b2-9901b53e7f4f"
      },
      "execution_count": 24,
      "outputs": [
        {
          "output_type": "display_data",
          "data": {
            "text/html": [
              "<html>\n",
              "<head><meta charset=\"utf-8\" /></head>\n",
              "<body>\n",
              "    <div>            <script src=\"https://cdnjs.cloudflare.com/ajax/libs/mathjax/2.7.5/MathJax.js?config=TeX-AMS-MML_SVG\"></script><script type=\"text/javascript\">if (window.MathJax && window.MathJax.Hub && window.MathJax.Hub.Config) {window.MathJax.Hub.Config({SVG: {font: \"STIX-Web\"}});}</script>                <script type=\"text/javascript\">window.PlotlyConfig = {MathJaxConfig: 'local'};</script>\n",
              "        <script charset=\"utf-8\" src=\"https://cdn.plot.ly/plotly-2.35.2.min.js\"></script>                <div id=\"d5dca48d-46d1-4bc0-8c80-8f25c97e3d46\" class=\"plotly-graph-div\" style=\"height:600px; width:800px;\"></div>            <script type=\"text/javascript\">                                    window.PLOTLYENV=window.PLOTLYENV || {};                                    if (document.getElementById(\"d5dca48d-46d1-4bc0-8c80-8f25c97e3d46\")) {                    Plotly.newPlot(                        \"d5dca48d-46d1-4bc0-8c80-8f25c97e3d46\",                        [{\"hovertemplate\":\"Threshold=%{x}\\u003cbr\\u003eGanho líquido (R$)=%{y}\\u003cextra\\u003e\\u003c\\u002fextra\\u003e\",\"legendgroup\":\"\",\"line\":{\"color\":\"#636efa\",\"dash\":\"solid\"},\"marker\":{\"symbol\":\"circle\"},\"mode\":\"lines+markers\",\"name\":\"\",\"orientation\":\"v\",\"showlegend\":false,\"x\":[0.05,0.1,0.15000000000000002,0.2,0.25,0.3,0.35000000000000003,0.4,0.45,0.5,0.55,0.6000000000000001,0.6500000000000001,0.7000000000000001,0.7500000000000001,0.8,0.8500000000000001,0.9000000000000001,0.9500000000000001],\"xaxis\":\"x\",\"y\":[-81402000.0,-47650200.0,-34962600.0,-26866500.0,-20212200.0,-14824500.0,-11742600.0,-9780600.0,-8363400.0,-7700100.0,-5273700.0,-3634800.0,-1677300.0,-1073700.0,1403700.0,3147600.0,4779300.0,4056600.0,3871800.0],\"yaxis\":\"y\",\"type\":\"scatter\"}],                        {\"template\":{\"data\":{\"histogram2dcontour\":[{\"type\":\"histogram2dcontour\",\"colorbar\":{\"outlinewidth\":0,\"ticks\":\"\"},\"colorscale\":[[0.0,\"#0d0887\"],[0.1111111111111111,\"#46039f\"],[0.2222222222222222,\"#7201a8\"],[0.3333333333333333,\"#9c179e\"],[0.4444444444444444,\"#bd3786\"],[0.5555555555555556,\"#d8576b\"],[0.6666666666666666,\"#ed7953\"],[0.7777777777777778,\"#fb9f3a\"],[0.8888888888888888,\"#fdca26\"],[1.0,\"#f0f921\"]]}],\"choropleth\":[{\"type\":\"choropleth\",\"colorbar\":{\"outlinewidth\":0,\"ticks\":\"\"}}],\"histogram2d\":[{\"type\":\"histogram2d\",\"colorbar\":{\"outlinewidth\":0,\"ticks\":\"\"},\"colorscale\":[[0.0,\"#0d0887\"],[0.1111111111111111,\"#46039f\"],[0.2222222222222222,\"#7201a8\"],[0.3333333333333333,\"#9c179e\"],[0.4444444444444444,\"#bd3786\"],[0.5555555555555556,\"#d8576b\"],[0.6666666666666666,\"#ed7953\"],[0.7777777777777778,\"#fb9f3a\"],[0.8888888888888888,\"#fdca26\"],[1.0,\"#f0f921\"]]}],\"heatmap\":[{\"type\":\"heatmap\",\"colorbar\":{\"outlinewidth\":0,\"ticks\":\"\"},\"colorscale\":[[0.0,\"#0d0887\"],[0.1111111111111111,\"#46039f\"],[0.2222222222222222,\"#7201a8\"],[0.3333333333333333,\"#9c179e\"],[0.4444444444444444,\"#bd3786\"],[0.5555555555555556,\"#d8576b\"],[0.6666666666666666,\"#ed7953\"],[0.7777777777777778,\"#fb9f3a\"],[0.8888888888888888,\"#fdca26\"],[1.0,\"#f0f921\"]]}],\"heatmapgl\":[{\"type\":\"heatmapgl\",\"colorbar\":{\"outlinewidth\":0,\"ticks\":\"\"},\"colorscale\":[[0.0,\"#0d0887\"],[0.1111111111111111,\"#46039f\"],[0.2222222222222222,\"#7201a8\"],[0.3333333333333333,\"#9c179e\"],[0.4444444444444444,\"#bd3786\"],[0.5555555555555556,\"#d8576b\"],[0.6666666666666666,\"#ed7953\"],[0.7777777777777778,\"#fb9f3a\"],[0.8888888888888888,\"#fdca26\"],[1.0,\"#f0f921\"]]}],\"contourcarpet\":[{\"type\":\"contourcarpet\",\"colorbar\":{\"outlinewidth\":0,\"ticks\":\"\"}}],\"contour\":[{\"type\":\"contour\",\"colorbar\":{\"outlinewidth\":0,\"ticks\":\"\"},\"colorscale\":[[0.0,\"#0d0887\"],[0.1111111111111111,\"#46039f\"],[0.2222222222222222,\"#7201a8\"],[0.3333333333333333,\"#9c179e\"],[0.4444444444444444,\"#bd3786\"],[0.5555555555555556,\"#d8576b\"],[0.6666666666666666,\"#ed7953\"],[0.7777777777777778,\"#fb9f3a\"],[0.8888888888888888,\"#fdca26\"],[1.0,\"#f0f921\"]]}],\"surface\":[{\"type\":\"surface\",\"colorbar\":{\"outlinewidth\":0,\"ticks\":\"\"},\"colorscale\":[[0.0,\"#0d0887\"],[0.1111111111111111,\"#46039f\"],[0.2222222222222222,\"#7201a8\"],[0.3333333333333333,\"#9c179e\"],[0.4444444444444444,\"#bd3786\"],[0.5555555555555556,\"#d8576b\"],[0.6666666666666666,\"#ed7953\"],[0.7777777777777778,\"#fb9f3a\"],[0.8888888888888888,\"#fdca26\"],[1.0,\"#f0f921\"]]}],\"mesh3d\":[{\"type\":\"mesh3d\",\"colorbar\":{\"outlinewidth\":0,\"ticks\":\"\"}}],\"scatter\":[{\"fillpattern\":{\"fillmode\":\"overlay\",\"size\":10,\"solidity\":0.2},\"type\":\"scatter\"}],\"parcoords\":[{\"type\":\"parcoords\",\"line\":{\"colorbar\":{\"outlinewidth\":0,\"ticks\":\"\"}}}],\"scatterpolargl\":[{\"type\":\"scatterpolargl\",\"marker\":{\"colorbar\":{\"outlinewidth\":0,\"ticks\":\"\"}}}],\"bar\":[{\"error_x\":{\"color\":\"#2a3f5f\"},\"error_y\":{\"color\":\"#2a3f5f\"},\"marker\":{\"line\":{\"color\":\"#E5ECF6\",\"width\":0.5},\"pattern\":{\"fillmode\":\"overlay\",\"size\":10,\"solidity\":0.2}},\"type\":\"bar\"}],\"scattergeo\":[{\"type\":\"scattergeo\",\"marker\":{\"colorbar\":{\"outlinewidth\":0,\"ticks\":\"\"}}}],\"scatterpolar\":[{\"type\":\"scatterpolar\",\"marker\":{\"colorbar\":{\"outlinewidth\":0,\"ticks\":\"\"}}}],\"histogram\":[{\"marker\":{\"pattern\":{\"fillmode\":\"overlay\",\"size\":10,\"solidity\":0.2}},\"type\":\"histogram\"}],\"scattergl\":[{\"type\":\"scattergl\",\"marker\":{\"colorbar\":{\"outlinewidth\":0,\"ticks\":\"\"}}}],\"scatter3d\":[{\"type\":\"scatter3d\",\"line\":{\"colorbar\":{\"outlinewidth\":0,\"ticks\":\"\"}},\"marker\":{\"colorbar\":{\"outlinewidth\":0,\"ticks\":\"\"}}}],\"scattermapbox\":[{\"type\":\"scattermapbox\",\"marker\":{\"colorbar\":{\"outlinewidth\":0,\"ticks\":\"\"}}}],\"scatterternary\":[{\"type\":\"scatterternary\",\"marker\":{\"colorbar\":{\"outlinewidth\":0,\"ticks\":\"\"}}}],\"scattercarpet\":[{\"type\":\"scattercarpet\",\"marker\":{\"colorbar\":{\"outlinewidth\":0,\"ticks\":\"\"}}}],\"carpet\":[{\"aaxis\":{\"endlinecolor\":\"#2a3f5f\",\"gridcolor\":\"white\",\"linecolor\":\"white\",\"minorgridcolor\":\"white\",\"startlinecolor\":\"#2a3f5f\"},\"baxis\":{\"endlinecolor\":\"#2a3f5f\",\"gridcolor\":\"white\",\"linecolor\":\"white\",\"minorgridcolor\":\"white\",\"startlinecolor\":\"#2a3f5f\"},\"type\":\"carpet\"}],\"table\":[{\"cells\":{\"fill\":{\"color\":\"#EBF0F8\"},\"line\":{\"color\":\"white\"}},\"header\":{\"fill\":{\"color\":\"#C8D4E3\"},\"line\":{\"color\":\"white\"}},\"type\":\"table\"}],\"barpolar\":[{\"marker\":{\"line\":{\"color\":\"#E5ECF6\",\"width\":0.5},\"pattern\":{\"fillmode\":\"overlay\",\"size\":10,\"solidity\":0.2}},\"type\":\"barpolar\"}],\"pie\":[{\"automargin\":true,\"type\":\"pie\"}]},\"layout\":{\"autotypenumbers\":\"strict\",\"colorway\":[\"#636efa\",\"#EF553B\",\"#00cc96\",\"#ab63fa\",\"#FFA15A\",\"#19d3f3\",\"#FF6692\",\"#B6E880\",\"#FF97FF\",\"#FECB52\"],\"font\":{\"color\":\"#2a3f5f\"},\"hovermode\":\"closest\",\"hoverlabel\":{\"align\":\"left\"},\"paper_bgcolor\":\"white\",\"plot_bgcolor\":\"#E5ECF6\",\"polar\":{\"bgcolor\":\"#E5ECF6\",\"angularaxis\":{\"gridcolor\":\"white\",\"linecolor\":\"white\",\"ticks\":\"\"},\"radialaxis\":{\"gridcolor\":\"white\",\"linecolor\":\"white\",\"ticks\":\"\"}},\"ternary\":{\"bgcolor\":\"#E5ECF6\",\"aaxis\":{\"gridcolor\":\"white\",\"linecolor\":\"white\",\"ticks\":\"\"},\"baxis\":{\"gridcolor\":\"white\",\"linecolor\":\"white\",\"ticks\":\"\"},\"caxis\":{\"gridcolor\":\"white\",\"linecolor\":\"white\",\"ticks\":\"\"}},\"coloraxis\":{\"colorbar\":{\"outlinewidth\":0,\"ticks\":\"\"}},\"colorscale\":{\"sequential\":[[0.0,\"#0d0887\"],[0.1111111111111111,\"#46039f\"],[0.2222222222222222,\"#7201a8\"],[0.3333333333333333,\"#9c179e\"],[0.4444444444444444,\"#bd3786\"],[0.5555555555555556,\"#d8576b\"],[0.6666666666666666,\"#ed7953\"],[0.7777777777777778,\"#fb9f3a\"],[0.8888888888888888,\"#fdca26\"],[1.0,\"#f0f921\"]],\"sequentialminus\":[[0.0,\"#0d0887\"],[0.1111111111111111,\"#46039f\"],[0.2222222222222222,\"#7201a8\"],[0.3333333333333333,\"#9c179e\"],[0.4444444444444444,\"#bd3786\"],[0.5555555555555556,\"#d8576b\"],[0.6666666666666666,\"#ed7953\"],[0.7777777777777778,\"#fb9f3a\"],[0.8888888888888888,\"#fdca26\"],[1.0,\"#f0f921\"]],\"diverging\":[[0,\"#8e0152\"],[0.1,\"#c51b7d\"],[0.2,\"#de77ae\"],[0.3,\"#f1b6da\"],[0.4,\"#fde0ef\"],[0.5,\"#f7f7f7\"],[0.6,\"#e6f5d0\"],[0.7,\"#b8e186\"],[0.8,\"#7fbc41\"],[0.9,\"#4d9221\"],[1,\"#276419\"]]},\"xaxis\":{\"gridcolor\":\"white\",\"linecolor\":\"white\",\"ticks\":\"\",\"title\":{\"standoff\":15},\"zerolinecolor\":\"white\",\"automargin\":true,\"zerolinewidth\":2},\"yaxis\":{\"gridcolor\":\"white\",\"linecolor\":\"white\",\"ticks\":\"\",\"title\":{\"standoff\":15},\"zerolinecolor\":\"white\",\"automargin\":true,\"zerolinewidth\":2},\"scene\":{\"xaxis\":{\"backgroundcolor\":\"#E5ECF6\",\"gridcolor\":\"white\",\"linecolor\":\"white\",\"showbackground\":true,\"ticks\":\"\",\"zerolinecolor\":\"white\",\"gridwidth\":2},\"yaxis\":{\"backgroundcolor\":\"#E5ECF6\",\"gridcolor\":\"white\",\"linecolor\":\"white\",\"showbackground\":true,\"ticks\":\"\",\"zerolinecolor\":\"white\",\"gridwidth\":2},\"zaxis\":{\"backgroundcolor\":\"#E5ECF6\",\"gridcolor\":\"white\",\"linecolor\":\"white\",\"showbackground\":true,\"ticks\":\"\",\"zerolinecolor\":\"white\",\"gridwidth\":2}},\"shapedefaults\":{\"line\":{\"color\":\"#2a3f5f\"}},\"annotationdefaults\":{\"arrowcolor\":\"#2a3f5f\",\"arrowhead\":0,\"arrowwidth\":1},\"geo\":{\"bgcolor\":\"white\",\"landcolor\":\"#E5ECF6\",\"subunitcolor\":\"white\",\"showland\":true,\"showlakes\":true,\"lakecolor\":\"white\"},\"title\":{\"x\":0.05},\"mapbox\":{\"style\":\"light\"}}},\"xaxis\":{\"anchor\":\"y\",\"domain\":[0.0,1.0],\"title\":{\"text\":\"Threshold\"}},\"yaxis\":{\"anchor\":\"x\",\"domain\":[0.0,1.0],\"title\":{\"text\":\"Ganho líquido (R$)\"}},\"legend\":{\"tracegroupgap\":0},\"title\":{\"text\":\"Ganho financeiro esperado por threshold\"},\"hovermode\":\"x unified\",\"width\":800,\"height\":600},                        {\"responsive\": true}                    ).then(function(){\n",
              "                            \n",
              "var gd = document.getElementById('d5dca48d-46d1-4bc0-8c80-8f25c97e3d46');\n",
              "var x = new MutationObserver(function (mutations, observer) {{\n",
              "        var display = window.getComputedStyle(gd).display;\n",
              "        if (!display || display === 'none') {{\n",
              "            console.log([gd, 'removed!']);\n",
              "            Plotly.purge(gd);\n",
              "            observer.disconnect();\n",
              "        }}\n",
              "}});\n",
              "\n",
              "// Listen for the removal of the full notebook cells\n",
              "var notebookContainer = gd.closest('#notebook-container');\n",
              "if (notebookContainer) {{\n",
              "    x.observe(notebookContainer, {childList: true});\n",
              "}}\n",
              "\n",
              "// Listen for the clearing of the current output cell\n",
              "var outputEl = gd.closest('.output');\n",
              "if (outputEl) {{\n",
              "    x.observe(outputEl, {childList: true});\n",
              "}}\n",
              "\n",
              "                        })                };                            </script>        </div>\n",
              "</body>\n",
              "</html>"
            ]
          },
          "metadata": {}
        },
        {
          "output_type": "stream",
          "name": "stdout",
          "text": [
            "Melhor threshold: 0.85 com ganho esperado de R$ 4779300.00\n"
          ]
        }
      ]
    },
    {
      "cell_type": "markdown",
      "metadata": {
        "id": "m-A6PtamyCWJ"
      },
      "source": [
        "# 🔍 Amostras de clientes"
      ]
    },
    {
      "cell_type": "markdown",
      "metadata": {
        "id": "-STffa9d86-w"
      },
      "source": [
        "Cliente teste 1\n",
        "- Plano de 425 dias pago em 2015-08-30\n",
        "- Possui apenas uma transação\n",
        "- Informação de ativo apenas a partir de 2015-08-23\n",
        "- A informação de inativo passou a acontecer no mês em que expirou\n",
        "- A informação dos logs de usuários corresponde ao tempo do plano pago\n"
      ]
    },
    {
      "cell_type": "code",
      "execution_count": null,
      "metadata": {
        "colab": {
          "base_uri": "https://localhost:8080/"
        },
        "id": "pJlyJ-Cf86w8",
        "outputId": "c53666d4-3600-48cb-c1eb-32541d7604ba"
      },
      "outputs": [
        {
          "name": "stdout",
          "output_type": "stream",
          "text": [
            "+--------------------+------+----------------------+----+---+------+--------------+--------+---------------+--------+------------+\n",
            "|                msno| safra|registration_init_time|city| bd|gender|registered_via|is_ativo|declared_gender|churn_m3|churn_origem|\n",
            "+--------------------+------+----------------------+----+---+------+--------------+--------+---------------+--------+------------+\n",
            "|cbIdNJ0cB3yZpIGyk...|201601|            2015-08-23|   4| 28|  male|             9|       1|              1|       0|           0|\n",
            "|cbIdNJ0cB3yZpIGyk...|201602|            2015-08-23|   4| 28|  male|             9|       1|              1|       0|           0|\n",
            "|cbIdNJ0cB3yZpIGyk...|201603|            2015-08-23|   4| 28|  male|             9|       1|              1|       0|           0|\n",
            "|cbIdNJ0cB3yZpIGyk...|201604|            2015-08-23|   4| 28|  male|             9|       1|              1|       0|           0|\n",
            "|cbIdNJ0cB3yZpIGyk...|201605|            2015-08-23|   4| 28|  male|             9|       1|              1|       0|           0|\n",
            "|cbIdNJ0cB3yZpIGyk...|201606|            2015-08-23|   4| 28|  male|             9|       1|              1|       0|           0|\n",
            "|cbIdNJ0cB3yZpIGyk...|201607|            2015-08-23|   4| 28|  male|             9|       1|              1|       1|           0|\n",
            "|cbIdNJ0cB3yZpIGyk...|201608|            2015-08-23|   4| 28|  male|             9|       1|              1|       1|           0|\n",
            "|cbIdNJ0cB3yZpIGyk...|201609|            2015-08-23|   4| 28|  male|             9|       1|              1|       1|           0|\n",
            "|cbIdNJ0cB3yZpIGyk...|201610|            2015-08-23|   4| 28|  male|             9|       0|              1|       0|           1|\n",
            "|cbIdNJ0cB3yZpIGyk...|201611|            2015-08-23|   4| 28|  male|             9|       0|              1|       0|           1|\n",
            "|cbIdNJ0cB3yZpIGyk...|201612|            2015-08-23|   4| 28|  male|             9|       0|              1|       0|           1|\n",
            "+--------------------+------+----------------------+----+---+------+--------------+--------+---------------+--------+------------+\n",
            "\n",
            "+--------------------+-----------------+-----------------+---------------+------------------+-------------+----------------+----------------------+---------+------+\n",
            "|                msno|payment_method_id|payment_plan_days|plan_list_price|actual_amount_paid|is_auto_renew|transaction_date|membership_expire_date|is_cancel| safra|\n",
            "+--------------------+-----------------+-----------------+---------------+------------------+-------------+----------------+----------------------+---------+------+\n",
            "|cbIdNJ0cB3yZpIGyk...|               38|              425|         1788.0|            1788.0|            0|      2015-08-30|            2016-10-28|        0|201508|\n",
            "+--------------------+-----------------+-----------------+---------------+------------------+-------------+----------------+----------------------+---------+------+\n",
            "\n",
            "+--------------------+------+------+------+------+-------+-------+-------+--------------------+\n",
            "|                msno| safra|num_25|num_50|num_75|num_985|num_100|num_unq|          total_secs|\n",
            "+--------------------+------+------+------+------+-------+-------+-------+--------------------+\n",
            "|cbIdNJ0cB3yZpIGyk...|201508| 312.0| 275.0|  42.0|   11.0|   35.0|  561.0|  44947.206000000006|\n",
            "|cbIdNJ0cB3yZpIGyk...|201509| 652.0| 269.0|  53.0|   60.0|  435.0| 1302.0|-9.22337203670334...|\n",
            "|cbIdNJ0cB3yZpIGyk...|201510| 373.0|  68.0|  17.0|   32.0|  368.0|  792.0|  102704.30400000002|\n",
            "|cbIdNJ0cB3yZpIGyk...|201511| 224.0| 165.0|  13.0|   12.0|  194.0|  550.0|           63614.142|\n",
            "|cbIdNJ0cB3yZpIGyk...|201512| 698.0|  95.0|  29.0|   28.0|  484.0| 1227.0|           140932.07|\n",
            "|cbIdNJ0cB3yZpIGyk...|201601| 540.0| 100.0|  19.0|   32.0|  460.0| 1054.0|  138182.42500000002|\n",
            "|cbIdNJ0cB3yZpIGyk...|201602| 267.0|  56.0|  18.0|   24.0|  675.0|  951.0|  178256.77300000002|\n",
            "|cbIdNJ0cB3yZpIGyk...|201603| 727.0| 178.0|  41.0|   50.0|  941.0| 1674.0|  272137.05199999997|\n",
            "|cbIdNJ0cB3yZpIGyk...|201604| 409.0|  90.0|  24.0|   40.0|  742.0| 1050.0|  205915.40399999998|\n",
            "|cbIdNJ0cB3yZpIGyk...|201605| 278.0|  68.0|  19.0|   32.0|  703.0|  885.0|          187814.786|\n",
            "|cbIdNJ0cB3yZpIGyk...|201606| 188.0|  60.0|  23.0|   30.0|  429.0|  616.0|  121540.47800000003|\n",
            "|cbIdNJ0cB3yZpIGyk...|201607| 208.0|  74.0|  35.0|   52.0|  482.0|  691.0|  141894.19199999998|\n",
            "|cbIdNJ0cB3yZpIGyk...|201608| 155.0|  55.0|  35.0|   45.0|  432.0|  582.0|  127407.29299999998|\n",
            "|cbIdNJ0cB3yZpIGyk...|201609| 141.0|  35.0|  15.0|   23.0|  385.0|  520.0|           103783.75|\n",
            "|cbIdNJ0cB3yZpIGyk...|201610|  86.0|  28.0|  15.0|   21.0|  335.0|  406.0|   90990.33799999999|\n",
            "|cbIdNJ0cB3yZpIGyk...|201612|   0.0|   0.0|   0.0|    0.0|    2.0|    2.0|             456.515|\n",
            "|cbIdNJ0cB3yZpIGyk...|201701|   0.0|   0.0|   0.0|    1.0|    1.0|    2.0|             485.866|\n",
            "+--------------------+------+------+------+------+-------+-------+-------+--------------------+\n",
            "\n"
          ]
        }
      ],
      "source": [
        "filtra_cliente(members_p, 'cbIdNJ0cB3yZpIGyk')\n",
        "\n",
        "filtra_cliente(transactions_p, 'cbIdNJ0cB3yZpIGyk')\n",
        "\n",
        "filtra_cliente(user_logs, 'cbIdNJ0cB3yZpIGyk')"
      ]
    },
    {
      "cell_type": "markdown",
      "metadata": {
        "id": "HeM-FWAsBgrl"
      },
      "source": [
        "Cliente 2\n",
        "- As informações de transacionalidade se conversam com o tempo de uso pelo log do usuário, mas não com o tempo da tabela membros. Logo indicando que a tabela membros é uma tabela mais recente, tendo informação apenas de 2016"
      ]
    },
    {
      "cell_type": "code",
      "execution_count": null,
      "metadata": {
        "colab": {
          "base_uri": "https://localhost:8080/"
        },
        "id": "WGNpWHahAEjL",
        "outputId": "a0738b4d-7ace-4bce-8aa7-f7fbb67b7c91"
      },
      "outputs": [
        {
          "name": "stdout",
          "output_type": "stream",
          "text": [
            "+--------------------+------+----------------------+----+---+------+--------------+--------+---------------+--------+------------+\n",
            "|                msno| safra|registration_init_time|city| bd|gender|registered_via|is_ativo|declared_gender|churn_m3|churn_origem|\n",
            "+--------------------+------+----------------------+----+---+------+--------------+--------+---------------+--------+------------+\n",
            "|+++snpr7pmobhLKUg...|201601|            2014-09-27|   1|  0|  NULL|             7|       1|              0|       0|           0|\n",
            "|+++snpr7pmobhLKUg...|201602|            2014-09-27|   1|  0|  NULL|             7|       1|              0|       0|           0|\n",
            "|+++snpr7pmobhLKUg...|201603|            2014-09-27|   1|  0|  NULL|             7|       1|              0|       0|           0|\n",
            "|+++snpr7pmobhLKUg...|201604|            2014-09-27|   1|  0|  NULL|             7|       1|              0|       0|           0|\n",
            "|+++snpr7pmobhLKUg...|201605|            2014-09-27|   1|  0|  NULL|             7|       1|              0|       0|           0|\n",
            "|+++snpr7pmobhLKUg...|201606|            2014-09-27|   1|  0|  NULL|             7|       1|              0|       0|           0|\n",
            "|+++snpr7pmobhLKUg...|201607|            2014-09-27|   1|  0|  NULL|             7|       1|              0|       0|           0|\n",
            "|+++snpr7pmobhLKUg...|201608|            2014-09-27|   1|  0|  NULL|             7|       1|              0|       0|           0|\n",
            "|+++snpr7pmobhLKUg...|201609|            2014-09-27|   1|  0|  NULL|             7|       1|              0|       0|           0|\n",
            "|+++snpr7pmobhLKUg...|201610|            2014-09-27|   1|  0|  NULL|             7|       1|              0|       0|           0|\n",
            "|+++snpr7pmobhLKUg...|201611|            2014-09-27|   1|  0|  NULL|             7|       1|              0|       0|           0|\n",
            "|+++snpr7pmobhLKUg...|201612|            2014-09-27|   1|  0|  NULL|             7|       1|              0|       0|           0|\n",
            "+--------------------+------+----------------------+----+---+------+--------------+--------+---------------+--------+------------+\n",
            "\n",
            "+--------------------+-----------------+-----------------+---------------+------------------+-------------+----------------+----------------------+---------+------+\n",
            "|                msno|payment_method_id|payment_plan_days|plan_list_price|actual_amount_paid|is_auto_renew|transaction_date|membership_expire_date|is_cancel| safra|\n",
            "+--------------------+-----------------+-----------------+---------------+------------------+-------------+----------------+----------------------+---------+------+\n",
            "|+++snpr7pmobhLKUg...|               41|               30|          149.0|             149.0|            1|      2015-01-26|            2015-02-26|        0|201501|\n",
            "|+++snpr7pmobhLKUg...|               41|               30|          149.0|             149.0|            1|      2015-02-26|            2015-03-26|        0|201502|\n",
            "|+++snpr7pmobhLKUg...|               41|               30|          149.0|             149.0|            1|      2015-03-26|            2015-04-26|        0|201503|\n",
            "|+++snpr7pmobhLKUg...|               41|                0|            0.0|             149.0|            1|      2015-04-26|            2015-05-26|        0|201504|\n",
            "|+++snpr7pmobhLKUg...|               41|               30|          149.0|             149.0|            1|      2015-05-26|            2015-06-26|        0|201505|\n",
            "|+++snpr7pmobhLKUg...|               41|               30|          149.0|             149.0|            1|      2015-06-26|            2015-07-26|        0|201506|\n",
            "|+++snpr7pmobhLKUg...|               41|               30|          149.0|             149.0|            1|      2015-07-26|            2015-08-26|        0|201507|\n",
            "|+++snpr7pmobhLKUg...|               41|               30|          149.0|             149.0|            1|      2015-08-26|            2015-09-26|        0|201508|\n",
            "|+++snpr7pmobhLKUg...|               41|               30|          149.0|             149.0|            1|      2015-09-26|            2015-10-26|        0|201509|\n",
            "|+++snpr7pmobhLKUg...|               41|               30|          149.0|             149.0|            1|      2015-10-26|            2015-11-26|        0|201510|\n",
            "|+++snpr7pmobhLKUg...|               41|               30|          149.0|             149.0|            1|      2015-11-26|            2015-12-26|        0|201511|\n",
            "|+++snpr7pmobhLKUg...|               41|               30|          149.0|             149.0|            1|      2015-12-26|            2016-01-26|        0|201512|\n",
            "|+++snpr7pmobhLKUg...|               41|               30|          149.0|             149.0|            1|      2016-01-26|            2016-02-26|        0|201601|\n",
            "|+++snpr7pmobhLKUg...|               41|               30|          149.0|             149.0|            1|      2016-02-26|            2016-03-26|        0|201602|\n",
            "|+++snpr7pmobhLKUg...|               41|               30|          149.0|             149.0|            1|      2016-03-26|            2016-04-26|        0|201603|\n",
            "|+++snpr7pmobhLKUg...|               41|               30|          149.0|             149.0|            1|      2016-04-26|            2016-05-26|        0|201604|\n",
            "|+++snpr7pmobhLKUg...|               41|               30|          149.0|             149.0|            1|      2016-05-26|            2016-06-26|        0|201605|\n",
            "|+++snpr7pmobhLKUg...|               41|               30|          149.0|             149.0|            1|      2016-06-26|            2016-07-26|        0|201606|\n",
            "|+++snpr7pmobhLKUg...|               41|               30|          149.0|             149.0|            1|      2016-07-26|            2016-08-26|        0|201607|\n",
            "|+++snpr7pmobhLKUg...|               41|               30|          149.0|             149.0|            1|      2016-08-26|            2016-09-26|        0|201608|\n",
            "|+++snpr7pmobhLKUg...|               41|               30|          149.0|             149.0|            1|      2016-09-26|            2016-10-26|        0|201609|\n",
            "|+++snpr7pmobhLKUg...|               41|               30|          149.0|             149.0|            1|      2016-10-26|            2016-11-26|        0|201610|\n",
            "|+++snpr7pmobhLKUg...|               41|               30|          149.0|             149.0|            1|      2016-11-26|            2016-12-26|        0|201611|\n",
            "|+++snpr7pmobhLKUg...|               41|               30|          149.0|             149.0|            1|      2016-12-26|            2017-01-26|        0|201612|\n",
            "|+++snpr7pmobhLKUg...|               41|               30|          149.0|             149.0|            1|      2017-01-26|            2017-02-26|        0|201701|\n",
            "|+++snpr7pmobhLKUg...|               41|               30|          149.0|             149.0|            1|      2017-02-26|            2017-03-26|        0|201702|\n",
            "+--------------------+-----------------+-----------------+---------------+------------------+-------------+----------------+----------------------+---------+------+\n",
            "\n",
            "+--------------------+------+------+------+------+-------+-------+-------+------------------+\n",
            "|                msno| safra|num_25|num_50|num_75|num_985|num_100|num_unq|        total_secs|\n",
            "+--------------------+------+------+------+------+-------+-------+-------+------------------+\n",
            "|+++snpr7pmobhLKUg...|201501| 641.0| 212.0| 115.0|  118.0| 2461.0| 1983.0|        671863.109|\n",
            "|+++snpr7pmobhLKUg...|201502| 694.0| 170.0| 119.0|  128.0| 2813.0| 2313.0|         761370.08|\n",
            "|+++snpr7pmobhLKUg...|201503| 544.0| 131.0| 101.0|  101.0| 2380.0| 1838.0|        659526.451|\n",
            "|+++snpr7pmobhLKUg...|201504| 506.0| 158.0|  78.0|  134.0| 2052.0| 1723.0|        580229.901|\n",
            "|+++snpr7pmobhLKUg...|201505| 327.0| 116.0| 110.0|   81.0| 1794.0| 1785.0|        496439.848|\n",
            "|+++snpr7pmobhLKUg...|201506| 283.0|  92.0|  57.0|   56.0| 1326.0| 1066.0|342597.18100000004|\n",
            "|+++snpr7pmobhLKUg...|201507| 299.0| 132.0| 106.0|   84.0| 1181.0| 1059.0|342848.81100000005|\n",
            "|+++snpr7pmobhLKUg...|201508| 272.0|  64.0|  53.0|   46.0|  554.0|  768.0|163926.50699999998|\n",
            "|+++snpr7pmobhLKUg...|201509| 375.0|  73.0|  46.0|   43.0|  631.0| 1041.0|        180656.804|\n",
            "|+++snpr7pmobhLKUg...|201510|  65.0|  44.0|  37.0|   31.0|  258.0|  341.0|         80795.159|\n",
            "|+++snpr7pmobhLKUg...|201511| 125.0|  37.0|  25.0|   44.0|  413.0|  527.0|117196.50600000002|\n",
            "|+++snpr7pmobhLKUg...|201512|  91.0|  42.0|  19.0|   22.0|  377.0|  422.0|106762.51400000002|\n",
            "|+++snpr7pmobhLKUg...|201601| 113.0|  48.0|  33.0|   45.0|  774.0|  845.0|217292.24200000006|\n",
            "|+++snpr7pmobhLKUg...|201602| 284.0|  89.0|  53.0|   55.0|  534.0|  840.0|        162097.422|\n",
            "|+++snpr7pmobhLKUg...|201603| 146.0|  31.0|  28.0|   20.0|  546.0|  598.0|        146757.796|\n",
            "|+++snpr7pmobhLKUg...|201604| 131.0|  23.0|  23.0|   21.0|  334.0|  440.0| 93939.74900000001|\n",
            "|+++snpr7pmobhLKUg...|201605| 194.0|  47.0|  32.0|   34.0|  947.0| 1088.0|        250853.736|\n",
            "|+++snpr7pmobhLKUg...|201606| 258.0|  83.0|  43.0|   52.0|  369.0|  730.0|119655.80299999999|\n",
            "|+++snpr7pmobhLKUg...|201607| 112.0|  55.0|  33.0|   12.0|  143.0|  312.0|          48377.68|\n",
            "|+++snpr7pmobhLKUg...|201608| 122.0|  53.0|  49.0|   22.0|  221.0|  370.0|         71353.931|\n",
            "|+++snpr7pmobhLKUg...|201609| 164.0|  59.0|  38.0|   24.0|  426.0|  560.0|        118208.533|\n",
            "|+++snpr7pmobhLKUg...|201610| 189.0|  84.0|  52.0|   32.0|  516.0|  742.0|        152259.288|\n",
            "|+++snpr7pmobhLKUg...|201611| 110.0|  42.0|  34.0|   26.0| 1144.0|  989.0|289423.14099999995|\n",
            "|+++snpr7pmobhLKUg...|201612| 166.0|  73.0|  49.0|   43.0|  579.0|  645.0|169086.59300000002|\n",
            "|+++snpr7pmobhLKUg...|201701| 289.0| 175.0|  97.0|   82.0|  651.0| 1088.0|215757.13600000003|\n",
            "|+++snpr7pmobhLKUg...|201702| 188.0|  80.0|  46.0|   46.0|  383.0|  551.0|123768.83900000004|\n",
            "+--------------------+------+------+------+------+-------+-------+-------+------------------+\n",
            "\n"
          ]
        }
      ],
      "source": [
        "filtra_cliente(members_p, '+++snpr7pmobhLKUg')\n",
        "\n",
        "filtra_cliente(transactions_p, '+++snpr7pmobhLKUg')\n",
        "\n",
        "filtra_cliente(user_logs, '+++snpr7pmobhLKUg')"
      ]
    },
    {
      "cell_type": "code",
      "execution_count": null,
      "metadata": {
        "colab": {
          "base_uri": "https://localhost:8080/"
        },
        "id": "nJndmsu4SP79",
        "outputId": "be7b6a79-88a2-4e51-e295-b1bcbc638c7c"
      },
      "outputs": [
        {
          "name": "stdout",
          "output_type": "stream",
          "text": [
            "+--------------------+------+----------------------+----+---+------+--------------+--------+---------------+--------+------------+\n",
            "|                msno| safra|registration_init_time|city| bd|gender|registered_via|is_ativo|declared_gender|churn_m3|churn_origem|\n",
            "+--------------------+------+----------------------+----+---+------+--------------+--------+---------------+--------+------------+\n",
            "|+7EWrna71aWvaE2b3...|201606|            2016-06-25|   1|  0|  NULL|             7|       1|              0|       0|           0|\n",
            "|+7EWrna71aWvaE2b3...|201607|            2016-06-25|   1|  0|  NULL|             7|       1|              0|       0|           0|\n",
            "|+7EWrna71aWvaE2b3...|201608|            2016-06-25|   1|  0|  NULL|             7|       1|              0|       0|           0|\n",
            "|+7EWrna71aWvaE2b3...|201609|            2016-06-25|   1|  0|  NULL|             7|       1|              0|       0|           0|\n",
            "|+7EWrna71aWvaE2b3...|201610|            2016-06-25|   1|  0|  NULL|             7|       1|              0|       0|           0|\n",
            "|+7EWrna71aWvaE2b3...|201611|            2016-06-25|   1|  0|  NULL|             7|       1|              0|       0|           0|\n",
            "|+7EWrna71aWvaE2b3...|201612|            2016-06-25|   1|  0|  NULL|             7|       1|              0|       0|           0|\n",
            "+--------------------+------+----------------------+----+---+------+--------------+--------+---------------+--------+------------+\n",
            "\n",
            "+--------------------+-----------------+-----------------+---------------+------------------+-------------+----------------+----------------------+---------+------+\n",
            "|                msno|payment_method_id|payment_plan_days|plan_list_price|actual_amount_paid|is_auto_renew|transaction_date|membership_expire_date|is_cancel| safra|\n",
            "+--------------------+-----------------+-----------------+---------------+------------------+-------------+----------------+----------------------+---------+------+\n",
            "|+7EWrna71aWvaE2b3...|               41|               30|           99.0|              99.0|            1|      2016-06-25|            2016-07-25|        0|201606|\n",
            "|+7EWrna71aWvaE2b3...|               41|               30|           99.0|              99.0|            1|      2016-07-25|            2016-08-25|        0|201607|\n",
            "|+7EWrna71aWvaE2b3...|               41|               30|           99.0|              99.0|            1|      2016-08-25|            2016-09-25|        0|201608|\n",
            "|+7EWrna71aWvaE2b3...|               41|               30|           99.0|              99.0|            1|      2016-09-25|            2016-10-25|        0|201609|\n",
            "|+7EWrna71aWvaE2b3...|               41|               30|           99.0|              99.0|            1|      2016-10-25|            2016-11-25|        0|201610|\n",
            "|+7EWrna71aWvaE2b3...|               41|               30|           99.0|              99.0|            1|      2016-11-25|            2016-12-25|        0|201611|\n",
            "|+7EWrna71aWvaE2b3...|               41|               30|           99.0|              99.0|            1|      2016-12-25|            2017-01-25|        0|201612|\n",
            "|+7EWrna71aWvaE2b3...|               41|               30|           99.0|              99.0|            1|      2017-01-25|            2017-02-25|        0|201701|\n",
            "|+7EWrna71aWvaE2b3...|               41|               30|           99.0|              99.0|            1|      2017-02-25|            2017-03-25|        0|201702|\n",
            "+--------------------+-----------------+-----------------+---------------+------------------+-------------+----------------+----------------------+---------+------+\n",
            "\n",
            "+--------------------+------+------+------+------+-------+-------+-------+------------------+\n",
            "|                msno| safra|num_25|num_50|num_75|num_985|num_100|num_unq|        total_secs|\n",
            "+--------------------+------+------+------+------+-------+-------+-------+------------------+\n",
            "|+7EWrna71aWvaE2b3...|201608|   1.0|   1.0|   0.0|    1.0|    2.0|    4.0|           669.675|\n",
            "|+7EWrna71aWvaE2b3...|201609|  12.0|   0.0|   0.0|    0.0|    5.0|    7.0|1372.6979999999999|\n",
            "|+7EWrna71aWvaE2b3...|201610|  38.0|   7.0|   4.0|    5.0|   49.0|   25.0|         15217.575|\n",
            "|+7EWrna71aWvaE2b3...|201611|  24.0|   5.0|   3.0|    5.0|   18.0|   38.0|          5755.609|\n",
            "|+7EWrna71aWvaE2b3...|201612|  26.0|   4.0|   2.0|    4.0|   20.0|   29.0|          6633.045|\n",
            "|+7EWrna71aWvaE2b3...|201701|  24.0|   4.0|   0.0|    1.0|    8.0|   22.0|           2922.49|\n",
            "|+7EWrna71aWvaE2b3...|201702|   4.0|   0.0|   0.0|    0.0|    1.0|    3.0|           271.934|\n",
            "+--------------------+------+------+------+------+-------+-------+-------+------------------+\n",
            "\n"
          ]
        }
      ],
      "source": [
        "filtra_cliente(members_p, '+7EWrna71aWvaE2b3')\n",
        "\n",
        "filtra_cliente(transactions_p, '+7EWrna71aWvaE2b3')\n",
        "\n",
        "filtra_cliente(user_logs, '+7EWrna71aWvaE2b3')"
      ]
    },
    {
      "cell_type": "code",
      "execution_count": null,
      "metadata": {
        "colab": {
          "base_uri": "https://localhost:8080/"
        },
        "id": "5F9uiIxmUZmp",
        "outputId": "e4103230-0e3f-4fef-bab8-994992772419"
      },
      "outputs": [
        {
          "name": "stdout",
          "output_type": "stream",
          "text": [
            "+--------------------+------+----------------------+----+---+------+--------------+--------+---------------+--------+------------+\n",
            "|                msno| safra|registration_init_time|city| bd|gender|registered_via|is_ativo|declared_gender|churn_m3|churn_origem|\n",
            "+--------------------+------+----------------------+----+---+------+--------------+--------+---------------+--------+------------+\n",
            "|/KVfvY7VwZDQhWfLo...|201606|            2016-06-07|   4| 20|  male|             4|       1|              1|       1|           0|\n",
            "|/KVfvY7VwZDQhWfLo...|201607|            2016-06-07|   4| 20|  male|             4|       1|              1|       1|           0|\n",
            "|/KVfvY7VwZDQhWfLo...|201608|            2016-06-07|   4| 20|  male|             4|       0|              1|       0|           1|\n",
            "|/KVfvY7VwZDQhWfLo...|201609|            2016-06-07|   4| 20|  male|             4|       0|              1|       0|           1|\n",
            "|/KVfvY7VwZDQhWfLo...|201610|            2016-06-07|   4| 20|  male|             4|       0|              1|       0|           1|\n",
            "|/KVfvY7VwZDQhWfLo...|201611|            2016-06-07|   4| 20|  male|             4|       0|              1|       0|           1|\n",
            "|/KVfvY7VwZDQhWfLo...|201612|            2016-06-07|   4| 20|  male|             4|       0|              1|       0|           1|\n",
            "+--------------------+------+----------------------+----+---+------+--------------+--------+---------------+--------+------------+\n",
            "\n",
            "+--------------------+-----------------+-----------------+---------------+------------------+-------------+----------------+----------------------+---------+------+\n",
            "|                msno|payment_method_id|payment_plan_days|plan_list_price|actual_amount_paid|is_auto_renew|transaction_date|membership_expire_date|is_cancel| safra|\n",
            "+--------------------+-----------------+-----------------+---------------+------------------+-------------+----------------+----------------------+---------+------+\n",
            "|/KVfvY7VwZDQhWfLo...|               38|               30|          149.0|             149.0|            0|      2016-06-07|            2016-07-10|        0|201606|\n",
            "+--------------------+-----------------+-----------------+---------------+------------------+-------------+----------------+----------------------+---------+------+\n",
            "\n",
            "+--------------------+------+------+------+------+-------+-------+-------+------------------+\n",
            "|                msno| safra|num_25|num_50|num_75|num_985|num_100|num_unq|        total_secs|\n",
            "+--------------------+------+------+------+------+-------+-------+-------+------------------+\n",
            "|/KVfvY7VwZDQhWfLo...|201606|  67.0|  20.0|  10.0|    7.0|  159.0|  210.0| 49381.92999999999|\n",
            "|/KVfvY7VwZDQhWfLo...|201607|   8.0|   5.0|   3.0|    1.0|   99.0|  108.0|28748.122000000003|\n",
            "|/KVfvY7VwZDQhWfLo...|201608| 248.0|  36.0|  25.0|   29.0|  720.0|  616.0|194776.94900000008|\n",
            "|/KVfvY7VwZDQhWfLo...|201609| 136.0|  31.0|  22.0|   25.0|  629.0|  490.0|        169084.421|\n",
            "|/KVfvY7VwZDQhWfLo...|201610| 109.0|  19.0|  13.0|   25.0|  636.0|  597.0|        168880.523|\n",
            "|/KVfvY7VwZDQhWfLo...|201611| 109.0|  15.0|  21.0|   29.0|  804.0|  702.0|        203812.264|\n",
            "|/KVfvY7VwZDQhWfLo...|201612| 125.0|  29.0|  12.0|   11.0|  623.0|  617.0|         156838.74|\n",
            "|/KVfvY7VwZDQhWfLo...|201701|  64.0|  14.0|   8.0|    8.0|  361.0|  294.0| 92483.57899999998|\n",
            "|/KVfvY7VwZDQhWfLo...|201702|  79.0|  27.0|  23.0|   23.0|  615.0|  578.0|165013.15700000004|\n",
            "+--------------------+------+------+------+------+-------+-------+-------+------------------+\n",
            "\n"
          ]
        }
      ],
      "source": [
        "filtra_cliente(members_p, '/KVfvY7VwZDQhWfLo')\n",
        "\n",
        "filtra_cliente(transactions_p, '/KVfvY7VwZDQhWfLo')\n",
        "\n",
        "filtra_cliente(user_logs, '/KVfvY7VwZDQhWfLo')\n",
        "\n"
      ]
    },
    {
      "cell_type": "code",
      "execution_count": null,
      "metadata": {
        "colab": {
          "base_uri": "https://localhost:8080/"
        },
        "id": "EUteaydmSJIj",
        "outputId": "847bef6f-2961-4dec-a72b-f9d2e30b77ef"
      },
      "outputs": [
        {
          "name": "stdout",
          "output_type": "stream",
          "text": [
            "+--------------------+------+----------------------+----+---+------+--------------+--------+---------------+--------+------------+\n",
            "|                msno| safra|registration_init_time|city| bd|gender|registered_via|is_ativo|declared_gender|churn_m3|churn_origem|\n",
            "+--------------------+------+----------------------+----+---+------+--------------+--------+---------------+--------+------------+\n",
            "|+1iWwGDvcQcHJweCI...|201604|            2016-04-08|   6|  0|  NULL|             4|       1|              0|       1|           0|\n",
            "|+1iWwGDvcQcHJweCI...|201605|            2016-04-08|   6|  0|  NULL|             4|       1|              0|       1|           0|\n",
            "|+1iWwGDvcQcHJweCI...|201606|            2016-04-08|   6|  0|  NULL|             4|       1|              0|       1|           0|\n",
            "|+1iWwGDvcQcHJweCI...|201607|            2016-04-08|   6|  0|  NULL|             4|       0|              0|       0|           1|\n",
            "|+1iWwGDvcQcHJweCI...|201608|            2016-04-08|   6|  0|  NULL|             4|       0|              0|       0|           1|\n",
            "|+1iWwGDvcQcHJweCI...|201609|            2016-04-08|   6|  0|  NULL|             4|       0|              0|       0|           1|\n",
            "|+1iWwGDvcQcHJweCI...|201610|            2016-04-08|   6|  0|  NULL|             4|       0|              0|       0|           1|\n",
            "|+1iWwGDvcQcHJweCI...|201611|            2016-04-08|   6|  0|  NULL|             4|       0|              0|       0|           1|\n",
            "|+1iWwGDvcQcHJweCI...|201612|            2016-04-08|   6|  0|  NULL|             4|       0|              0|       0|           1|\n",
            "+--------------------+------+----------------------+----+---+------+--------------+--------+---------------+--------+------------+\n",
            "\n",
            "+--------------------+-----------------+-----------------+---------------+------------------+-------------+----------------+----------------------+---------+------+\n",
            "|                msno|payment_method_id|payment_plan_days|plan_list_price|actual_amount_paid|is_auto_renew|transaction_date|membership_expire_date|is_cancel| safra|\n",
            "+--------------------+-----------------+-----------------+---------------+------------------+-------------+----------------+----------------------+---------+------+\n",
            "|+1iWwGDvcQcHJweCI...|               37|               30|          149.0|             149.0|            1|      2016-04-14|            2016-05-13|        0|201604|\n",
            "|+1iWwGDvcQcHJweCI...|               37|               30|          149.0|             149.0|            1|      2016-05-14|            2016-06-13|        0|201605|\n",
            "|+1iWwGDvcQcHJweCI...|               37|               30|          149.0|             149.0|            1|      2016-06-11|            2016-06-13|        1|201606|\n",
            "|+1iWwGDvcQcHJweCI...|               29|               30|          180.0|             180.0|            0|      2017-01-24|            2017-02-23|        0|201701|\n",
            "+--------------------+-----------------+-----------------+---------------+------------------+-------------+----------------+----------------------+---------+------+\n",
            "\n",
            "+--------------------+------+------+------+------+-------+-------+-------+------------------+\n",
            "|                msno| safra|num_25|num_50|num_75|num_985|num_100|num_unq|        total_secs|\n",
            "+--------------------+------+------+------+------+-------+-------+-------+------------------+\n",
            "|+1iWwGDvcQcHJweCI...|201604|  61.0|  16.0|  14.0|   11.0|  143.0|  151.0|         43624.168|\n",
            "|+1iWwGDvcQcHJweCI...|201605|  16.0|   4.0|   1.0|   11.0|   64.0|   45.0|22163.067999999996|\n",
            "|+1iWwGDvcQcHJweCI...|201606|  20.0|   4.0|   0.0|    0.0|    4.0|   24.0|          1777.239|\n",
            "|+1iWwGDvcQcHJweCI...|201701|  25.0|   9.0|   4.0|    6.0|  186.0|   98.0|         49405.773|\n",
            "|+1iWwGDvcQcHJweCI...|201702|  22.0|   1.0|   2.0|    6.0|  440.0|  103.0|        118202.471|\n",
            "+--------------------+------+------+------+------+-------+-------+-------+------------------+\n",
            "\n"
          ]
        }
      ],
      "source": [
        "filtra_cliente(members_p, '+1iWwGDvcQcHJweCI')\n",
        "\n",
        "filtra_cliente(transactions_p, '+1iWwGDvcQcHJweCI')\n",
        "\n",
        "filtra_cliente(user_logs, '+1iWwGDvcQcHJweCI')"
      ]
    },
    {
      "cell_type": "code",
      "execution_count": null,
      "metadata": {
        "id": "MrpdrRRqRUuH"
      },
      "outputs": [],
      "source": [
        "members_p.filter(F.col('safra').isin(201606)&F.col('cliente_novo').isin(1)).limit(10).show()"
      ]
    },
    {
      "cell_type": "code",
      "execution_count": null,
      "metadata": {
        "colab": {
          "base_uri": "https://localhost:8080/"
        },
        "id": "RhrZiSixR-TZ",
        "outputId": "c476dabd-2d3a-4ced-8ec7-1e6e412a6d71"
      },
      "outputs": [
        {
          "name": "stdout",
          "output_type": "stream",
          "text": [
            "+--------------------+------+--------+-----------------+----------+---------------+--------------+------------+----------------------+--------+------------+-----------------+---------------+------------------+-------------+---------+-----------+------------------+----------------+----------------------+-------------------------+------------------------+------------------+----------------+----------------------+-------------------------+------------------------+------------------+----------------+----------------------+-------------------------+----------------+----------------------+-------------------------+-----------------------+--------------------------+-----------------------+--------------------------+------+------+------+-------+-------+-------+------------------+---------+------------+------------+------------+------------+-------------+-------------+-------------+--------------+--------------+--------------+-------------------------+----------------+-------------------+-------------------+-------------+-------------+-------------+--------------+--------------+--------------+-------------------------+----------------+-------------------+-------------------+-------------+-------------+-------------+--------------+--------------+--------------+-------------------------+----------------+-------------------+-------------------+-------------+-------------+-------------+--------------+--------------+--------------+-------------------------+----------------+-------------------+-------------------+--------------+--------------+--------------+---------------+---------------+---------------+--------------------------+-----------------+--------------------+--------------------+----------------+--------------+--------------------+------------------+\n",
            "|                msno| safra|is_ativo|months_registered|bd_treated|declared_gender|gender_treated|city_grouped|registered_via_treated|churn_m3|churn_origem|payment_plan_days|plan_list_price|actual_amount_paid|is_auto_renew|is_cancel|payment_day|pay_method_grouped|is_cancel_sum_m3|plan_list_price_sum_m3|actual_amount_paid_sum_m3|payment_plan_days_max_m3|payment_day_max_m3|is_cancel_max_m3|plan_list_price_max_m3|actual_amount_paid_max_m3|payment_plan_days_min_m3|payment_day_min_m3|is_cancel_min_m3|plan_list_price_min_m3|actual_amount_paid_min_m3|is_cancel_avg_m3|plan_list_price_avg_m3|actual_amount_paid_avg_m3|plan_list_price_tend_m3|actual_amount_paid_tend_m3|plan_list_price_tend_m6|actual_amount_paid_tend_m6|num_25|num_50|num_75|num_985|num_100|num_unq|total_mins_treated|num_total|num_under_75|num_under_50|pct_under_75|pct_under_50|num_25_sum_m3|num_50_sum_m3|num_75_sum_m3|num_985_sum_m3|num_100_sum_m3|num_unq_sum_m3|total_mins_treated_sum_m3|num_total_sum_m3|num_under_75_sum_m3|num_under_50_sum_m3|num_25_max_m3|num_50_max_m3|num_75_max_m3|num_985_max_m3|num_100_max_m3|num_unq_max_m3|total_mins_treated_max_m3|num_total_max_m3|num_under_75_max_m3|num_under_50_max_m3|num_25_min_m3|num_50_min_m3|num_75_min_m3|num_985_min_m3|num_100_min_m3|num_unq_min_m3|total_mins_treated_min_m3|num_total_min_m3|num_under_75_min_m3|num_under_50_min_m3|num_25_avg_m3|num_50_avg_m3|num_75_avg_m3|num_985_avg_m3|num_100_avg_m3|num_unq_avg_m3|total_mins_treated_avg_m3|num_total_avg_m3|num_under_75_avg_m3|num_under_50_avg_m3|num_25_tend_m3|num_50_tend_m3|num_75_tend_m3|num_985_tend_m3|num_100_tend_m3|num_unq_tend_m3|total_mins_treated_tend_m3|num_total_tend_m3|num_under_75_tend_m3|num_under_50_tend_m3|info_transaction|info_user_logs|             random_|       classWeight|\n",
            "+--------------------+------+--------+-----------------+----------+---------------+--------------+------------+----------------------+--------+------------+-----------------+---------------+------------------+-------------+---------+-----------+------------------+----------------+----------------------+-------------------------+------------------------+------------------+----------------+----------------------+-------------------------+------------------------+------------------+----------------+----------------------+-------------------------+----------------+----------------------+-------------------------+-----------------------+--------------------------+-----------------------+--------------------------+------+------+------+-------+-------+-------+------------------+---------+------------+------------+------------+------------+-------------+-------------+-------------+--------------+--------------+--------------+-------------------------+----------------+-------------------+-------------------+-------------+-------------+-------------+--------------+--------------+--------------+-------------------------+----------------+-------------------+-------------------+-------------+-------------+-------------+--------------+--------------+--------------+-------------------------+----------------+-------------------+-------------------+-------------+-------------+-------------+--------------+--------------+--------------+-------------------------+----------------+-------------------+-------------------+--------------+--------------+--------------+---------------+---------------+---------------+--------------------------+-----------------+--------------------+--------------------+----------------+--------------+--------------------+------------------+\n",
            "|+1iWwGDvcQcHJweCI...|201606|       1|                2|         0|              0|          NULL|     -0.3279|               -0.5939|       1|           0|               30|          149.0|             149.0|            1|        1|         11|            0.1141|               1|                 447.0|                    447.0|                      30|                14|               1|                 149.0|                    149.0|                      30|                11|               0|                 149.0|                    149.0|            0.33|                 149.0|                    149.0|                   NULL|                      NULL|                   NULL|                      NULL|  20.0|   4.0|   0.0|    0.0|    4.0|   24.0|             29.62|     28.0|        24.0|        24.0|        0.86|        0.86|         97.0|         24.0|         15.0|          22.0|         211.0|         220.0|                  1126.07|           369.0|              136.0|              121.0|         61.0|         16.0|         14.0|          11.0|         143.0|         151.0|                   727.07|           245.0|               91.0|               77.0|         16.0|          4.0|          0.0|           0.0|           4.0|          24.0|                    29.62|            28.0|               21.0|               20.0|        32.33|          8.0|          5.0|          7.33|         70.33|         73.33|                   375.36|           123.0|              45.33|              40.33|          NULL|          NULL|          NULL|           NULL|           NULL|           NULL|                      NULL|             NULL|                NULL|                NULL|               1|             1| 0.26572486006427953|3.7141331836259273|\n",
            "|+CsbbUx9bqs3Ycbso...|201606|       1|              103|        26|              1|             0|     -0.1808|                -0.334|       1|           0|               30|          180.0|             180.0|            1|        1|         23|            0.1141|               1|                 658.0|                    658.0|                      30|                23|               1|                 180.0|                    180.0|                      30|                21|               0|                 149.0|                    149.0|            0.25|                 164.5|                    164.5|                   0.21|                      0.21|                   0.21|                      0.21|   1.0|   0.0|   0.0|    1.0|   12.0|   14.0|             56.12|     14.0|         1.0|         1.0|        0.07|        0.07|        429.0|        113.0|         81.0|          71.0|        2832.0|        3074.0|                 12802.12|          3526.0|              623.0|              542.0|        195.0|         50.0|         43.0|          39.0|        1305.0|        1419.0|                  5927.59|          1632.0|              288.0|              245.0|          1.0|          0.0|          0.0|           1.0|          12.0|          14.0|                    56.12|            14.0|                1.0|                1.0|       107.25|        28.25|        20.25|         17.75|         708.0|         768.5|                  3200.53|           881.5|             155.75|              135.5|         -0.99|          -1.0|          -1.0|          -0.92|          -0.98|          -0.98|                     -0.98|            -0.98|               -0.99|               -0.99|               1|             1|    0.70227469525953|3.7141331836259273|\n",
            "|+Gch6pM7doYW+a44E...|201603|       1|                1|         0|              0|          NULL|      0.4923|                0.8601|       1|           0|               30|          149.0|               0.0|            1|        1|         16|            1.1517|               1|                 298.0|                      0.0|                      30|                17|               1|                 149.0|                      0.0|                      30|                16|               0|                 149.0|                      0.0|             0.5|                 149.0|                      0.0|                   NULL|                      NULL|                   NULL|                      NULL|  NULL|  NULL|  NULL|   NULL|   NULL|   NULL|              NULL|     NULL|        NULL|        NULL|        NULL|        NULL|         NULL|         NULL|         NULL|          NULL|          NULL|          NULL|                     NULL|            NULL|               NULL|               NULL|         NULL|         NULL|         NULL|          NULL|          NULL|          NULL|                     NULL|            NULL|               NULL|               NULL|         NULL|         NULL|         NULL|          NULL|          NULL|          NULL|                     NULL|            NULL|               NULL|               NULL|         NULL|         NULL|         NULL|          NULL|          NULL|          NULL|                     NULL|            NULL|               NULL|               NULL|          NULL|          NULL|          NULL|           NULL|           NULL|           NULL|                      NULL|             NULL|                NULL|                NULL|               1|             0|  0.6517026742964056|3.7141331836259273|\n",
            "|+JCxP9axmoBd0FusK...|201606|       1|                1|         0|              0|          NULL|      0.4923|                0.8601|       1|           0|               30|          149.0|               0.0|            1|        1|          8|            1.1517|               1|                 298.0|                      0.0|                      30|                 9|               1|                 149.0|                      0.0|                      30|                 8|               0|                 149.0|                      0.0|             0.5|                 149.0|                      0.0|                   NULL|                      NULL|                   NULL|                      NULL|  10.0|   5.0|  11.0|    4.0|   39.0|   34.0|            192.82|     69.0|        26.0|        15.0|        0.38|        0.22|         26.0|         14.0|         17.0|           9.0|         276.0|          95.0|                  1107.24|           342.0|               57.0|               40.0|         16.0|          9.0|         11.0|           5.0|         237.0|          61.0|                   914.42|           273.0|               31.0|               25.0|         10.0|          5.0|          6.0|           4.0|          39.0|          34.0|                   192.82|            69.0|               26.0|               15.0|         13.0|          7.0|          8.5|           4.5|         138.0|          47.5|                   553.62|           171.0|               28.5|               20.0|          NULL|          NULL|          NULL|           NULL|           NULL|           NULL|                      NULL|             NULL|                NULL|                NULL|               1|             1|  0.4139153184195916|3.7141331836259273|\n",
            "|+b8X1zC9XRRLLpuKp...|201605|       1|                1|         0|              0|          NULL|      0.4923|                0.8601|       1|           0|               30|          149.0|               0.0|            1|        1|         16|            1.1517|               1|                 298.0|                      0.0|                      30|                16|               1|                 149.0|                      0.0|                      30|                16|               0|                 149.0|                      0.0|             0.5|                 149.0|                      0.0|                   NULL|                      NULL|                   NULL|                      NULL| 101.0|  20.0|  13.0|    6.0|    9.0|  137.0|            148.44|    149.0|       134.0|       121.0|         0.9|        0.81|        101.0|         20.0|         13.0|           6.0|           9.0|         137.0|                   148.44|           149.0|              134.0|              121.0|        101.0|         20.0|         13.0|           6.0|           9.0|         137.0|                   148.44|           149.0|              134.0|              121.0|        101.0|         20.0|         13.0|           6.0|           9.0|         137.0|                   148.44|           149.0|              134.0|              121.0|        101.0|         20.0|         13.0|           6.0|           9.0|         137.0|                   148.44|           149.0|              134.0|              121.0|          NULL|          NULL|          NULL|           NULL|           NULL|           NULL|                      NULL|             NULL|                NULL|                NULL|               1|             1|  0.1720365157640643|3.7141331836259273|\n",
            "|+caIbwl6HM0/u31w4...|201601|       1|                1|         0|              0|          NULL|      0.4923|                0.8601|       1|           0|               30|          149.0|               0.0|            1|        1|         20|            1.1517|               1|                 298.0|                      0.0|                      30|                27|               1|                 149.0|                      0.0|                      30|                20|               0|                 149.0|                      0.0|             0.5|                 149.0|                      0.0|                   NULL|                      NULL|                   NULL|                      NULL|  62.0|  20.0|  17.0|   16.0|  136.0|  197.0|            727.66|    251.0|        99.0|        82.0|        0.39|        0.33|         99.0|         34.0|         22.0|          21.0|         201.0|         292.0|                  1050.79|           377.0|              155.0|              133.0|         62.0|         20.0|         17.0|          16.0|         136.0|         197.0|                   727.66|           251.0|               99.0|               82.0|         37.0|         14.0|          5.0|           5.0|          65.0|          95.0|                   323.13|           126.0|               56.0|               51.0|         49.5|         17.0|         11.0|          10.5|         100.5|         146.0|                    525.4|           188.5|               77.5|               66.5|          NULL|          NULL|          NULL|           NULL|           NULL|           NULL|                      NULL|             NULL|                NULL|                NULL|               1|             1|   0.962455079388267|3.7141331836259273|\n",
            "|/0qQTVA/qjJ2lGZlY...|201606|       1|              124|        33|              1|             0|     -0.1808|                -0.334|       0|           0|               30|          149.0|             149.0|            1|        1|          9|            0.1141|               1|                 596.0|                    596.0|                      30|                31|               1|                 149.0|                    149.0|                      30|                 9|               0|                 149.0|                    149.0|            0.25|                 149.0|                    149.0|                    0.0|                       0.0|                    0.0|                       0.0|   9.0|   2.0|   1.0|    0.0|  115.0|  119.0|            449.57|    127.0|        12.0|        11.0|        0.09|        0.09|         94.0|         21.0|         10.0|          21.0|        1937.0|        1806.0|        7800.219999999999|          2083.0|              125.0|              115.0|         41.0|          8.0|          5.0|          10.0|         798.0|         751.0|                  3150.05|           837.0|               51.0|               46.0|          9.0|          2.0|          1.0|           0.0|         115.0|         119.0|                   449.57|           127.0|               12.0|               11.0|         23.5|         5.25|          2.5|          5.25|        484.25|         451.5|                  1950.05|          520.75|              31.25|              28.75|         -0.78|          -0.6|          -0.8|           -1.0|          -0.74|          -0.66|                     -0.74|            -0.74|               -0.76|               -0.76|               1|             1|  0.2080477386683084|0.5777814688182803|\n",
            "|/CfZO42WLDcLrQcVK...|201606|       1|               23|         0|              0|          NULL|     -0.3279|                -0.334|       1|           0|               30|          180.0|             180.0|            1|        1|         28|            0.1141|               1|                 690.0|                    690.0|                      30|                28|               1|                 180.0|                    180.0|                      30|                27|               0|                 150.0|                    150.0|            0.25|                 172.5|                    172.5|                    0.2|                       0.2|                   0.21|                      0.21|   8.0|   1.0|   0.0|    6.0|  136.0|  140.0|            651.16|    151.0|         9.0|         9.0|        0.06|        0.06|        600.0|        200.0|         78.0|          81.0|        3003.0|        2637.0|                 12749.16|          3962.0|              878.0|              800.0|        259.0|        114.0|         32.0|          31.0|        1121.0|         963.0|                  4717.41|          1494.0|              388.0|              356.0|          8.0|          1.0|          0.0|           6.0|         136.0|         140.0|                   651.16|           151.0|                9.0|                9.0|        150.0|         50.0|         19.5|         20.25|        750.75|        659.25|                  3187.29|           990.5|              219.5|              200.0|         -0.91|         -0.97|          -1.0|          -0.63|          -0.86|          -0.81|                     -0.84|            -0.87|               -0.93|               -0.93|               1|             1| 0.33353545682692576|3.7141331836259273|\n",
            "|/GV5auvk+9HXxV44p...|201603|       1|              117|        41|              1|             0|     -0.1808|                -0.334|       1|           0|               30|          149.0|             149.0|            1|        1|         12|            0.1141|               1|                 596.0|                    596.0|                      30|                12|               1|                 149.0|                    149.0|                      30|                12|               0|                 149.0|                    149.0|            0.25|                 149.0|                    149.0|                    0.0|                       0.0|                    0.0|                       0.0|  NULL|  NULL|  NULL|   NULL|   NULL|   NULL|              NULL|     NULL|        NULL|        NULL|        NULL|        NULL|         NULL|         NULL|         NULL|          NULL|          NULL|          NULL|                     NULL|            NULL|               NULL|               NULL|         NULL|         NULL|         NULL|          NULL|          NULL|          NULL|                     NULL|            NULL|               NULL|               NULL|         NULL|         NULL|         NULL|          NULL|          NULL|          NULL|                     NULL|            NULL|               NULL|               NULL|         NULL|         NULL|         NULL|          NULL|          NULL|          NULL|                     NULL|            NULL|               NULL|               NULL|          NULL|          NULL|          NULL|           NULL|           NULL|           NULL|                      NULL|             NULL|                NULL|                NULL|               1|             0|  0.3534215557834002|3.7141331836259273|\n",
            "|/IeRPq5kZVtxVYGAy...|201602|       1|               36|         0|              0|          NULL|      0.4923|                0.8601|       0|           0|               30|          149.0|             149.0|            1|        1|         27|            1.1517|               2|                 596.0|                    596.0|                      30|                27|               1|                 149.0|                    149.0|                      30|                 3|               0|                 149.0|                    149.0|             0.5|                 149.0|                    149.0|                    0.0|                       0.0|                    0.0|                       0.0|   8.0|   1.0|   1.0|    1.0|  537.0|  525.0|           1644.14|    548.0|        10.0|         9.0|        0.02|        0.02|        386.0|         56.0|         30.0|          18.0|        2835.0|        2970.0|                  9609.25|          3325.0|              472.0|              442.0|        300.0|         32.0|         19.0|          10.0|         830.0|         924.0|                  2844.41|          1122.0|              351.0|              332.0|          0.0|          1.0|          1.0|           1.0|         537.0|         525.0|                  1644.14|           548.0|                3.0|                1.0|         96.5|         14.0|          7.5|           4.5|        708.75|         742.5|                  2402.31|          831.25|              118.0|              110.5|          NULL|           0.0|          -0.5|            0.0|          -0.24|          -0.22|                     -0.29|            -0.22|                2.33|                 8.0|               1|             1|0.004829650267565655|0.5777814688182803|\n",
            "+--------------------+------+--------+-----------------+----------+---------------+--------------+------------+----------------------+--------+------------+-----------------+---------------+------------------+-------------+---------+-----------+------------------+----------------+----------------------+-------------------------+------------------------+------------------+----------------+----------------------+-------------------------+------------------------+------------------+----------------+----------------------+-------------------------+----------------+----------------------+-------------------------+-----------------------+--------------------------+-----------------------+--------------------------+------+------+------+-------+-------+-------+------------------+---------+------------+------------+------------+------------+-------------+-------------+-------------+--------------+--------------+--------------+-------------------------+----------------+-------------------+-------------------+-------------+-------------+-------------+--------------+--------------+--------------+-------------------------+----------------+-------------------+-------------------+-------------+-------------+-------------+--------------+--------------+--------------+-------------------------+----------------+-------------------+-------------------+-------------+-------------+-------------+--------------+--------------+--------------+-------------------------+----------------+-------------------+-------------------+--------------+--------------+--------------+---------------+---------------+---------------+--------------------------+-----------------+--------------------+--------------------+----------------+--------------+--------------------+------------------+\n",
            "\n"
          ]
        }
      ],
      "source": [
        "df_analysis_fe.filter(F.col('is_cancel').isin(1)).limit(10).show()"
      ]
    },
    {
      "cell_type": "markdown",
      "metadata": {
        "id": "vRqsm2BujYvb"
      },
      "source": [
        "### testes desnecessários"
      ]
    },
    {
      "cell_type": "code",
      "execution_count": null,
      "metadata": {
        "colab": {
          "base_uri": "https://localhost:8080/"
        },
        "id": "wXCEIYonS9W2",
        "outputId": "a14204ef-2fee-4572-f866-9d53b87d65ee"
      },
      "outputs": [
        {
          "name": "stdout",
          "output_type": "stream",
          "text": [
            "\n",
            "Resumo dos Modelos:\n",
            "Decision Tree train : 0.6846\n",
            "Decision Tree test : 0.6846\n"
          ]
        }
      ],
      "source": [
        "\n",
        "# Treinar cada modelo\n",
        "preproc_model = pipe(full_df_train, dt).fit(full_df_train)\n",
        "\n",
        "train_dt = preproc_model.transform(full_df_train)\n",
        "test_dt = preproc_model.transform(full_df_test)\n",
        "\n",
        "evaluator = BinaryClassificationEvaluator(\n",
        "  labelCol=\"churn_m3\",\n",
        "  rawPredictionCol=\"rawPrediction\",\n",
        "  metricName=\"areaUnderROC\"\n",
        "  )\n",
        "\n",
        "auc_train_dt = evaluator.evaluate(test_dt)\n",
        "auc_test_dt = evaluator.evaluate(test_dt)\n",
        "# ================================\n",
        "# 9. Comparação final\n",
        "# ================================\n",
        "print(\"\\nResumo dos Modelos:\")\n",
        "print(f\"Decision Tree train : {auc_train_dt:.4f}\")\n",
        "print(f\"Decision Tree test : {auc_test_dt:.4f}\")\n",
        "\n",
        "\n",
        "# Resumo dos Modelos:\n",
        "# Decision Tree train : 0.6846\n",
        "# Decision Tree test : 0.6846"
      ]
    },
    {
      "cell_type": "code",
      "execution_count": null,
      "metadata": {
        "colab": {
          "base_uri": "https://localhost:8080/"
        },
        "id": "Un1d7qzDt0Y5",
        "outputId": "ce37f135-bb7d-4bef-cef1-7cb24e7188d3"
      },
      "outputs": [
        {
          "name": "stdout",
          "output_type": "stream",
          "text": [
            "\n",
            "Resumo dos Modelos:\n",
            "Decision Tree train : 0.8446\n",
            "Decision Tree test : 0.8446\n"
          ]
        }
      ],
      "source": [
        "\n",
        "# Treinar cada modelo\n",
        "preproc_model = pipe(full_df_train, rf).fit(full_df_train)\n",
        "\n",
        "train_rf = preproc_model.transform(full_df_train)\n",
        "test_rf = preproc_model.transform(full_df_test)\n",
        "\n",
        "evaluator = BinaryClassificationEvaluator(\n",
        "  labelCol=\"churn_m3\",\n",
        "  rawPredictionCol=\"rawPrediction\",\n",
        "  metricName=\"areaUnderROC\"\n",
        "  )\n",
        "\n",
        "auc_train_rf = evaluator.evaluate(test_rf)\n",
        "auc_test_rf = evaluator.evaluate(test_rf)\n",
        "# ================================\n",
        "# 9. Comparação final\n",
        "# ================================\n",
        "print(\"\\nResumo dos Modelos:\")\n",
        "print(f\"Decision Tree train : {auc_train_rf:.4f}\")\n",
        "print(f\"Decision Tree test : {auc_test_rf:.4f}\")\n",
        "\n",
        "# Resumo dos Modelos:\n",
        "# Decision Tree train : 0.8446\n",
        "# Decision Tree test : 0.8446"
      ]
    },
    {
      "cell_type": "code",
      "execution_count": null,
      "metadata": {
        "id": "0Ikoog1ExsyS"
      },
      "outputs": [],
      "source": [
        "\n",
        "xgb_2 = SparkXGBClassifier(\n",
        "    label_col=\"churn_m3\",          # target\n",
        "    features_col=\"features\",       # vetor de features\n",
        "    weight_col=\"classWeight\",      # corrige desbalanceamento\n",
        "    seed=42,\n",
        "\n",
        "    # Complexidade do modelo\n",
        "    num_round=200,                 # número de boosting rounds (similar a numTrees)\n",
        "    max_depth=6,                  # profundidade máxima das árvores\n",
        "    min_child_weight=1000,           # tamanho mínimo de amostra em cada folha (similar ao minInstancesPerNode)\n",
        "\n",
        "    # Regularização / controle de overfitting\n",
        "    eta=0.05,                       # learning rate → shrinkage\n",
        "    subsample=0.8,                 # amostragem de linhas\n",
        "    colsample_bytree=0.8,          # amostragem de colunas\n",
        "\n",
        "    eval_metric=\"auc\"              # métrica de avaliação (pode trocar para \"logloss\")\n",
        ")\n"
      ]
    },
    {
      "cell_type": "code",
      "execution_count": null,
      "metadata": {
        "colab": {
          "base_uri": "https://localhost:8080/"
        },
        "id": "61rWqUVLqllN",
        "outputId": "0844322b-b2ae-4693-a1e4-24dfd0dc2892"
      },
      "outputs": [
        {
          "name": "stderr",
          "output_type": "stream",
          "text": [
            "INFO:XGBoost-PySpark:Running xgboost-3.0.5 on 1 workers with\n",
            "\tbooster params: {'objective': 'binary:logistic', 'colsample_bytree': 0.8, 'device': 'cpu', 'eval_metric': 'auc', 'max_depth': 6, 'min_child_weight': 1000, 'subsample': 0.8, 'seed': 42, 'num_round': 200, 'eta': 0.05, 'nthread': 1}\n",
            "\ttrain_call_kwargs_params: {'verbose_eval': True, 'num_boost_round': 100}\n",
            "\tdmatrix_kwargs: {'nthread': 1, 'missing': nan}\n",
            "INFO:XGBoost-PySpark:Finished xgboost training!\n"
          ]
        },
        {
          "name": "stdout",
          "output_type": "stream",
          "text": [
            "======== SparkXGBClassifier ========\n",
            "AUC train : 0.8517\n",
            "AUC test : 0.8498\n",
            "------------------------------------------------------------\n",
            "KS train : 0.5321\n",
            "KS test : 0.5316\n",
            "============================================================\n"
          ]
        }
      ],
      "source": [
        "train_xgb, preds_xgb = model_training(xgb_2, pipe, full_df_train, full_df_test)"
      ]
    }
  ],
  "metadata": {
    "colab": {
      "collapsed_sections": [
        "nVbn17z050nw",
        "r-plJCDz0BOU",
        "m-A6PtamyCWJ"
      ],
      "provenance": [],
      "machine_shape": "hm",
      "authorship_tag": "ABX9TyOcZmzDbUxUvR3VeM2t83kG",
      "include_colab_link": true
    },
    "kernelspec": {
      "display_name": "Python 3",
      "name": "python3"
    },
    "language_info": {
      "name": "python"
    }
  },
  "nbformat": 4,
  "nbformat_minor": 0
}